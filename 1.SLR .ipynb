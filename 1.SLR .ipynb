{
 "cells": [
  {
   "cell_type": "markdown",
   "metadata": {},
   "source": [
    "# calculate the cost "
   ]
  },
  {
   "cell_type": "code",
   "execution_count": 4,
   "metadata": {},
   "outputs": [
    {
     "name": "stdout",
     "output_type": "stream",
     "text": [
      "Real Y is [-3, -1, 1, 3, 5, 7]\n",
      "My Y is   [-4, -1, 2, 5, 8, 11]\n",
      "My loss is: 5.5677643628300215\n"
     ]
    }
   ],
   "source": [
    "import math\n",
    "# Edit these parameters to try different loss\n",
    "# measurements. Rerun this cell when done\n",
    "# Your Y will be calculated as Y=wX+b, so\n",
    "# if w=3, and b=-1, then Y=3x-1\n",
    "\n",
    "w = 3\n",
    "b = -1\n",
    "\n",
    "x = [-1, 0, 1, 2, 3, 4]\n",
    "y = [-3, -1, 1, 3, 5, 7]\n",
    "myY = []\n",
    "\n",
    "\n",
    "for thisX in x:\n",
    "    \n",
    "    thisY = (w*thisX)+b\n",
    "    myY.append(thisY)\n",
    "\n",
    "print(\"Real Y is \" + str(y))\n",
    "print(\"My Y is   \" + str(myY))\n",
    "\n",
    "# let's calculate the loss\n",
    "total_square_error = 0\n",
    "for i in range(0, len(y)):\n",
    "    square_error = (y[i] - myY[i]) ** 2\n",
    "    total_square_error += square_error\n",
    "\n",
    "print(\"My loss is: \" + str(math.sqrt(total_square_error)))"
   ]
  },
  {
   "cell_type": "markdown",
   "metadata": {},
   "source": [
    "## Gradient descent "
   ]
  },
  {
   "cell_type": "code",
   "execution_count": 5,
   "metadata": {},
   "outputs": [],
   "source": [
    "# First import the functions we will need\n",
    "from __future__ import absolute_import, division, print_function, unicode_literals\n",
    "\n",
    "try:\n",
    "  # %tensorflow_version only exists in Colab.\n",
    "  %tensorflow_version 2.x\n",
    "except Exception:\n",
    "    pass\n",
    "import tensorflow as tf\n",
    "import numpy as np\n",
    "import matplotlib.pyplot as plt"
   ]
  },
  {
   "cell_type": "code",
   "execution_count": 6,
   "metadata": {},
   "outputs": [],
   "source": [
    "# Define our initial guess\n",
    "INITIAL_W = 10.0\n",
    "INITIAL_B = 10.0\n",
    "\n",
    "# Define our loss function\n",
    "def loss(predicted_y, target_y):\n",
    "    return tf.reduce_mean(tf.square(predicted_y - target_y))\n",
    "\n",
    "# Define our training procedure\n",
    "def train(model, inputs, outputs, learning_rate):\n",
    "    with tf.GradientTape() as t:\n",
    "        current_loss = loss(model(inputs), outputs)\n",
    "  # Here is where you differentiate the model values with respect to the loss function\n",
    "    dw, db = t.gradient(current_loss, [model.w, model.b])\n",
    "  # And here is where you update the model values based on the learning rate chosen\n",
    "    model.w.assign_sub(learning_rate * dw)\n",
    "    model.b.assign_sub(learning_rate * db)\n",
    "    return current_loss\n",
    "\n",
    "# Define our simple linear regression model\n",
    "class Model(object):\n",
    "    def __init__(self):\n",
    "        \n",
    "    # Initialize the weights\n",
    "        self.w = tf.Variable(INITIAL_W)\n",
    "        self.b = tf.Variable(INITIAL_B)\n",
    "\n",
    "    def __call__(self, x):\n",
    "        return self.w * x + self.b"
   ]
  },
  {
   "cell_type": "code",
   "execution_count": 8,
   "metadata": {},
   "outputs": [
    {
     "name": "stdout",
     "output_type": "stream",
     "text": [
      "Epoch  0: w=10.00 b=10.00, loss=715.66669\n",
      "Epoch  1: w=-0.41 b=5.86, loss=27.47032\n",
      "Epoch  2: w=-0.02 b=5.28, loss=22.43888\n",
      "Epoch  3: w=0.16 b=4.69, loss=18.46284\n",
      "Epoch  4: w=0.33 b=4.16, loss=15.19137\n",
      "Epoch  5: w=0.49 b=3.68, loss=12.49958\n",
      "Epoch  6: w=0.63 b=3.25, loss=10.28476\n",
      "Epoch  7: w=0.76 b=2.85, loss=8.46238\n",
      "Epoch  8: w=0.87 b=2.50, loss=6.96291\n",
      "Epoch  9: w=0.98 b=2.17, loss=5.72914\n",
      "Epoch 10: w=1.07 b=1.88, loss=4.71398\n",
      "Epoch 11: w=1.16 b=1.61, loss=3.87870\n",
      "Epoch 12: w=1.24 b=1.37, loss=3.19143\n",
      "Epoch 13: w=1.31 b=1.15, loss=2.62593\n",
      "Epoch 14: w=1.37 b=0.95, loss=2.16064\n",
      "Epoch 15: w=1.43 b=0.77, loss=1.77779\n",
      "Epoch 16: w=1.48 b=0.60, loss=1.46278\n",
      "Epoch 17: w=1.53 b=0.45, loss=1.20359\n",
      "Epoch 18: w=1.57 b=0.32, loss=0.99032\n",
      "Epoch 19: w=1.61 b=0.20, loss=0.81484\n",
      "Epoch 20: w=1.65 b=0.08, loss=0.67046\n",
      "Epoch 21: w=1.68 b=-0.02, loss=0.55166\n",
      "Epoch 22: w=1.71 b=-0.11, loss=0.45391\n",
      "Epoch 23: w=1.74 b=-0.19, loss=0.37348\n",
      "Epoch 24: w=1.76 b=-0.27, loss=0.30730\n",
      "Epoch 25: w=1.79 b=-0.33, loss=0.25285\n",
      "Epoch 26: w=1.81 b=-0.40, loss=0.20805\n",
      "Epoch 27: w=1.82 b=-0.45, loss=0.17118\n",
      "Epoch 28: w=1.84 b=-0.50, loss=0.14085\n",
      "Epoch 29: w=1.85 b=-0.55, loss=0.11589\n",
      "Epoch 30: w=1.87 b=-0.59, loss=0.09536\n",
      "Epoch 31: w=1.88 b=-0.63, loss=0.07846\n",
      "Epoch 32: w=1.89 b=-0.66, loss=0.06456\n",
      "Epoch 33: w=1.90 b=-0.69, loss=0.05312\n",
      "Epoch 34: w=1.91 b=-0.72, loss=0.04371\n",
      "Epoch 35: w=1.92 b=-0.75, loss=0.03596\n",
      "Epoch 36: w=1.93 b=-0.77, loss=0.02959\n",
      "Epoch 37: w=1.93 b=-0.79, loss=0.02435\n",
      "Epoch 38: w=1.94 b=-0.81, loss=0.02003\n",
      "Epoch 39: w=1.95 b=-0.83, loss=0.01648\n",
      "Epoch 40: w=1.95 b=-0.85, loss=0.01356\n",
      "Epoch 41: w=1.95 b=-0.86, loss=0.01116\n",
      "Epoch 42: w=1.96 b=-0.87, loss=0.00918\n",
      "Epoch 43: w=1.96 b=-0.88, loss=0.00756\n",
      "Epoch 44: w=1.97 b=-0.90, loss=0.00622\n",
      "Epoch 45: w=1.97 b=-0.91, loss=0.00511\n",
      "Epoch 46: w=1.97 b=-0.91, loss=0.00421\n",
      "Epoch 47: w=1.97 b=-0.92, loss=0.00346\n",
      "Epoch 48: w=1.98 b=-0.93, loss=0.00285\n",
      "Epoch 49: w=1.98 b=-0.94, loss=0.00234\n"
     ]
    }
   ],
   "source": [
    "# Define our input data and learning rate\n",
    "xs = [-1.0, 0.0, 1.0, 2.0, 3.0, 4.0]\n",
    "ys = [-3.0, -1.0, 1.0, 3.0, 5.0, 7.0]\n",
    "LEARNING_RATE=0.09\n",
    "\n",
    "# Instantiate our model\n",
    "model = Model()\n",
    "\n",
    "# Collect the history of w-values and b-values to plot later\n",
    "list_w, list_b = [], []\n",
    "epochs = range(50)\n",
    "losses = []\n",
    "for epoch in epochs:\n",
    "    list_w.append(model.w.numpy())\n",
    "    list_b.append(model.b.numpy())\n",
    "    current_loss = train(model, xs, ys, learning_rate=LEARNING_RATE)\n",
    "    losses.append(current_loss)\n",
    "    print('Epoch %2d: w=%1.2f b=%1.2f, loss=%2.5f' %\n",
    "        (epoch, list_w[-1], list_b[-1], current_loss))"
   ]
  },
  {
   "cell_type": "code",
   "execution_count": 9,
   "metadata": {},
   "outputs": [
    {
     "data": {
      "image/png": "[encoded data removed]",
      "text/plain": [
       "<Figure size 432x288 with 1 Axes>"
      ]
     },
     "metadata": {
      "needs_background": "light"
     },
     "output_type": "display_data"
    }
   ],
   "source": [
    "# Plot the w-values and b-values for each training Epoch against the true values\n",
    "TRUE_w = 2.0\n",
    "TRUE_b = -1.0\n",
    "plt.plot(epochs, list_w, 'r', epochs, list_b, 'b')\n",
    "plt.plot([TRUE_w] * len(epochs), 'r--', [TRUE_b] * len(epochs), 'b--')\n",
    "plt.legend(['w', 'b', 'True w', 'True b'])\n",
    "plt.show()"
   ]
  },
  {
   "cell_type": "code",
   "execution_count": null,
   "metadata": {},
   "outputs": [],
   "source": []
  }
 ],
 "metadata": {
  "kernelspec": {
   "display_name": "Python 3",
   "language": "python",
   "name": "python3"
  },
  "language_info": {
   "codemirror_mode": {
    "name": "ipython",
    "version": 3
   },
   "file_extension": ".py",
   "mimetype": "text/x-python",
   "name": "python",
   "nbconvert_exporter": "python",
   "pygments_lexer": "ipython3",
   "version": "3.7.6"
  }
 },
 "nbformat": 4,
 "nbformat_minor": 4
}
