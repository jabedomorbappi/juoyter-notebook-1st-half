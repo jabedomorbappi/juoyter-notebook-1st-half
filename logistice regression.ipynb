{
 "cells": [
  {
   "cell_type": "code",
   "execution_count": 1,
   "metadata": {},
   "outputs": [],
   "source": [
    "%matplotlib inline\n",
    "import numpy as np\n",
    "import matplotlib.pyplot as plt\n",
    "import seaborn as sns\n",
    "from sklearn import datasets"
   ]
  },
  {
   "cell_type": "code",
   "execution_count": 2,
   "metadata": {},
   "outputs": [],
   "source": [
    "iris = datasets.load_iris()"
   ]
  },
  {
   "cell_type": "code",
   "execution_count": 3,
   "metadata": {},
   "outputs": [
    {
     "data": {
      "text/plain": [
       "array([0, 0, 0, 0, 0, 0, 0, 0, 0, 0, 0, 0, 0, 0, 0, 0, 0, 0, 0, 0, 0, 0,\n",
       "       0, 0, 0, 0, 0, 0, 0, 0, 0, 0, 0, 0, 0, 0, 0, 0, 0, 0, 0, 0, 0, 0,\n",
       "       0, 0, 0, 0, 0, 0, 1, 1, 1, 1, 1, 1, 1, 1, 1, 1, 1, 1, 1, 1, 1, 1,\n",
       "       1, 1, 1, 1, 1, 1, 1, 1, 1, 1, 1, 1, 1, 1, 1, 1, 1, 1, 1, 1, 1, 1,\n",
       "       1, 1, 1, 1, 1, 1, 1, 1, 1, 1, 1, 1, 1, 1, 1, 1, 1, 1, 1, 1, 1, 1,\n",
       "       1, 1, 1, 1, 1, 1, 1, 1, 1, 1, 1, 1, 1, 1, 1, 1, 1, 1, 1, 1, 1, 1,\n",
       "       1, 1, 1, 1, 1, 1, 1, 1, 1, 1, 1, 1, 1, 1, 1, 1, 1, 1])"
      ]
     },
     "execution_count": 3,
     "metadata": {},
     "output_type": "execute_result"
    }
   ],
   "source": [
    "X = iris.data[:, :2]\n",
    "y = (iris.target != 0) * 1\n",
    "y"
   ]
  },
  {
   "cell_type": "code",
   "execution_count": 4,
   "metadata": {},
   "outputs": [
    {
     "data": {
      "image/png": "[encoded data removed]",
      "text/plain": [
       "<Figure size 720x432 with 1 Axes>"
      ]
     },
     "metadata": {
      "needs_background": "light"
     },
     "output_type": "display_data"
    }
   ],
   "source": [
    "plt.figure(figsize=(10, 6))\n",
    "plt.scatter(X[y == 0][:, 0], X[y == 0][:, 1], color='b', label='0')\n",
    "plt.scatter(X[y == 1][:, 0], X[y == 1][:, 1], color='r', label='1')\n",
    "plt.legend();"
   ]
  },
  {
   "cell_type": "code",
   "execution_count": 11,
   "metadata": {},
   "outputs": [],
   "source": [
    "import numpy as np\n",
    "\n",
    "\n",
    "class LogisticRegression:\n",
    "    def __init__(self, lr=0.01, num_iter=100, fit_intercept=True, verbose=False):\n",
    "        self.lr = lr  # learning_rate of the algorithm\n",
    "        self.num_iter = num_iter  #  number of iterations of the gradient descent\n",
    "        self.fit_intercept = fit_intercept  # boolean indicating whether we`re adding base X0 feature vector or not\n",
    "        self.verbose = verbose  \n",
    "\n",
    "    def _add_intercept(self, X):\n",
    "        intercept = np.ones((X.shape[0], 1))  #  creating X0 features vector(M x 1)\n",
    "        return np.concatenate((intercept, X), axis=1)  # concatenating X0 features vector with our features making intercept\n",
    "\n",
    "    def _sigmoid(self, z):\n",
    "        \n",
    "\n",
    "        return 1 / (1 + np.exp(-z))\n",
    "\n",
    "    def _loss(self, h, y):\n",
    "        '''\n",
    "        Functions have parameters or weights and we want to find the best values for them.\n",
    "        To start we pick random values and we need a way to measure how well the algorithm performs using those random weights.\n",
    "        That measure is computed using the loss function\n",
    "        '''\n",
    "\n",
    "        return (-y * np.log(h) - (1 - y) * np.log(1 - h)).mean()\n",
    "\n",
    "    def train(self, X, y):\n",
    "        '''\n",
    "        Function for training the algorithm.\n",
    "            parameters:\n",
    "              X - input data matrix (all our features without target variable)\n",
    "              y - target variable vector (1/0)\n",
    "            \n",
    "            return:\n",
    "              None\n",
    "        '''\n",
    "\n",
    "        if self.fit_intercept:\n",
    "            X = self._add_intercept(X)  # X will get a result with \"zero\" feature\n",
    "\n",
    "        self._weights = np.zeros(X.shape[1])  #  inicializing our weights vector filled with zeros\n",
    "        \n",
    "        for i in range(self.num_iter):  # implementing Gradient Descent algorithm\n",
    "            z = np.dot(X, self._weights)  #  calculate the product of the weights and predictor matrix\n",
    "            h = self._sigmoid(z)\n",
    "            gradient = np.dot(X.T, (h - y)) / y.size\n",
    "            self._weights -= self.learning_rate * gradient\n",
    "            \n",
    "            if (self.verbose == True and i % 10000 == 0):\n",
    "                z = np.dot(X, self._weights)\n",
    "                h = self._sigmoid(z)\n",
    "                print(f'loss: {self._loss(h, y)} \\t')\n",
    "\n",
    "    def predict_prob(self, X):  \n",
    "        if self.fit_intercept:\n",
    "            X = self._add_intercept(X)\n",
    "    \n",
    "        return self._sigmoid(np.dot(X, self._weights))\n",
    "    \n",
    "    def predict(self, X, threshold):\n",
    "        return self.predict_prob(X) >= threshold"
   ]
  },
  {
   "cell_type": "code",
   "execution_count": 12,
   "metadata": {},
   "outputs": [],
   "source": [
    "model = LogisticRegression(lr=0.1, num_iter=300000)"
   ]
  },
  {
   "cell_type": "code",
   "execution_count": 17,
   "metadata": {},
   "outputs": [
    {
     "ename": "AttributeError",
     "evalue": "'LogisticRegression' object has no attribute 'learning_rate'",
     "output_type": "error",
     "traceback": [
      "\u001b[1;31m---------------------------------------------------------------------------\u001b[0m",
      "\u001b[1;31mAttributeError\u001b[0m                            Traceback (most recent call last)",
      "\u001b[1;32m<ipython-input-17-340e91bcfb3e>\u001b[0m in \u001b[0;36m<module>\u001b[1;34m\u001b[0m\n\u001b[0;32m     14\u001b[0m \u001b[1;31m# Train the model\u001b[0m\u001b[1;33m\u001b[0m\u001b[1;33m\u001b[0m\u001b[1;33m\u001b[0m\u001b[0m\n\u001b[0;32m     15\u001b[0m \u001b[1;33m\u001b[0m\u001b[0m\n\u001b[1;32m---> 16\u001b[1;33m \u001b[0mlogit\u001b[0m\u001b[1;33m.\u001b[0m\u001b[0mtrain\u001b[0m\u001b[1;33m(\u001b[0m\u001b[0mX_train\u001b[0m\u001b[1;33m,\u001b[0m \u001b[0my_train\u001b[0m\u001b[1;33m)\u001b[0m\u001b[1;33m\u001b[0m\u001b[1;33m\u001b[0m\u001b[0m\n\u001b[0m\u001b[0;32m     17\u001b[0m \u001b[1;33m\u001b[0m\u001b[0m\n\u001b[0;32m     18\u001b[0m \u001b[1;31m# Normalize output generated by sigmoid function\u001b[0m\u001b[1;33m\u001b[0m\u001b[1;33m\u001b[0m\u001b[1;33m\u001b[0m\u001b[0m\n",
      "\u001b[1;32m<ipython-input-11-a028b46f5a13>\u001b[0m in \u001b[0;36mtrain\u001b[1;34m(self, X, y)\u001b[0m\n\u001b[0;32m     47\u001b[0m             \u001b[0mh\u001b[0m \u001b[1;33m=\u001b[0m \u001b[0mself\u001b[0m\u001b[1;33m.\u001b[0m\u001b[0m_sigmoid\u001b[0m\u001b[1;33m(\u001b[0m\u001b[0mz\u001b[0m\u001b[1;33m)\u001b[0m\u001b[1;33m\u001b[0m\u001b[1;33m\u001b[0m\u001b[0m\n\u001b[0;32m     48\u001b[0m             \u001b[0mgradient\u001b[0m \u001b[1;33m=\u001b[0m \u001b[0mnp\u001b[0m\u001b[1;33m.\u001b[0m\u001b[0mdot\u001b[0m\u001b[1;33m(\u001b[0m\u001b[0mX\u001b[0m\u001b[1;33m.\u001b[0m\u001b[0mT\u001b[0m\u001b[1;33m,\u001b[0m \u001b[1;33m(\u001b[0m\u001b[0mh\u001b[0m \u001b[1;33m-\u001b[0m \u001b[0my\u001b[0m\u001b[1;33m)\u001b[0m\u001b[1;33m)\u001b[0m \u001b[1;33m/\u001b[0m \u001b[0my\u001b[0m\u001b[1;33m.\u001b[0m\u001b[0msize\u001b[0m\u001b[1;33m\u001b[0m\u001b[1;33m\u001b[0m\u001b[0m\n\u001b[1;32m---> 49\u001b[1;33m             \u001b[0mself\u001b[0m\u001b[1;33m.\u001b[0m\u001b[0m_weights\u001b[0m \u001b[1;33m-=\u001b[0m \u001b[0mself\u001b[0m\u001b[1;33m.\u001b[0m\u001b[0mlearning_rate\u001b[0m \u001b[1;33m*\u001b[0m \u001b[0mgradient\u001b[0m\u001b[1;33m\u001b[0m\u001b[1;33m\u001b[0m\u001b[0m\n\u001b[0m\u001b[0;32m     50\u001b[0m \u001b[1;33m\u001b[0m\u001b[0m\n\u001b[0;32m     51\u001b[0m             \u001b[1;32mif\u001b[0m \u001b[1;33m(\u001b[0m\u001b[0mself\u001b[0m\u001b[1;33m.\u001b[0m\u001b[0mverbose\u001b[0m \u001b[1;33m==\u001b[0m \u001b[1;32mTrue\u001b[0m \u001b[1;32mand\u001b[0m \u001b[0mi\u001b[0m \u001b[1;33m%\u001b[0m \u001b[1;36m10000\u001b[0m \u001b[1;33m==\u001b[0m \u001b[1;36m0\u001b[0m\u001b[1;33m)\u001b[0m\u001b[1;33m:\u001b[0m\u001b[1;33m\u001b[0m\u001b[1;33m\u001b[0m\u001b[0m\n",
      "\u001b[1;31mAttributeError\u001b[0m: 'LogisticRegression' object has no attribute 'learning_rate'"
     ]
    }
   ],
   "source": [
    "from sklearn.model_selection import train_test_split\n",
    "from sklearn.metrics import accuracy_score\n",
    "from sklearn.datasets import load_breast_cancer\n",
    "\n",
    "\n",
    "X, y = load_breast_cancer(return_X_y=True)  # load the dataset\n",
    "\n",
    "X_train, X_test, y_train, y_test = train_test_split(X, y, test_size = 0.20, random_state = 42)  # split the dataset\n",
    "\n",
    "# Create an instance of the LogisticRegression class\n",
    "\n",
    "logit = LogisticRegression(lr=0.1, num_iter=200000)  # you can play with hyperparameters to understand how learning rate works.\n",
    "\n",
    "# Train the model\n",
    "\n",
    "logit.train(X_train, y_train)\n",
    "\n",
    "# Normalize output generated by sigmoid function\n",
    "\n",
    "y_pred = [int(round(x)) for x in logit.predict_prob(X_test).flatten()]  # you can do it much sipler it`s just me\n",
    "\n",
    "# look at the score\n",
    "\n",
    "score = accuracy_score(y_test, y_pred)  # 0.956 -> 95.6 %."
   ]
  },
  {
   "cell_type": "code",
   "execution_count": 18,
   "metadata": {},
   "outputs": [],
   "source": [
    "import numpy as np\n",
    "\n",
    "\n",
    "class LogisticRegression:\n",
    "    def __init__(self, learning_rate=0.01, num_iter=100, fit_intercept=True, verbose=False):\n",
    "        self.learning_rate = learning_rate  # learning_rate of the algorithm\n",
    "        self.num_iter = num_iter  #  number of iterations of the gradient descent\n",
    "        self.fit_intercept = fit_intercept  # boolean indicating whether we`re adding base X0 feature vector or not\n",
    "        self.verbose = verbose  \n",
    "\n",
    "    def _add_intercept(self, X):\n",
    "        intercept = np.ones((X.shape[0], 1))  #  creating X0 features vector(M x 1)\n",
    "        return np.concatenate((intercept, X), axis=1)  # concatenating X0 features vector with our features making intercept\n",
    "\n",
    "    def _sigmoid(self, z):\n",
    "        '''Defines our \"logit\" function based on which we make predictions\n",
    "           parameters:\n",
    "              z - product of the our features with weights\n",
    "           return:\n",
    "              probability of the attachment to class\n",
    "        '''\n",
    "\n",
    "        return 1 / (1 + np.exp(-z))\n",
    "\n",
    "    def _loss(self, h, y):\n",
    "        '''\n",
    "        Functions have parameters or weights and we want to find the best values for them.\n",
    "        To start we pick random values and we need a way to measure how well the algorithm performs using those random weights.\n",
    "        That measure is computed using the loss function\n",
    "        '''\n",
    "\n",
    "        return (-y * np.log(h) - (1 - y) * np.log(1 - h)).mean()\n",
    "\n",
    "    def train(self, X, y):\n",
    "        '''\n",
    "        Function for training the algorithm.\n",
    "            parameters:\n",
    "              X - input data matrix (all our features without target variable)\n",
    "              y - target variable vector (1/0)\n",
    "            \n",
    "            return:\n",
    "              None\n",
    "        '''\n",
    "\n",
    "        if self.fit_intercept:\n",
    "            X = self._add_intercept(X)  # X will get a result with \"zero\" feature\n",
    "\n",
    "        self._weights = np.zeros(X.shape[1])  #  inicializing our weights vector filled with zeros\n",
    "        \n",
    "        for i in range(self.num_iter):  # implementing Gradient Descent algorithm\n",
    "            z = np.dot(X, self._weights)  #  calculate the product of the weights and predictor matrix\n",
    "            h = self._sigmoid(z)\n",
    "            gradient = np.dot(X.T, (h - y)) / y.size\n",
    "            self._weights -= self.learning_rate * gradient\n",
    "            \n",
    "            if (self.verbose == True and i % 10000 == 0):\n",
    "                z = np.dot(X, self._weights)\n",
    "                h = self._sigmoid(z)\n",
    "                print(f'loss: {self._loss(h, y)} \\t')\n",
    "\n",
    "    def predict_prob(self, X):  \n",
    "        if self.fit_intercept:\n",
    "            X = self._add_intercept(X)\n",
    "    \n",
    "        return self._sigmoid(np.dot(X, self._weights))\n",
    "    \n",
    "    def predict(self, X, threshold):\n",
    "        return self.predict_prob(X) >= threshold"
   ]
  },
  {
   "cell_type": "code",
   "execution_count": 19,
   "metadata": {},
   "outputs": [
    {
     "name": "stderr",
     "output_type": "stream",
     "text": [
      "C:\\ProgramData\\Anaconda3\\lib\\site-packages\\ipykernel_launcher.py:23: RuntimeWarning: overflow encountered in exp\n"
     ]
    }
   ],
   "source": [
    "from sklearn.model_selection import train_test_split\n",
    "from sklearn.metrics import accuracy_score\n",
    "from sklearn.datasets import load_breast_cancer\n",
    "\n",
    "\n",
    "X, y = load_breast_cancer(return_X_y=True)  # load the dataset\n",
    "\n",
    "X_train, X_test, y_train, y_test = train_test_split(X, y, test_size = 0.20, random_state = 42)  # split the dataset\n",
    "\n",
    "# Create an instance of the LogisticRegression class\n",
    "\n",
    "logit = LogisticRegression(learning_rate=0.1, num_iter=200000)  # you can play with hyperparameters to understand how learning rate works.\n",
    "\n",
    "# Train the model\n",
    "\n",
    "logit.train(X_train, y_train)\n",
    "\n",
    "# Normalize output generated by sigmoid function\n",
    "\n",
    "y_pred = [int(round(x)) for x in logit.predict_prob(X_test).flatten()]  # you can do it much sipler it`s just me\n",
    "\n",
    "# look at the score\n",
    "\n",
    "score = accuracy_score(y_test, y_pred)  # 0.956 -> 95.6 %."
   ]
  },
  {
   "cell_type": "code",
   "execution_count": 20,
   "metadata": {},
   "outputs": [
    {
     "data": {
      "text/plain": [
       "0.956140350877193"
      ]
     },
     "execution_count": 20,
     "metadata": {},
     "output_type": "execute_result"
    }
   ],
   "source": [
    "score"
   ]
  },
  {
   "cell_type": "code",
   "execution_count": 1,
   "metadata": {},
   "outputs": [],
   "source": [
    "def sigmoid(x):\n",
    "    \n",
    "    return 1/(1+np.exp(-x))"
   ]
  },
  {
   "cell_type": "code",
   "execution_count": 2,
   "metadata": {},
   "outputs": [],
   "source": [
    "def compute_cost(X, y,w):\n",
    "    h = sigmoid(X @ w)\n",
    "    \n",
    "    return (-y * np.log(h) - (1 - y) * np.log(1 - h)).mean()\n"
   ]
  },
  {
   "cell_type": "code",
   "execution_count": 3,
   "metadata": {},
   "outputs": [],
   "source": [
    "def gradient_descent(X, y, params, learning_rate, iterations):\n",
    "    m = len(y)\n",
    "    cost_history = np.zeros((iterations,1))\n",
    "\n",
    "    for i in range(iterations):\n",
    "        params = params - (learning_rate/m) * (X.T @ (sigmoid(X @ params) - y)) \n",
    "        cost_history[i] = compute_cost(X, y, params)\n",
    "\n",
    "    return (cost_history, params)"
   ]
  },
  {
   "cell_type": "code",
   "execution_count": 4,
   "metadata": {},
   "outputs": [],
   "source": [
    "def predict(X, params):\n",
    "    return np.round(sigmoid(X @ params))"
   ]
  },
  {
   "cell_type": "code",
   "execution_count": 9,
   "metadata": {},
   "outputs": [
    {
     "data": {
      "image/png": "[encoded data removed]",
      "text/plain": [
       "<Figure size 432x288 with 1 Axes>"
      ]
     },
     "metadata": {},
     "output_type": "display_data"
    }
   ],
   "source": [
    "#from sklearn.datasets import make_classification\n",
    "from sklearn import datasets\n",
    "import seaborn as sns\n",
    "iris = datasets.load_iris()\n",
    "X = iris.data[:, :2]\n",
    "y = (iris.target != 0) * 1\n",
    "#X, y = make_classification(n_samples=500, n_features=2, n_redundant=0, n_informative=1,\n",
    "                            # n_clusters_per_class=1, random_state=14)\n",
    "\n",
    "#y = y[:,np.newaxis]\n",
    "sns.set_style('white')\n",
    "sns.scatterplot(X[:,0],X[:,1],hue=y.reshape(-1));"
   ]
  },
  {
   "cell_type": "code",
   "execution_count": 11,
   "metadata": {},
   "outputs": [
    {
     "name": "stdout",
     "output_type": "stream",
     "text": [
      "Initial Cost is: 0.6931471805599454 \n",
      "\n",
      "Optimal Parameters are: \n",
      " [[-0.18198922 -0.18198922 -0.18198922 -0.18198922 -0.18198922 -0.18198922\n",
      "  -0.18198922 -0.18198922 -0.18198922 -0.18198922 -0.18198922 -0.18198922\n",
      "  -0.18198922 -0.18198922 -0.18198922 -0.18198922 -0.18198922 -0.18198922\n",
      "  -0.18198922 -0.18198922 -0.18198922 -0.18198922 -0.18198922 -0.18198922\n",
      "  -0.18198922 -0.18198922 -0.18198922 -0.18198922 -0.18198922 -0.18198922\n",
      "  -0.18198922 -0.18198922 -0.18198922 -0.18198922 -0.18198922 -0.18198922\n",
      "  -0.18198922 -0.18198922 -0.18198922 -0.18198922 -0.18198922 -0.18198922\n",
      "  -0.18198922 -0.18198922 -0.18198922 -0.18198922 -0.18198922 -0.18198922\n",
      "  -0.18198922 -0.18198922  0.18198922  0.18198922  0.18198922  0.18198922\n",
      "   0.18198922  0.18198922  0.18198922  0.18198922  0.18198922  0.18198922\n",
      "   0.18198922  0.18198922  0.18198922  0.18198922  0.18198922  0.18198922\n",
      "   0.18198922  0.18198922  0.18198922  0.18198922  0.18198922  0.18198922\n",
      "   0.18198922  0.18198922  0.18198922  0.18198922  0.18198922  0.18198922\n",
      "   0.18198922  0.18198922  0.18198922  0.18198922  0.18198922  0.18198922\n",
      "   0.18198922  0.18198922  0.18198922  0.18198922  0.18198922  0.18198922\n",
      "   0.18198922  0.18198922  0.18198922  0.18198922  0.18198922  0.18198922\n",
      "   0.18198922  0.18198922  0.18198922  0.18198922  0.18198922  0.18198922\n",
      "   0.18198922  0.18198922  0.18198922  0.18198922  0.18198922  0.18198922\n",
      "   0.18198922  0.18198922  0.18198922  0.18198922  0.18198922  0.18198922\n",
      "   0.18198922  0.18198922  0.18198922  0.18198922  0.18198922  0.18198922\n",
      "   0.18198922  0.18198922  0.18198922  0.18198922  0.18198922  0.18198922\n",
      "   0.18198922  0.18198922  0.18198922  0.18198922  0.18198922  0.18198922\n",
      "   0.18198922  0.18198922  0.18198922  0.18198922  0.18198922  0.18198922\n",
      "   0.18198922  0.18198922  0.18198922  0.18198922  0.18198922  0.18198922\n",
      "   0.18198922  0.18198922  0.18198922  0.18198922  0.18198922  0.18198922]\n",
      " [-1.01127652 -1.01127652 -1.01127652 -1.01127652 -1.01127652 -1.01127652\n",
      "  -1.01127652 -1.01127652 -1.01127652 -1.01127652 -1.01127652 -1.01127652\n",
      "  -1.01127652 -1.01127652 -1.01127652 -1.01127652 -1.01127652 -1.01127652\n",
      "  -1.01127652 -1.01127652 -1.01127652 -1.01127652 -1.01127652 -1.01127652\n",
      "  -1.01127652 -1.01127652 -1.01127652 -1.01127652 -1.01127652 -1.01127652\n",
      "  -1.01127652 -1.01127652 -1.01127652 -1.01127652 -1.01127652 -1.01127652\n",
      "  -1.01127652 -1.01127652 -1.01127652 -1.01127652 -1.01127652 -1.01127652\n",
      "  -1.01127652 -1.01127652 -1.01127652 -1.01127652 -1.01127652 -1.01127652\n",
      "  -1.01127652 -1.01127652  1.01127652  1.01127652  1.01127652  1.01127652\n",
      "   1.01127652  1.01127652  1.01127652  1.01127652  1.01127652  1.01127652\n",
      "   1.01127652  1.01127652  1.01127652  1.01127652  1.01127652  1.01127652\n",
      "   1.01127652  1.01127652  1.01127652  1.01127652  1.01127652  1.01127652\n",
      "   1.01127652  1.01127652  1.01127652  1.01127652  1.01127652  1.01127652\n",
      "   1.01127652  1.01127652  1.01127652  1.01127652  1.01127652  1.01127652\n",
      "   1.01127652  1.01127652  1.01127652  1.01127652  1.01127652  1.01127652\n",
      "   1.01127652  1.01127652  1.01127652  1.01127652  1.01127652  1.01127652\n",
      "   1.01127652  1.01127652  1.01127652  1.01127652  1.01127652  1.01127652\n",
      "   1.01127652  1.01127652  1.01127652  1.01127652  1.01127652  1.01127652\n",
      "   1.01127652  1.01127652  1.01127652  1.01127652  1.01127652  1.01127652\n",
      "   1.01127652  1.01127652  1.01127652  1.01127652  1.01127652  1.01127652\n",
      "   1.01127652  1.01127652  1.01127652  1.01127652  1.01127652  1.01127652\n",
      "   1.01127652  1.01127652  1.01127652  1.01127652  1.01127652  1.01127652\n",
      "   1.01127652  1.01127652  1.01127652  1.01127652  1.01127652  1.01127652\n",
      "   1.01127652  1.01127652  1.01127652  1.01127652  1.01127652  1.01127652\n",
      "   1.01127652  1.01127652  1.01127652  1.01127652  1.01127652  1.01127652]\n",
      " [-0.5509527  -0.5509527  -0.5509527  -0.5509527  -0.5509527  -0.5509527\n",
      "  -0.5509527  -0.5509527  -0.5509527  -0.5509527  -0.5509527  -0.5509527\n",
      "  -0.5509527  -0.5509527  -0.5509527  -0.5509527  -0.5509527  -0.5509527\n",
      "  -0.5509527  -0.5509527  -0.5509527  -0.5509527  -0.5509527  -0.5509527\n",
      "  -0.5509527  -0.5509527  -0.5509527  -0.5509527  -0.5509527  -0.5509527\n",
      "  -0.5509527  -0.5509527  -0.5509527  -0.5509527  -0.5509527  -0.5509527\n",
      "  -0.5509527  -0.5509527  -0.5509527  -0.5509527  -0.5509527  -0.5509527\n",
      "  -0.5509527  -0.5509527  -0.5509527  -0.5509527  -0.5509527  -0.5509527\n",
      "  -0.5509527  -0.5509527   0.5509527   0.5509527   0.5509527   0.5509527\n",
      "   0.5509527   0.5509527   0.5509527   0.5509527   0.5509527   0.5509527\n",
      "   0.5509527   0.5509527   0.5509527   0.5509527   0.5509527   0.5509527\n",
      "   0.5509527   0.5509527   0.5509527   0.5509527   0.5509527   0.5509527\n",
      "   0.5509527   0.5509527   0.5509527   0.5509527   0.5509527   0.5509527\n",
      "   0.5509527   0.5509527   0.5509527   0.5509527   0.5509527   0.5509527\n",
      "   0.5509527   0.5509527   0.5509527   0.5509527   0.5509527   0.5509527\n",
      "   0.5509527   0.5509527   0.5509527   0.5509527   0.5509527   0.5509527\n",
      "   0.5509527   0.5509527   0.5509527   0.5509527   0.5509527   0.5509527\n",
      "   0.5509527   0.5509527   0.5509527   0.5509527   0.5509527   0.5509527\n",
      "   0.5509527   0.5509527   0.5509527   0.5509527   0.5509527   0.5509527\n",
      "   0.5509527   0.5509527   0.5509527   0.5509527   0.5509527   0.5509527\n",
      "   0.5509527   0.5509527   0.5509527   0.5509527   0.5509527   0.5509527\n",
      "   0.5509527   0.5509527   0.5509527   0.5509527   0.5509527   0.5509527\n",
      "   0.5509527   0.5509527   0.5509527   0.5509527   0.5509527   0.5509527\n",
      "   0.5509527   0.5509527   0.5509527   0.5509527   0.5509527   0.5509527\n",
      "   0.5509527   0.5509527   0.5509527   0.5509527   0.5509527   0.5509527 ]] \n",
      "\n"
     ]
    },
    {
     "ename": "NameError",
     "evalue": "name 'plt' is not defined",
     "output_type": "error",
     "traceback": [
      "\u001b[1;31m---------------------------------------------------------------------------\u001b[0m",
      "\u001b[1;31mNameError\u001b[0m                                 Traceback (most recent call last)",
      "\u001b[1;32m<ipython-input-11-76f8c2b0b55c>\u001b[0m in \u001b[0;36m<module>\u001b[1;34m\u001b[0m\n\u001b[0;32m     18\u001b[0m \u001b[0mprint\u001b[0m\u001b[1;33m(\u001b[0m\u001b[1;34m\"Optimal Parameters are: \\n\"\u001b[0m\u001b[1;33m,\u001b[0m \u001b[0mparams_optimal\u001b[0m\u001b[1;33m,\u001b[0m \u001b[1;34m\"\\n\"\u001b[0m\u001b[1;33m)\u001b[0m\u001b[1;33m\u001b[0m\u001b[1;33m\u001b[0m\u001b[0m\n\u001b[0;32m     19\u001b[0m \u001b[1;33m\u001b[0m\u001b[0m\n\u001b[1;32m---> 20\u001b[1;33m \u001b[0mplt\u001b[0m\u001b[1;33m.\u001b[0m\u001b[0mfigure\u001b[0m\u001b[1;33m(\u001b[0m\u001b[1;33m)\u001b[0m\u001b[1;33m\u001b[0m\u001b[1;33m\u001b[0m\u001b[0m\n\u001b[0m\u001b[0;32m     21\u001b[0m \u001b[0msns\u001b[0m\u001b[1;33m.\u001b[0m\u001b[0mset_style\u001b[0m\u001b[1;33m(\u001b[0m\u001b[1;34m'white'\u001b[0m\u001b[1;33m)\u001b[0m\u001b[1;33m\u001b[0m\u001b[1;33m\u001b[0m\u001b[0m\n\u001b[0;32m     22\u001b[0m \u001b[0mplt\u001b[0m\u001b[1;33m.\u001b[0m\u001b[0mplot\u001b[0m\u001b[1;33m(\u001b[0m\u001b[0mrange\u001b[0m\u001b[1;33m(\u001b[0m\u001b[0mlen\u001b[0m\u001b[1;33m(\u001b[0m\u001b[0mcost_history\u001b[0m\u001b[1;33m)\u001b[0m\u001b[1;33m)\u001b[0m\u001b[1;33m,\u001b[0m \u001b[0mcost_history\u001b[0m\u001b[1;33m,\u001b[0m \u001b[1;34m'r'\u001b[0m\u001b[1;33m)\u001b[0m\u001b[1;33m\u001b[0m\u001b[1;33m\u001b[0m\u001b[0m\n",
      "\u001b[1;31mNameError\u001b[0m: name 'plt' is not defined"
     ]
    }
   ],
   "source": [
    "import numpy as np\n",
    "\n",
    "m = len(y)\n",
    "\n",
    "X = np.hstack((np.ones((m,1)),X))\n",
    "n = np.size(X,1)\n",
    "params = np.zeros((n,1))\n",
    "\n",
    "iterations = 1500\n",
    "learning_rate = 0.03\n",
    "\n",
    "initial_cost = compute_cost(X, y, params)\n",
    "\n",
    "print(\"Initial Cost is: {} \\n\".format(initial_cost))\n",
    "\n",
    "(cost_history, params_optimal) = gradient_descent(X, y, params, learning_rate, iterations)\n",
    "\n",
    "print(\"Optimal Parameters are: \\n\", params_optimal, \"\\n\")\n",
    "\n",
    "plt.figure()\n",
    "sns.set_style('white')\n",
    "plt.plot(range(len(cost_history)), cost_history, 'r')\n",
    "plt.title(\"Convergence Graph of Cost Function\")\n",
    "plt.xlabel(\"Number of Iterations\")\n",
    "plt.ylabel(\"Cost\")\n",
    "plt.show()\n",
    "\n"
   ]
  },
  {
   "cell_type": "code",
   "execution_count": 12,
   "metadata": {},
   "outputs": [
    {
     "ename": "TypeError",
     "evalue": "only size-1 arrays can be converted to Python scalars",
     "output_type": "error",
     "traceback": [
      "\u001b[1;31m---------------------------------------------------------------------------\u001b[0m",
      "\u001b[1;31mTypeError\u001b[0m                                 Traceback (most recent call last)",
      "\u001b[1;32m<ipython-input-12-892f4d97da95>\u001b[0m in \u001b[0;36m<module>\u001b[1;34m\u001b[0m\n\u001b[0;32m      1\u001b[0m \u001b[0my_pred\u001b[0m \u001b[1;33m=\u001b[0m \u001b[0mpredict\u001b[0m\u001b[1;33m(\u001b[0m\u001b[0mX\u001b[0m\u001b[1;33m,\u001b[0m \u001b[0mparams_optimal\u001b[0m\u001b[1;33m)\u001b[0m\u001b[1;33m\u001b[0m\u001b[1;33m\u001b[0m\u001b[0m\n\u001b[1;32m----> 2\u001b[1;33m \u001b[0mscore\u001b[0m \u001b[1;33m=\u001b[0m \u001b[0mfloat\u001b[0m\u001b[1;33m(\u001b[0m\u001b[0msum\u001b[0m\u001b[1;33m(\u001b[0m\u001b[0my_pred\u001b[0m \u001b[1;33m==\u001b[0m \u001b[0my\u001b[0m\u001b[1;33m)\u001b[0m\u001b[1;33m)\u001b[0m\u001b[1;33m/\u001b[0m \u001b[0mfloat\u001b[0m\u001b[1;33m(\u001b[0m\u001b[0mlen\u001b[0m\u001b[1;33m(\u001b[0m\u001b[0my\u001b[0m\u001b[1;33m)\u001b[0m\u001b[1;33m)\u001b[0m\u001b[1;33m\u001b[0m\u001b[1;33m\u001b[0m\u001b[0m\n\u001b[0m\u001b[0;32m      3\u001b[0m \u001b[1;33m\u001b[0m\u001b[0m\n\u001b[0;32m      4\u001b[0m \u001b[0mprint\u001b[0m\u001b[1;33m(\u001b[0m\u001b[0mscore\u001b[0m\u001b[1;33m)\u001b[0m\u001b[1;33m\u001b[0m\u001b[1;33m\u001b[0m\u001b[0m\n\u001b[0;32m      5\u001b[0m \u001b[1;33m\u001b[0m\u001b[0m\n",
      "\u001b[1;31mTypeError\u001b[0m: only size-1 arrays can be converted to Python scalars"
     ]
    }
   ],
   "source": [
    "\n",
    "\n",
    "y_pred = predict(X, params_optimal)\n",
    "score = float(sum(y_pred == y))/ float(len(y))\n",
    "\n",
    "print(score)\n",
    "\n"
   ]
  },
  {
   "cell_type": "code",
   "execution_count": 14,
   "metadata": {},
   "outputs": [
    {
     "ename": "ValueError",
     "evalue": "operands could not be broadcast together with shapes (150,) (2,) ",
     "output_type": "error",
     "traceback": [
      "\u001b[1;31m---------------------------------------------------------------------------\u001b[0m",
      "\u001b[1;31mValueError\u001b[0m                                Traceback (most recent call last)",
      "\u001b[1;32m<ipython-input-14-d23953e527bd>\u001b[0m in \u001b[0;36m<module>\u001b[1;34m\u001b[0m\n\u001b[0;32m      9\u001b[0m \u001b[0max\u001b[0m\u001b[1;33m.\u001b[0m\u001b[0mautoscale\u001b[0m\u001b[1;33m(\u001b[0m\u001b[1;32mFalse\u001b[0m\u001b[1;33m)\u001b[0m\u001b[1;33m\u001b[0m\u001b[1;33m\u001b[0m\u001b[0m\n\u001b[0;32m     10\u001b[0m \u001b[0mx_vals\u001b[0m \u001b[1;33m=\u001b[0m \u001b[0mnp\u001b[0m\u001b[1;33m.\u001b[0m\u001b[0marray\u001b[0m\u001b[1;33m(\u001b[0m\u001b[0max\u001b[0m\u001b[1;33m.\u001b[0m\u001b[0mget_xlim\u001b[0m\u001b[1;33m(\u001b[0m\u001b[1;33m)\u001b[0m\u001b[1;33m)\u001b[0m\u001b[1;33m\u001b[0m\u001b[1;33m\u001b[0m\u001b[0m\n\u001b[1;32m---> 11\u001b[1;33m \u001b[0my_vals\u001b[0m \u001b[1;33m=\u001b[0m \u001b[0mintercept\u001b[0m \u001b[1;33m+\u001b[0m \u001b[1;33m(\u001b[0m\u001b[0mslope\u001b[0m \u001b[1;33m*\u001b[0m \u001b[0mx_vals\u001b[0m\u001b[1;33m)\u001b[0m\u001b[1;33m\u001b[0m\u001b[1;33m\u001b[0m\u001b[0m\n\u001b[0m\u001b[0;32m     12\u001b[0m \u001b[0mplt\u001b[0m\u001b[1;33m.\u001b[0m\u001b[0mplot\u001b[0m\u001b[1;33m(\u001b[0m\u001b[0mx_vals\u001b[0m\u001b[1;33m,\u001b[0m \u001b[0my_vals\u001b[0m\u001b[1;33m,\u001b[0m \u001b[0mc\u001b[0m\u001b[1;33m=\u001b[0m\u001b[1;34m\"k\"\u001b[0m\u001b[1;33m)\u001b[0m\u001b[1;33m;\u001b[0m\u001b[1;33m\u001b[0m\u001b[1;33m\u001b[0m\u001b[0m\n\u001b[0;32m     13\u001b[0m \u001b[1;33m\u001b[0m\u001b[0m\n",
      "\u001b[1;31mValueError\u001b[0m: operands could not be broadcast together with shapes (150,) (2,) "
     ]
    },
    {
     "data": {
      "image/png": "[encoded data removed]",
      "text/plain": [
       "<Figure size 432x288 with 1 Axes>"
      ]
     },
     "metadata": {},
     "output_type": "display_data"
    }
   ],
   "source": [
    "\n",
    "import matplotlib.pyplot as plt\n",
    "slope = -(params_optimal[1] / params_optimal[2])\n",
    "intercept = -(params_optimal[0] / params_optimal[2])\n",
    "\n",
    "sns.set_style('white')\n",
    "sns.scatterplot(X[:,1],X[:,2],hue=y.reshape(-1));\n",
    "\n",
    "ax = plt.gca()\n",
    "ax.autoscale(False)\n",
    "x_vals = np.array(ax.get_xlim())\n",
    "y_vals = intercept + (slope * x_vals)\n",
    "plt.plot(x_vals, y_vals, c=\"k\");\n",
    "\n"
   ]
  },
  {
   "cell_type": "code",
   "execution_count": null,
   "metadata": {},
   "outputs": [],
   "source": []
  },
  {
   "cell_type": "code",
   "execution_count": 3,
   "metadata": {},
   "outputs": [],
   "source": [
    "import numpy as np\n",
    "import matplotlib.pyplot as plt\n",
    "from sklearn import datasets"
   ]
  },
  {
   "cell_type": "code",
   "execution_count": 5,
   "metadata": {},
   "outputs": [],
   "source": [
    "iris=datasets.load_iris()"
   ]
  },
  {
   "cell_type": "code",
   "execution_count": 16,
   "metadata": {},
   "outputs": [],
   "source": [
    "X = iris.data[:, :2]\n",
    "y = (iris.target != 0) * 1\n"
   ]
  },
  {
   "cell_type": "code",
   "execution_count": 18,
   "metadata": {},
   "outputs": [
    {
     "data": {
      "text/plain": [
       "(150, 3)"
      ]
     },
     "execution_count": 18,
     "metadata": {},
     "output_type": "execute_result"
    }
   ],
   "source": [
    "m=X.shape[0]\n",
    "X = np.hstack((np.ones((m,1)),X))\n",
    "X.shape"
   ]
  },
  {
   "cell_type": "code",
   "execution_count": null,
   "metadata": {},
   "outputs": [],
   "source": []
  },
  {
   "cell_type": "code",
   "execution_count": 19,
   "metadata": {},
   "outputs": [
    {
     "ename": "IndexError",
     "evalue": "too many indices for array",
     "output_type": "error",
     "traceback": [
      "\u001b[1;31m---------------------------------------------------------------------------\u001b[0m",
      "\u001b[1;31mIndexError\u001b[0m                                Traceback (most recent call last)",
      "\u001b[1;32m<ipython-input-19-ca0716a7ffd9>\u001b[0m in \u001b[0;36m<module>\u001b[1;34m\u001b[0m\n\u001b[0;32m      7\u001b[0m \u001b[1;31m#in Y matrix for each class columns put 1 wherin the rows belong to that class\u001b[0m\u001b[1;33m\u001b[0m\u001b[1;33m\u001b[0m\u001b[1;33m\u001b[0m\u001b[0m\n\u001b[0;32m      8\u001b[0m \u001b[1;32mfor\u001b[0m \u001b[0mcls\u001b[0m \u001b[1;32min\u001b[0m \u001b[0mk\u001b[0m\u001b[1;33m.\u001b[0m\u001b[0mastype\u001b[0m\u001b[1;33m(\u001b[0m\u001b[0mint\u001b[0m\u001b[1;33m)\u001b[0m\u001b[1;33m:\u001b[0m\u001b[1;33m\u001b[0m\u001b[1;33m\u001b[0m\u001b[0m\n\u001b[1;32m----> 9\u001b[1;33m     \u001b[0mY\u001b[0m\u001b[1;33m[\u001b[0m\u001b[0mnp\u001b[0m\u001b[1;33m.\u001b[0m\u001b[0mwhere\u001b[0m\u001b[1;33m(\u001b[0m\u001b[0my\u001b[0m\u001b[1;33m[\u001b[0m\u001b[1;33m:\u001b[0m\u001b[1;33m,\u001b[0m\u001b[1;33m-\u001b[0m\u001b[1;36m1\u001b[0m\u001b[1;33m]\u001b[0m \u001b[1;33m==\u001b[0m \u001b[0mcls\u001b[0m\u001b[1;33m)\u001b[0m\u001b[1;33m,\u001b[0m\u001b[0mcls\u001b[0m\u001b[1;33m]\u001b[0m \u001b[1;33m=\u001b[0m \u001b[1;36m1\u001b[0m\u001b[1;33m\u001b[0m\u001b[1;33m\u001b[0m\u001b[0m\n\u001b[0m",
      "\u001b[1;31mIndexError\u001b[0m: too many indices for array"
     ]
    }
   ],
   "source": []
  },
  {
   "cell_type": "code",
   "execution_count": 23,
   "metadata": {},
   "outputs": [
    {
     "data": {
      "image/png": "[encoded data removed]",
      "text/plain": [
       "<Figure size 720x432 with 1 Axes>"
      ]
     },
     "metadata": {
      "needs_background": "light"
     },
     "output_type": "display_data"
    }
   ],
   "source": [
    "plt.figure(figsize=(10, 6))\n",
    "plt.scatter(X[y == 0][:, 1], X[y == 0][:, 2], color='b', label='0')\n",
    "plt.scatter(X[y == 1][:, 1], X[y == 1][:, 2], color='r', label='1')\n",
    "plt.legend();"
   ]
  },
  {
   "cell_type": "code",
   "execution_count": 24,
   "metadata": {},
   "outputs": [
    {
     "ename": "ValueError",
     "evalue": "operands could not be broadcast together with shapes (150,2) (150,3) ",
     "output_type": "error",
     "traceback": [
      "\u001b[1;31m---------------------------------------------------------------------------\u001b[0m",
      "\u001b[1;31mValueError\u001b[0m                                Traceback (most recent call last)",
      "\u001b[1;32m<ipython-input-24-ffc9df12da39>\u001b[0m in \u001b[0;36m<module>\u001b[1;34m\u001b[0m\n\u001b[0;32m     23\u001b[0m \u001b[1;33m\u001b[0m\u001b[0m\n\u001b[0;32m     24\u001b[0m     \u001b[1;31m#cost function -1/m * sum (y log h + (1-y)log(1-h))for each class\u001b[0m\u001b[1;33m\u001b[0m\u001b[1;33m\u001b[0m\u001b[1;33m\u001b[0m\u001b[0m\n\u001b[1;32m---> 25\u001b[1;33m     \u001b[0mcost\u001b[0m \u001b[1;33m=\u001b[0m \u001b[1;33m-\u001b[0m\u001b[1;36m1\u001b[0m\u001b[1;33m/\u001b[0m\u001b[0mm\u001b[0m \u001b[1;33m*\u001b[0m \u001b[1;33m(\u001b[0m\u001b[1;33m(\u001b[0m\u001b[0mY\u001b[0m \u001b[1;33m*\u001b[0m \u001b[0mnp\u001b[0m\u001b[1;33m.\u001b[0m\u001b[0mlog\u001b[0m\u001b[1;33m(\u001b[0m\u001b[0mh\u001b[0m\u001b[1;33m)\u001b[0m\u001b[1;33m)\u001b[0m \u001b[1;33m+\u001b[0m \u001b[1;33m(\u001b[0m\u001b[1;33m(\u001b[0m\u001b[1;36m1\u001b[0m\u001b[1;33m-\u001b[0m\u001b[0mY\u001b[0m\u001b[1;33m)\u001b[0m \u001b[1;33m*\u001b[0m \u001b[0mnp\u001b[0m\u001b[1;33m.\u001b[0m\u001b[0mlog\u001b[0m\u001b[1;33m(\u001b[0m\u001b[1;36m1\u001b[0m\u001b[1;33m-\u001b[0m\u001b[0mh\u001b[0m\u001b[1;33m)\u001b[0m\u001b[1;33m)\u001b[0m\u001b[1;33m)\u001b[0m\u001b[1;33m\u001b[0m\u001b[1;33m\u001b[0m\u001b[0m\n\u001b[0m\u001b[0;32m     26\u001b[0m     \u001b[0mcost\u001b[0m \u001b[1;33m=\u001b[0m \u001b[0mcost\u001b[0m\u001b[1;33m.\u001b[0m\u001b[0msum\u001b[0m\u001b[1;33m(\u001b[0m\u001b[0maxis\u001b[0m \u001b[1;33m=\u001b[0m \u001b[1;36m0\u001b[0m\u001b[1;33m)\u001b[0m\u001b[1;33m\u001b[0m\u001b[1;33m\u001b[0m\u001b[0m\n\u001b[0;32m     27\u001b[0m     \u001b[0mcost_arr\u001b[0m \u001b[1;33m=\u001b[0m \u001b[0mnp\u001b[0m\u001b[1;33m.\u001b[0m\u001b[0mvstack\u001b[0m\u001b[1;33m(\u001b[0m\u001b[1;33m(\u001b[0m\u001b[0mcost_arr\u001b[0m\u001b[1;33m,\u001b[0m \u001b[0mcost\u001b[0m\u001b[1;33m)\u001b[0m\u001b[1;33m)\u001b[0m\u001b[1;33m\u001b[0m\u001b[1;33m\u001b[0m\u001b[0m\n",
      "\u001b[1;31mValueError\u001b[0m: operands could not be broadcast together with shapes (150,2) (150,3) "
     ]
    }
   ],
   "source": [
    "theta = np.zeros((3,3))\n",
    "\n",
    "#learning rate\n",
    "learning_rate = 0.001\n",
    "\n",
    "#no of iterations we want our model to be trained\n",
    "no_of_iterations = 200000\n",
    "\n",
    "#to visualise the cost function\n",
    "cost_arr = np.empty((0,3))\n",
    "\n",
    "#counter\n",
    "i = 1\n",
    "\n",
    "def sigmoid(z):\n",
    "    return 1 / (1 + np.exp(-z))\n",
    "\n",
    "for i in range(no_of_iterations):\n",
    "    \n",
    "    #model/hypothesis function\n",
    "    lineq = np.dot(X, theta.T)\n",
    "    h = sigmoid(lineq)\n",
    "    \n",
    "    #cost function -1/m * sum (y log h + (1-y)log(1-h))for each class\n",
    "    cost = -1/m * ((Y * np.log(h)) + ((1-Y) * np.log(1-h)))\n",
    "    cost = cost.sum(axis = 0)\n",
    "    cost_arr = np.vstack((cost_arr, cost))\n",
    "    \n",
    "    #applying gradient descent to calculate new theta = theta - (learning_rate/m * summation[(h-y)*x]) -> delta\n",
    "    #summation can be replace by matrix multiplication\n",
    "    delta = (learning_rate/m) * np.dot((h-Y).T, X)\n",
    "    theta = theta - delta  \n",
    "    \n",
    "    i = i + 1;"
   ]
  },
  {
   "cell_type": "code",
   "execution_count": null,
   "metadata": {},
   "outputs": [],
   "source": []
  }
 ],
 "metadata": {
  "kernelspec": {
   "display_name": "Python 3",
   "language": "python",
   "name": "python3"
  },
  "language_info": {
   "codemirror_mode": {
    "name": "ipython",
    "version": 3
   },
   "file_extension": ".py",
   "mimetype": "text/x-python",
   "name": "python",
   "nbconvert_exporter": "python",
   "pygments_lexer": "ipython3",
   "version": "3.7.6"
  }
 },
 "nbformat": 4,
 "nbformat_minor": 4
}
