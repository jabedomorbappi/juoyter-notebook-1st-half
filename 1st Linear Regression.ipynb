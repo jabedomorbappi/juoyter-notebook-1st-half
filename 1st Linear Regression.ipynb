{
 "cells": [
  {
   "cell_type": "code",
   "execution_count": 1,
   "metadata": {},
   "outputs": [],
   "source": [
    "import numpy as np\n",
    "import pandas as pd\n",
    "import matplotlib.pyplot as plt\n"
   ]
  },
  {
   "cell_type": "code",
   "execution_count": 2,
   "metadata": {},
   "outputs": [
    {
     "data": {
      "text/html": [
       "<div>\n",
       "<style scoped>\n",
       "    .dataframe tbody tr th:only-of-type {\n",
       "        vertical-align: middle;\n",
       "    }\n",
       "\n",
       "    .dataframe tbody tr th {\n",
       "        vertical-align: top;\n",
       "    }\n",
       "\n",
       "    .dataframe thead th {\n",
       "        text-align: right;\n",
       "    }\n",
       "</style>\n",
       "<table border=\"1\" class=\"dataframe\">\n",
       "  <thead>\n",
       "    <tr style=\"text-align: right;\">\n",
       "      <th></th>\n",
       "      <th>YearsExperience</th>\n",
       "      <th>Salary</th>\n",
       "    </tr>\n",
       "  </thead>\n",
       "  <tbody>\n",
       "    <tr>\n",
       "      <th>0</th>\n",
       "      <td>1.1</td>\n",
       "      <td>39343</td>\n",
       "    </tr>\n",
       "    <tr>\n",
       "      <th>1</th>\n",
       "      <td>1.3</td>\n",
       "      <td>46205</td>\n",
       "    </tr>\n",
       "    <tr>\n",
       "      <th>2</th>\n",
       "      <td>1.5</td>\n",
       "      <td>37731</td>\n",
       "    </tr>\n",
       "    <tr>\n",
       "      <th>3</th>\n",
       "      <td>2.0</td>\n",
       "      <td>43525</td>\n",
       "    </tr>\n",
       "    <tr>\n",
       "      <th>4</th>\n",
       "      <td>2.2</td>\n",
       "      <td>39891</td>\n",
       "    </tr>\n",
       "  </tbody>\n",
       "</table>\n",
       "</div>"
      ],
      "text/plain": [
       "   YearsExperience  Salary\n",
       "0              1.1   39343\n",
       "1              1.3   46205\n",
       "2              1.5   37731\n",
       "3              2.0   43525\n",
       "4              2.2   39891"
      ]
     },
     "execution_count": 2,
     "metadata": {},
     "output_type": "execute_result"
    }
   ],
   "source": [
    "import numpy as np\n",
    "import pandas as pd\n",
    "import matplotlib.pyplot as plt\n",
    "data=pd.read_csv('Salary.csv')\n",
    "data.head()"
   ]
  },
  {
   "cell_type": "code",
   "execution_count": 3,
   "metadata": {},
   "outputs": [
    {
     "data": {
      "text/plain": [
       "array([[ 1.1],\n",
       "       [ 1.3],\n",
       "       [ 1.5],\n",
       "       [ 2. ],\n",
       "       [ 2.2],\n",
       "       [ 2.9],\n",
       "       [ 3. ],\n",
       "       [ 3.2],\n",
       "       [ 3.2],\n",
       "       [ 3.7],\n",
       "       [ 3.9],\n",
       "       [ 4. ],\n",
       "       [ 4. ],\n",
       "       [ 4.1],\n",
       "       [ 4.5],\n",
       "       [ 4.9],\n",
       "       [ 5.1],\n",
       "       [ 5.3],\n",
       "       [ 5.9],\n",
       "       [ 6. ],\n",
       "       [ 6.8],\n",
       "       [ 7.1],\n",
       "       [ 7.9],\n",
       "       [ 8.2],\n",
       "       [ 8.7],\n",
       "       [ 9. ],\n",
       "       [ 9.5],\n",
       "       [ 9.6],\n",
       "       [10.3],\n",
       "       [10.5],\n",
       "       [11.2],\n",
       "       [11.5],\n",
       "       [12.3],\n",
       "       [12.9],\n",
       "       [13.5]])"
      ]
     },
     "execution_count": 3,
     "metadata": {},
     "output_type": "execute_result"
    }
   ],
   "source": [
    "x=data.iloc[:,[0]].values\n",
    "\n",
    "y=data.iloc[:,[1]].values\n",
    "x"
   ]
  },
  {
   "cell_type": "code",
   "execution_count": null,
   "metadata": {},
   "outputs": [],
   "source": []
  },
  {
   "cell_type": "code",
   "execution_count": 4,
   "metadata": {},
   "outputs": [
    {
     "data": {
      "text/plain": [
       "<matplotlib.collections.PathCollection at 0x186afb56348>"
      ]
     },
     "execution_count": 4,
     "metadata": {},
     "output_type": "execute_result"
    },
    {
     "data": {
      "image/png": "[encoded data removed]",
      "text/plain": [
       "<Figure size 432x288 with 1 Axes>"
      ]
     },
     "metadata": {
      "needs_background": "light"
     },
     "output_type": "display_data"
    }
   ],
   "source": [
    "plt.scatter(x,y)"
   ]
  },
  {
   "cell_type": "code",
   "execution_count": 5,
   "metadata": {},
   "outputs": [],
   "source": [
    "def pearson(value):\n",
    "    data=pd.read_csv('Salary.csv')\n",
    "    data.head()\n",
    "    time=data.iloc[:,0].values\n",
    "    velocity=data.iloc[:,1].values\n",
    "    \n",
    "    \n",
    "    x=pd.DataFrame()\n",
    "    x['time']=time\n",
    "    x['velocity']=velocity\n",
    "    x_bar=x['time'].mean()\n",
    "    a=[]\n",
    "    i=0\n",
    "    for i in range(i,len(x['time'])):\n",
    "        a.append(x.iloc[i,0]-x_bar)\n",
    "    x['x_bar']=a\n",
    "    x['(x_bar)2']=np.square(x['x_bar'])\n",
    "    variance=sum(x['(x_bar)2'])/(len(x['time'])-1)\n",
    "    s_x=np.sqrt(variance)\n",
    "    x['z_x']=x['x_bar']/s_x\n",
    "    y_bar=x['velocity'].mean()\n",
    "    b=[]\n",
    "    i=0\n",
    "    for i in range(i,len(x['time'])):\n",
    "        b.append(x.iloc[i,1]-y_bar)\n",
    "    x['y_bar']=b\n",
    "    x['(y_bar)2']=np.square(x['y_bar'])\n",
    "    variance_y=sum(x['(y_bar)2'])/(len(x['velocity'])-1)\n",
    "    s_y=np.sqrt(variance_y)\n",
    "    x['z_y']=x['y_bar']/s_y\n",
    "    x['z_x*z_y']=x['z_x']*x['z_y']\n",
    "    p_r=x['z_x*z_y'].sum()\n",
    "    p_r=p_r/(len(x['z_x*z_y'])-1)\n",
    "    if value=='data':\n",
    "        return x\n",
    "    if value=='variance':\n",
    "        return variance\n",
    "    if value=='s_x':\n",
    "        return s_x\n",
    "    if value=='s_y':\n",
    "        return s_y\n",
    "    if value=='plot':\n",
    "        return plt.scatter(time,velocity)\n",
    "    if value=='p_r':\n",
    "        return p_r\n",
    "    if value=='y_bar':\n",
    "        return y_bar\n",
    "    if value=='x_bar':\n",
    "        return x_bar\n",
    "    if value=='rr':\n",
    "        return p_r*p_r"
   ]
  },
  {
   "cell_type": "code",
   "execution_count": 6,
   "metadata": {},
   "outputs": [
    {
     "data": {
      "text/plain": [
       "0.9824272546479685"
      ]
     },
     "execution_count": 6,
     "metadata": {},
     "output_type": "execute_result"
    }
   ],
   "source": [
    "r=pearson('p_r')\n",
    "r"
   ]
  },
  {
   "cell_type": "code",
   "execution_count": 7,
   "metadata": {},
   "outputs": [
    {
     "data": {
      "text/plain": [
       "0.9651633106751444"
      ]
     },
     "execution_count": 7,
     "metadata": {},
     "output_type": "execute_result"
    }
   ],
   "source": [
    "r_sq=pearson('rr')\n",
    "r_sq"
   ]
  },
  {
   "cell_type": "code",
   "execution_count": 8,
   "metadata": {},
   "outputs": [
    {
     "data": {
      "text/plain": [
       "3.6186096963410934"
      ]
     },
     "execution_count": 8,
     "metadata": {},
     "output_type": "execute_result"
    }
   ],
   "source": [
    "s_x=pearson('s_x')\n",
    "s_x"
   ]
  },
  {
   "cell_type": "code",
   "execution_count": 9,
   "metadata": {},
   "outputs": [
    {
     "data": {
      "text/plain": [
       "32162.673003306914"
      ]
     },
     "execution_count": 9,
     "metadata": {},
     "output_type": "execute_result"
    }
   ],
   "source": [
    "s_y=pearson('s_y')\n",
    "s_y"
   ]
  },
  {
   "cell_type": "code",
   "execution_count": 10,
   "metadata": {},
   "outputs": [
    {
     "data": {
      "text/plain": [
       "83945.6"
      ]
     },
     "execution_count": 10,
     "metadata": {},
     "output_type": "execute_result"
    }
   ],
   "source": [
    "y_bar=pearson('y_bar')\n",
    "y_bar"
   ]
  },
  {
   "cell_type": "code",
   "execution_count": 11,
   "metadata": {},
   "outputs": [
    {
     "data": {
      "text/plain": [
       "6.308571428571429"
      ]
     },
     "execution_count": 11,
     "metadata": {},
     "output_type": "execute_result"
    }
   ],
   "source": [
    "x_bar=pearson('x_bar')\n",
    "x_bar"
   ]
  },
  {
   "cell_type": "code",
   "execution_count": 12,
   "metadata": {},
   "outputs": [
    {
     "name": "stdout",
     "output_type": "stream",
     "text": [
      "8731.941047062495\n",
      "28859.526194531463\n"
     ]
    }
   ],
   "source": [
    "w=r*(s_y/s_x)\n",
    "w\n",
    "b=y_bar-w*x_bar\n",
    "print(w)\n",
    "print(b)"
   ]
  },
  {
   "cell_type": "markdown",
   "metadata": {},
   "source": [
    "def initialize_with_zeros(dim):\n",
    "    w=np.zeros((dim,1))\n",
    "    b=np.random.randn(1)\n",
    "    return w,b\n",
    "\n"
   ]
  },
  {
   "cell_type": "markdown",
   "metadata": {},
   "source": [
    "size=len(x)\n",
    "dim=size\n",
    "w,b=initialize_with_zeros(dim)\n",
    "w.shape\n",
    "\n"
   ]
  },
  {
   "cell_type": "code",
   "execution_count": 13,
   "metadata": {},
   "outputs": [],
   "source": [
    "\n",
    "def predict(w,x,b):\n",
    "    \n",
    "    y_p=np.multiply(w,x)+b\n",
    "    return y_p"
   ]
  },
  {
   "cell_type": "code",
   "execution_count": 14,
   "metadata": {},
   "outputs": [
    {
     "data": {
      "text/plain": [
       "array([[ 38464.6613463 ],\n",
       "       [ 40211.04955571],\n",
       "       [ 41957.43776513],\n",
       "       [ 46323.40828866],\n",
       "       [ 48069.79649807],\n",
       "       [ 54182.15523101],\n",
       "       [ 55055.34933572],\n",
       "       [ 56801.73754513],\n",
       "       [ 56801.73754513],\n",
       "       [ 61167.70806866],\n",
       "       [ 62914.09627808],\n",
       "       [ 63787.29038278],\n",
       "       [ 63787.29038278],\n",
       "       [ 64660.48448749],\n",
       "       [ 68153.26090631],\n",
       "       [ 71646.03732514],\n",
       "       [ 73392.42553455],\n",
       "       [ 75138.81374396],\n",
       "       [ 80377.9783722 ],\n",
       "       [ 81251.17247691],\n",
       "       [ 88236.72531456],\n",
       "       [ 90856.30762868],\n",
       "       [ 97841.86046633],\n",
       "       [100461.44278044],\n",
       "       [104827.41330398],\n",
       "       [107446.99561809],\n",
       "       [111812.96614163],\n",
       "       [112686.16024633],\n",
       "       [118798.51897928],\n",
       "       [120544.90718869],\n",
       "       [126657.26592163],\n",
       "       [129276.84823575],\n",
       "       [136262.4010734 ],\n",
       "       [141501.56570164],\n",
       "       [146740.73032988]])"
      ]
     },
     "execution_count": 14,
     "metadata": {},
     "output_type": "execute_result"
    }
   ],
   "source": [
    "\n",
    "predict(w,x,b)"
   ]
  },
  {
   "cell_type": "code",
   "execution_count": 15,
   "metadata": {},
   "outputs": [
    {
     "data": {
      "text/plain": [
       "[<matplotlib.lines.Line2D at 0x186afc7fbc8>]"
      ]
     },
     "execution_count": 15,
     "metadata": {},
     "output_type": "execute_result"
    },
    {
     "data": {
      "image/png": "[encoded data removed]",
      "text/plain": [
       "<Figure size 432x288 with 1 Axes>"
      ]
     },
     "metadata": {
      "needs_background": "light"
     },
     "output_type": "display_data"
    }
   ],
   "source": [
    "plt.scatter(x,y)\n",
    "plt.plot(x,predict(w,x,b))\n"
   ]
  },
  {
   "cell_type": "code",
   "execution_count": 16,
   "metadata": {},
   "outputs": [
    {
     "data": {
      "text/plain": [
       "21441645518.642338"
      ]
     },
     "execution_count": 16,
     "metadata": {},
     "output_type": "execute_result"
    }
   ],
   "source": [
    "m=len(x)\n",
    "def error(w,x,b,y):\n",
    "    y_p=(1/2*m)*np.sum(np.square(predict(w,x,b)-y))\n",
    "    return y_p\n",
    "error(w,x,b,y)        "
   ]
  },
  {
   "cell_type": "code",
   "execution_count": 17,
   "metadata": {},
   "outputs": [
    {
     "data": {
      "text/plain": [
       "array([[ 38464.6613463 ],\n",
       "       [ 40211.04955571],\n",
       "       [ 41957.43776513],\n",
       "       [ 46323.40828866],\n",
       "       [ 48069.79649807],\n",
       "       [ 54182.15523101],\n",
       "       [ 55055.34933572],\n",
       "       [ 56801.73754513],\n",
       "       [ 56801.73754513],\n",
       "       [ 61167.70806866],\n",
       "       [ 62914.09627808],\n",
       "       [ 63787.29038278],\n",
       "       [ 63787.29038278],\n",
       "       [ 64660.48448749],\n",
       "       [ 68153.26090631],\n",
       "       [ 71646.03732514],\n",
       "       [ 73392.42553455],\n",
       "       [ 75138.81374396],\n",
       "       [ 80377.9783722 ],\n",
       "       [ 81251.17247691],\n",
       "       [ 88236.72531456],\n",
       "       [ 90856.30762868],\n",
       "       [ 97841.86046633],\n",
       "       [100461.44278044],\n",
       "       [104827.41330398],\n",
       "       [107446.99561809],\n",
       "       [111812.96614163],\n",
       "       [112686.16024633],\n",
       "       [118798.51897928],\n",
       "       [120544.90718869],\n",
       "       [126657.26592163],\n",
       "       [129276.84823575],\n",
       "       [136262.4010734 ],\n",
       "       [141501.56570164],\n",
       "       [146740.73032988]])"
      ]
     },
     "execution_count": 17,
     "metadata": {},
     "output_type": "execute_result"
    }
   ],
   "source": [
    "predict(w,x,b)"
   ]
  },
  {
   "cell_type": "markdown",
   "metadata": {},
   "source": [
    "alpha=0.1\n",
    "m=len(x)\n",
    "for i in range(10000):\n",
    "    for i in range(m):\n",
    "        w=w-alpha*(1/m)*(predict(w,x,b)[i]-y[i])*x[i]\n",
    "        b=b-alpha*(1/m)*(predict(w,x,b)[i]-y)\n",
    "    print(error(w,x,b,y))            "
   ]
  },
  {
   "cell_type": "code",
   "execution_count": 18,
   "metadata": {},
   "outputs": [],
   "source": [
    "def predict(w,x,b):\n",
    "    \n",
    "    y_p=np.multiply(w,x)+b\n",
    "    return y_p"
   ]
  },
  {
   "cell_type": "code",
   "execution_count": 19,
   "metadata": {},
   "outputs": [
    {
     "data": {
      "text/plain": [
       "array([[ 38464.6613463 ],\n",
       "       [ 40211.04955571],\n",
       "       [ 41957.43776513],\n",
       "       [ 46323.40828866],\n",
       "       [ 48069.79649807],\n",
       "       [ 54182.15523101],\n",
       "       [ 55055.34933572],\n",
       "       [ 56801.73754513],\n",
       "       [ 56801.73754513],\n",
       "       [ 61167.70806866],\n",
       "       [ 62914.09627808],\n",
       "       [ 63787.29038278],\n",
       "       [ 63787.29038278],\n",
       "       [ 64660.48448749],\n",
       "       [ 68153.26090631],\n",
       "       [ 71646.03732514],\n",
       "       [ 73392.42553455],\n",
       "       [ 75138.81374396],\n",
       "       [ 80377.9783722 ],\n",
       "       [ 81251.17247691],\n",
       "       [ 88236.72531456],\n",
       "       [ 90856.30762868],\n",
       "       [ 97841.86046633],\n",
       "       [100461.44278044],\n",
       "       [104827.41330398],\n",
       "       [107446.99561809],\n",
       "       [111812.96614163],\n",
       "       [112686.16024633],\n",
       "       [118798.51897928],\n",
       "       [120544.90718869],\n",
       "       [126657.26592163],\n",
       "       [129276.84823575],\n",
       "       [136262.4010734 ],\n",
       "       [141501.56570164],\n",
       "       [146740.73032988]])"
      ]
     },
     "execution_count": 19,
     "metadata": {},
     "output_type": "execute_result"
    }
   ],
   "source": [
    "predict(w,x,b)"
   ]
  },
  {
   "cell_type": "code",
   "execution_count": 23,
   "metadata": {},
   "outputs": [
    {
     "data": {
      "text/plain": [
       "146429.66065194012"
      ]
     },
     "execution_count": 23,
     "metadata": {},
     "output_type": "execute_result"
    }
   ],
   "source": [
    "m=len(x)\n",
    "def error(w,x,b,y):\n",
    "    y_p=(1/2*m)*np.sum(np.square(predict(w,x,b)-y))\n",
    "    return y_p\n",
    "np.sqrt(error(w,x,b,y))    "
   ]
  },
  {
   "cell_type": "code",
   "execution_count": 25,
   "metadata": {},
   "outputs": [],
   "source": [
    "x_train=data.iloc[:28,0].values\n",
    "x_test=data.iloc[28:,0].values\n",
    "\n",
    "y_train=data.iloc[:28,1].values\n",
    "y_test=data.iloc[28:,1].values"
   ]
  },
  {
   "cell_type": "code",
   "execution_count": 26,
   "metadata": {},
   "outputs": [],
   "source": [
    "def pearson(value):\n",
    "    data=pd.read_csv('Salary.csv')\n",
    "    data.head()\n",
    "    time=data.iloc[:28,0].values\n",
    "    velocity=data.iloc[:28,1].values\n",
    "    \n",
    "    \n",
    "    x=pd.DataFrame()\n",
    "    x['time']=time\n",
    "    x['velocity']=velocity\n",
    "    x_bar=x['time'].mean()\n",
    "    a=[]\n",
    "    i=0\n",
    "    for i in range(i,len(x['time'])):\n",
    "        a.append(x.iloc[i,0]-x_bar)\n",
    "    x['x_bar']=a\n",
    "    x['(x_bar)2']=np.square(x['x_bar'])\n",
    "    variance=sum(x['(x_bar)2'])/(len(x['time'])-1)\n",
    "    s_x=np.sqrt(variance)\n",
    "    x['z_x']=x['x_bar']/s_x\n",
    "    y_bar=x['velocity'].mean()\n",
    "    b=[]\n",
    "    i=0\n",
    "    for i in range(i,len(x['time'])):\n",
    "        b.append(x.iloc[i,1]-y_bar)\n",
    "    x['y_bar']=b\n",
    "    x['(y_bar)2']=np.square(x['y_bar'])\n",
    "    variance_y=sum(x['(y_bar)2'])/(len(x['velocity'])-1)\n",
    "    s_y=np.sqrt(variance_y)\n",
    "    x['z_y']=x['y_bar']/s_y\n",
    "    x['z_x*z_y']=x['z_x']*x['z_y']\n",
    "    p_r=x['z_x*z_y'].sum()\n",
    "    p_r=p_r/(len(x['z_x*z_y'])-1)\n",
    "    if value=='data':\n",
    "        return x\n",
    "    if value=='variance':\n",
    "        return variance\n",
    "    if value=='s_x':\n",
    "        return s_x\n",
    "    if value=='s_y':\n",
    "        return s_y\n",
    "    if value=='plot':\n",
    "        return plt.scatter(time,velocity)\n",
    "    if value=='p_r':\n",
    "        return p_r\n",
    "    if value=='y_bar':\n",
    "        return y_bar\n",
    "    if value=='x_bar':\n",
    "        return x_bar\n",
    "    if value=='rr':\n",
    "        return p_r*p_r"
   ]
  },
  {
   "cell_type": "code",
   "execution_count": 27,
   "metadata": {},
   "outputs": [
    {
     "data": {
      "text/plain": [
       "0.9728075350216037"
      ]
     },
     "execution_count": 27,
     "metadata": {},
     "output_type": "execute_result"
    }
   ],
   "source": [
    "r=pearson('p_r')\n",
    "r"
   ]
  },
  {
   "cell_type": "code",
   "execution_count": 28,
   "metadata": {},
   "outputs": [
    {
     "data": {
      "text/plain": [
       "0.9463545001948086"
      ]
     },
     "execution_count": 28,
     "metadata": {},
     "output_type": "execute_result"
    }
   ],
   "source": [
    "r_sq=pearson('rr')\n",
    "r_sq"
   ]
  },
  {
   "cell_type": "code",
   "execution_count": 29,
   "metadata": {},
   "outputs": [
    {
     "data": {
      "text/plain": [
       "2.568253477740452"
      ]
     },
     "execution_count": 29,
     "metadata": {},
     "output_type": "execute_result"
    }
   ],
   "source": [
    "s_x=pearson('s_x')\n",
    "s_x"
   ]
  },
  {
   "cell_type": "code",
   "execution_count": 30,
   "metadata": {},
   "outputs": [
    {
     "data": {
      "text/plain": [
       "25265.398104096155"
      ]
     },
     "execution_count": 30,
     "metadata": {},
     "output_type": "execute_result"
    }
   ],
   "source": [
    "s_y=pearson('s_y')\n",
    "s_y"
   ]
  },
  {
   "cell_type": "code",
   "execution_count": 31,
   "metadata": {},
   "outputs": [
    {
     "data": {
      "text/plain": [
       "72708.10714285714"
      ]
     },
     "execution_count": 31,
     "metadata": {},
     "output_type": "execute_result"
    }
   ],
   "source": [
    "y_bar=pearson('y_bar')\n",
    "y_bar"
   ]
  },
  {
   "cell_type": "code",
   "execution_count": 32,
   "metadata": {},
   "outputs": [
    {
     "data": {
      "text/plain": [
       "4.95"
      ]
     },
     "execution_count": 32,
     "metadata": {},
     "output_type": "execute_result"
    }
   ],
   "source": [
    "x_bar=pearson('x_bar')\n",
    "x_bar"
   ]
  },
  {
   "cell_type": "code",
   "execution_count": 33,
   "metadata": {},
   "outputs": [
    {
     "name": "stdout",
     "output_type": "stream",
     "text": [
      "8731.941047062495\n",
      "29484.99895989779\n"
     ]
    }
   ],
   "source": [
    "\n",
    "b=y_bar-w*x_bar\n",
    "print(w)\n",
    "print(b)"
   ]
  },
  {
   "cell_type": "code",
   "execution_count": 48,
   "metadata": {},
   "outputs": [
    {
     "data": {
      "text/plain": [
       "8731.941047062495"
      ]
     },
     "execution_count": 48,
     "metadata": {},
     "output_type": "execute_result"
    }
   ],
   "source": [
    "\n",
    "def predict(w,x_train,b):\n",
    "    \n",
    "    y_p=np.multiply(w,x_train)+b\n",
    "    return y_p\n",
    "w"
   ]
  },
  {
   "cell_type": "code",
   "execution_count": 45,
   "metadata": {},
   "outputs": [
    {
     "data": {
      "text/plain": [
       "array([ 39090.13411167,  40836.52232108,  42582.91053049,  46948.88105402,\n",
       "        48695.26926344,  54807.62799638,  55680.82210109,  57427.2103105 ,\n",
       "        57427.2103105 ,  61793.18083403,  63539.56904344,  64412.76314815,\n",
       "        64412.76314815,  65285.95725285,  68778.73367168,  72271.5100905 ,\n",
       "        74017.89829992,  75764.28650933,  81003.45113757,  81876.64524227,\n",
       "        88862.19807992,  91481.78039404,  98467.33323169, 101086.91554581,\n",
       "       105452.88606934, 108072.46838346, 112438.43890699, 113311.6330117 ])"
      ]
     },
     "execution_count": 45,
     "metadata": {},
     "output_type": "execute_result"
    }
   ],
   "source": [
    "predict(w,x_train,b)"
   ]
  },
  {
   "cell_type": "code",
   "execution_count": 47,
   "metadata": {},
   "outputs": [
    {
     "data": {
      "text/plain": [
       "[<matplotlib.lines.Line2D at 0x29a621c9f08>]"
      ]
     },
     "execution_count": 47,
     "metadata": {},
     "output_type": "execute_result"
    },
    {
     "data": {
      "image/png": "[encoded data removed]",
      "text/plain": [
       "<Figure size 432x288 with 1 Axes>"
      ]
     },
     "metadata": {
      "needs_background": "light"
     },
     "output_type": "display_data"
    }
   ],
   "source": [
    "plt.scatter(x_train,y_train)\n",
    "plt.plot(x_train,predict(w,x_train,b))"
   ]
  },
  {
   "cell_type": "code",
   "execution_count": 50,
   "metadata": {},
   "outputs": [
    {
     "data": {
      "text/plain": [
       "array([119423.99174464, 121170.37995405, 127282.738687  , 129902.32100112,\n",
       "       136887.87383877, 142127.038467  , 147366.20309524])"
      ]
     },
     "execution_count": 50,
     "metadata": {},
     "output_type": "execute_result"
    }
   ],
   "source": [
    "y_pred=predict(w,x_test,b)\n",
    "y_pred"
   ]
  },
  {
   "cell_type": "code",
   "execution_count": 51,
   "metadata": {},
   "outputs": [
    {
     "data": {
      "text/plain": [
       "array([122391, 121872, 127345, 126756, 128765, 135675, 139465],\n",
       "      dtype=int64)"
      ]
     },
     "execution_count": 51,
     "metadata": {},
     "output_type": "execute_result"
    }
   ],
   "source": [
    "y_test"
   ]
  },
  {
   "cell_type": "code",
   "execution_count": 54,
   "metadata": {},
   "outputs": [
    {
     "data": {
      "text/plain": [
       "7"
      ]
     },
     "execution_count": 54,
     "metadata": {},
     "output_type": "execute_result"
    }
   ],
   "source": [
    "len(y_test)"
   ]
  },
  {
   "cell_type": "code",
   "execution_count": 1,
   "metadata": {},
   "outputs": [
    {
     "data": {
      "text/html": [
       "<div>\n",
       "<style scoped>\n",
       "    .dataframe tbody tr th:only-of-type {\n",
       "        vertical-align: middle;\n",
       "    }\n",
       "\n",
       "    .dataframe tbody tr th {\n",
       "        vertical-align: top;\n",
       "    }\n",
       "\n",
       "    .dataframe thead th {\n",
       "        text-align: right;\n",
       "    }\n",
       "</style>\n",
       "<table border=\"1\" class=\"dataframe\">\n",
       "  <thead>\n",
       "    <tr style=\"text-align: right;\">\n",
       "      <th></th>\n",
       "      <th>YearsExperience</th>\n",
       "      <th>Salary</th>\n",
       "    </tr>\n",
       "  </thead>\n",
       "  <tbody>\n",
       "    <tr>\n",
       "      <th>0</th>\n",
       "      <td>1.1</td>\n",
       "      <td>39343</td>\n",
       "    </tr>\n",
       "    <tr>\n",
       "      <th>1</th>\n",
       "      <td>1.3</td>\n",
       "      <td>46205</td>\n",
       "    </tr>\n",
       "    <tr>\n",
       "      <th>2</th>\n",
       "      <td>1.5</td>\n",
       "      <td>37731</td>\n",
       "    </tr>\n",
       "    <tr>\n",
       "      <th>3</th>\n",
       "      <td>2.0</td>\n",
       "      <td>43525</td>\n",
       "    </tr>\n",
       "    <tr>\n",
       "      <th>4</th>\n",
       "      <td>2.2</td>\n",
       "      <td>39891</td>\n",
       "    </tr>\n",
       "  </tbody>\n",
       "</table>\n",
       "</div>"
      ],
      "text/plain": [
       "   YearsExperience  Salary\n",
       "0              1.1   39343\n",
       "1              1.3   46205\n",
       "2              1.5   37731\n",
       "3              2.0   43525\n",
       "4              2.2   39891"
      ]
     },
     "execution_count": 1,
     "metadata": {},
     "output_type": "execute_result"
    }
   ],
   "source": [
    "import numpy as np\n",
    "import pandas as pd\n",
    "data = pd.read_csv('Salary.csv')\n",
    "data.head()"
   ]
  },
  {
   "cell_type": "code",
   "execution_count": 2,
   "metadata": {},
   "outputs": [
    {
     "data": {
      "text/plain": [
       "array([[1.1000e+00, 3.9343e+04],\n",
       "       [1.3000e+00, 4.6205e+04],\n",
       "       [1.5000e+00, 3.7731e+04],\n",
       "       [2.0000e+00, 4.3525e+04],\n",
       "       [2.2000e+00, 3.9891e+04]])"
      ]
     },
     "execution_count": 2,
     "metadata": {},
     "output_type": "execute_result"
    }
   ],
   "source": [
    "matrix = np.array(data.values,'float')\n",
    "matrix[0:5,:]"
   ]
  },
  {
   "cell_type": "code",
   "execution_count": 3,
   "metadata": {},
   "outputs": [
    {
     "data": {
      "text/plain": [
       "array([ 1.1,  1.3,  1.5,  2. ,  2.2,  2.9,  3. ,  3.2,  3.2,  3.7,  3.9,\n",
       "        4. ,  4. ,  4.1,  4.5,  4.9,  5.1,  5.3,  5.9,  6. ,  6.8,  7.1,\n",
       "        7.9,  8.2,  8.7,  9. ,  9.5,  9.6, 10.3, 10.5, 11.2, 11.5, 12.3,\n",
       "       12.9, 13.5])"
      ]
     },
     "execution_count": 3,
     "metadata": {},
     "output_type": "execute_result"
    }
   ],
   "source": [
    "X = matrix[:,0]\n",
    "y = matrix[:,1]\n",
    "X"
   ]
  },
  {
   "cell_type": "code",
   "execution_count": 4,
   "metadata": {},
   "outputs": [],
   "source": [
    "import pandas as pd\n",
    "ex=pd.read_csv('Salary.csv')\n",
    "X=ex.iloc[:,[0]].values\n",
    "y=ex.iloc[:,[1]].values"
   ]
  },
  {
   "cell_type": "code",
   "execution_count": 5,
   "metadata": {},
   "outputs": [
    {
     "data": {
      "image/png": "[encoded data removed]",
      "text/plain": [
       "<Figure size 432x288 with 1 Axes>"
      ]
     },
     "metadata": {
      "needs_background": "light"
     },
     "output_type": "display_data"
    }
   ],
   "source": [
    "import matplotlib.pyplot as plt\n",
    "plt.plot(X,y,'bo')\n",
    "plt.ylabel('salary')\n",
    "plt.xlabel('experiance')\n",
    "plt.legend(['salary'])\n",
    "plt.title('experiance vs salary ')\n",
    "plt.grid()\n",
    "plt.show()"
   ]
  },
  {
   "cell_type": "code",
   "execution_count": 6,
   "metadata": {},
   "outputs": [],
   "source": [
    "\n",
    "def computecost(x,y,theta):\n",
    "    \n",
    "    a = 1/(2*m)\n",
    "    b = np.sum(((x@w)-y)**2)\n",
    "    j = (a)*(b)\n",
    "    return j"
   ]
  },
  {
   "cell_type": "code",
   "execution_count": null,
   "metadata": {},
   "outputs": [],
   "source": []
  },
  {
   "cell_type": "code",
   "execution_count": 7,
   "metadata": {},
   "outputs": [
    {
     "name": "stdout",
     "output_type": "stream",
     "text": [
      "[[0.]\n",
      " [0.]] \n",
      " 35\n"
     ]
    },
    {
     "data": {
      "text/plain": [
       "(35, 1)"
      ]
     },
     "execution_count": 7,
     "metadata": {},
     "output_type": "execute_result"
    }
   ],
   "source": [
    "import numpy as np\n",
    "m = np.size(y)\n",
    "X = X.reshape([35,1])\n",
    "x = np.hstack([np.ones_like(X),X])\n",
    "\n",
    "w = np.zeros([2,1])\n",
    "print(w,'\\n',m)\n",
    "y.shape"
   ]
  },
  {
   "cell_type": "code",
   "execution_count": 8,
   "metadata": {},
   "outputs": [
    {
     "name": "stdout",
     "output_type": "stream",
     "text": [
      "4025872967.9714284\n"
     ]
    }
   ],
   "source": [
    "print(computecost(x,y,w))"
   ]
  },
  {
   "cell_type": "code",
   "execution_count": 9,
   "metadata": {},
   "outputs": [],
   "source": [
    "def gradient(x,y,w):\n",
    "    \n",
    "    alpha = 0.000001\n",
    "    iteration = 10000#gradient descend algorithm\n",
    "    J_history = np.zeros([iteration, 1]);\n",
    "    for i in range(0,iteration):\n",
    "        \n",
    "        error = (x @ w) -y\n",
    "        temp0 = w[0] - ((alpha/m) * np.sum(error*x[:,0]))\n",
    "        temp1 = w[1] - ((alpha/m) * np.sum(error*x[:,1]))\n",
    "        theta = np.array([temp0,temp1]).reshape(2,1)\n",
    "        J_history[i] = (1 / (2*m) ) * (np.sum(((x @ w)-y)**2)) \n",
    "        #compute J value for each iteration \n",
    "    return theta, J_history"
   ]
  },
  {
   "cell_type": "code",
   "execution_count": null,
   "metadata": {},
   "outputs": [],
   "source": []
  },
  {
   "cell_type": "code",
   "execution_count": 11,
   "metadata": {},
   "outputs": [
    {
     "ename": "NameError",
     "evalue": "name 'tw' is not defined",
     "output_type": "error",
     "traceback": [
      "\u001b[1;31m---------------------------------------------------------------------------\u001b[0m",
      "\u001b[1;31mNameError\u001b[0m                                 Traceback (most recent call last)",
      "\u001b[1;32m<ipython-input-11-73eca04eff5a>\u001b[0m in \u001b[0;36m<module>\u001b[1;34m\u001b[0m\n\u001b[0;32m      1\u001b[0m \u001b[0mw\u001b[0m \u001b[1;33m,\u001b[0m \u001b[0mJ\u001b[0m \u001b[1;33m=\u001b[0m \u001b[0mgradient\u001b[0m\u001b[1;33m(\u001b[0m\u001b[0mx\u001b[0m\u001b[1;33m,\u001b[0m\u001b[0my\u001b[0m\u001b[1;33m,\u001b[0m\u001b[0mw\u001b[0m\u001b[1;33m)\u001b[0m\u001b[1;33m\u001b[0m\u001b[1;33m\u001b[0m\u001b[0m\n\u001b[1;32m----> 2\u001b[1;33m \u001b[0mprint\u001b[0m\u001b[1;33m(\u001b[0m\u001b[0mtw\u001b[0m\u001b[1;33m)\u001b[0m\u001b[1;33m\u001b[0m\u001b[1;33m\u001b[0m\u001b[0m\n\u001b[0m",
      "\u001b[1;31mNameError\u001b[0m: name 'tw' is not defined"
     ]
    }
   ],
   "source": [
    "w , J = gradient(x,y,w)\n",
    "print(tw)"
   ]
  },
  {
   "cell_type": "code",
   "execution_count": 62,
   "metadata": {},
   "outputs": [
    {
     "name": "stdout",
     "output_type": "stream",
     "text": [
      "[[1.32301058e+08]\n",
      " [1.32301058e+08]\n",
      " [1.32301059e+08]\n",
      " ...\n",
      " [1.32301494e+08]\n",
      " [1.32301494e+08]\n",
      " [1.32301494e+08]]\n"
     ]
    }
   ],
   "source": [
    "w , J = gradient(x,y,w)\n",
    "print(J)"
   ]
  },
  {
   "cell_type": "code",
   "execution_count": 63,
   "metadata": {},
   "outputs": [
    {
     "data": {
      "text/plain": [
       "[<matplotlib.lines.Line2D at 0x1fc24fb16c8>]"
      ]
     },
     "execution_count": 63,
     "metadata": {},
     "output_type": "execute_result"
    },
    {
     "data": {
      "image/png": "[encoded data removed]",
      "text/plain": [
       "<Figure size 432x288 with 1 Axes>"
      ]
     },
     "metadata": {
      "needs_background": "light"
     },
     "output_type": "display_data"
    }
   ],
   "source": [
    "\n",
    "plt.plot(X,y,'bo')\n",
    "plt.plot(X,x@w,'-')\n",
    "\n"
   ]
  },
  {
   "cell_type": "code",
   "execution_count": 122,
   "metadata": {},
   "outputs": [
    {
     "data": {
      "text/html": [
       "<div>\n",
       "<style scoped>\n",
       "    .dataframe tbody tr th:only-of-type {\n",
       "        vertical-align: middle;\n",
       "    }\n",
       "\n",
       "    .dataframe tbody tr th {\n",
       "        vertical-align: top;\n",
       "    }\n",
       "\n",
       "    .dataframe thead th {\n",
       "        text-align: right;\n",
       "    }\n",
       "</style>\n",
       "<table border=\"1\" class=\"dataframe\">\n",
       "  <thead>\n",
       "    <tr style=\"text-align: right;\">\n",
       "      <th></th>\n",
       "      <th>YearsExperience</th>\n",
       "      <th>Salary</th>\n",
       "    </tr>\n",
       "  </thead>\n",
       "  <tbody>\n",
       "    <tr>\n",
       "      <th>0</th>\n",
       "      <td>1.1</td>\n",
       "      <td>39343</td>\n",
       "    </tr>\n",
       "    <tr>\n",
       "      <th>1</th>\n",
       "      <td>1.3</td>\n",
       "      <td>46205</td>\n",
       "    </tr>\n",
       "    <tr>\n",
       "      <th>2</th>\n",
       "      <td>1.5</td>\n",
       "      <td>37731</td>\n",
       "    </tr>\n",
       "    <tr>\n",
       "      <th>3</th>\n",
       "      <td>2.0</td>\n",
       "      <td>43525</td>\n",
       "    </tr>\n",
       "    <tr>\n",
       "      <th>4</th>\n",
       "      <td>2.2</td>\n",
       "      <td>39891</td>\n",
       "    </tr>\n",
       "  </tbody>\n",
       "</table>\n",
       "</div>"
      ],
      "text/plain": [
       "   YearsExperience  Salary\n",
       "0              1.1   39343\n",
       "1              1.3   46205\n",
       "2              1.5   37731\n",
       "3              2.0   43525\n",
       "4              2.2   39891"
      ]
     },
     "execution_count": 122,
     "metadata": {},
     "output_type": "execute_result"
    }
   ],
   "source": [
    "import numpy as np\n",
    "import pandas as pd\n",
    "import matplotlib.pyplot as plt\n",
    "data=pd.read_csv('Salary.csv')\n",
    "data.head()"
   ]
  },
  {
   "cell_type": "code",
   "execution_count": 123,
   "metadata": {},
   "outputs": [],
   "source": [
    "x=data.iloc[:,[0]].values\n",
    "y=data.iloc[:,[1]].values\n",
    "m=len(y)\n",
    "\n"
   ]
  },
  {
   "cell_type": "code",
   "execution_count": 124,
   "metadata": {},
   "outputs": [
    {
     "data": {
      "text/plain": [
       "array([ 1.1,  1.3,  1.5,  2. ,  2.2,  2.9,  3. ,  3.2,  3.2,  3.7,  3.9,\n",
       "        4. ,  4. ,  4.1,  4.5,  4.9,  5.1,  5.3,  5.9,  6. ,  6.8,  7.1,\n",
       "        7.9,  8.2,  8.7,  9. ,  9.5,  9.6, 10.3, 10.5, 11.2, 11.5, 12.3,\n",
       "       12.9, 13.5])"
      ]
     },
     "execution_count": 124,
     "metadata": {},
     "output_type": "execute_result"
    }
   ],
   "source": [
    "x[:,0]"
   ]
  },
  {
   "cell_type": "code",
   "execution_count": 125,
   "metadata": {
    "scrolled": true
   },
   "outputs": [
    {
     "data": {
      "image/png": "[encoded data removed]",
      "text/plain": [
       "<Figure size 432x288 with 1 Axes>"
      ]
     },
     "metadata": {
      "needs_background": "light"
     },
     "output_type": "display_data"
    }
   ],
   "source": [
    "import matplotlib.pyplot as plt\n",
    "plt.plot(x,y,'bo')\n",
    "plt.ylabel('salary')\n",
    "plt.xlabel('experiance')\n",
    "plt.legend(['salary'])\n",
    "plt.title('experiance vs salary ')\n",
    "plt.grid()\n",
    "plt.show()"
   ]
  },
  {
   "cell_type": "code",
   "execution_count": null,
   "metadata": {},
   "outputs": [],
   "source": []
  },
  {
   "cell_type": "code",
   "execution_count": 126,
   "metadata": {},
   "outputs": [
    {
     "data": {
      "text/plain": [
       "(array([0.]), 1)"
      ]
     },
     "execution_count": 126,
     "metadata": {},
     "output_type": "execute_result"
    }
   ],
   "source": [
    "def initialize_with_zeros():\n",
    "    w=np.zeros(1)\n",
    "    b=1\n",
    "    return w,b\n",
    "initialize_with_zeros()"
   ]
  },
  {
   "cell_type": "code",
   "execution_count": 127,
   "metadata": {},
   "outputs": [],
   "source": [
    "m = np.size(y)\n",
    "w,b=initialize_with_zeros()"
   ]
  },
  {
   "cell_type": "code",
   "execution_count": 128,
   "metadata": {},
   "outputs": [
    {
     "data": {
      "text/plain": [
       "4025789022.8714285"
      ]
     },
     "execution_count": 128,
     "metadata": {},
     "output_type": "execute_result"
    }
   ],
   "source": [
    "def compute_cost(x,y,w,b):\n",
    "    J=(1 / (2*m) ) * (np.sum(((np.multiply(x,w)+b)-y)**2))\n",
    "    return J\n",
    "compute_cost(x,y,w,b)"
   ]
  },
  {
   "cell_type": "code",
   "execution_count": null,
   "metadata": {},
   "outputs": [],
   "source": []
  },
  {
   "cell_type": "code",
   "execution_count": 129,
   "metadata": {},
   "outputs": [],
   "source": [
    "def gradient(x,y,w,b):\n",
    "    \n",
    "    alpha = 0.00001\n",
    "    iteration = 200000#gradient descend algorithm\n",
    "    J_history = np.zeros([iteration, 1]);\n",
    "    for i in range(0,2000):\n",
    "        \n",
    "        error=(np.sum(np.dot(x,w))+b)-y\n",
    "        b = b - ((alpha/m) * np.sum(error*b))\n",
    "        w = w - ((alpha/m) * np.sum(error*x[:,0]))\n",
    "        \n",
    "        J_history[i] = (1 / (2*m) ) * (np.sum(((np.dot(x,w)+b)-y)**2))   #compute J value for each iteration \n",
    "        \n",
    "    return w,b, J_history"
   ]
  },
  {
   "cell_type": "code",
   "execution_count": 130,
   "metadata": {},
   "outputs": [
    {
     "data": {
      "text/plain": [
       "(array([380.17022162]),\n",
       " 4.015065610091603,\n",
       " array([[1.37496308e+11],\n",
       "        [1.35774159e+11],\n",
       "        [1.34897576e+11],\n",
       "        ...,\n",
       "        [0.00000000e+00],\n",
       "        [0.00000000e+00],\n",
       "        [0.00000000e+00]]))"
      ]
     },
     "execution_count": 130,
     "metadata": {},
     "output_type": "execute_result"
    },
    {
     "data": {
      "image/png": "[encoded data removed]",
      "text/plain": [
       "<Figure size 432x288 with 1 Axes>"
      ]
     },
     "metadata": {
      "needs_background": "light"
     },
     "output_type": "display_data"
    }
   ],
   "source": [
    "gradient(x,y,w,b)"
   ]
  },
  {
   "cell_type": "code",
   "execution_count": 132,
   "metadata": {},
   "outputs": [
    {
     "data": {
      "text/plain": [
       "[<matplotlib.lines.Line2D at 0x12dece6bc88>]"
      ]
     },
     "execution_count": 132,
     "metadata": {},
     "output_type": "execute_result"
    },
    {
     "data": {
      "image/png": "[encoded data removed]",
      "text/plain": [
       "<Figure size 432x288 with 1 Axes>"
      ]
     },
     "metadata": {
      "needs_background": "light"
     },
     "output_type": "display_data"
    }
   ],
   "source": [
    "plt.scatter(x,y)\n",
    "plt.plot(x,(np.dot(x,w))+b)"
   ]
  },
  {
   "cell_type": "code",
   "execution_count": null,
   "metadata": {},
   "outputs": [],
   "source": []
  },
  {
   "cell_type": "code",
   "execution_count": 104,
   "metadata": {},
   "outputs": [],
   "source": [
    "import pandas as pd\n",
    "ex=pd.read_csv('ex1data1.txt')\n",
    "x=ex.iloc[:,[0]].values\n",
    "y=ex.iloc[:,[1]].values"
   ]
  },
  {
   "cell_type": "code",
   "execution_count": 105,
   "metadata": {},
   "outputs": [
    {
     "data": {
      "text/plain": [
       "<matplotlib.collections.PathCollection at 0x12df4c81d08>"
      ]
     },
     "execution_count": 105,
     "metadata": {},
     "output_type": "execute_result"
    },
    {
     "data": {
      "image/png": "[encoded data removed]",
      "text/plain": [
       "<Figure size 432x288 with 1 Axes>"
      ]
     },
     "metadata": {
      "needs_background": "light"
     },
     "output_type": "display_data"
    }
   ],
   "source": [
    "import matplotlib.pyplot as plt\n",
    "plt.scatter(x,y)"
   ]
  },
  {
   "cell_type": "code",
   "execution_count": 106,
   "metadata": {},
   "outputs": [],
   "source": [
    "def initialize_with_zeros():\n",
    "    w=np.zeros(1)\n",
    "    b=1\n",
    "    return w,b\n",
    "w,b=initialize_with_zeros()\n",
    "m=len(y)"
   ]
  },
  {
   "cell_type": "code",
   "execution_count": 107,
   "metadata": {},
   "outputs": [
    {
     "data": {
      "text/plain": [
       "25.578248480345838"
      ]
     },
     "execution_count": 107,
     "metadata": {},
     "output_type": "execute_result"
    }
   ],
   "source": [
    "\n",
    "def compute_cost(x,y,w,b):\n",
    "    J=(1 / (2*m) ) * (np.sum(((np.multiply(x,w)+b)-y)**2))\n",
    "    return J\n",
    "compute_cost(x,y,w,b)    "
   ]
  },
  {
   "cell_type": "code",
   "execution_count": 108,
   "metadata": {},
   "outputs": [],
   "source": [
    "import numpy as np\n",
    "X=x/np.max(x)"
   ]
  },
  {
   "cell_type": "code",
   "execution_count": 109,
   "metadata": {},
   "outputs": [
    {
     "data": {
      "text/plain": [
       "<matplotlib.collections.PathCollection at 0x12dea608048>"
      ]
     },
     "execution_count": 109,
     "metadata": {},
     "output_type": "execute_result"
    },
    {
     "data": {
      "image/png": "[encoded data removed]",
      "text/plain": [
       "<Figure size 432x288 with 1 Axes>"
      ]
     },
     "metadata": {
      "needs_background": "light"
     },
     "output_type": "display_data"
    }
   ],
   "source": [
    "plt.scatter(X,y)"
   ]
  },
  {
   "cell_type": "code",
   "execution_count": 110,
   "metadata": {},
   "outputs": [],
   "source": [
    "def gradient(x,y,w,b):\n",
    "    \n",
    "    alpha = 0.00001\n",
    "    iteration = 2000#gradient descend algorithm\n",
    "    J_history = np.zeros([iteration, 1]);\n",
    "    for i in range(0,2000):\n",
    "        \n",
    "        error=(np.sum(np.dot(x,w))+b)-y\n",
    "        b = b - ((alpha/m) * np.sum(error*b))\n",
    "        w = w - ((alpha/m) * np.sum(error*x[:,0]))\n",
    "        \n",
    "        J_history[i] = (1 / (2*m) ) * (np.sum(((np.dot(x,w)+b)-y)**2))\n",
    "        \n",
    "    return w,b,J_history\n",
    "    "
   ]
  },
  {
   "cell_type": "code",
   "execution_count": 111,
   "metadata": {},
   "outputs": [
    {
     "name": "stderr",
     "output_type": "stream",
     "text": [
      "C:\\ProgramData\\Anaconda3\\lib\\site-packages\\ipykernel_launcher.py:12: RuntimeWarning: overflow encountered in square\n",
      "  if sys.path[0] == '':\n",
      "C:\\ProgramData\\Anaconda3\\lib\\site-packages\\ipykernel_launcher.py:9: RuntimeWarning: overflow encountered in multiply\n",
      "  if __name__ == '__main__':\n",
      "C:\\ProgramData\\Anaconda3\\lib\\site-packages\\ipykernel_launcher.py:12: RuntimeWarning: invalid value encountered in add\n",
      "  if sys.path[0] == '':\n",
      "C:\\ProgramData\\Anaconda3\\lib\\site-packages\\ipykernel_launcher.py:8: RuntimeWarning: invalid value encountered in double_scalars\n",
      "  \n"
     ]
    },
    {
     "data": {
      "text/plain": [
       "(array([nan]),\n",
       " nan,\n",
       " array([[2323.65407896],\n",
       "        [3121.34866178],\n",
       "        [2102.56653542],\n",
       "        ...,\n",
       "        [          nan],\n",
       "        [          nan],\n",
       "        [          nan]]))"
      ]
     },
     "execution_count": 111,
     "metadata": {},
     "output_type": "execute_result"
    },
    {
     "data": {
      "image/png": "[encoded data removed]",
      "text/plain": [
       "<Figure size 432x288 with 1 Axes>"
      ]
     },
     "metadata": {
      "needs_background": "light"
     },
     "output_type": "display_data"
    }
   ],
   "source": [
    "gradient(x,y,w,b)"
   ]
  },
  {
   "cell_type": "code",
   "execution_count": null,
   "metadata": {},
   "outputs": [],
   "source": []
  },
  {
   "cell_type": "code",
   "execution_count": null,
   "metadata": {},
   "outputs": [],
   "source": []
  },
  {
   "cell_type": "code",
   "execution_count": null,
   "metadata": {},
   "outputs": [],
   "source": []
  },
  {
   "cell_type": "code",
   "execution_count": 2,
   "metadata": {},
   "outputs": [],
   "source": [
    "#Linear Regression"
   ]
  },
  {
   "cell_type": "markdown",
   "metadata": {},
   "source": [
    "### Y=w_0+wx"
   ]
  },
  {
   "cell_type": "code",
   "execution_count": 1,
   "metadata": {},
   "outputs": [],
   "source": [
    "import numpy as np\n",
    "import pandas as pd\n",
    "import matplotlib.pyplot as plt\n"
   ]
  },
  {
   "cell_type": "code",
   "execution_count": 134,
   "metadata": {},
   "outputs": [
    {
     "data": {
      "text/html": [
       "<div>\n",
       "<style scoped>\n",
       "    .dataframe tbody tr th:only-of-type {\n",
       "        vertical-align: middle;\n",
       "    }\n",
       "\n",
       "    .dataframe tbody tr th {\n",
       "        vertical-align: top;\n",
       "    }\n",
       "\n",
       "    .dataframe thead th {\n",
       "        text-align: right;\n",
       "    }\n",
       "</style>\n",
       "<table border=\"1\" class=\"dataframe\">\n",
       "  <thead>\n",
       "    <tr style=\"text-align: right;\">\n",
       "      <th></th>\n",
       "      <th>YearsExperience</th>\n",
       "      <th>Salary</th>\n",
       "    </tr>\n",
       "  </thead>\n",
       "  <tbody>\n",
       "    <tr>\n",
       "      <th>0</th>\n",
       "      <td>1.1</td>\n",
       "      <td>39343</td>\n",
       "    </tr>\n",
       "    <tr>\n",
       "      <th>1</th>\n",
       "      <td>1.3</td>\n",
       "      <td>46205</td>\n",
       "    </tr>\n",
       "    <tr>\n",
       "      <th>2</th>\n",
       "      <td>1.5</td>\n",
       "      <td>37731</td>\n",
       "    </tr>\n",
       "    <tr>\n",
       "      <th>3</th>\n",
       "      <td>2.0</td>\n",
       "      <td>43525</td>\n",
       "    </tr>\n",
       "    <tr>\n",
       "      <th>4</th>\n",
       "      <td>2.2</td>\n",
       "      <td>39891</td>\n",
       "    </tr>\n",
       "  </tbody>\n",
       "</table>\n",
       "</div>"
      ],
      "text/plain": [
       "   YearsExperience  Salary\n",
       "0              1.1   39343\n",
       "1              1.3   46205\n",
       "2              1.5   37731\n",
       "3              2.0   43525\n",
       "4              2.2   39891"
      ]
     },
     "execution_count": 134,
     "metadata": {},
     "output_type": "execute_result"
    }
   ],
   "source": [
    "data=pd.read_csv('Salary.csv')\n",
    "data.head()"
   ]
  },
  {
   "cell_type": "code",
   "execution_count": 135,
   "metadata": {},
   "outputs": [],
   "source": [
    "x=data.iloc[:,0].values\n",
    "y=data.iloc[:,[1]].values"
   ]
  },
  {
   "cell_type": "code",
   "execution_count": 136,
   "metadata": {},
   "outputs": [
    {
     "data": {
      "text/plain": [
       "array([[ 1. ,  1.1],\n",
       "       [ 1. ,  1.3],\n",
       "       [ 1. ,  1.5],\n",
       "       [ 1. ,  2. ],\n",
       "       [ 1. ,  2.2],\n",
       "       [ 1. ,  2.9],\n",
       "       [ 1. ,  3. ],\n",
       "       [ 1. ,  3.2],\n",
       "       [ 1. ,  3.2],\n",
       "       [ 1. ,  3.7],\n",
       "       [ 1. ,  3.9],\n",
       "       [ 1. ,  4. ],\n",
       "       [ 1. ,  4. ],\n",
       "       [ 1. ,  4.1],\n",
       "       [ 1. ,  4.5],\n",
       "       [ 1. ,  4.9],\n",
       "       [ 1. ,  5.1],\n",
       "       [ 1. ,  5.3],\n",
       "       [ 1. ,  5.9],\n",
       "       [ 1. ,  6. ],\n",
       "       [ 1. ,  6.8],\n",
       "       [ 1. ,  7.1],\n",
       "       [ 1. ,  7.9],\n",
       "       [ 1. ,  8.2],\n",
       "       [ 1. ,  8.7],\n",
       "       [ 1. ,  9. ],\n",
       "       [ 1. ,  9.5],\n",
       "       [ 1. ,  9.6],\n",
       "       [ 1. , 10.3],\n",
       "       [ 1. , 10.5],\n",
       "       [ 1. , 11.2],\n",
       "       [ 1. , 11.5],\n",
       "       [ 1. , 12.3],\n",
       "       [ 1. , 12.9],\n",
       "       [ 1. , 13.5]])"
      ]
     },
     "execution_count": 136,
     "metadata": {},
     "output_type": "execute_result"
    }
   ],
   "source": [
    "np.vstack((np.ones(len(x)), x)).T"
   ]
  },
  {
   "cell_type": "code",
   "execution_count": 1,
   "metadata": {},
   "outputs": [],
   "source": [
    "import numpy as np\n",
    "import pandas as pd\n",
    "import matplotlib.pyplot as plt\n",
    "data=pd.read_csv('Salary.csv')\n",
    "X=data.iloc[:,[0]].values\n",
    "Y=data.iloc[:,[1]].values\n",
    "\n",
    "\n"
   ]
  },
  {
   "cell_type": "code",
   "execution_count": 2,
   "metadata": {},
   "outputs": [
    {
     "data": {
      "text/plain": [
       "<matplotlib.collections.PathCollection at 0x2d2ccb3eb08>"
      ]
     },
     "execution_count": 2,
     "metadata": {},
     "output_type": "execute_result"
    },
    {
     "data": {
      "image/png": "[encoded data removed]",
      "text/plain": [
       "<Figure size 432x288 with 1 Axes>"
      ]
     },
     "metadata": {
      "needs_background": "light"
     },
     "output_type": "display_data"
    }
   ],
   "source": [
    "def plot():\n",
    "    return plt.scatter(X,Y)\n",
    "plot()    "
   ]
  },
  {
   "cell_type": "code",
   "execution_count": 3,
   "metadata": {},
   "outputs": [],
   "source": [
    "def GradientDissent(X, Y, theta, alpha, num_iters):\n",
    "    m = np.size(Y)\n",
    "    hx = np.matmul(X, theta)\n",
    "    J_history=np.zeros([num_iters,1])\n",
    "    c1 = Cost(theta, X, Y)\n",
    "    for i in range(0, num_iters):\n",
    "        temp = (alpha / m) * np.matmul(X.T, (hx - Y))\n",
    "        \n",
    "        c2 = Cost(theta - temp, X, Y)\n",
    "        \n",
    "        plt.scatter(i,c)\n",
    "        plt.xlabel('iteration')\n",
    "        plt.ylabel('cost')\n",
    "        \n",
    " \n",
    "        if c1 > c2:\n",
    "            c1 = c2\n",
    "            theta = theta - temp\n",
    "       \n",
    "    \n",
    "    return theta"
   ]
  },
  {
   "cell_type": "code",
   "execution_count": 4,
   "metadata": {},
   "outputs": [],
   "source": [
    "def Cost(theta, X, Y):\n",
    "    m = Y.size\n",
    "    hx = np.matmul(X, theta)\n",
    "    return np.sum(np.power(np.subtract(hx, Y), 2)) / (2 * m)\n"
   ]
  },
  {
   "cell_type": "code",
   "execution_count": 5,
   "metadata": {},
   "outputs": [],
   "source": [
    "\n",
    "m = Y.size\n",
    "t = X\n"
   ]
  },
  {
   "cell_type": "code",
   "execution_count": 6,
   "metadata": {},
   "outputs": [
    {
     "ename": "NameError",
     "evalue": "name 'c' is not defined",
     "output_type": "error",
     "traceback": [
      "\u001b[1;31m---------------------------------------------------------------------------\u001b[0m",
      "\u001b[1;31mNameError\u001b[0m                                 Traceback (most recent call last)",
      "\u001b[1;32m<ipython-input-6-46f2b0c75f1c>\u001b[0m in \u001b[0;36m<module>\u001b[1;34m\u001b[0m\n\u001b[0;32m      2\u001b[0m \u001b[1;33m\u001b[0m\u001b[0m\n\u001b[0;32m      3\u001b[0m \u001b[0mtheta\u001b[0m \u001b[1;33m=\u001b[0m \u001b[0mnp\u001b[0m\u001b[1;33m.\u001b[0m\u001b[0mmatrix\u001b[0m\u001b[1;33m(\u001b[0m\u001b[0mnp\u001b[0m\u001b[1;33m.\u001b[0m\u001b[0mones\u001b[0m\u001b[1;33m(\u001b[0m\u001b[1;36m2\u001b[0m\u001b[1;33m)\u001b[0m\u001b[1;33m.\u001b[0m\u001b[0mreshape\u001b[0m\u001b[1;33m(\u001b[0m\u001b[1;36m2\u001b[0m\u001b[1;33m,\u001b[0m \u001b[1;36m1\u001b[0m\u001b[1;33m)\u001b[0m\u001b[1;33m)\u001b[0m\u001b[1;33m\u001b[0m\u001b[1;33m\u001b[0m\u001b[0m\n\u001b[1;32m----> 4\u001b[1;33m \u001b[0mtheta\u001b[0m \u001b[1;33m=\u001b[0m \u001b[0mGradientDissent\u001b[0m\u001b[1;33m(\u001b[0m\u001b[0mX\u001b[0m\u001b[1;33m,\u001b[0m \u001b[0mY\u001b[0m\u001b[1;33m,\u001b[0m \u001b[0mtheta\u001b[0m\u001b[1;33m,\u001b[0m \u001b[1;36m0.00001\u001b[0m\u001b[1;33m,\u001b[0m \u001b[1;36m10000\u001b[0m\u001b[1;33m)\u001b[0m\u001b[1;33m\u001b[0m\u001b[1;33m\u001b[0m\u001b[0m\n\u001b[0m\u001b[0;32m      5\u001b[0m \u001b[0mCost\u001b[0m\u001b[1;33m(\u001b[0m\u001b[0mtheta\u001b[0m\u001b[1;33m,\u001b[0m \u001b[0mX\u001b[0m\u001b[1;33m,\u001b[0m \u001b[0mY\u001b[0m\u001b[1;33m)\u001b[0m\u001b[1;33m\u001b[0m\u001b[1;33m\u001b[0m\u001b[0m\n\u001b[0;32m      6\u001b[0m \u001b[1;33m\u001b[0m\u001b[0m\n",
      "\u001b[1;32m<ipython-input-3-6a43cac91af0>\u001b[0m in \u001b[0;36mGradientDissent\u001b[1;34m(X, Y, theta, alpha, num_iters)\u001b[0m\n\u001b[0;32m      9\u001b[0m         \u001b[0mc2\u001b[0m \u001b[1;33m=\u001b[0m \u001b[0mCost\u001b[0m\u001b[1;33m(\u001b[0m\u001b[0mtheta\u001b[0m \u001b[1;33m-\u001b[0m \u001b[0mtemp\u001b[0m\u001b[1;33m,\u001b[0m \u001b[0mX\u001b[0m\u001b[1;33m,\u001b[0m \u001b[0mY\u001b[0m\u001b[1;33m)\u001b[0m\u001b[1;33m\u001b[0m\u001b[1;33m\u001b[0m\u001b[0m\n\u001b[0;32m     10\u001b[0m \u001b[1;33m\u001b[0m\u001b[0m\n\u001b[1;32m---> 11\u001b[1;33m         \u001b[0mplt\u001b[0m\u001b[1;33m.\u001b[0m\u001b[0mscatter\u001b[0m\u001b[1;33m(\u001b[0m\u001b[0mi\u001b[0m\u001b[1;33m,\u001b[0m\u001b[0mc\u001b[0m\u001b[1;33m)\u001b[0m\u001b[1;33m\u001b[0m\u001b[1;33m\u001b[0m\u001b[0m\n\u001b[0m\u001b[0;32m     12\u001b[0m         \u001b[0mplt\u001b[0m\u001b[1;33m.\u001b[0m\u001b[0mxlabel\u001b[0m\u001b[1;33m(\u001b[0m\u001b[1;34m'iteration'\u001b[0m\u001b[1;33m)\u001b[0m\u001b[1;33m\u001b[0m\u001b[1;33m\u001b[0m\u001b[0m\n\u001b[0;32m     13\u001b[0m         \u001b[0mplt\u001b[0m\u001b[1;33m.\u001b[0m\u001b[0mylabel\u001b[0m\u001b[1;33m(\u001b[0m\u001b[1;34m'cost'\u001b[0m\u001b[1;33m)\u001b[0m\u001b[1;33m\u001b[0m\u001b[1;33m\u001b[0m\u001b[0m\n",
      "\u001b[1;31mNameError\u001b[0m: name 'c' is not defined"
     ]
    }
   ],
   "source": [
    "\n",
    "\n",
    "X = np.hstack((np.matrix(np.ones(m).reshape(m, 1)), t))\n",
    "\n",
    "theta = np.matrix(np.ones(2).reshape(2, 1))\n",
    "theta = GradientDissent(X, Y, theta, 0.00001, 10000)\n",
    "Cost(theta, X, Y)\n",
    "\n"
   ]
  },
  {
   "cell_type": "code",
   "execution_count": null,
   "metadata": {},
   "outputs": [],
   "source": [
    "print(theta)\n",
    "plt.scatter(np.array(t), np.array(Y), marker = 'x', color='r')\n",
    "plt.plot(np.array(t),np.array(np.matmul(X, theta)))\n",
    "plt.title(\"After Regression: slope = \" + str(theta))\n",
    "plt.show()\n",
    "print(Cost(theta, X, Y))"
   ]
  },
  {
   "cell_type": "code",
   "execution_count": null,
   "metadata": {},
   "outputs": [],
   "source": []
  },
  {
   "cell_type": "code",
   "execution_count": null,
   "metadata": {},
   "outputs": [],
   "source": [
    "salary=pd.read_csv('Salary.csv')\n",
    "X=salary.iloc[:,[0]].values; Y=salary.iloc[:,[1]].values\n",
    "x=np.hstack([np.ones_like(X),X])\n",
    "m=len(Y)\n",
    "y=Y"
   ]
  },
  {
   "cell_type": "code",
   "execution_count": null,
   "metadata": {},
   "outputs": [],
   "source": [
    "def cost_function(x,y,w):\n",
    "    J=(1/(2*m))*np.sum(np.power((np.dot(x,w)-y),2))\n",
    "    return J"
   ]
  },
  {
   "cell_type": "code",
   "execution_count": null,
   "metadata": {},
   "outputs": [],
   "source": [
    "def initialize():\n",
    "    w=np.zeros([2,1])\n",
    "    return w\n",
    "w=initialize()\n",
    "w"
   ]
  },
  {
   "cell_type": "code",
   "execution_count": null,
   "metadata": {},
   "outputs": [],
   "source": []
  },
  {
   "cell_type": "code",
   "execution_count": 31,
   "metadata": {},
   "outputs": [
    {
     "data": {
      "text/plain": [
       "92484729819747.42"
      ]
     },
     "execution_count": 31,
     "metadata": {},
     "output_type": "execute_result"
    }
   ],
   "source": [
    "cost_function(x,y,w)"
   ]
  },
  {
   "cell_type": "code",
   "execution_count": 7,
   "metadata": {},
   "outputs": [],
   "source": [
    "salary=pd.read_csv('Salary.csv')\n",
    "X=salary.iloc[:,[0]].values; Y=salary.iloc[:,[1]].values\n",
    "x=np.hstack([np.ones_like(X),X])\n",
    "m=len(Y)\n",
    "y=Y\n",
    "def cost_function(x,y,w):\n",
    "    J=(1/(2*m))*np.sum(np.power((np.dot(x,w)-y),2))\n",
    "    return J\n",
    "def initialize():\n",
    "    w=np.zeros([2,1])\n",
    "    return w\n",
    "w=initialize()\n",
    "def gradient_descent(x,y,w,alpha,num_iter):\n",
    "    m=len(y)\n",
    "    error=np.dot(x,w)-y\n",
    "    J_history=np.zeros([num_iter,1])\n",
    "    J=(1/(2*m))*np.sum(np.power((np.dot(x,w)-y),2))\n",
    "    for i in range(0,num_iter):\n",
    "        w_0=w[0]-(alpha/m)*np.sum(error*x[:,0])\n",
    "        w_1=w[1]-(alpha/m)*np.sum(error*x[:,1])\n",
    "        w=np.array([w_0,w_1]).reshape(2,1)\n",
    "        J_history[i]=cost_function(x,y,w)\n",
    "        \n",
    "    return w,J_history                "
   ]
  },
  {
   "cell_type": "code",
   "execution_count": 8,
   "metadata": {},
   "outputs": [
    {
     "name": "stdout",
     "output_type": "stream",
     "text": [
      "[[ 293809.60000001]\n",
      " [1853518.84800009]]\n",
      "[[3.90559800e+09]\n",
      " [3.78719689e+09]\n",
      " [3.67066964e+09]\n",
      " ...\n",
      " [9.24474989e+13]\n",
      " [9.24661134e+13]\n",
      " [9.24847298e+13]]\n"
     ]
    }
   ],
   "source": [
    "w,J_history=gradient_descent(x,y,w,0.00001,10000)\n",
    "print(w)\n",
    "print(J_history)"
   ]
  },
  {
   "cell_type": "code",
   "execution_count": 34,
   "metadata": {},
   "outputs": [
    {
     "data": {
      "text/plain": [
       "[<matplotlib.lines.Line2D at 0x1f956132288>]"
      ]
     },
     "execution_count": 34,
     "metadata": {},
     "output_type": "execute_result"
    },
    {
     "data": {
      "image/png": "[encoded data removed]",
      "text/plain": [
       "<Figure size 432x288 with 1 Axes>"
      ]
     },
     "metadata": {
      "needs_background": "light"
     },
     "output_type": "display_data"
    }
   ],
   "source": [
    "plt.scatter(X,y)\n",
    "plt.plot(X,np.dot(x,w))"
   ]
  },
  {
   "cell_type": "code",
   "execution_count": null,
   "metadata": {},
   "outputs": [],
   "source": []
  },
  {
   "cell_type": "code",
   "execution_count": null,
   "metadata": {},
   "outputs": [],
   "source": []
  },
  {
   "cell_type": "code",
   "execution_count": null,
   "metadata": {},
   "outputs": [],
   "source": []
  },
  {
   "cell_type": "code",
   "execution_count": null,
   "metadata": {},
   "outputs": [],
   "source": []
  },
  {
   "cell_type": "markdown",
   "metadata": {},
   "source": [
    "# multiple linear regression"
   ]
  },
  {
   "cell_type": "code",
   "execution_count": 3,
   "metadata": {},
   "outputs": [
    {
     "data": {
      "text/html": [
       "<div>\n",
       "<style scoped>\n",
       "    .dataframe tbody tr th:only-of-type {\n",
       "        vertical-align: middle;\n",
       "    }\n",
       "\n",
       "    .dataframe tbody tr th {\n",
       "        vertical-align: top;\n",
       "    }\n",
       "\n",
       "    .dataframe thead th {\n",
       "        text-align: right;\n",
       "    }\n",
       "</style>\n",
       "<table border=\"1\" class=\"dataframe\">\n",
       "  <thead>\n",
       "    <tr style=\"text-align: right;\">\n",
       "      <th></th>\n",
       "      <th>x</th>\n",
       "      <th>y</th>\n",
       "    </tr>\n",
       "  </thead>\n",
       "  <tbody>\n",
       "    <tr>\n",
       "      <th>0</th>\n",
       "      <td>24.0</td>\n",
       "      <td>21.549452</td>\n",
       "    </tr>\n",
       "    <tr>\n",
       "      <th>1</th>\n",
       "      <td>50.0</td>\n",
       "      <td>47.464463</td>\n",
       "    </tr>\n",
       "    <tr>\n",
       "      <th>2</th>\n",
       "      <td>15.0</td>\n",
       "      <td>17.218656</td>\n",
       "    </tr>\n",
       "    <tr>\n",
       "      <th>3</th>\n",
       "      <td>38.0</td>\n",
       "      <td>36.586398</td>\n",
       "    </tr>\n",
       "    <tr>\n",
       "      <th>4</th>\n",
       "      <td>87.0</td>\n",
       "      <td>87.288984</td>\n",
       "    </tr>\n",
       "  </tbody>\n",
       "</table>\n",
       "</div>"
      ],
      "text/plain": [
       "      x          y\n",
       "0  24.0  21.549452\n",
       "1  50.0  47.464463\n",
       "2  15.0  17.218656\n",
       "3  38.0  36.586398\n",
       "4  87.0  87.288984"
      ]
     },
     "execution_count": 3,
     "metadata": {},
     "output_type": "execute_result"
    }
   ],
   "source": [
    "data=pd.read_csv('train(1).csv')\n",
    "data.head()\n"
   ]
  },
  {
   "cell_type": "code",
   "execution_count": 4,
   "metadata": {},
   "outputs": [],
   "source": [
    "X=data.iloc[:,[0]].values\n",
    "Y=data.iloc[:,[1]].values\n",
    "m=len(Y)\n",
    "W=np.zeros(1)"
   ]
  },
  {
   "cell_type": "code",
   "execution_count": 5,
   "metadata": {},
   "outputs": [],
   "source": [
    "def cost_function(X,Y,W):\n",
    "    J=(1/(2*m))*np.sum(np.power((np.dot(X,W)-Y),2))\n",
    "    return J"
   ]
  },
  {
   "cell_type": "code",
   "execution_count": 6,
   "metadata": {},
   "outputs": [],
   "source": [
    "def gradient_descent(X, Y, W, alpha, num_iters):\n",
    "    m = np.size(Y)\n",
    "    hx = np.dot(X,W)\n",
    "    J_history=np.zeros([num_iters,1])\n",
    "    c1=cost_function(X,Y,W)\n",
    "    for i in range(0, num_iters):\n",
    "        temp = (alpha / m) *np.matmul(X.T,(hx - Y))\n",
    "        c2 = cost_function(W - temp, X, Y)\n",
    "        if c1 > c2:\n",
    "            c1 = c2\n",
    "            theta = W - temp\n",
    "    return W"
   ]
  },
  {
   "cell_type": "code",
   "execution_count": 7,
   "metadata": {},
   "outputs": [
    {
     "data": {
      "text/plain": [
       "array([0.])"
      ]
     },
     "execution_count": 7,
     "metadata": {},
     "output_type": "execute_result"
    }
   ],
   "source": [
    "W=gradient_descent(X,Y,W,0.00001,20000)\n",
    "W\n"
   ]
  },
  {
   "cell_type": "code",
   "execution_count": 8,
   "metadata": {},
   "outputs": [
    {
     "data": {
      "text/plain": [
       "[<matplotlib.lines.Line2D at 0x21b0e743488>]"
      ]
     },
     "execution_count": 8,
     "metadata": {},
     "output_type": "execute_result"
    },
    {
     "data": {
      "image/png": "[encoded data removed]",
      "text/plain": [
       "<Figure size 432x288 with 1 Axes>"
      ]
     },
     "metadata": {
      "needs_background": "light"
     },
     "output_type": "display_data"
    }
   ],
   "source": [
    "plt.scatter(X,Y)\n",
    "plt.plot(X,)"
   ]
  },
  {
   "cell_type": "code",
   "execution_count": 2,
   "metadata": {},
   "outputs": [],
   "source": [
    "import numpy as np\n",
    "import matplotlib.pyplot as plotlib"
   ]
  },
  {
   "cell_type": "code",
   "execution_count": 3,
   "metadata": {},
   "outputs": [],
   "source": [
    "\n",
    "data=np.loadtxt(\"ex1data1.txt\",delimiter=\",\")\n",
    "population=data[:,:1]\n",
    "(m,k)=population.shape\n",
    "profit=data[:,1:2]\n"
   ]
  },
  {
   "cell_type": "code",
   "execution_count": 4,
   "metadata": {},
   "outputs": [
    {
     "data": {
      "text/plain": [
       "Text(0.5, 1.0, 'Food Truck Profit')"
      ]
     },
     "execution_count": 4,
     "metadata": {},
     "output_type": "execute_result"
    },
    {
     "data": {
      "image/png": "[encoded data removed]",
      "text/plain": [
       "<Figure size 432x288 with 1 Axes>"
      ]
     },
     "metadata": {
      "needs_background": "light"
     },
     "output_type": "display_data"
    }
   ],
   "source": [
    "plotlib.scatter(population,profit,color=\"red\",marker=\"*\")\n",
    "plotlib.xlabel(\"population in 10,000s\")\n",
    "plotlib.ylabel(\"profit in 10,000$\")\n",
    "plotlib.title(\"Food Truck Profit\")"
   ]
  },
  {
   "cell_type": "code",
   "execution_count": 7,
   "metadata": {},
   "outputs": [
    {
     "data": {
      "text/plain": [
       "(2, 1)"
      ]
     },
     "execution_count": 7,
     "metadata": {},
     "output_type": "execute_result"
    }
   ],
   "source": [
    "#plotlib.show()\n",
    "\n",
    "population_matrix=np.c_[np.ones([m,1]),population]\n",
    "alpha=0.01\n",
    "epoch=1500\n",
    "theta=np.zeros([2,1])\n",
    "theta.shape"
   ]
  },
  {
   "cell_type": "code",
   "execution_count": 8,
   "metadata": {},
   "outputs": [
    {
     "name": "stdout",
     "output_type": "stream",
     "text": [
      "32.072733877455676\n"
     ]
    }
   ],
   "source": [
    "def computeCost(X,Y,theta,m):\n",
    "    return np.sum(((X @ theta)-Y)**2)/(2*m)\n",
    "print(computeCost(population_matrix,profit,theta,m))"
   ]
  },
  {
   "cell_type": "code",
   "execution_count": 12,
   "metadata": {},
   "outputs": [],
   "source": [
    "\n",
    "def gradientDescent(X,Y,theta,alpha,num_iters,m):\n",
    "    for i in range(num_iters):\n",
    "        theta=theta - ((alpha/m) * (((X @ theta) - Y).transpose() @ X).transpose())\n",
    "        ofile.write(str(computeCost(X,Y,theta,m)) + '\\n')\n",
    "    return theta\n"
   ]
  },
  {
   "cell_type": "code",
   "execution_count": 13,
   "metadata": {},
   "outputs": [],
   "source": [
    "def predict(x,theta):\n",
    "    return (np.array([[1,x]]) @ theta).item()"
   ]
  },
  {
   "cell_type": "code",
   "execution_count": 14,
   "metadata": {},
   "outputs": [],
   "source": [
    "ofile=open(\"CostFunc.txt\",'a')\n",
    "linear_fit=gradientDescent(population_matrix,profit,theta,alpha,epoch,m)\n",
    "ofile.close()"
   ]
  },
  {
   "cell_type": "code",
   "execution_count": 9,
   "metadata": {},
   "outputs": [
    {
     "name": "stdout",
     "output_type": "stream",
     "text": [
      "0.4519767867701767\n",
      "4.534245012944714\n"
     ]
    }
   ],
   "source": [
    "print(predict(3.5,linear_fit))\n",
    "print(predict(7,linear_fit))\n",
    "predicted_profit=np.empty([0,1])\n"
   ]
  },
  {
   "cell_type": "code",
   "execution_count": 10,
   "metadata": {},
   "outputs": [],
   "source": [
    "for j in population:\n",
    "    predicted_profit=np.append(predicted_profit,predict(j.item(),linear_fit))"
   ]
  },
  {
   "cell_type": "code",
   "execution_count": 11,
   "metadata": {},
   "outputs": [
    {
     "data": {
      "image/png": "[encoded data removed]",
      "text/plain": [
       "<Figure size 432x288 with 1 Axes>"
      ]
     },
     "metadata": {
      "needs_background": "light"
     },
     "output_type": "display_data"
    }
   ],
   "source": [
    "plotlib.scatter(population,profit,color=\"red\",marker=\"*\")\n",
    "plotlib.xlabel(\"population in 10,000s\")\n",
    "plotlib.ylabel(\"profit in 10,000$\")\n",
    "plotlib.title(\"Food Truck Profit\")\n",
    "\n",
    "\n",
    "\n",
    "plotlib.plot(population,predicted_profit)\n",
    "plotlib.show()"
   ]
  },
  {
   "cell_type": "markdown",
   "metadata": {},
   "source": [
    "J_n=list()\n",
    "learning_rate=[0.3,0.1,0.03,0.01]\n",
    "for i in range(4):\n",
    "    (theta_1,J)=gradientDescent(parameters,house_prices,learning_rate[i],num_iters,m,k,theta)\n",
    "    print(theta_1)\n",
    "    J_n.append(J)\n",
    "iters_matrix=np.arange(num_iters)\n",
    "for i in range(4):\n",
    "    plotlib.plot(iters_matrix,J_n[i],label=(\"aplha=\"+str(learning_rate[i])))\n",
    "\n",
    "plotlib.xlabel(\"num_of_iterations\")\n",
    "plotlib.ylabel(\"Cost_function\")\n",
    "plotlib.legend()\n",
    "plotlib.show()"
   ]
  },
  {
   "cell_type": "code",
   "execution_count": null,
   "metadata": {},
   "outputs": [],
   "source": []
  },
  {
   "cell_type": "code",
   "execution_count": null,
   "metadata": {},
   "outputs": [],
   "source": []
  },
  {
   "cell_type": "code",
   "execution_count": null,
   "metadata": {},
   "outputs": [],
   "source": []
  },
  {
   "cell_type": "code",
   "execution_count": 19,
   "metadata": {},
   "outputs": [
    {
     "name": "stdout",
     "output_type": "stream",
     "text": [
      "[[5.83913495]\n",
      " [4.59304105]]\n",
      "[[5.80904146]\n",
      " [4.56936963]]\n",
      "[[4.56582187]\n",
      " [3.59145789]]\n",
      "[[2.30642292]\n",
      " [1.81422338]]\n"
     ]
    },
    {
     "data": {
      "image/png": "[encoded data removed]",
      "text/plain": [
       "<Figure size 432x288 with 1 Axes>"
      ]
     },
     "metadata": {
      "needs_background": "light"
     },
     "output_type": "display_data"
    },
    {
     "name": "stdout",
     "output_type": "stream",
     "text": [
      "[[5.83913505]\n",
      " [4.59304113]]\n"
     ]
    }
   ],
   "source": [
    "import numpy as np\n",
    "import matplotlib.pyplot as plotlib\n",
    "\n",
    "data=np.loadtxt(\"ex1data1.txt\",delimiter=\",\")\n",
    "(m,k)=data.shape\n",
    "parameters=data[:,:k-1]\n",
    "house_prices=data[:,k-1:k]\n",
    "prices=data[:,k-1:k]\n",
    "mu=np.zeros([k-1,1])\n",
    "sigma=np.zeros([k-1,1])\n",
    "\n",
    "def feature_scaling(X):\n",
    "    mean=np.mean(X)\n",
    "    stand_devtn=np.std(X)\n",
    "    return (((X-(mean*np.ones([m,1])))/stand_devtn),mean,stand_devtn)\n",
    "\n",
    "for i in range(k-1):\n",
    "    (parameters[:,i:i+1],mu[i][0],sigma[i][0])=feature_scaling(parameters[:,i:i+1])\n",
    "    \n",
    "#(house_prices[:,:1],me,sig)=feature_scaling(house_prices[:,:1])\n",
    "\n",
    "#print(parameters[:5,:])\n",
    "#plotlib.scatter(parameters[:,:1],parameters[:,1:2],color=\"red\",marker=\"*\")\n",
    "#plotlib.xlabel(\"house_size\")\n",
    "#plotlib.ylabel(\"num_of_bedrooms\")\n",
    "#plotlib.show()\n",
    "parameters=np.c_[np.ones([m,1]),parameters]\n",
    "theta=np.zeros([k,1])\n",
    "num_iters=50\n",
    "\n",
    "def computeCost(X,Y,theta,m):\n",
    "    error_matrix= (X @ theta) - Y\n",
    "    return (error_matrix.transpose() @ error_matrix).item()/(2*m)\n",
    "\n",
    "def gradientDescentMulti(X,Y,alpha,num_iters,m,num_features,theta):\n",
    "    cost_func_matrix=np.zeros([num_iters,1])\n",
    "    for j in range(num_iters):\n",
    "        theta = theta - ((alpha/m) * (((X @ theta) - Y).transpose() @ X).transpose())\n",
    "        cost_func_matrix[j][0]=computeCost(X,Y,theta,m)\n",
    "    return (theta,cost_func_matrix)\n",
    "\n",
    "def normal_equation(X,Y):\n",
    "    return np.linalg.inv(X.transpose() @ X) @ (X.transpose() @ Y)\n",
    "\n",
    "J_n=list()\n",
    "learning_rate=[0.3,0.1,0.03,0.01]\n",
    "for i in range(4):\n",
    "    (theta_1,J)=gradientDescentMulti(parameters,house_prices,learning_rate[i],num_iters,m,k,theta)\n",
    "    print(theta_1)\n",
    "    J_n.append(J)\n",
    "iters_matrix=np.arange(num_iters)\n",
    "for i in range(4):\n",
    "    plotlib.plot(iters_matrix,J_n[i],label=(\"aplha=\"+str(learning_rate[i])))\n",
    "\n",
    "plotlib.xlabel(\"num_of_iterations\")\n",
    "plotlib.ylabel(\"Cost_function\")\n",
    "plotlib.legend()\n",
    "plotlib.show()\n",
    "\n",
    "#print(theta_1)\n",
    "theta_2=normal_equation(np.c_[np.ones([m,1]),data[:,:k-1]],house_prices)\n",
    "print(theta_2)"
   ]
  },
  {
   "cell_type": "code",
   "execution_count": null,
   "metadata": {},
   "outputs": [],
   "source": []
  }
 ],
 "metadata": {
  "kernelspec": {
   "display_name": "Python 3",
   "language": "python",
   "name": "python3"
  },
  "language_info": {
   "codemirror_mode": {
    "name": "ipython",
    "version": 3
   },
   "file_extension": ".py",
   "mimetype": "text/x-python",
   "name": "python",
   "nbconvert_exporter": "python",
   "pygments_lexer": "ipython3",
   "version": "3.7.6"
  }
 },
 "nbformat": 4,
 "nbformat_minor": 4
}
