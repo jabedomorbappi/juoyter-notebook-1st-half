{
 "cells": [
  {
   "cell_type": "code",
   "execution_count": 43,
   "metadata": {},
   "outputs": [],
   "source": [
    "import numpy as np\n",
    "import pandas as pd\n",
    "import matplotlib.pyplot as plt\n"
   ]
  },
  {
   "cell_type": "markdown",
   "metadata": {},
   "source": [
    "data=pd.read_csv('insurance.csv')\n",
    "data.head()"
   ]
  },
  {
   "cell_type": "code",
   "execution_count": 44,
   "metadata": {},
   "outputs": [
    {
     "data": {
      "text/html": [
       "<div>\n",
       "<style scoped>\n",
       "    .dataframe tbody tr th:only-of-type {\n",
       "        vertical-align: middle;\n",
       "    }\n",
       "\n",
       "    .dataframe tbody tr th {\n",
       "        vertical-align: top;\n",
       "    }\n",
       "\n",
       "    .dataframe thead th {\n",
       "        text-align: right;\n",
       "    }\n",
       "</style>\n",
       "<table border=\"1\" class=\"dataframe\">\n",
       "  <thead>\n",
       "    <tr style=\"text-align: right;\">\n",
       "      <th></th>\n",
       "      <th>income</th>\n",
       "      <th>happiness</th>\n",
       "    </tr>\n",
       "  </thead>\n",
       "  <tbody>\n",
       "    <tr>\n",
       "      <th>0</th>\n",
       "      <td>3.862647</td>\n",
       "      <td>2.314489</td>\n",
       "    </tr>\n",
       "    <tr>\n",
       "      <th>1</th>\n",
       "      <td>4.979381</td>\n",
       "      <td>3.433490</td>\n",
       "    </tr>\n",
       "    <tr>\n",
       "      <th>2</th>\n",
       "      <td>4.923957</td>\n",
       "      <td>4.599373</td>\n",
       "    </tr>\n",
       "    <tr>\n",
       "      <th>3</th>\n",
       "      <td>3.214372</td>\n",
       "      <td>2.791114</td>\n",
       "    </tr>\n",
       "    <tr>\n",
       "      <th>4</th>\n",
       "      <td>7.196409</td>\n",
       "      <td>5.596398</td>\n",
       "    </tr>\n",
       "  </tbody>\n",
       "</table>\n",
       "</div>"
      ],
      "text/plain": [
       "     income  happiness\n",
       "0  3.862647   2.314489\n",
       "1  4.979381   3.433490\n",
       "2  4.923957   4.599373\n",
       "3  3.214372   2.791114\n",
       "4  7.196409   5.596398"
      ]
     },
     "execution_count": 44,
     "metadata": {},
     "output_type": "execute_result"
    }
   ],
   "source": [
    "income=pd.read_csv('income.data.csv').drop(['Unnamed: 0'],axis=1)\n",
    "income.head()\n"
   ]
  },
  {
   "cell_type": "code",
   "execution_count": 45,
   "metadata": {},
   "outputs": [
    {
     "data": {
      "text/plain": [
       "(498, 1)"
      ]
     },
     "execution_count": 45,
     "metadata": {},
     "output_type": "execute_result"
    }
   ],
   "source": [
    "X=income.iloc[:,:1]\n",
    "\n",
    "Y=income.iloc[:,1:2]\n",
    "X.shape\n",
    "\n",
    "Y.shape"
   ]
  },
  {
   "cell_type": "code",
   "execution_count": 46,
   "metadata": {},
   "outputs": [],
   "source": [
    "x_train=X.iloc[0:450,:]\n",
    "x_test=X.iloc[450:,:]\n",
    "y_train=Y.iloc[0:450,:]\n",
    "y_test=Y.iloc[450:,:]\n"
   ]
  },
  {
   "cell_type": "code",
   "execution_count": 47,
   "metadata": {},
   "outputs": [],
   "source": [
    "x=x_train.values\n",
    "y=y_train.values\n",
    "\n"
   ]
  },
  {
   "cell_type": "code",
   "execution_count": 48,
   "metadata": {},
   "outputs": [
    {
     "data": {
      "text/plain": [
       "<matplotlib.collections.PathCollection at 0x1fde02b9388>"
      ]
     },
     "execution_count": 48,
     "metadata": {},
     "output_type": "execute_result"
    },
    {
     "data": {
      "image/png": "[encoded data removed]",
      "text/plain": [
       "<Figure size 432x288 with 1 Axes>"
      ]
     },
     "metadata": {
      "needs_background": "light"
     },
     "output_type": "display_data"
    }
   ],
   "source": [
    "plt.scatter(x,y)"
   ]
  },
  {
   "cell_type": "code",
   "execution_count": 49,
   "metadata": {},
   "outputs": [],
   "source": [
    "(m,k)=x.shape\n",
    "w=np.zeros([2,1])\n",
    "x=np.c_[np.ones([m,1]),x_train]\n"
   ]
  },
  {
   "cell_type": "code",
   "execution_count": 50,
   "metadata": {},
   "outputs": [
    {
     "data": {
      "text/plain": [
       "6.691237397427704"
      ]
     },
     "execution_count": 50,
     "metadata": {},
     "output_type": "execute_result"
    }
   ],
   "source": [
    "def compute_cost(x,y,w):\n",
    "    m=len(x)\n",
    "    J=np.sum(((x@ w)-y)**2)/(2*m)\n",
    "    return J\n",
    "compute_cost(x,y,w)"
   ]
  },
  {
   "cell_type": "code",
   "execution_count": null,
   "metadata": {},
   "outputs": [],
   "source": []
  },
  {
   "cell_type": "code",
   "execution_count": 51,
   "metadata": {},
   "outputs": [],
   "source": [
    "def gradient_descent(x,y,w,alpha,num_iter):\n",
    "    m=len(x)\n",
    "    cost_func_matrix=np.zeros([num_iter,1])\n",
    "    for i in range(1,num_iter):\n",
    "        w=w-((alpha/m)*((x@ w)-y).T@x).T\n",
    "        cost_func_matrix[i]=compute_cost(x,y,w)\n",
    "        \n",
    "    return (w,cost_func_matrix)  \n",
    "    "
   ]
  },
  {
   "cell_type": "code",
   "execution_count": 52,
   "metadata": {},
   "outputs": [],
   "source": [
    "\n",
    "\n",
    "w,cost=gradient_descent(x,y,w,0.0001,10000)\n",
    "iteration=np.arange(1,10001)"
   ]
  },
  {
   "cell_type": "code",
   "execution_count": 53,
   "metadata": {},
   "outputs": [
    {
     "data": {
      "text/plain": [
       "[<matplotlib.lines.Line2D at 0x1fde03066c8>]"
      ]
     },
     "execution_count": 53,
     "metadata": {},
     "output_type": "execute_result"
    },
    {
     "data": {
      "image/png": "[encoded data removed]",
      "text/plain": [
       "<Figure size 432x288 with 1 Axes>"
      ]
     },
     "metadata": {
      "needs_background": "light"
     },
     "output_type": "display_data"
    }
   ],
   "source": [
    "plt.scatter(x_train,y_train)\n",
    "plt.plot(x_train,x @ w,color='red')\n"
   ]
  },
  {
   "cell_type": "code",
   "execution_count": 56,
   "metadata": {},
   "outputs": [
    {
     "data": {
      "text/plain": [
       "[<matplotlib.lines.Line2D at 0x1fddfde0448>]"
      ]
     },
     "execution_count": 56,
     "metadata": {},
     "output_type": "execute_result"
    },
    {
     "data": {
      "image/png": "[encoded data removed]",
      "text/plain": [
       "<Figure size 432x288 with 1 Axes>"
      ]
     },
     "metadata": {
      "needs_background": "light"
     },
     "output_type": "display_data"
    }
   ],
   "source": [
    "iteration=np.arange(1,10001)\n",
    "plt.plot(iteration,cost,label='alpha=0.001')"
   ]
  },
  {
   "cell_type": "code",
   "execution_count": 57,
   "metadata": {},
   "outputs": [],
   "source": [
    "def predict(X):\n",
    "    X=X=np.c_[np.ones([len(X),1]),X]\n",
    "    return X@w\n",
    "    "
   ]
  },
  {
   "cell_type": "code",
   "execution_count": 58,
   "metadata": {},
   "outputs": [
    {
     "data": {
      "text/plain": [
       "array([[2.63951097],\n",
       "       [3.87363161],\n",
       "       [4.50066394],\n",
       "       [2.52787337],\n",
       "       [4.43876072],\n",
       "       [2.98242722],\n",
       "       [2.06314393],\n",
       "       [4.29504207],\n",
       "       [2.61250857],\n",
       "       [1.3161095 ],\n",
       "       [3.61564383],\n",
       "       [3.47631497],\n",
       "       [4.2594932 ],\n",
       "       [4.53561287],\n",
       "       [3.27645553],\n",
       "       [4.85684615],\n",
       "       [4.89329403],\n",
       "       [3.54643779],\n",
       "       [2.41431831],\n",
       "       [5.06396534],\n",
       "       [5.30894898],\n",
       "       [5.43814371],\n",
       "       [4.40567803],\n",
       "       [1.29850026],\n",
       "       [4.49869616],\n",
       "       [4.2967447 ],\n",
       "       [3.94491237],\n",
       "       [4.82356504],\n",
       "       [3.17245893],\n",
       "       [4.87635902],\n",
       "       [5.54716898],\n",
       "       [5.38556426],\n",
       "       [2.52219566],\n",
       "       [1.62073325],\n",
       "       [2.20671057],\n",
       "       [4.57101358],\n",
       "       [4.55126874],\n",
       "       [3.22431741],\n",
       "       [4.00340154],\n",
       "       [4.53535909],\n",
       "       [2.43426733],\n",
       "       [1.94736035],\n",
       "       [2.63801546],\n",
       "       [3.95311549],\n",
       "       [2.66461808],\n",
       "       [4.56089713],\n",
       "       [2.64218027],\n",
       "       [3.43213507]])"
      ]
     },
     "execution_count": 58,
     "metadata": {},
     "output_type": "execute_result"
    }
   ],
   "source": [
    "predict(x_test)"
   ]
  },
  {
   "cell_type": "code",
   "execution_count": 59,
   "metadata": {},
   "outputs": [
    {
     "data": {
      "text/plain": [
       "[<matplotlib.lines.Line2D at 0x1fddd981e48>]"
      ]
     },
     "execution_count": 59,
     "metadata": {},
     "output_type": "execute_result"
    },
    {
     "data": {
      "image/png": "[encoded data removed]",
      "text/plain": [
       "<Figure size 432x288 with 1 Axes>"
      ]
     },
     "metadata": {
      "needs_background": "light"
     },
     "output_type": "display_data"
    }
   ],
   "source": [
    "abs(y_test.values-predict(x_test))\n",
    "plt.scatter(x_test,y_test.values)\n",
    "plt.plot(x_test,predict(x_test))"
   ]
  },
  {
   "cell_type": "code",
   "execution_count": null,
   "metadata": {},
   "outputs": [],
   "source": []
  },
  {
   "cell_type": "code",
   "execution_count": null,
   "metadata": {},
   "outputs": [],
   "source": []
  },
  {
   "cell_type": "code",
   "execution_count": 60,
   "metadata": {},
   "outputs": [],
   "source": [
    "num_iter=1000\n",
    "w_1,cost_1=gradient_descent(x,y,w,0.1,num_iter)\n",
    "w_2,cost_2=gradient_descent(x,y,w,0.001,num_iter)\n",
    "w_3,cost_3=gradient_descent(x,y,w,0.0001,num_iter)\n",
    "w_4,cost_4=gradient_descent(x,y,w,0.00001,num_iter)\n"
   ]
  },
  {
   "cell_type": "code",
   "execution_count": 61,
   "metadata": {},
   "outputs": [
    {
     "data": {
      "text/plain": [
       "<matplotlib.legend.Legend at 0x1fdde1db908>"
      ]
     },
     "execution_count": 61,
     "metadata": {},
     "output_type": "execute_result"
    },
    {
     "data": {
      "image/png": "[encoded data removed]",
      "text/plain": [
       "<Figure size 720x720 with 4 Axes>"
      ]
     },
     "metadata": {
      "needs_background": "light"
     },
     "output_type": "display_data"
    }
   ],
   "source": [
    "iteration=np.arange(1,1001)\n",
    "len(iteration)\n",
    "plt.subplots(2,2,figsize=(10,10))\n",
    "\n",
    "\n",
    "\n",
    "plt.subplot(2,2,1)\n",
    "plt.plot(iteration,cost_1,label='alpha=0.1',color='blue')\n",
    "plt.legend()\n",
    "\n",
    "plt.subplot(2,2,2)\n",
    "plt.plot(iteration,cost_2,label='alpha=0.001',color='red')\n",
    "plt.legend()\n",
    "\n",
    "plt.subplot(2,2,3)\n",
    "plt.plot(iteration,cost_3,label='alpha=0.0001',color='m')\n",
    "plt.legend()\n",
    "\n",
    "plt.subplot(2,2,4)\n",
    "plt.plot(iteration,cost_4,label='alpha=0.00001',color='y')\n",
    "plt.legend()\n"
   ]
  },
  {
   "cell_type": "code",
   "execution_count": null,
   "metadata": {},
   "outputs": [],
   "source": []
  }
 ],
 "metadata": {
  "kernelspec": {
   "display_name": "Python 3",
   "language": "python",
   "name": "python3"
  },
  "language_info": {
   "codemirror_mode": {
    "name": "ipython",
    "version": 3
   },
   "file_extension": ".py",
   "mimetype": "text/x-python",
   "name": "python",
   "nbconvert_exporter": "python",
   "pygments_lexer": "ipython3",
   "version": "3.7.6"
  }
 },
 "nbformat": 4,
 "nbformat_minor": 4
}
