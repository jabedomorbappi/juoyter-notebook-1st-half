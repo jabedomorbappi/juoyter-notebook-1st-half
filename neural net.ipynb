{
 "cells": [
  {
   "cell_type": "code",
   "execution_count": 1,
   "metadata": {},
   "outputs": [],
   "source": [
    "def layer_size(X,Y):\n",
    "    n_x=X.shape[0] #\n",
    "    n_h=4\n",
    "    n_y=Y.shape[0]\n",
    "    return n_x,n_h,n_y\n"
   ]
  },
  {
   "cell_type": "code",
   "execution_count": 2,
   "metadata": {},
   "outputs": [],
   "source": [
    "def initialize_parameter(n_x,n_h,n_y):\n",
    "    w1=np.random.randn(n_h,n_x)*0.01\n",
    "    b1=np.zeros(n_h,1)\n",
    "    w2=np.random.randn(n_y,n_h)*0.01\n",
    "    b2=np.zeros(n_y,1)\n",
    "    parameters={'w1':w1,\n",
    "               'b1':b1,\n",
    "               'w2':w2,\n",
    "               'b2':b2}\n",
    "    return parameters\n"
   ]
  },
  {
   "cell_type": "code",
   "execution_count": 3,
   "metadata": {},
   "outputs": [],
   "source": [
    "def forward_propagation(X,parameters):\n",
    "    w1=parameters['w1']\n",
    "    b1=parameters['b1']\n",
    "    w2=parameters['w2']\n",
    "    b2=parameters['b2']\n",
    "    \n",
    "    z1=np.dot(w1,X)+b\n",
    "    A1=np.tanh(z1)\n",
    "    z2=np.dot(w2,X)+b\n",
    "    A2=sigmoid(z2)\n",
    "    \n",
    "    cache={'z1':z1,\n",
    "          'A1':A1,\n",
    "          'z2':z2,\n",
    "          'A2':A2}\n",
    "    return cache\n",
    "    \n"
   ]
  },
  {
   "cell_type": "code",
   "execution_count": 6,
   "metadata": {},
   "outputs": [],
   "source": [
    "def compute_cost(A2,Y,parameters):\n",
    "    m=Y.shape[1]\n",
    "    cost=np.float64((-1.0/m) * (np.dot(Y, np.log(A2).T) + np.dot(1-Y, np.log(1-A2).T)))\n",
    "    cost=np.squeeze(cost)\n",
    "                    \n",
    "    return cost\n",
    "    "
   ]
  },
  {
   "cell_type": "code",
   "execution_count": 10,
   "metadata": {},
   "outputs": [],
   "source": [
    "def back_propogation(parameters,cache,X,Y):\n",
    "    m=X.shape[1]\n",
    "    w1=parameters['w1']\n",
    "    w2=parameters['w2']\n",
    "    A1=cache['A1']\n",
    "    A2=cache['A2']\n",
    "    \n",
    "    \n",
    "    #back prop\n",
    "    dz2=A2-Y\n",
    "    dw2=(1/m)*np.dot(dz2,A1.T)\n",
    "    db2=(1/m)*np.sum(dz2,axis=1,keepdims=True)\n",
    "    dz1=np.dot(W2.T,dz2)*(1-np.power(A1,2))\n",
    "    dw1=(1/m)*np.dot(W2.T,dz2)\n",
    "    db1=(1/m)*np.sum(dz1,axis=1,keepdims=True)\n",
    "    grads={\"dW1\": dW1,\n",
    "             \"db1\": db1,\n",
    "             \"dW2\": dW2,\n",
    "             \"db2\": db2}\n",
    "    return grads"
   ]
  },
  {
   "cell_type": "code",
   "execution_count": 9,
   "metadata": {},
   "outputs": [],
   "source": [
    "def update_parameter(parameters,grads,learning_rate=1.2):\n",
    "    \n",
    "    \n",
    "    w1=parameters['w1']\n",
    "    b1=parameters['b1']\n",
    "    w2=parameters['w2']\n",
    "    b2=parameters['b2']\n",
    "    \n",
    "    dw1=grads['dw1']\n",
    "    db1=grads['db1']\n",
    "    dw2=grads['dw2']\n",
    "    db2=grads['db2']\n",
    "    \n",
    "    \n",
    "    w1=w1-learning_rate*dw1\n",
    "    b1=b1-learnig_rate*db1\n",
    "    w2=w2-learnig_rate*dw2\n",
    "    b2=b2-learning_rate*db2\n",
    "    parameters={'w1':w1,\n",
    "               'b1':b1,\n",
    "               'w2':w2,\n",
    "               'b2':b2}\n",
    "    return parameters\n",
    " "
   ]
  },
  {
   "cell_type": "code",
   "execution_count": 12,
   "metadata": {},
   "outputs": [],
   "source": [
    "def neural_network(X,Y,n_h,number_iter=10000,print_cost=False):\n",
    "    n_x=X.shape[1]\n",
    "    n_y=Y.shape[1]\n",
    "    np.random.seed(3)\n",
    "    parameters=initialize_parameters(n_x,n_h,n_y)\n",
    "    for i in range(0,number_iter):\n",
    "        A2,cache=forward_propagation(X,parameters)\n",
    "        \n",
    "        cost=compute_cost(A2,Y,parameters)\n",
    "        \n",
    "        grads=back_propogation(parameters,cache,X,Y)\n",
    "        \n",
    "        parameters=update_parameter(parameters,grads)\n",
    "        if print_cost and i % 1000 == 0:\n",
    "            print (\"Cost after iteration %i: %f\" %(i, cost))\n",
    "        \n",
    "    return parameters  \n",
    "    \n",
    "    "
   ]
  },
  {
   "cell_type": "code",
   "execution_count": null,
   "metadata": {},
   "outputs": [],
   "source": []
  }
 ],
 "metadata": {
  "kernelspec": {
   "display_name": "Python 3",
   "language": "python",
   "name": "python3"
  },
  "language_info": {
   "codemirror_mode": {
    "name": "ipython",
    "version": 3
   },
   "file_extension": ".py",
   "mimetype": "text/x-python",
   "name": "python",
   "nbconvert_exporter": "python",
   "pygments_lexer": "ipython3",
   "version": "3.7.6"
  }
 },
 "nbformat": 4,
 "nbformat_minor": 4
}
