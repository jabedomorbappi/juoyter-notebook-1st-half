{
 "cells": [
  {
   "cell_type": "markdown",
   "metadata": {},
   "source": [
    "আমরা মেশিন লার্নিং এর জন্য পাইথন শিখব । তবে মেশিন লার্নিং সম্পর্কে এখানে কোন আলোচনা হবে না।এখানে আমরা পাইথন নিয়ে আলোচনা করব।\n",
    "\n",
    "### পাইথন কি এবং কেন আমরা পাইথন কেই প্রোগ্রামিং হিসেবে চয়েজ করলাম সেটা নিয়ে আলোচনা করা যাক।\n",
    "\n",
    "পাইথন হল একটা হাই লেভেল অবজেক্ট অরিয়েন্টেড প্রোগ্রামিং ল্যাংগুয়েজ । আমি যখন  পাইথন প্রোগ্রামিং শুরু করতেছিলাম তখন হাই লেভেল এটা শুনে অনেকটা এর থেকে  দূরে সরে যেতে চাইছিলাম ।প্রোগ্রামিং এ যত হাই লেভে্ল প্রোগ্রামিং ল্যাঙ্গুয়েজ তত মানুষের জন্য বুঝা সহজ । মানুষের ল্যাঙ্গুয়েজ এর যত কা্ছাকাছি প্রোগ্রামিং ল্যাঙ্গুয়েজ  সেটা তত হাই লেভেল এর প্রোগ্রামিং ল্যাঙ্গুয়েজ ।সুতরাং বলাই যায় পাইথন একটা সহজ প্রোগ্রামিং ল্যাঙ্গুয়েজ ।আসলে পাইথন অন্য প্রোগ্রামিং এর তুলনায় অনেক অনেক  সহজ একটা প্রোগ্রামিং ল্যাঙ্গুয়েজ।  অন্তত সি এর মত এত সেমিকোলন আর সেকেন্ড ব্্যাকেট এর ঝামে্লা এর মধ্যে নাই। \n",
    "\n",
    "## পাইথন কি??\n",
    "পাইথন হল একটা প্রোগ্রামিং ল্যাঙ্গুয়েজ।  ১৯৮০ সালের দিকে প্রথম   Guido van Rossum পাইথন নামক  একটি প্রোগ্রামিং ল্যাঙ্গুয়েজ তৈরি করেন ।যার নামকরন মূলত “Monty Python's Flying Circus\" নামক একটি কমেডি শো  থেকে করা হয়েছে। যেটি মূলত সত্তর এর দশকে বিবিসি তে দেখানো হত।  Guido van Rossum মূলত একজন ডাচ বিজ্ঞানী। ১৯৮৯ সালের ডিসেম্বর মাসে পাইথন  প্রোগ্রামিং হিসেবে শুরু হয় বিশ্বব্যাপি  । আমরা মূলত পাইথন ৩ কেই ব্যাবহার করব।  জুপিটর নোটবুক আমরা যখন পাইথন প্রোগ্রাম লিখতে যাব তখন পাইথন ৩ কেই সিলেক্ট করব পাইথন ২ কে নয়। \n",
    "\n",
    "\n",
    "## কেন পাইথন??\n",
    "\n",
    "\n",
    "### ১। এটা খুব সহজ একটা প্রোগ্রামি্ং ল্যাঙ্গুয়েজ \n",
    " বলতে গেলে সি, জাভা , আর, সি++ এর তুলনায় পাইথন অনেকগুন সহজ\n",
    "\n",
    "### ২। এটা ফ্রি তে ব্যাবহার করা যাবে( ওপেন সোর্স সফটওয়্যার)\n",
    "পাইথন যে কারো জন্য ফ্রি। এবং এটা চাইলেই কপি করতেই পারবেন\n",
    "\n",
    "### ৩। এটা পোর্টেবল । \n",
    "\n",
    "এটা Linux, MS-DOS, MS-Windows (95, 98,\n",
    "NT), Macintosh, Amiga, Be-OS, OS/2, VMS, QNX, আরো অনেক গুলা অপারেটিং সিষ্টেম এ রান করা হয়েছে।\n",
    "### ৪।এটা খুব পাওয়ারফুল \n",
    "        যদি ফিচার এর দিক চিন্তা করা হয় তাহলে পাইথন হল অনেকটা হাইব্রিড।\n",
    "### ৫।  হিউজ লাইব্রেরিঃ\n",
    "   মেশিন লার্নিং, ডীপ লার্নিং, ডেটা সাইন্স , নিউমেরিক প্রোগ্রামিং , ন্যাচালারল ল্যাঙ্গুয়েজ প্রসেসিং এর জন্য পাইথনের হিউজ লাইব্রেরি বিল্ড ইন করা আছে, যেটা পাইথনের পপুলারিটি অনেক গুন বাড়িয়ে দিয়েছে। \n",
    " মেশিন লার্নিং এর জন্য    scikit-learn নিউমেরিক প্রোগ্রামিং এর জন্য  Numpy , ডেটা সাইন্স এর জন্য  pandas,  ডীপ লার্নিং এর জন্য Tensorflow,kearsসাইন্টিফিক ক্যালকুলেশন এর জন্য scipy ডেটা ভিজুয়েলাইজেশন এর জন্যmaplotolib,seaborn, \n",
    " অবশ্যই সব গুলা লাইব্রেরি মেশিন লার্নিং , ডীপ লার্নিং এ ব্যাবহার হয় । মেশিন লার্নিং, ডীপ লার্নিং, NLP,ডেটা সাইন্স  এগুলা একটার সাথে একটা জড়িত।\n",
    "         \n",
    "###  ৬। ইমেজ প্রসেসিং ঃ\n",
    "  ইমেজ ও ভিডিও প্রসেসিং এর জন্য পাইথনে অনেক গু্লা লাইব্রেরি রয়েছে \n",
    "\n",
    "\n",
    "আরো অনেক গুলা কারনে পাইথন কেই বেষ্ট চয়েজ হিসেবে  রাখা যায় রাখা । তবে আমার কাছে এই কারণ গুলাই যথেষ্ট। স্পেশালি ১ এবং ৫ নাম্বার কারন। \n",
    "যেহেতু আমরা মেশিন লার্নিং এর জন্যই পাইথন কে শিখতেছি,  সে হিসেবে পাইথন সবার উপরে । \n"
   ]
  },
  {
   "cell_type": "markdown",
   "metadata": {},
   "source": [
    "# এনভাইরনমেন্ট"
   ]
  },
  {
   "cell_type": "markdown",
   "metadata": {},
   "source": [
    "পাইথন কি এবং কেন ব্যাবহার করব সেটা তো জানলাম । এখন তো আমাদের পাইথন কোড কে রান করার জন্য একটা জায়গা দরকার, একটা এনভাইরনমেন্ট এর দরকার ।আমরা মূলত জুপিটর নোটবুক দিয়ে আমাদের কোড রান করাব।  পাইথন কে চালানোর জন্য Anaconda থেকে  Jupyter Notebook  কেই ব্যাবহার করব।Jupyter Notebook এ প্রোগ্রামকে লাইন বাই লাইন রান করা যাবে ।যেটা আমাদের পরবর্তী যে কোন অ্যালগরিদম স্পেশালি মেশিন লার্নিং , ডীপ লার্নিং করার সময় খুব ই হেল্পফুল হবে। আমি চাইলে যে কোন টেক্সট ও লিখতে পারব এই নোটবুকে । মেশিন  লার্নিং এর জন্য পাইথন  এটা পুরোটা  জুপিটার নোটবুক এ লিখা।   এছাড়া আরো  কিছু স্পেশাল  ফরমেট আছে যা এই নোটবুককে আরো বেশি আকর্ষনীয় করে তুলেছে ।যা হোক আমাদের এখনকার কাজ হল এই নোটবুক সম্পর্কে জানা। "
   ]
  },
  {
   "cell_type": "markdown",
   "metadata": {},
   "source": [
    "আমাদের প্রথম কাজ হল গুগল থেকে Anaconda ডাউনলোড করা এবং ইনষ্টল করা। গুগলে Anaconda সার্চ দিলেই Anaconda র পেইজ  চলে আসবে । ইনষ্টল করার পর কম্পিউটার এর একদম বামপাশে নিচে start bar  এ  ক্লিক করে anaconda prompt  লিখে সার্চ দিব । তারপর anaconda prompt  এ ক্লিক করলেই দেখা যাবে একটা ব্ল্যাক পেইজ আসবে। একটু অপেক্ষা করলেই ওই পেইজ এ  (base) C:\\Users\\jabed> এ ধরনের একটা লিখা আসবে jabed এর জায়গা আপনি যে নাম দিয়েছন সেটা আসবে , তারপর লিখতে হবে  pip install jupyter notebook অথবা  conda install jupyter notebook লিখে Enter দিলে অটোমেটিক ইনষ্টল/ডাওনলোড হবে। অবশ্যয় ইন্টারনেট চালু থাকতে হবে।  "
   ]
  },
  {
   "cell_type": "markdown",
   "metadata": {},
   "source": [
    "## Google> Download Anaconda>Install Anaconda >Go to start bar> search Anaconda prompt> Enter >wait few second(10-20)> see a black window> wait few second > pip install jupyter notebook(write)>automatic download/install jupyter notebook"
   ]
  },
  {
   "cell_type": "markdown",
   "metadata": {},
   "source": [
    "জুপিটার নোটবুক ডাউনলোড হওয়ার পর আবার  start bar এ যান, এবার jupyter notebook লিখে সার্চ দেন । জুপিটার নোটবুক এ রাইট ক্লিক করে তারপর  pin to taskbar  এ ক্লিক করেন। তাহলে কম্পিউটার এর  নিচে জুপিটার নোটবুক আইকন চলে আসবে। এর পর থেকে ওই আইকন এ ক্লিক করলেই জুপিটার নোটবুক ওপেন হয়ে যাবে। "
   ]
  },
  {
   "cell_type": "markdown",
   "metadata": {},
   "source": [
    "জুপিটার নোটবুক ওপেন হওয়ার সময় হয়তো একটা ব্রাউসার এর পারমিশন চাইতে পারে। নিজের পছন্দের ব্রাউসার সিলেক্ট করলেই হবে। ওপেন হলে একটা হোম পেজ দেখাবে। হোমপেজ এর একেবারে ডান পাশে উপরে New এ ক্লিক করলেই python 3  দেখাবে।python 3 তে ক্লিক করলেই নতুন একটা উইন্ডো আসবে ব্রাউসার এ(২য় পিকচার এর মত) ।এই উইন্ডোতেই মূল্ত আমরা প্রোগ্রামকে রান করাব।   \n",
    "এবার এই নোটবুকের কিছু নির্দেশনা দিই>\n",
    " ১।  File এ গিয়ে প্রথমে প্রোগ্রাম বা ফাইলটার নাম save as থেকে  সেভ  করতে হবে । অথবা ডিফল্ট একটা নাম হয়ে যাবে পরে ফাইল খুজে পেতে কষ্ট হবে। \n",
    " ২।যেখানে প্রোগামটা রান লিখবেন এদেরকে সেল বলা হয় । উপরে + অপশন এ ক্লিক করলেই যত ইচ্ছে তত গুলা সেল তৈরি হবে । \n",
    " ৩। যদি কখনো সেল গুলাকে উপরে বা নিচে নামানো লাগে Run এর ঠিক বামপাশে   এরো চিহ্ন দিয়ে উপরে বা নিচে নামানো যাবে। \n",
    " ৪ রান এ ক্লিক করলেই প্রোগ্রাম রান হবে । তাছাড়াও শর্টকার্ট হিসেবে shift +Enter ক্লিক করলেও প্রোগ্রাম রান হবে। একটি প্রোগ্রাম রান করলে অটোমেটিন নতুন   একটা সেল তৈরি হবে। \n",
    " ৫। Run এর ঠিক  ৩ ঘর ডানে Code লিখা থাকবে । সেখানে চাইলে যে কোন টেক্সট লিখা যাবে যা প্রোগ্রাম হিসেবে কাউন্ট হবে না। এর জন্য Code এ ক্লিক করলেই Markdown সহ আরো কয়েকটা অপশন আসবে । Markdown এ ক্লিক করলেই সেটা একটা টেক্সট হিসেবে নিবে। এর পর রান করলেই টেক্স এর কোন পরিবর্তন হবে না। অথবা esc + m দিলেই অটোমেটিক Markdown হয়ে যাবে। এর পর shift +Enter দিলেই টেক্সট হয়ে নতুন একতা সেল তৈরি হবে। \n",
    " ৬। টেক্সট কে চাইলে বড় বা ছোট করা যাবে। এর জন্আগের মত প্রথমে Markdown এ নিতে হবে। এর পর esc + 1,2,3,4,5,6  এরকম যে কোন একটা দিলেই বোল্ড হবে। 1 হচ্ছে সবচেয়ে বড় বা হেডিং হবে। এর পর 2 আরো একটু ছোট তারপআরো  ছোট এরকম।\n",
    " \n",
    " এইটুক জানলে এখন হবে। বাকি গুলা নিজে চালাতে চালতে জানা যাবে।\n",
    " \n",
    " # Heading 1(Esc+1)\n",
    " ## Heading 2(Esc+2)\n",
    " ### Heading 3(Esc+3)\n",
    " \n",
    " \n"
   ]
  },
  {
   "cell_type": "code",
   "execution_count": null,
   "metadata": {},
   "outputs": [],
   "source": []
  },
  {
   "cell_type": "markdown",
   "metadata": {},
   "source": [
    "# ডেটার প্রকারভেদঃ"
   ]
  },
  {
   "cell_type": "markdown",
   "metadata": {},
   "source": [
    "একটা প্রশ্ন  আসতেই পারে ডেটা  জিনিসটা কি??? খায় নাকি মাথায় দেয়?পরিসংখান বলে একটা প্রোগ্রামিং বলে  আরেকটা  ডেটা সাইন্স বলে  আরেকটা   যদিও মূল কথা এক। , আর আমি  বলি সবকিছুই ডাটা,প্রতি  মুহূর্তে দুনিয়াতে যা ঘটছে সবই ডাটা বা তথ্য। একটু ফরমাল ভাবে বলতে গেলে ডাটা হচ্ছে কালেকশন অফ ফ্যাক্টস যেমন নাম্বার, শব্দ, পরিমাণ, পর্যবেক্ষণ এমনকি কোন কিছুর বর্ণনা। এর থেকে বেশি জানার এই মূহুর্তে দরকার নাই ।   "
   ]
  },
  {
   "cell_type": "markdown",
   "metadata": {},
   "source": [
    "আমরা মূলত পাইথনের ডেটার প্রকার নিয়ে আলোচনা করব।   "
   ]
  },
  {
   "cell_type": "markdown",
   "metadata": {},
   "source": [
    " ডেটা কে আমরা ৩ ভাগে ভাগ করতে পারি  ।একপ্রকার ডেটা হল নাম্বার আর এক প্রকার ডেটা হল ষ্ট্রিংআর এক প্রকার ডেটা হল বুলিয়ান । যদিও এগুলা ছাড়া ও আরো অনেক ধরনের ডেটা আছে তবে আমরা এখন শুধু এই দুই্ প্রকার ডেটা নিয়ে আলোচনা করব ।   ধিরে ধিরে বাকি গুলা সম্পর্কে জানব। যদিও বাকি ডেটা গুলা এই ডেটা গুলার সমষ্টি । স্পেশালি নাম্বার এবং ষ্ট্রিং।"
   ]
  },
  {
   "cell_type": "markdown",
   "metadata": {},
   "source": [
    "## (Numeric ) নাম্বারের ভিত্তিতে ডেটা ২ প্রকারঃ\n",
    "\n",
    "#### ১।ইন্টিজার(integer) \n",
    "\n",
    "#### ২।ফ্লোট(float) \n",
    "\n",
    "\n",
    "#### ইন্টিজারঃ\n",
    "    সকল পূর্ণ সংখ্যা হল ইন্টিজার (1,2,3,4,5) \n",
    "\n",
    "#### ফ্লোটঃ \n",
    "     দশমিকযুক্ত সংখা বা ভগ্নাংশই  হল ফ্লোট (1.2,4.5,7.8)\n",
    "     \n",
    "     \n",
    "\n",
    "আমরা এখানে কমপ্লেক্স নামক সংখ্যাকে  নাম্বারের মধ্যে ধরি নাই । যেহেতু এটা একদম বেসিক লেবেলের জন্য।\n"
   ]
  },
  {
   "cell_type": "markdown",
   "metadata": {},
   "source": [
    "## ষ্ট্রিং(String )\n",
    "\n",
    "ষ্ট্রিং মূলত একটা ডেটা টাইপ। কোলন এর মাধ্যমে একে প্রকাশ করা হয়। পাইথনে সিঙ্গেল বা ডাবল কোলন ২ টাকে একই মনে করে।   ষ্ট্রিং হল ইমমিউটেবল ।ইমমিউটিবল মানে যাকে এডিট করতে পারবেননা । আর মিউটেবল মানে একে চাইলে এডিট করতে পারব। মিউটেবল আর ইমমিউটেবল  পরে কাজে দিবে। একটু ঘোলাটে মনে হতে পারে। যখন আমরা ষ্ট্রিং নিয়ে কথা বলব তখন এই ব্যাপারটা আরো ক্লিয়ার হবে। ষ্ট্রিং  কে একটা বস্তা  বা একটা জাদুর বাক্স কল্পনা করতে পারেন । ' '  বা \" \" হল সেই বস্তা বা জাদুর বাক্স যার ভিতর আমি যা রাখি না কেন পাইথন সেটা কে একটা জাদুর বাক্স ই মনে করবে আর জাদুর বাক্সটার টাইপ হল ষ্ট্রিং। জাদুর এ বাক্স কিভাবে খুলবেন সেটা নিয়ে পরে আস্তে আস্তে জানতে পারবেন। \n",
    "\n",
    "strng='It is a string,everything in colon is called string'\n",
    "\n",
    "a=' eta ekta string'\n",
    "\n",
    "Name='My name is Jabed'\n",
    " \n",
    "\n",
    "ষ্ট্রিং কে আমরা টেক্সট ধরে নিতে পারি। তবে শুধু টেক্সট কে  পাইথন ষ্ট্রিং হিসেবে নিবে না টেক্সট  ষ্ট্রিং এর একটা অংশ। নাম্বার ও ষ্ট্রিং হতে পারে  ।\n"
   ]
  },
  {
   "cell_type": "markdown",
   "metadata": {},
   "source": [
    "### (Boolean)বুলিয়ানঃ\n",
    "\n",
    "বুলিয়ান ডাটা বলতে লজিকেল ডাটা, সত্য অথবা মিথ্যা(True or False)\n",
    "\n",
    "1. True(1 )\n",
    "\n",
    "2. False(0)\n",
    "\n",
    "ধরেন, ১ আর ১ কে যোগ করলে কত হবে??অবশ্যয় ২। সিউর তো??  এবার আপনি  পাইথন কে বললেন  ১+১=১ তাহলে পাইথন আপনাকে কি বলবে??  \n",
    "False আর যদি আপনি ১+১=২ লিখতেব তাহলে পাইথন কি বলত?? অবশ্যয় True। উপরে  1 True হল এর ইন্টিজার ফরমেট আর  0 হল False এর ইন্টিজার ফরমেট ।\n"
   ]
  },
  {
   "cell_type": "code",
   "execution_count": 5,
   "metadata": {},
   "outputs": [
    {
     "name": "stdout",
     "output_type": "stream",
     "text": [
      "True\n"
     ]
    }
   ],
   "source": [
    "print(1+1==2)\n"
   ]
  },
  {
   "cell_type": "code",
   "execution_count": 6,
   "metadata": {},
   "outputs": [
    {
     "name": "stdout",
     "output_type": "stream",
     "text": [
      "False\n"
     ]
    }
   ],
   "source": [
    "print(1+1==1)"
   ]
  },
  {
   "cell_type": "code",
   "execution_count": 7,
   "metadata": {},
   "outputs": [
    {
     "name": "stdout",
     "output_type": "stream",
     "text": [
      "1\n"
     ]
    }
   ],
   "source": [
    "print(int(True))"
   ]
  },
  {
   "cell_type": "code",
   "execution_count": 8,
   "metadata": {},
   "outputs": [
    {
     "name": "stdout",
     "output_type": "stream",
     "text": [
      "0\n"
     ]
    }
   ],
   "source": [
    "print(int(False))"
   ]
  },
  {
   "cell_type": "markdown",
   "metadata": {},
   "source": [
    "প্রিন্ট নিয়ে চিন্তা করিয়েন না। এটা নিয়েও পরে বলা হবে।  int(True)  আর int(False) ইন্টিজার ফরমেট কেই বুঝানো হয়েছে ।অর্থাৎ True এর ইন্টিজার ফরমেট হল 1 আর False ইন্টিজার ফরমেট  হল 0 ।\n"
   ]
  },
  {
   "cell_type": "markdown",
   "metadata": {},
   "source": [
    "আমাদের কাজ মূলত নাম্বার ও ষ্ট্রিং নিয়ে ।"
   ]
  },
  {
   "cell_type": "markdown",
   "metadata": {},
   "source": [
    "আমার ডেটার টাইপ কি সেটা জানতে হলে type() নামক একটা ফাংশন ব্যাবহার করব। যেখানে আমরা () প্যারান্থেসিস এর ভিতর ডেটা ইনপুট দিলে আমাকে ডেটার প্রকার আউটপুট হিসেবে দেখাবে। ব্যাপারটা আরো  ক্লিয়ার হওয়ার জন্য আমরা উপরে যে ডেটা গুলা লিখছিলাম সেগুলা দিয়ে পরীক্ষা করে দেখি।"
   ]
  },
  {
   "cell_type": "code",
   "execution_count": 1,
   "metadata": {},
   "outputs": [
    {
     "data": {
      "text/plain": [
       "int"
      ]
     },
     "execution_count": 1,
     "metadata": {},
     "output_type": "execute_result"
    }
   ],
   "source": [
    "type(1)"
   ]
  },
  {
   "cell_type": "code",
   "execution_count": 2,
   "metadata": {},
   "outputs": [
    {
     "data": {
      "text/plain": [
       "float"
      ]
     },
     "execution_count": 2,
     "metadata": {},
     "output_type": "execute_result"
    }
   ],
   "source": [
    "type(1.2)"
   ]
  },
  {
   "cell_type": "code",
   "execution_count": 3,
   "metadata": {},
   "outputs": [
    {
     "data": {
      "text/plain": [
       "str"
      ]
     },
     "execution_count": 3,
     "metadata": {},
     "output_type": "execute_result"
    }
   ],
   "source": [
    "type('eta ekta string')"
   ]
  },
  {
   "cell_type": "code",
   "execution_count": 4,
   "metadata": {},
   "outputs": [
    {
     "data": {
      "text/plain": [
       "bool"
      ]
     },
     "execution_count": 4,
     "metadata": {},
     "output_type": "execute_result"
    }
   ],
   "source": [
    "type(True)"
   ]
  },
  {
   "cell_type": "code",
   "execution_count": 5,
   "metadata": {},
   "outputs": [
    {
     "data": {
      "text/plain": [
       "bool"
      ]
     },
     "execution_count": 5,
     "metadata": {},
     "output_type": "execute_result"
    }
   ],
   "source": [
    "type(False)"
   ]
  },
  {
   "cell_type": "code",
   "execution_count": 1,
   "metadata": {},
   "outputs": [
    {
     "name": "stdout",
     "output_type": "stream",
     "text": [
      "Hello world\n"
     ]
    }
   ],
   "source": [
    "print('Hello world')"
   ]
  },
  {
   "cell_type": "markdown",
   "metadata": {},
   "source": [
    "এই ফাকে একটু বলে নিইআপনি যদি হ্যালো ওয়ার্ল্ড এটা সি তে বা জাভায় প্রিন্ট করতে চাইতেন তাহলে ৫-৬ লাইন এর কোড করাই লাগত যেটা পাইথন এক লাইনেই করে দেখাচ্ছে।"
   ]
  },
  {
   "cell_type": "code",
   "execution_count": 2,
   "metadata": {},
   "outputs": [
    {
     "data": {
      "text/plain": [
       "str"
      ]
     },
     "execution_count": 2,
     "metadata": {},
     "output_type": "execute_result"
    }
   ],
   "source": [
    "type('hello world')"
   ]
  },
  {
   "cell_type": "markdown",
   "metadata": {},
   "source": [
    "আশা করি বুঝছেন। এবার নিজে নিজে মান পরিবর্তন করে দেখেন তাহলে আরো ভাল বুঝা যাবে। "
   ]
  },
  {
   "cell_type": "markdown",
   "metadata": {},
   "source": [
    "# কাজঃ"
   ]
  },
  {
   "cell_type": "markdown",
   "metadata": {},
   "source": [
    "(1+1.5) এই ডেটার টাইপ কি???? একটু চিন্তা করেন, না পারলেও সমস্যা নাই সামনে এ নিয়ে বিস্তারিত জানা হবে।"
   ]
  },
  {
   "cell_type": "code",
   "execution_count": null,
   "metadata": {},
   "outputs": [],
   "source": [
    " "
   ]
  },
  {
   "cell_type": "markdown",
   "metadata": {},
   "source": [
    "## নাম্বারের অপারেশন\n"
   ]
  },
  {
   "cell_type": "markdown",
   "metadata": {},
   "source": [
    "আচ্ছা একটা কথা বলেই রাখি, আমরা নাম্বার নিয়ে কথা বলার সময় উপরে একটা জগত কে বাদ ই দিয়ে দিছিলাম । যেহেতু আমরা প্রোগ্রামে কমপ্লেক্সিটি চাই না তাই আমরা কমপ্লেক্স নাম্বার এর জগত টাকে বাদ দিয়ে দিলাম।সুতরাং আমরা এই নাম্বারের অপারেশনে  ২ টা অংশ নিয়ে কথা বলব, একটা হল ইন্টিজার আরেকটা হল ফ্লোট।একটু সেট নিয়ে কথা বলা যাক, ধরেন ফ্লোট একটা সেট ,ভ্যান ডায়াগ্রাম কল্পনা করলে  এটা একটা ৃত্তই হবে যদি ইন্টিজার কে  আরেকটা  সেট কল্পনা করি তাহলে এটাও আরেকটা ৃত্ত হবে। যদি উপসেট এর ধারনা মাথায় থাকে তাহলে কে কার উপসেট  হবে বলে মনে হচ্ছে।??? কোন ৃত্ত টা বড় হবে?? অবশ্যই ফ্লোটের ৃত্ত টা , অর্থাৎ ফ্লোট এর জগত টা বড়। ঘুরায়ে  বললে ইন্টিজার হল ফ্লোট এর একটা উপসেট। এই ব্যাপারটা মাথায় রাখা লাগবে। পরে কাজে লাগবে"
   ]
  },
  {
   "cell_type": "markdown",
   "metadata": {},
   "source": [
    "পাইথনকে আমরা ক্যালকুলেটর হিসেবে ব্যাবহার করতে পারি। যোগ,বিয়গ,গুণ ,ভাগ সব করা যাবে, তবে মাথায় রাখতে হবে ছোট বেলার সেই 'BODMAS'এর কথা.\n"
   ]
  },
  {
   "cell_type": "code",
   "execution_count": 12,
   "metadata": {},
   "outputs": [
    {
     "data": {
      "text/plain": [
       "3"
      ]
     },
     "execution_count": 12,
     "metadata": {},
     "output_type": "execute_result"
    }
   ],
   "source": [
    "(1+2)"
   ]
  },
  {
   "cell_type": "code",
   "execution_count": 6,
   "metadata": {},
   "outputs": [
    {
     "data": {
      "text/plain": [
       "1"
      ]
     },
     "execution_count": 6,
     "metadata": {},
     "output_type": "execute_result"
    }
   ],
   "source": [
    "3-2 "
   ]
  },
  {
   "cell_type": "code",
   "execution_count": 7,
   "metadata": {},
   "outputs": [
    {
     "data": {
      "text/plain": [
       "6"
      ]
     },
     "execution_count": 7,
     "metadata": {},
     "output_type": "execute_result"
    }
   ],
   "source": [
    "2*3"
   ]
  },
  {
   "cell_type": "code",
   "execution_count": 8,
   "metadata": {},
   "outputs": [
    {
     "data": {
      "text/plain": [
       "1.5"
      ]
     },
     "execution_count": 8,
     "metadata": {},
     "output_type": "execute_result"
    }
   ],
   "source": [
    "3/2"
   ]
  },
  {
   "cell_type": "code",
   "execution_count": 9,
   "metadata": {},
   "outputs": [
    {
     "data": {
      "text/plain": [
       "5.0"
      ]
     },
     "execution_count": 9,
     "metadata": {},
     "output_type": "execute_result"
    }
   ],
   "source": [
    "10/2"
   ]
  },
  {
   "cell_type": "code",
   "execution_count": 10,
   "metadata": {},
   "outputs": [
    {
     "data": {
      "text/plain": [
       "5.0"
      ]
     },
     "execution_count": 10,
     "metadata": {},
     "output_type": "execute_result"
    }
   ],
   "source": [
    "10/2"
   ]
  },
  {
   "cell_type": "markdown",
   "metadata": {},
   "source": [
    "একটা ব্যাপার হয়তো খেয়াল করছেন, ভাগফল একটা ইন্টিজার হলেও দেখাচ্ছে ফ্লোট ফরমেট এ।  অর্থাৎ  পাইথন ভাগফলকে সবসময় ফ্লোট ফরমেটেই দেখাবে যদি সেটা ইন্টিজার ও হয় "
   ]
  },
  {
   "cell_type": "code",
   "execution_count": 4,
   "metadata": {},
   "outputs": [
    {
     "data": {
      "text/plain": [
       "3.333333333333334"
      ]
     },
     "execution_count": 4,
     "metadata": {},
     "output_type": "execute_result"
    }
   ],
   "source": [
    "(10+4*3-5*3)/3+2-1"
   ]
  },
  {
   "cell_type": "markdown",
   "metadata": {},
   "source": [
    "উপরের অপারেশনটা একটু  নিজে করেই দেখুন, তাহলে ব্যাপারটা আরো পরিস্কার হবে। "
   ]
  },
  {
   "cell_type": "markdown",
   "metadata": {},
   "source": [
    "\n",
    "\n",
    "যদি দুইটা সংখ্যাকে গুণ করতে চাই তাহলে * চিহ্ন দিয়ে সংখ্যা দুইটাকে গুণ করা যাবে, কিন্তু যদি পাওয়ার করতে চাই ?? অর্থাৎ 10^3 ,2^4 এরকম পাওয়ারের জন্য ** দিতে হবে। একটা উদাহরণ দিলে ব্যাপারটা আরো ভাল বুঝা যাবে।\n"
   ]
  },
  {
   "cell_type": "code",
   "execution_count": 5,
   "metadata": {},
   "outputs": [
    {
     "data": {
      "text/plain": [
       "25"
      ]
     },
     "execution_count": 5,
     "metadata": {},
     "output_type": "execute_result"
    }
   ],
   "source": [
    "# we use ** for power ,a^b (5^2)\n",
    "5**2"
   ]
  },
  {
   "cell_type": "code",
   "execution_count": 6,
   "metadata": {},
   "outputs": [
    {
     "data": {
      "text/plain": [
       "125"
      ]
     },
     "execution_count": 6,
     "metadata": {},
     "output_type": "execute_result"
    }
   ],
   "source": [
    "5**3\n"
   ]
  },
  {
   "cell_type": "code",
   "execution_count": 7,
   "metadata": {},
   "outputs": [
    {
     "data": {
      "text/plain": [
       "1000"
      ]
     },
     "execution_count": 7,
     "metadata": {},
     "output_type": "execute_result"
    }
   ],
   "source": [
    "10**3"
   ]
  },
  {
   "cell_type": "markdown",
   "metadata": {},
   "source": [
    "আমরা ইতোমধ্যে ভাগ করা দেখেছি, কিন্তু যদি এটা জানতে চাওয়া হয় যে দুইটা সংখ্যা কে ভাগ করলে ভাগফল কত হবে  কিন্তু ভাগশেষ চাই না তাহলে কি করব?? // এই চিহ্ন,(a//b) এর মানে a কে দ্বারা b ভাগ করলে ভাগফল কত সেটা দেখাবে । কোন ভাগশেষ দেখাবে না। এটার আরেকটা নাম হল ইন্টিজার  ডিভিশন বা ফ্লোর ডিভিশন। ফ্লোর নিয়ে আমরা একটু পরেই বলব তবে ইন্টিজার ডিভিশন টা বুঝার কথা , আমরা জানি ভাগ করলে সবসময় কিন্তু একটা ফ্লোট ভ্যালুই দেখায়  কিন্তু '//' ইন্টিজার ভ্যালুই দেখাবে, এইজন্য একে ইন্টিজার ডিভিশন বলা হয়। "
   ]
  },
  {
   "cell_type": "code",
   "execution_count": 8,
   "metadata": {},
   "outputs": [
    {
     "data": {
      "text/plain": [
       "2"
      ]
     },
     "execution_count": 8,
     "metadata": {},
     "output_type": "execute_result"
    }
   ],
   "source": [
    "# // দিয়ে পাইথন ভাগফল  দেখাবে, কিন্তু ভাগশেষ দেখাবে না \n",
    "9//4"
   ]
  },
  {
   "cell_type": "code",
   "execution_count": 9,
   "metadata": {},
   "outputs": [
    {
     "data": {
      "text/plain": [
       "2"
      ]
     },
     "execution_count": 9,
     "metadata": {},
     "output_type": "execute_result"
    }
   ],
   "source": [
    "\n",
    "10//5"
   ]
  },
  {
   "cell_type": "markdown",
   "metadata": {},
   "source": [
    "এবার আমরা যদি দুইটা সংখ্যার ভাগফল না ,ভাগশেষ  জানতে চাই তাহলে কি করব???  % এ ই চিহ্ন ব্যাবহার করে  । (a%b)মূলত a কে b দ্বারা ভাগ করলে কোন ভাগশেষ  থাকবে কিনা সেটা দেখাবে.\n"
   ]
  },
  {
   "cell_type": "code",
   "execution_count": 10,
   "metadata": {},
   "outputs": [
    {
     "data": {
      "text/plain": [
       "1"
      ]
     },
     "execution_count": 10,
     "metadata": {},
     "output_type": "execute_result"
    }
   ],
   "source": [
    "# % মূলত ভাগশেষ দেখাবে\n",
    "9%2"
   ]
  },
  {
   "cell_type": "code",
   "execution_count": 11,
   "metadata": {},
   "outputs": [
    {
     "data": {
      "text/plain": [
       "0"
      ]
     },
     "execution_count": 11,
     "metadata": {},
     "output_type": "execute_result"
    }
   ],
   "source": [
    "10%2"
   ]
  },
  {
   "cell_type": "markdown",
   "metadata": {},
   "source": [
    "উপরে আমরা ফ্লোর নিয়ে কথা বলব বলছিলাম। তার আগে আমাদের আরো এটা ব্যাপার জানার দরকার । সিলিং, এই কথার সাথে বেশ পরিচিত। সিলিং ফ্যান আমরা মাথার উ্পরে যে ফ্যান লাগায় বা বাসায় একেবারে উপরের ফ্যানকে আমরা সিলিং ফ্যান হিসেবে চিনি আর বাসাআর নিচের অংশ টা কে ফ্লোর হিসেবে জানি। ceil মূলত ছাদের  নিচের পিঠ কে বুঝায় আর floor মানে তো মেঝে।  এটা এবার এখানে খুব কাজে দিবে। একটা সংখ্যা ধরি,১.৫এই সংখ্যা টাকে ছাদ আর ফ্লোর এর মাঝের অবস্থা কল্পনা করেন। তাহলে ১.৫ এই সংখ্যাটা সিলিং(ceil) মান কত হবে ?? নিশ্চয় ২ ,তাহলে অবশ্যই এর ফ্লোর মান ১ ই হওয়ার কথা। এটা চেক করার আগে আমরা   Module এর সাথে পরিচিত হয়। এক প্রকার লাইব্রেরি। তবে এই লাইব্রেরিতে বই না ফাংশন ষ্টোর করা আছে অনেক।ফাংশন নিয়ে আমরা ফাংশন অধ্যায় এ আলোচনা করব।ফাংশন মূলৎ নির্দিষ্ট কাজ করে ।আমরা প্রথম যে  Module এর সাথে পরিচিত হব সেটার নাম math। পাইথনকে কোন  Module এর ফাংশন ব্যাবহার করতে চাইলে আগে তাকে ইম্পোর্ট করতে হবে import নামক কি ওয়ার্ড দিয়ে । তাহলে math কে ইম্পোর্ট করতে চাইলে আগে অবশ্যই import math এটা ব্যাবহার করতে হবে। তাহলে ধরেন কোন একটা লাইব্রেরির নাম numpy বা pandas তাহলে আমারা তাকে কিভাবে ইম্পোর্ট করব??? এটা আপনার কাজ  \n",
    "\n",
    "মডিউল তো ইম্পোর্ট করলাম এবার কি করব?? \n",
    "এর পরের কাজ হল  আমরা ওই মডিউল এর কোন ফাংশন টা ব্যাবহার করতে চাচ্ছি। তাহলে তো আমাদের  জানা দরকার ওই মডিউলে কোন কোন ফাংশন আছে । সেটা জানার জন্য আগে মডিউল কে ইম্পোর্ট করার পর help(math) এই কমান্ড ব্যাবহার করব। তাহলে পুরা ম্ডিউলের বিস্তারি্ত আপনাকে দেখাবে । আমরা এখানে কয়েটা ফাংশন নিয়ে কথা বলব। floor() , ceil() , pi , sin()  এরপর বাকি  গুলা আপনি নিজেই করে দেখবেন ।   এই ফাংশন গুলা মূলত math মডিউল এর মধ্যে আগে থেকে ষ্টোর করা আছে।"
   ]
  },
  {
   "cell_type": "code",
   "execution_count": 34,
   "metadata": {},
   "outputs": [],
   "source": [
    "\n",
    "import math\n"
   ]
  },
  {
   "cell_type": "code",
   "execution_count": 35,
   "metadata": {},
   "outputs": [
    {
     "data": {
      "text/plain": [
       "2"
      ]
     },
     "execution_count": 35,
     "metadata": {},
     "output_type": "execute_result"
    }
   ],
   "source": [
    "math.floor(2.5)\n"
   ]
  },
  {
   "cell_type": "code",
   "execution_count": 36,
   "metadata": {},
   "outputs": [
    {
     "data": {
      "text/plain": [
       "3"
      ]
     },
     "execution_count": 36,
     "metadata": {},
     "output_type": "execute_result"
    }
   ],
   "source": [
    "math.ceil(2.5)\n"
   ]
  },
  {
   "cell_type": "code",
   "execution_count": 37,
   "metadata": {},
   "outputs": [
    {
     "data": {
      "text/plain": [
       "3.141592653589793"
      ]
     },
     "execution_count": 37,
     "metadata": {},
     "output_type": "execute_result"
    }
   ],
   "source": [
    "math.pi\n"
   ]
  },
  {
   "cell_type": "code",
   "execution_count": 38,
   "metadata": {},
   "outputs": [
    {
     "data": {
      "text/plain": [
       "0.0"
      ]
     },
     "execution_count": 38,
     "metadata": {},
     "output_type": "execute_result"
    }
   ],
   "source": [
    "math.sin(0)"
   ]
  },
  {
   "cell_type": "markdown",
   "metadata": {},
   "source": [
    "একটা জিনিস একটু খেয়াল করলে দেখবেন, যত বার ই কোন ফাংশন ব্যাবহার করতে চাচ্ছি ততবার ই আমাদের math কে ব্যাবহার করতে হয়। আমরা চাইলে  প্রতি বার math না লিখে অন্য কিছুও ব্যাবহার করতে পারি।সেজন্য আমাদের ইম্পোর্ট করার সময় তার নাম কি দিতে চাই সেটা ও বলে দিতে হবে। যেমন , আমরা চাচ্ছি প্রতিবার  math না লিখে শুধু m লিখব তাহলে ,\n",
    "import math as m  এটা লিখতে হবে, আপনি যা লিখতে চান তা আগেই বলে দেয়া লাগবে।\n"
   ]
  },
  {
   "cell_type": "code",
   "execution_count": 39,
   "metadata": {},
   "outputs": [
    {
     "data": {
      "text/plain": [
       "12"
      ]
     },
     "execution_count": 39,
     "metadata": {},
     "output_type": "execute_result"
    }
   ],
   "source": [
    "import math as m\n",
    "m.ceil(11.2)"
   ]
  },
  {
   "cell_type": "markdown",
   "metadata": {},
   "source": [
    "আপনি যদি এত বার এদের ব্যাবহার করতেই না চান অর্থাৎ   m. বা  math. এদের যদি এতবার ব্যাবহার করতে না চান তাহলে যা যা ফাংশন আপনি ব্যাবহার করতে চান সব আগেই ইম্পোর্ট করে ফেলতে পারেন। সেক্ষেত্রে আপনাকে লিখতে হবে from math import আপনি কোন কোন ফাংশন ব্যাবহার করবেন তাদের নাম\n",
    "\n",
    "\n",
    "\n",
    "\n",
    "\n",
    " "
   ]
  },
  {
   "cell_type": "code",
   "execution_count": 40,
   "metadata": {},
   "outputs": [],
   "source": [
    "from math import ceil,pi,sin\n",
    "# এখানে আমরা আগে থেকে ৩ টা ফাংশন কে ইম্পোর্ট করে রাখছি "
   ]
  },
  {
   "cell_type": "code",
   "execution_count": 41,
   "metadata": {},
   "outputs": [
    {
     "data": {
      "text/plain": [
       "14"
      ]
     },
     "execution_count": 41,
     "metadata": {},
     "output_type": "execute_result"
    }
   ],
   "source": [
    "\n",
    "ceil(13.2)"
   ]
  },
  {
   "cell_type": "code",
   "execution_count": 42,
   "metadata": {},
   "outputs": [
    {
     "data": {
      "text/plain": [
       "3.141592653589793"
      ]
     },
     "execution_count": 42,
     "metadata": {},
     "output_type": "execute_result"
    }
   ],
   "source": [
    "pi"
   ]
  },
  {
   "cell_type": "code",
   "execution_count": 43,
   "metadata": {},
   "outputs": [
    {
     "data": {
      "text/plain": [
       "0.0"
      ]
     },
     "execution_count": 43,
     "metadata": {},
     "output_type": "execute_result"
    }
   ],
   "source": [
    "sin(0)"
   ]
  },
  {
   "cell_type": "code",
   "execution_count": 44,
   "metadata": {},
   "outputs": [
    {
     "ename": "SyntaxError",
     "evalue": "invalid syntax (<ipython-input-44-4ec6552bb174>, line 1)",
     "output_type": "error",
     "traceback": [
      "\u001b[1;36m  File \u001b[1;32m\"<ipython-input-44-4ec6552bb174>\"\u001b[1;36m, line \u001b[1;32m1\u001b[0m\n\u001b[1;33m    আশা করি ব্যাপার গুলা বুঝতে পারছেন। এবার আপনার যেরকম খুশি লাগে আর কি।\u001b[0m\n\u001b[1;37m          ^\u001b[0m\n\u001b[1;31mSyntaxError\u001b[0m\u001b[1;31m:\u001b[0m invalid syntax\n"
     ]
    }
   ],
   "source": [
    "\n",
    "আশা করি ব্যাপার গুলা বুঝতে পারছেন। এবার আপনার যেরকম খুশি লাগে আর কি।"
   ]
  },
  {
   "cell_type": "markdown",
   "metadata": {},
   "source": [
    "# কাজ ঃ\n"
   ]
  },
  {
   "cell_type": "markdown",
   "metadata": {},
   "source": [
    "১। (10^5) ,(10^3) কে যোগ , বিয়োগ, গুণ  ও ভাগ করতে হবে  প্রোগ্রামের মাধ্যমে\n",
    "\n"
   ]
  },
  {
   "cell_type": "code",
   "execution_count": null,
   "metadata": {},
   "outputs": [],
   "source": []
  },
  {
   "cell_type": "markdown",
   "metadata": {},
   "source": [
    "## ভ্যারিয়েবল"
   ]
  },
  {
   "cell_type": "markdown",
   "metadata": {},
   "source": [
    "ধরেন, একটা কিচেন রুমের মধ্যে অনেকগুলা বক্স আছে যেখানে এক একটা বক্সে  এক এক ধরনের আইটেম রাখা আছে। কোন বক্সে কি কি রাখা আছে তা বক্সের উপর লিখা আছে। এখন বক্সের নামটা হল ভ্যেরিয়েবল আর বক্সের মধ্যে যা রাখা আছে তা হল ভ্যেলু । প্রোগ্রামিং এ ও আমরা যে ভ্যালু  টা ব্যাবহার করব তার একটা নাম দিব। এই নামটাই হল ভ্যারিয়েবল । ভ্যারিয়েবল মূলত এমন একটা বক্স যেখানে ভ্যালু ষ্টোর থাকবে । ভ্যারিয়েবল  ও ভ্যালুর মধে সম্পর্ক স্থাপনকারি হল = চিনহ । সুতরাং আমরা বলতেই পারি ভ্যারিয়েবল = ভ্যালু । যেমন"
   ]
  },
  {
   "cell_type": "markdown",
   "metadata": {},
   "source": [
    "a=3"
   ]
  },
  {
   "cell_type": "markdown",
   "metadata": {},
   "source": [
    " এখানে   a হল ভ্যারিয়েবল আর 3 হল ভ্যালু । অর্থাৎ a ভ্যারিয়েবলের মধ্যে 3 ভ্যালু ষ্টোর আছে।"
   ]
  },
  {
   "cell_type": "code",
   "execution_count": 45,
   "metadata": {},
   "outputs": [],
   "source": [
    "length=3\n",
    "width=4\n"
   ]
  },
  {
   "cell_type": "markdown",
   "metadata": {},
   "source": [
    "এখানে,length, width,  হল ভ্যেরিয়েবল "
   ]
  },
  {
   "cell_type": "markdown",
   "metadata": {},
   "source": [
    "আর 3 , 4  হল ভ্যালু"
   ]
  },
  {
   "cell_type": "code",
   "execution_count": 46,
   "metadata": {},
   "outputs": [
    {
     "ename": "SyntaxError",
     "evalue": "invalid character in identifier (<ipython-input-46-3a9e27d3577b>, line 1)",
     "output_type": "error",
     "traceback": [
      "\u001b[1;36m  File \u001b[1;32m\"<ipython-input-46-3a9e27d3577b>\"\u001b[1;36m, line \u001b[1;32m1\u001b[0m\n\u001b[1;33m    ৩ টি সংখ্যার গড়\u001b[0m\n\u001b[1;37m    ^\u001b[0m\n\u001b[1;31mSyntaxError\u001b[0m\u001b[1;31m:\u001b[0m invalid character in identifier\n"
     ]
    }
   ],
   "source": [
    "৩ টি সংখ্যার গড়"
   ]
  },
  {
   "cell_type": "code",
   "execution_count": 47,
   "metadata": {},
   "outputs": [
    {
     "name": "stdout",
     "output_type": "stream",
     "text": [
      "3.0\n"
     ]
    }
   ],
   "source": [
    "\n",
    "a=2\n",
    "b=3\n",
    "c=4\n",
    "Sum=a+b+c\n",
    "avg=Sum/3\n",
    "print(avg)"
   ]
  },
  {
   "cell_type": "code",
   "execution_count": 48,
   "metadata": {},
   "outputs": [
    {
     "ename": "SyntaxError",
     "evalue": "invalid syntax (<ipython-input-48-bde5698ef012>, line 1)",
     "output_type": "error",
     "traceback": [
      "\u001b[1;36m  File \u001b[1;32m\"<ipython-input-48-bde5698ef012>\"\u001b[1;36m, line \u001b[1;32m1\u001b[0m\n\u001b[1;33m    এখানে ভ্যারিয়েবল গুলা কি কি??\u001b[0m\n\u001b[1;37m                   ^\u001b[0m\n\u001b[1;31mSyntaxError\u001b[0m\u001b[1;31m:\u001b[0m invalid syntax\n"
     ]
    }
   ],
   "source": [
    "এখানে ভ্যারিয়েবল গুলা কি কি?? "
   ]
  },
  {
   "cell_type": "code",
   "execution_count": 49,
   "metadata": {},
   "outputs": [
    {
     "ename": "SyntaxError",
     "evalue": "invalid syntax (<ipython-input-49-b656423e2cdf>, line 1)",
     "output_type": "error",
     "traceback": [
      "\u001b[1;36m  File \u001b[1;32m\"<ipython-input-49-b656423e2cdf>\"\u001b[1;36m, line \u001b[1;32m1\u001b[0m\n\u001b[1;33m    এবার নিজেই কয়েকটা ভ্যারিয়েবল ক্রিয়েট করেন ......\u001b[0m\n\u001b[1;37m             ^\u001b[0m\n\u001b[1;31mSyntaxError\u001b[0m\u001b[1;31m:\u001b[0m invalid syntax\n"
     ]
    }
   ],
   "source": [
    "এবার নিজেই কয়েকটা ভ্যারিয়েবল ক্রিয়েট করেন ......"
   ]
  },
  {
   "cell_type": "markdown",
   "metadata": {},
   "source": [
    "## ভ্যারিয়েবল লিখার  নিয়ম ঃ\n",
    "   \n",
    "      ১। পাইথনের রিসার্ভ কি ওয়ার্ড বা ফাংশন গুলা ভ্যারিয়েবল এর নাম হতে পারবে না\n",
    "           যেমনঃ if,else,for,print,False এইগুলা পাইথনের রিসার্ভ ওয়ার্ড। পাইথন ডকুমেন্ট এ গেলে বাকি কি ওয়ার্ড গুলা পেয়ে যাবেন\n",
    "      \n",
    "      ২।কোন স্পেস(space) ব্যাবহার করা যাবে না।\n",
    "      \n",
    "      \n",
    "      ৩।অবশ্যয় লেটার বা আন্ডারস্কোর(_) দিয়ে ভ্যারিয়েবল এর নাম শুরু হতে হবে\n",
    "      \n",
    "      ৪।ভ্যারিয়েবল এর নাম লেটার , নাম্বার বা আন্ডারস্কোর(_) দিয়ে হতে হবে।\n",
    "      \n",
    "      ৫। কোন স্পেশাল কারেক্তার দিয়ে ভ্যারিয়েবল এর নাম দেয়া যাবে না\n",
    "      \n",
    "      \n",
    "                     "
   ]
  },
  {
   "cell_type": "code",
   "execution_count": 50,
   "metadata": {},
   "outputs": [],
   "source": [
    "i_am_a_variable=3  #(valid)\n",
    "\n",
    "iamavariable=4       #(valid)\n",
    "\n",
    "i_am_a_variable_1=1    # valid\n"
   ]
  },
  {
   "cell_type": "code",
   "execution_count": 51,
   "metadata": {
    "scrolled": true
   },
   "outputs": [
    {
     "ename": "SyntaxError",
     "evalue": "invalid token (<ipython-input-51-f2645ac2c362>, line 1)",
     "output_type": "error",
     "traceback": [
      "\u001b[1;36m  File \u001b[1;32m\"<ipython-input-51-f2645ac2c362>\"\u001b[1;36m, line \u001b[1;32m1\u001b[0m\n\u001b[1;33m    1_i_am_a_variable=5   #(invalid)\u001b[0m\n\u001b[1;37m     ^\u001b[0m\n\u001b[1;31mSyntaxError\u001b[0m\u001b[1;31m:\u001b[0m invalid token\n"
     ]
    }
   ],
   "source": [
    "1_i_am_a_variable=5   #(invalid)\n",
    "\n",
    "i am a variable =6    # invalid"
   ]
  },
  {
   "cell_type": "markdown",
   "metadata": {},
   "source": [
    "প্রত্যেক টা ভ্যারিয়েবল এর মধ্যে যে ভ্যালু থাকে ভ্যালু গুলার এক একটার আইডি বা লোকেশন নির্দিষ্ট। ভ্যারিয়েবলের বা ভ্যালুর লোকেশন জানতে  \n",
    "id()ব্যাবহার  করব।"
   ]
  },
  {
   "cell_type": "code",
   "execution_count": 52,
   "metadata": {},
   "outputs": [
    {
     "data": {
      "text/plain": [
       "140718794580400"
      ]
     },
     "execution_count": 52,
     "metadata": {},
     "output_type": "execute_result"
    }
   ],
   "source": [
    "id(a)"
   ]
  },
  {
   "cell_type": "code",
   "execution_count": 53,
   "metadata": {},
   "outputs": [
    {
     "data": {
      "text/plain": [
       "140718794580432"
      ]
     },
     "execution_count": 53,
     "metadata": {},
     "output_type": "execute_result"
    }
   ],
   "source": [
    "id(length)"
   ]
  },
  {
   "cell_type": "code",
   "execution_count": 54,
   "metadata": {},
   "outputs": [
    {
     "data": {
      "text/plain": [
       "140718794580464"
      ]
     },
     "execution_count": 54,
     "metadata": {},
     "output_type": "execute_result"
    }
   ],
   "source": [
    "id(width)"
   ]
  },
  {
   "cell_type": "markdown",
   "metadata": {},
   "source": [
    "প্রত্যেকটা ভ্যারিয়েবল এক একটা নির্দিষ্ট লোকেশন বা একটা নির্দিষ্ট বক্সে এ থাকবে। কিচেন এর সেই বক্স এর মত । চিনি যেমন একটা বক্সে থাকবে মরিচ আরেকটা বক্সে থাকবে। এখন ধরেন যে বক্সে আপনি চিনি রাখলেন সেই বক্সের যদি ২ টা নাম হয় তাহলে তো আর চিনির বক্সের কোন পরিবর্তন হবে না অর্থাৎ চিনির বক্সের লোকেশন আগেরটা থাকবে। ঠিক একটা ভ্যালুর যদি দুই টা ভ্যারিয়েবল থাকে তাহলে লোকেশন দুইটা  টা হবে না একটাই টাই হবে।  এর মানে কম্পিউটারে  যে আইডি বো লোকেশন দেখাচ্ছে সেটা কোন ভ্যারিয়েবলের না সেটা ভ্যালুর। ভ্যালুই মূলত রেফারেন্স। "
   ]
  },
  {
   "cell_type": "code",
   "execution_count": 55,
   "metadata": {},
   "outputs": [
    {
     "name": "stdout",
     "output_type": "stream",
     "text": [
      "location of a is=  140718794580560\n"
     ]
    }
   ],
   "source": [
    "a=7\n",
    "print('location of a is= ',id(a))"
   ]
  },
  {
   "cell_type": "code",
   "execution_count": 56,
   "metadata": {},
   "outputs": [],
   "source": [
    "b=a"
   ]
  },
  {
   "cell_type": "markdown",
   "metadata": {},
   "source": [
    "আচ্ছা এখন b এর লোকেশন কত হবে?? অবশ্যয় a এর লোকেশন যা b এর লো্কেশন ও একই হবে।"
   ]
  },
  {
   "cell_type": "code",
   "execution_count": 61,
   "metadata": {},
   "outputs": [
    {
     "name": "stdout",
     "output_type": "stream",
     "text": [
      "location of a is=  140718794580560\n"
     ]
    }
   ],
   "source": [
    "print('location of a is= ',id(b))"
   ]
  },
  {
   "cell_type": "code",
   "execution_count": 62,
   "metadata": {},
   "outputs": [
    {
     "name": "stdout",
     "output_type": "stream",
     "text": [
      "they are same location or same id\n"
     ]
    }
   ],
   "source": [
    "if id(a)==id(b):\n",
    "    print('they are same location or same id')\n",
    "else:\n",
    "    print('they are not same location')"
   ]
  },
  {
   "cell_type": "code",
   "execution_count": 63,
   "metadata": {},
   "outputs": [],
   "source": [
    "p=6\n",
    "q=4\n",
    "r=8"
   ]
  },
  {
   "cell_type": "markdown",
   "metadata": {},
   "source": [
    "আচ্ছা , এখন অবশ্যয় p,q,r তিনটা ভ্যারিয়েবলের আলাদা আলাদা লোকেশন।যেহেতু তিনটার ভ্যালুই আলাদা। "
   ]
  },
  {
   "cell_type": "code",
   "execution_count": 64,
   "metadata": {},
   "outputs": [
    {
     "name": "stdout",
     "output_type": "stream",
     "text": [
      "location of p=  140718794580528\n",
      "location of q=  140718794580464\n",
      "location of r=  140718794580592\n"
     ]
    }
   ],
   "source": [
    "print('location of p= ',id(p))\n",
    "\n",
    "print('location of q= ',id(q))\n",
    "\n",
    "print('location of r= ',id(r))"
   ]
  },
  {
   "cell_type": "code",
   "execution_count": 65,
   "metadata": {},
   "outputs": [],
   "source": [
    "p=q"
   ]
  },
  {
   "cell_type": "markdown",
   "metadata": {},
   "source": [
    "এখন কি হবে বলে মনে হচ্ছে???? p ,q দুইজনের লোকেশনের এক হওয়ার কথা।"
   ]
  },
  {
   "cell_type": "code",
   "execution_count": 66,
   "metadata": {},
   "outputs": [
    {
     "name": "stdout",
     "output_type": "stream",
     "text": [
      "location of p=  140718794580464\n",
      "location of q=  140718794580464\n",
      "location of r=  140718794580592\n"
     ]
    }
   ],
   "source": [
    "print('location of p= ',id(p))\n",
    "print('location of q= ',id(q))\n",
    "print('location of r= ',id(r))"
   ]
  },
  {
   "cell_type": "code",
   "execution_count": 67,
   "metadata": {},
   "outputs": [
    {
     "name": "stdout",
     "output_type": "stream",
     "text": [
      "4\n",
      "4\n"
     ]
    }
   ],
   "source": [
    "print(p)\n",
    "print(q)"
   ]
  },
  {
   "cell_type": "code",
   "execution_count": null,
   "metadata": {},
   "outputs": [],
   "source": []
  },
  {
   "cell_type": "code",
   "execution_count": null,
   "metadata": {},
   "outputs": [],
   "source": []
  },
  {
   "cell_type": "markdown",
   "metadata": {},
   "source": [
    "p ,q এর ভ্যালু ও একই "
   ]
  },
  {
   "cell_type": "code",
   "execution_count": 68,
   "metadata": {},
   "outputs": [],
   "source": [
    "q=r"
   ]
  },
  {
   "cell_type": "markdown",
   "metadata": {},
   "source": [
    "এখন কি হবে?????তিনটার লোকেশন একই হয়ে যাবে???নাকি শুধু q,r এর লোকেশন একই হয়ে যাবে??আমরা কিন্তু p কে নিয়ে কিছু করি নাই এখন। সুতরাং p এর কোন পরিবর্তন হওয়ার কথা না। "
   ]
  },
  {
   "cell_type": "code",
   "execution_count": 69,
   "metadata": {},
   "outputs": [
    {
     "name": "stdout",
     "output_type": "stream",
     "text": [
      "location of p=  140718794580464\n",
      "location of q=  140718794580592\n",
      "location of r=  140718794580592\n"
     ]
    }
   ],
   "source": [
    "print('location of p= ',id(p))\n",
    "\n",
    "print('location of q= ',id(q))\n",
    "\n",
    "print('location of r= ',id(r))"
   ]
  },
  {
   "cell_type": "markdown",
   "metadata": {},
   "source": [
    "এটা যদি বুঝতে সমস্যা হয় তাহলে , ধরেন,\n",
    "আপনি , আপনার বন্ধু x ও আপনার আরেক বন্ধু y  তিন জায়গায় অবস্থান করছেন। আপনি চকবাজার,আপনার প্রথম বন্ধু নিউমার্কেট আর দ্বিতীয় বন্ধু আন্দরকিল্লা। এটা কে আমাদের প্রোগ্রামের \n",
    "p=6\n",
    "q=4\n",
    "r=8\n",
    "এর মত মনে করি। এখন, আম্পনার প্রথম বন্ধু নিউমার্কেট থেকে আপনার কাছে চলে আসল এর মানে আপনাদের দুইজনের লোকেশন এখন এক। এটা   আমাদের প্রোগ্রামের  p=q এর সাথে তুলনা করতে পারি। এবার আপনার বন্ধু যদি আবার আপনার থেকে চলে গিয়ে আন্দরকিল্লায় চলে যায় তাহলে কি আপনাদের তিনজনের লোকেশন এক হবে??? অবশ্যই না। এটা আমাদের প্রোগ্রামের  q=r এর সাথে তুলনা করতে পারি । আপনাদের তিন জনের লোকেশন একই হত কখন??  যদি আপনার দ্বিতীয় বন্ধু আন্দরকিল্লা থেকে চকবাজার চলে আসত তাহলে । তাহলে আমাদের প্রোগ্রামে ও আমরা চাইলে তিনটা ভ্যারিয়েবল এর লোকেশন এক করতে পারি ।\n"
   ]
  },
  {
   "cell_type": "code",
   "execution_count": 70,
   "metadata": {},
   "outputs": [
    {
     "name": "stdout",
     "output_type": "stream",
     "text": [
      "140718794580368\n",
      "140718794580400\n",
      "140718794580432\n"
     ]
    }
   ],
   "source": [
    "p=1\n",
    "q=2\n",
    "r=3\n",
    "print(id(p))\n",
    "print(id(q))\n",
    "print(id(r))"
   ]
  },
  {
   "cell_type": "code",
   "execution_count": 71,
   "metadata": {},
   "outputs": [
    {
     "name": "stdout",
     "output_type": "stream",
     "text": [
      "140718794580400\n",
      "140718794580400\n",
      "140718794580432\n"
     ]
    }
   ],
   "source": [
    "p=q\n",
    "print(id(p))\n",
    "print(id(q))\n",
    "print(id(r))"
   ]
  },
  {
   "cell_type": "code",
   "execution_count": 72,
   "metadata": {},
   "outputs": [
    {
     "name": "stdout",
     "output_type": "stream",
     "text": [
      "140718794580400\n",
      "140718794580400\n",
      "140718794580400\n"
     ]
    }
   ],
   "source": [
    "r=q\n",
    "print(id(p))\n",
    "print(id(q))\n",
    "print(id(r))"
   ]
  },
  {
   "cell_type": "markdown",
   "metadata": {},
   "source": [
    "আশা করি ব্যাপার গুলা বুঝছেন। আরো ভাল বুঝতে চাইলে নিজে নিজে আরো কয়েকবার চেষ্টা করে দেখেন। ভ্যারিয়েবল তার লোকেশন ও ভ্যালু দুইটাই  পরিবর্তন করে ফেলে ।ভ্যারিয়েবল এর সজ্ঞায় কিন্তু এটাই বলে, যা পরিবর্তন হয় তাই ভ্যারিয়েবল । সবশেষ পরিবররতন কেই কম্পিউটার কাউন্ট করবে। "
   ]
  },
  {
   "cell_type": "code",
   "execution_count": null,
   "metadata": {},
   "outputs": [],
   "source": []
  },
  {
   "cell_type": "markdown",
   "metadata": {},
   "source": [
    " ### এবার নিজে  কোড করেন...\n",
    " \n",
    " \n",
    "   ১। ধরেন আপনি ও আপনার ২  বন্ধু মিলে একটা রেষ্টুরেন্টে গেলেন এবং ঠিক্ করলেন দুই জনেই  সমান পরিমান বিল দিবেন , এক কথায় শেয়ার করেই বিল দিবেন । রেষ্টুরেন্টে ৫% ছাড় দেয়া হবে । আপনাদের বিল যদি ২২২ টাকা আসে তাহলে আপনার বিলের পরিমান কত?? \n",
    "    \n",
    "    hints:\n",
    "    \n",
    "    total=\n",
    "    \n",
    "    percentage=\n",
    "    \n",
    "    apni=percentage/3\n",
    "    \n",
    "    \n",
    "    \n",
    "    ২।একটি পরিবারের ৪ জন সদস্যের জন্য ২২৫ টাকার বাজার করা হল। ২ দিন পর যদি বাজার শেষ হয়ে যায় তাহলে  ঐ পরিবারের প্রত্যেক সদস্যের জন্য দৈনিক কত টাকার বাজার করা হয়েছে।\n",
    "    \n",
    "    \n",
    "    \n",
    "    \n",
    "    ৩। একটি ত্রিভূজের ২ টি বাহুর কো্নের মান ৩০ ও ৫৬্র ৃতীয় কোনের মান কত।\n",
    "    \n",
    "    \n",
    "    ৪।একজন  লোকের দৈনিক ইনকাম ২৫০ টাকা এবং সপ্তাহের ব্ায় ১০২০ টাকা । মার্চ মাসে ঐ ব্যাক্তি কত টাকা জমা করতে পারবে। "
   ]
  },
  {
   "cell_type": "markdown",
   "metadata": {},
   "source": [
    "# প্রিন্ট  ফাংশন print()\n",
    "\n",
    "\n",
    "\n",
    "প্রিন্ট ফাংশন মূলত পাইথন এ কোন কিছু ডিসপ্লে তে দেখানোর জন্য ব্যাবহার হয়।\n",
    "\n",
    "\n",
    "\n",
    "\n",
    "\n",
    "\n",
    "\n",
    "\n",
    "\n",
    "\n",
    "\n",
    "\n",
    "\n",
    "\n",
    "\n"
   ]
  },
  {
   "cell_type": "code",
   "execution_count": 73,
   "metadata": {},
   "outputs": [
    {
     "name": "stdout",
     "output_type": "stream",
     "text": [
      "Hello World\n"
     ]
    }
   ],
   "source": [
    "print('Hello World')\n"
   ]
  },
  {
   "cell_type": "code",
   "execution_count": 74,
   "metadata": {},
   "outputs": [
    {
     "name": "stdout",
     "output_type": "stream",
     "text": [
      "Hello world\n"
     ]
    }
   ],
   "source": [
    "\n",
    "a='Hello world'\n",
    "print(a)"
   ]
  },
  {
   "cell_type": "code",
   "execution_count": 75,
   "metadata": {},
   "outputs": [
    {
     "name": "stdout",
     "output_type": "stream",
     "text": [
      "5\n"
     ]
    }
   ],
   "source": [
    "num_1=2\n",
    "num_2=3\n",
    "Sum_of_num=num_1+num_2\n",
    "print(Sum_of_num )\n"
   ]
  },
  {
   "cell_type": "markdown",
   "metadata": {},
   "source": [
    "উপরের ৩ টি  উদাহরন একটু ভাল করে দেখলে বুঝতে পারবেন প্রথম প্রিন্ট আমরা ষ্ট্রিং ডাটা পরের প্রিন্ট এ ওই ষ্ট্রিং কে একটি ভ্যারিয়েবল এ ষ্টোর করে তারপর ওই ভেরিয়েবল কে প্রিন্ট করছি। দুইটা তেই একই আউটপুট ই দেখাচ্ছে।আর ৃতীয় অপশনে ২ টা সংখ্যার যোগফল প্রিন্ট করা হয়েছে।\n",
    "এখন যদি আমি ৩ নম্বর প্রিন্ট  এর দিকে দেখি এখানে একটা সংখা দেখাচ্ছে । কার যোগফল বা বিয়োগফল তা কিন্তু দেখাচ্ছে না।\n",
    "আমি চাচ্ছি এটা এভাবে দেখাক,"
   ]
  },
  {
   "cell_type": "markdown",
   "metadata": {},
   "source": [
    "summation of 2 and 3 is =5"
   ]
  },
  {
   "cell_type": "code",
   "execution_count": 76,
   "metadata": {},
   "outputs": [
    {
     "name": "stdout",
     "output_type": "stream",
     "text": [
      "summation of 2 and 3 is = 5\n"
     ]
    }
   ],
   "source": [
    "num_1=2\n",
    "num_2=3\n",
    "sum_of_num=num_1+num_2\n",
    "print('summation of {} and {} is = {}'.format(num_1,num_2,sum_of_num))\n"
   ]
  },
  {
   "cell_type": "markdown",
   "metadata": {},
   "source": [
    "কিছু বুঝতে পারছেন?? প্রথমে আমরা ষ্ট্রিং লিখার জন্য কোলন ব্যাবহার করলাম। তারপর ইউসার কে বুঝানোর জন্য  লিখলাম summation of, কাকে যোগ \n",
    "করব?? num_1 এবং কে num_2 তাই num_1 এবং কে num_2  এর জায়গায় {} ব্যাবহার করছি তারপর আবার লিখলাম is = ,এরপর  অব্শ্যয়  সংখ্যা \n",
    "দুইটির যোগফল দেখাতে হবে তাই আবার {} ব্যাবহার করলাম। এর পর কোলন এর কাজ শেষ। এখন পাইথনকে বুঝাতে হবে যে ৩ টা {} ব্যাবহার করলাম \n",
    "এখানে কাকে দেখানো লাগবে। এইজন্য .format()  ব্যাবহার করা লাগবে তার পর প্যারান্থেসিস এর ভিতর সিরিয়ালি ্লিখতে হবে \n",
    "num_1,num_2,sum_of_num. কারন আমরা এদেরকেই চাচ্ছি । আরেকটা  উদাহরন দিলে ভাল বুঝা যাবে\n"
   ]
  },
  {
   "cell_type": "code",
   "execution_count": 77,
   "metadata": {},
   "outputs": [
    {
     "name": "stdout",
     "output_type": "stream",
     "text": [
      " Area of triangle is = 6.0 cm ,where length is =4 cm , and width is = 3 cm.  \n"
     ]
    }
   ],
   "source": [
    "# suppose fiven lenght and widht in a triangle and find and show the area of triangle\n",
    "length=4\n",
    "width=3\n",
    "area=0.5*length*width  \n",
    "print(' Area of triangle is = {} cm ,where length is ={} cm , and width is = {} cm.  '.format(area,length,width))\n"
   ]
  },
  {
   "cell_type": "code",
   "execution_count": 78,
   "metadata": {},
   "outputs": [
    {
     "name": "stdout",
     "output_type": "stream",
     "text": [
      "3 is greater than 2 \n"
     ]
    }
   ],
   "source": [
    "a=2\n",
    "b=3\n",
    "print('{} is greater than {} '.format(b,a))"
   ]
  },
  {
   "cell_type": "code",
   "execution_count": 79,
   "metadata": {},
   "outputs": [
    {
     "name": "stdout",
     "output_type": "stream",
     "text": [
      "Here ,\n",
      " initial velocity = 0 m/s \n",
      " final velocity =5 m/s \n",
      " time =2 sec \n",
      " so acceleration of this system is =2.5 m/s \n"
     ]
    }
   ],
   "source": [
    "u=0 # initail velocity 0 m/s\n",
    "v=5 # last velocity  5 m/s\n",
    "t= 2 # time 2 sec\n",
    "a=(v-u)/t\n",
    "print('Here ,\\n initial velocity = {} m/s \\n final velocity ={} m/s \\n time ={} sec \\n so acceleration of this system is ={} m/s '.format(u,v,t,a))\n",
    "#\\n means new line"
   ]
  },
  {
   "cell_type": "markdown",
   "metadata": {},
   "source": [
    "আশা করি বুঝছেন।এবার আপনার কাজ। \n",
    "# কাজ\n",
    "\n",
    "১। a ,b নামক দুইটি ভ্যারিয়েবল  নিবেন। ভ্যারিয়েবল দুইটির মধ্যে ২ টি সংখায় সংখ্যা এসাইন করবেন, দুইটি সংখ্যার যোগফল বিয়োগফল,গুনফল এবং ভাগফল প্রিন্ট করবেন.format ()ব্যাবহার করে\n",
    "\n",
    "২। একটি  গাড়ির আদিবেগ,ত্বরন ও সময় যথাক্রমে   ১২,৪,১০। গাড়িটির শেষ বেগ উপরের উদাহরনের মত প্রিন্ট করতে হবে।সূত্র a=(v-u)/t\n",
    "\n",
    "৩আলাদা আলাদা ভ্যারিয়েবল দিয়ে নিজের পরিচয় একটা প্রিণ্ট  ফাংশন দিয়ে প্রিন্ট করতে হবে।\n"
   ]
  },
  {
   "cell_type": "markdown",
   "metadata": {},
   "source": [
    "# ডেটার কনভার্সনঃ "
   ]
  },
  {
   "cell_type": "markdown",
   "metadata": {},
   "source": [
    "ইন্টিজার, ফ্লোট , ষ্ট্রিং এই তিন প্রকার ডেটা গুলা পারস্পরিক রুপান্তর করা যায়। অর্থাৎ একটা ডেটা থেকে লাফ দিয়ে  আরেকটা ডেটায় যাওয়ার সু-ব্যাবস্থা আছে। তবে চাইলে যে সব ডেটাকে সবসম্য রুপান্তর করা যাবে তা কিন্তু না। তবে ইন্টিজার ডেটাকে আমরা সবসময় অন্য ২ টা ডেটায় রুপান্তর করা যাবে"
   ]
  },
  {
   "cell_type": "code",
   "execution_count": 80,
   "metadata": {},
   "outputs": [
    {
     "name": "stdout",
     "output_type": "stream",
     "text": [
      "<class 'int'>\n"
     ]
    }
   ],
   "source": [
    "a=5\n",
    "print(type(a))"
   ]
  },
  {
   "cell_type": "code",
   "execution_count": 81,
   "metadata": {},
   "outputs": [],
   "source": [
    "a=float(a)"
   ]
  },
  {
   "cell_type": "code",
   "execution_count": 82,
   "metadata": {},
   "outputs": [
    {
     "name": "stdout",
     "output_type": "stream",
     "text": [
      "<class 'float'>\n"
     ]
    }
   ],
   "source": [
    "print(type(a))"
   ]
  },
  {
   "cell_type": "code",
   "execution_count": 83,
   "metadata": {},
   "outputs": [],
   "source": [
    "a=str(a)"
   ]
  },
  {
   "cell_type": "code",
   "execution_count": 84,
   "metadata": {},
   "outputs": [
    {
     "name": "stdout",
     "output_type": "stream",
     "text": [
      "<class 'str'>\n"
     ]
    }
   ],
   "source": [
    "print(type(a))"
   ]
  },
  {
   "cell_type": "markdown",
   "metadata": {},
   "source": [
    "ইন্টিজার হল বিশ্ববিদ্যালয়ের একেবারে জুনিয়র ষ্টুডেন্ট এর মত । বাকিরা এর উপর চাইলে যা মন চাই তা করতে পারবে। এখানে যা মন চাই বলতে ডেটার রুপান্তর কে বুঝানো হয়েছে।"
   ]
  },
  {
   "cell_type": "markdown",
   "metadata": {},
   "source": [
    " আমরা উপরে ইন্টিজার আর ফ্লোট নিয়ে বলার সময় সেট আর উপসেট এর কথা বলছিলাম । ইন্টিজার হল ফ্লোট এর একটা উপসেট।  এখন এটা এখানে লাগবে। আমি চাইলে ইন্টিজার কে ফ্লোট এ রুপান্তর করতে পারব কিন্তু এতে সমস্যা হল আমাদের ডেটার কিছু অংশ মিস হয়ে যাবে। অর্থাৎ ফ্লোট কে ইন্টিজার এ রুপান্তর করার সময় সম্পূর ডেটা আর পাওয়া যাবে না। কারণ একট সংখ্যা যদি ১.৭ হয় তাহলে তার ইন্টিজার ফরমেট হল ১ তাহলে বাকি .৭ অংশ মিস । এইজন্য এটা হল বিশ্ববিদ্যালয়ের ২য় বর্ষের ষ্টুডেন্ট এর মত একে চাইলে সব ফরমেট এ পুরোপুরি রুপান্তর করা যাবে  যাবে  না ।কিন্তু যদি বিশ্ববিদ্যালয়ের ২য় বর্ষের ছাত্র যদি ১ম বর্ষের মত সহজ সরল ভাবে চলে তাহলে ভিন্ন কথা । যেমন ৪.০ এটা একটা ফ্লোট , তবে এর ইন্টিজার ফরমেট ৪ । এখানে কোন ডেটার মিস হয় নাই। আর যদি আমরা ফ্লোটকে ষ্ট্রিং এ রুপান্তর করতে চাই তাহলে সেটা অবশ্যয়  করা যাবে কারণ  তার উপর ও যে আরো সিনিয়র আছে। কোড করলে আরো ক্লিয়ারলি বুঝা যাবে"
   ]
  },
  {
   "cell_type": "code",
   "execution_count": 85,
   "metadata": {},
   "outputs": [
    {
     "name": "stdout",
     "output_type": "stream",
     "text": [
      "<class 'float'>\n"
     ]
    }
   ],
   "source": [
    "b=2.7\n",
    "print(type(b))"
   ]
  },
  {
   "cell_type": "code",
   "execution_count": 86,
   "metadata": {},
   "outputs": [],
   "source": [
    "c=int(b)"
   ]
  },
  {
   "cell_type": "code",
   "execution_count": 87,
   "metadata": {},
   "outputs": [
    {
     "name": "stdout",
     "output_type": "stream",
     "text": [
      "2\n"
     ]
    }
   ],
   "source": [
    "print(c)"
   ]
  },
  {
   "cell_type": "code",
   "execution_count": 88,
   "metadata": {},
   "outputs": [
    {
     "name": "stdout",
     "output_type": "stream",
     "text": [
      "<class 'int'>\n"
     ]
    }
   ],
   "source": [
    "print(type(c))"
   ]
  },
  {
   "cell_type": "code",
   "execution_count": 89,
   "metadata": {},
   "outputs": [],
   "source": [
    "b=str(b)"
   ]
  },
  {
   "cell_type": "code",
   "execution_count": 90,
   "metadata": {},
   "outputs": [
    {
     "name": "stdout",
     "output_type": "stream",
     "text": [
      "2.7\n"
     ]
    }
   ],
   "source": [
    "print(b)"
   ]
  },
  {
   "cell_type": "code",
   "execution_count": 91,
   "metadata": {},
   "outputs": [
    {
     "data": {
      "text/plain": [
       "str"
      ]
     },
     "execution_count": 91,
     "metadata": {},
     "output_type": "execute_result"
    }
   ],
   "source": [
    "type(b)"
   ]
  },
  {
   "cell_type": "markdown",
   "metadata": {},
   "source": [
    "এবার আসি ষ্ট্রিং নিয়ে। সাধারনত ষ্ট্রিং কে অন্য ডেটায় রুপান্তর করা যা্য় না । কারণ এটা  বিশ্ববিদ্যালয়ের সিনিয়র ব্যাচ। তবে সিনিয়র এর কেউ যদি জুনিয়র এর মত সহজ-সরল হয় তাহলে ভিন্ন কথা। তখন রুপান্তর করা যাবে। "
   ]
  },
  {
   "cell_type": "code",
   "execution_count": 92,
   "metadata": {},
   "outputs": [],
   "source": [
    "name='my name is jabed'"
   ]
  },
  {
   "cell_type": "code",
   "execution_count": 93,
   "metadata": {},
   "outputs": [
    {
     "name": "stdout",
     "output_type": "stream",
     "text": [
      "my name is jabed\n"
     ]
    }
   ],
   "source": [
    "print(name)"
   ]
  },
  {
   "cell_type": "code",
   "execution_count": 94,
   "metadata": {},
   "outputs": [
    {
     "name": "stdout",
     "output_type": "stream",
     "text": [
      "<class 'str'>\n"
     ]
    }
   ],
   "source": [
    "print(type(name))"
   ]
  },
  {
   "cell_type": "code",
   "execution_count": 95,
   "metadata": {},
   "outputs": [
    {
     "ename": "ValueError",
     "evalue": "invalid literal for int() with base 10: 'my name is jabed'",
     "output_type": "error",
     "traceback": [
      "\u001b[1;31m---------------------------------------------------------------------------\u001b[0m",
      "\u001b[1;31mValueError\u001b[0m                                Traceback (most recent call last)",
      "\u001b[1;32m<ipython-input-95-f1287fa494c8>\u001b[0m in \u001b[0;36m<module>\u001b[1;34m\u001b[0m\n\u001b[1;32m----> 1\u001b[1;33m \u001b[0mname1\u001b[0m\u001b[1;33m=\u001b[0m\u001b[0mint\u001b[0m\u001b[1;33m(\u001b[0m\u001b[0mname\u001b[0m\u001b[1;33m)\u001b[0m\u001b[1;33m\u001b[0m\u001b[1;33m\u001b[0m\u001b[0m\n\u001b[0m",
      "\u001b[1;31mValueError\u001b[0m: invalid literal for int() with base 10: 'my name is jabed'"
     ]
    }
   ],
   "source": [
    "name1=int(name)"
   ]
  },
  {
   "cell_type": "code",
   "execution_count": null,
   "metadata": {},
   "outputs": [],
   "source": [
    "name2=float(name)"
   ]
  },
  {
   "cell_type": "markdown",
   "metadata": {},
   "source": [
    "কি ?? এরর দেখাচ্ছে তো। বললাম না সিনিয়র ব্যাচ। এরর লিখাটার মধ্যে ভাল করে দেখেন , যদি ষ্ট্রিং টা  কোন সংখ্যা  হয় তাহলে সেটা রুপান্তর করা যাবে "
   ]
  },
  {
   "cell_type": "code",
   "execution_count": 96,
   "metadata": {},
   "outputs": [
    {
     "name": "stdout",
     "output_type": "stream",
     "text": [
      "2\n"
     ]
    }
   ],
   "source": [
    "new_string='2'\n",
    "print(new_string)"
   ]
  },
  {
   "cell_type": "code",
   "execution_count": 97,
   "metadata": {},
   "outputs": [
    {
     "name": "stdout",
     "output_type": "stream",
     "text": [
      "<class 'str'>\n"
     ]
    }
   ],
   "source": [
    "print(type(new_string))"
   ]
  },
  {
   "cell_type": "code",
   "execution_count": 98,
   "metadata": {},
   "outputs": [
    {
     "name": "stdout",
     "output_type": "stream",
     "text": [
      "<class 'int'>\n"
     ]
    }
   ],
   "source": [
    "new_string1=int(new_string)\n",
    "print(type(new_string1))"
   ]
  },
  {
   "cell_type": "code",
   "execution_count": 99,
   "metadata": {},
   "outputs": [],
   "source": [
    "string='2.45'"
   ]
  },
  {
   "cell_type": "code",
   "execution_count": 100,
   "metadata": {},
   "outputs": [
    {
     "name": "stdout",
     "output_type": "stream",
     "text": [
      "2.45\n"
     ]
    }
   ],
   "source": [
    "print(string)"
   ]
  },
  {
   "cell_type": "markdown",
   "metadata": {},
   "source": [
    "যদি ষ্ট্রিং কোন ফ্লোট ডেটা হয় তাহলে তাকে সরাসরি ইন্টিজার এ রুপান্তর করা যাবে না। আগে ফ্লোট এ রুপান্তর করতে হবে তারপর ফ্লোট ডেটা কে ইন্টিজার রুপান্তর করতে হবে।"
   ]
  },
  {
   "cell_type": "code",
   "execution_count": 101,
   "metadata": {},
   "outputs": [
    {
     "ename": "ValueError",
     "evalue": "invalid literal for int() with base 10: '2.45'",
     "output_type": "error",
     "traceback": [
      "\u001b[1;31m---------------------------------------------------------------------------\u001b[0m",
      "\u001b[1;31mValueError\u001b[0m                                Traceback (most recent call last)",
      "\u001b[1;32m<ipython-input-101-c42526e35b33>\u001b[0m in \u001b[0;36m<module>\u001b[1;34m\u001b[0m\n\u001b[1;32m----> 1\u001b[1;33m \u001b[0mstring1\u001b[0m\u001b[1;33m=\u001b[0m\u001b[0mint\u001b[0m\u001b[1;33m(\u001b[0m\u001b[0mstring\u001b[0m\u001b[1;33m)\u001b[0m\u001b[1;33m\u001b[0m\u001b[1;33m\u001b[0m\u001b[0m\n\u001b[0m",
      "\u001b[1;31mValueError\u001b[0m: invalid literal for int() with base 10: '2.45'"
     ]
    }
   ],
   "source": [
    "string1=int(string)"
   ]
  },
  {
   "cell_type": "code",
   "execution_count": 102,
   "metadata": {},
   "outputs": [
    {
     "name": "stdout",
     "output_type": "stream",
     "text": [
      "2.45\n"
     ]
    }
   ],
   "source": [
    "string_1=float(string)\n",
    "print(string_1)"
   ]
  },
  {
   "cell_type": "code",
   "execution_count": 103,
   "metadata": {},
   "outputs": [
    {
     "name": "stdout",
     "output_type": "stream",
     "text": [
      "<class 'float'>\n"
     ]
    }
   ],
   "source": [
    "print(type(string_1))"
   ]
  },
  {
   "cell_type": "code",
   "execution_count": 104,
   "metadata": {},
   "outputs": [],
   "source": [
    "string_2=int(string_1)"
   ]
  },
  {
   "cell_type": "code",
   "execution_count": 105,
   "metadata": {},
   "outputs": [
    {
     "name": "stdout",
     "output_type": "stream",
     "text": [
      "2\n"
     ]
    }
   ],
   "source": [
    "print(string_2)\n"
   ]
  },
  {
   "cell_type": "code",
   "execution_count": 106,
   "metadata": {},
   "outputs": [
    {
     "name": "stdout",
     "output_type": "stream",
     "text": [
      "<class 'int'>\n"
     ]
    }
   ],
   "source": [
    "print(type(string_2))"
   ]
  },
  {
   "cell_type": "markdown",
   "metadata": {},
   "source": [
    "এবার আপনার কাজ । নিজে নিজে করে দেখেন । তাহলে আর ও ভাল বুঝবেন। "
   ]
  },
  {
   "cell_type": "code",
   "execution_count": null,
   "metadata": {},
   "outputs": [],
   "source": []
  },
  {
   "cell_type": "markdown",
   "metadata": {},
   "source": [
    "## Getting Input"
   ]
  },
  {
   "cell_type": "markdown",
   "metadata": {},
   "source": [
    "আমরা চাই এখন প্রোগ্রামে আগে থেকে ভ্যালু না দিয়ে ইউসার থেকে ভ্যালু নিব।ইউসার থেকে input() ফাংশন দিয়ে ইনপুট নেয়া যাবে, তবে ইউসার যে ইনপুট দিবে পাইথন সেটা কে সবসময় ষ্ট্রিং ডাটা হিসেবে নিবে।আবার পাইথন কখনো একই সাথে ই্নটিজার ও ষ্ট্রিং কে যোগ বিয়োগ করতে পারে না। ২  টাই একই ধরনের ডাটা হতে হবে । যদি ভিন্ন ধরনের ডাটা হয় তাহলে একই ডাটাই কভার্ট করতে হবে । \n"
   ]
  },
  {
   "cell_type": "code",
   "execution_count": 109,
   "metadata": {},
   "outputs": [
    {
     "name": "stdout",
     "output_type": "stream",
     "text": [
      "please enter your name\n",
      "jabed omor bappi\n",
      "type of name is : <class 'str'>\n"
     ]
    }
   ],
   "source": [
    "name =input('please enter your name\\n')\n",
    "print('type of name is :',type(name))"
   ]
  },
  {
   "cell_type": "code",
   "execution_count": null,
   "metadata": {},
   "outputs": [],
   "source": []
  },
  {
   "cell_type": "code",
   "execution_count": 1,
   "metadata": {},
   "outputs": [
    {
     "name": "stdout",
     "output_type": "stream",
     "text": [
      "enter a number :4\n",
      "type of a is : <class 'str'>\n"
     ]
    }
   ],
   "source": [
    "a=input('enter a number :')\n",
    "print('type of a is :',type(a))"
   ]
  },
  {
   "cell_type": "markdown",
   "metadata": {},
   "source": [
    "প্রথম যে ইনপুট সেটা কে ষ্ট্রিং মানা যায় কিন্তু 4 তো একটা ইন্টিজার  তারপরেও ষ্ট্রিং দেখাচ্ছে কেন??কারণ ইনপুট ফাংশন যে কোন ডাটা কে ষ্ট্রিং হিসেেবে নেয়।\n"
   ]
  },
  {
   "cell_type": "markdown",
   "metadata": {},
   "source": [
    "আরেকটা উদাহরনে এ আসি, ইউসার থেকে ২ টা নাম্বার নিব এবং সেই ২ টা নাম্বার কে যোগ করব এবং যোগফল প্রিন্ট ফাংশন দিয়ে দেখাতে হবে। ধরে নেন  প্রথম নাম্বার হল ২ এবং দ্বিতীয় নাম্বার হল ৩ এবার নিজে নিজে যোগ করে দেখেন তার পর প্রোগ্রাম রান করেন এবং ২ এবং ৩ ইনপুট হিসেবে দেন। কি দেখাচ্ছে?? নিশ্চয় পাইথনে কোন ভূল হচ্ছে । এত সহজ কিছুতেই ভুল?? একটু ভাবুন কেন  এরকম হচ্ছে??"
   ]
  },
  {
   "cell_type": "code",
   "execution_count": 2,
   "metadata": {},
   "outputs": [
    {
     "name": "stdout",
     "output_type": "stream",
     "text": [
      "enter a number :2\n",
      "enter another number: 3\n",
      "23\n"
     ]
    }
   ],
   "source": [
    "num_1=input('enter a number :')\n",
    "num_2=input('enter another number: ')\n",
    "sum_of_num=num_1+num_2\n",
    "print(sum_of_num)\n"
   ]
  },
  {
   "cell_type": "markdown",
   "metadata": {},
   "source": [
    "আরেকটা উদাহরনে আসি, ধরেন ইউসার থেকে ৩ টা নাম্বারের জায়গায় অ্যালফাবেট নি a,b,c এবং সেগুলা যোগ করে প্রিন্ট ফাংশনে দেখাতে হবে\n"
   ]
  },
  {
   "cell_type": "code",
   "execution_count": 4,
   "metadata": {},
   "outputs": [
    {
     "name": "stdout",
     "output_type": "stream",
     "text": [
      "enter a alphabet:a\n",
      "enter another alphabet:b\n",
      "enter another alphabet:c\n",
      "abc\n"
     ]
    }
   ],
   "source": [
    "a=input('enter a alphabet:')\n",
    "b=input('enter another alphabet:')\n",
    "c=input('enter another alphabet:')\n",
    "Sum=a+b+c\n",
    "print(Sum)"
   ]
  },
  {
   "cell_type": "markdown",
   "metadata": {},
   "source": [
    "কি?? কিছু ধরতে পারছেন?আগের উদাহরনে কেন ২ আর ৩ এর যোগফল  ২৩ দেখাচ্ছিল সেটা আশা করি বুঝছেন। না বুঝলে এর পরের উদাহরনে  আরো ভাল যাবে।"
   ]
  },
  {
   "cell_type": "code",
   "execution_count": 5,
   "metadata": {},
   "outputs": [
    {
     "name": "stdout",
     "output_type": "stream",
     "text": [
      "enter a number:2\n",
      "another number:3\n",
      "5\n"
     ]
    }
   ],
   "source": [
    "num_1=input('enter a number:')\n",
    "num_1=int(num_1)\n",
    "num_2=input('another number:')\n",
    "num_2=int(num_2)\n",
    "sum_of_num=num_1+num_2\n",
    "print(sum_of_num)"
   ]
  },
  {
   "cell_type": "markdown",
   "metadata": {},
   "source": [
    "এবার কিন্তু একই জিনিস , কিন্তু যোগফল দেখাচ্ছে ৫। অর্থাৎ সঠিক উত্তরটাই দেখাচ্ছে। এর আগে ২৩ দেখানোর কারন ২ এবং ৩ কে ষ্ট্রিং ডাটা হিসেবে যোগ করছিল। কিন্তু এবার আমরা num_1=int(num_1),num_2=int(num_2) এই দুইটাতে ষ্ট্রিং ডাটা কে ইন্টিজার ডাটায় পরিনত করা হয়ছে। এ ধরনের রুপান্তর কে বলা হয় Data convertion,এক ধরনের ডাটা কে ভিন্ন ধরনের ডাটায় রূপান্তর করা। "
   ]
  },
  {
   "cell_type": "markdown",
   "metadata": {},
   "source": [
    "আমরা চাইলে ২ টা অতিরিক্ত লাইন  না লিখে এক লাইনেই ডাটা রুপান্তর করতে পারতাম,"
   ]
  },
  {
   "cell_type": "code",
   "execution_count": 7,
   "metadata": {},
   "outputs": [
    {
     "name": "stdout",
     "output_type": "stream",
     "text": [
      "enter a number:2\n",
      "enter another number :3\n",
      "5\n"
     ]
    }
   ],
   "source": [
    "num_1=int(input('enter a number:'))\n",
    "num_2=int(input('enter another number :'))\n",
    "sum_of_num=num_1+num_2\n",
    "print(sum_of_num)"
   ]
  },
  {
   "cell_type": "markdown",
   "metadata": {},
   "source": [
    "আশা করি বুঝছেন। এখন ধরেন ইউসার কোন কারনে দশমিক বা ফ্লোট ডাটা ইনপুট দিল তাহলে কি হবে?? "
   ]
  },
  {
   "cell_type": "code",
   "execution_count": 8,
   "metadata": {},
   "outputs": [
    {
     "name": "stdout",
     "output_type": "stream",
     "text": [
      "enter a number2.4\n"
     ]
    },
    {
     "ename": "ValueError",
     "evalue": "invalid literal for int() with base 10: '2.4'",
     "output_type": "error",
     "traceback": [
      "\u001b[1;31m---------------------------------------------------------------------------\u001b[0m",
      "\u001b[1;31mValueError\u001b[0m                                Traceback (most recent call last)",
      "\u001b[1;32m<ipython-input-8-168b0ad9a240>\u001b[0m in \u001b[0;36m<module>\u001b[1;34m\u001b[0m\n\u001b[1;32m----> 1\u001b[1;33m \u001b[0mnum_1\u001b[0m\u001b[1;33m=\u001b[0m\u001b[0mint\u001b[0m\u001b[1;33m(\u001b[0m\u001b[0minput\u001b[0m\u001b[1;33m(\u001b[0m\u001b[1;34m'enter a number'\u001b[0m\u001b[1;33m)\u001b[0m\u001b[1;33m)\u001b[0m\u001b[1;33m\u001b[0m\u001b[1;33m\u001b[0m\u001b[0m\n\u001b[0m\u001b[0;32m      2\u001b[0m \u001b[0mnum_2\u001b[0m\u001b[1;33m=\u001b[0m\u001b[0mint\u001b[0m\u001b[1;33m(\u001b[0m\u001b[0minput\u001b[0m\u001b[1;33m(\u001b[0m\u001b[1;34m'enter another number :'\u001b[0m\u001b[1;33m)\u001b[0m\u001b[1;33m)\u001b[0m\u001b[1;33m\u001b[0m\u001b[1;33m\u001b[0m\u001b[0m\n\u001b[0;32m      3\u001b[0m \u001b[0msum_of_num\u001b[0m\u001b[1;33m=\u001b[0m\u001b[0mnum_1\u001b[0m\u001b[1;33m+\u001b[0m\u001b[0mnum_2\u001b[0m\u001b[1;33m\u001b[0m\u001b[1;33m\u001b[0m\u001b[0m\n\u001b[0;32m      4\u001b[0m \u001b[0mprint\u001b[0m\u001b[1;33m(\u001b[0m\u001b[0msum_of_num\u001b[0m\u001b[1;33m)\u001b[0m\u001b[1;33m\u001b[0m\u001b[1;33m\u001b[0m\u001b[0m\n",
      "\u001b[1;31mValueError\u001b[0m: invalid literal for int() with base 10: '2.4'"
     ]
    }
   ],
   "source": [
    "num_1=int(input('enter a number'))\n",
    "num_2=int(input('enter another number :'))\n",
    "sum_of_num=num_1+num_2\n",
    "print(sum_of_num)"
   ]
  },
  {
   "cell_type": "markdown",
   "metadata": {},
   "source": [
    "পাইথন ValueError দেখাচ্ছে। অর্থাৎ আমি তাকে ষ্ট্রিং থেকে  ইন্টিজার নাম্বার এ কনভার্ট করতে  বলতেছি কিন্তু ইনপুট দিচ্ছি ফ্লোট নাম্বার।পাইথন আসলে কি করবে নিজেই বুঝতেছে না। তাহলে এখন   কি করা যায়?? "
   ]
  },
  {
   "cell_type": "code",
   "execution_count": 9,
   "metadata": {},
   "outputs": [
    {
     "name": "stdout",
     "output_type": "stream",
     "text": [
      "enter a number :2.4\n",
      "enter another number: 3.5\n",
      "5.9\n"
     ]
    }
   ],
   "source": [
    "num_1=float(input('enter a number :'))\n",
    "num_2=float(input('enter another number: '))\n",
    "sum_of_num=num_1+num_2\n",
    "print(sum_of_num)"
   ]
  },
  {
   "cell_type": "markdown",
   "metadata": {},
   "source": [
    "এখন ঠিক আছে??? এবার নিজে নিজে কয়েক বার মান পরিবর্তন করে প্রোগ্রাম রান করান"
   ]
  },
  {
   "cell_type": "code",
   "execution_count": 11,
   "metadata": {},
   "outputs": [
    {
     "name": "stdout",
     "output_type": "stream",
     "text": [
      "enter your namejabed omor bappi\n",
      "enter your age: 22\n",
      "my name is jabed omor bappi and i am 22 years old.\n"
     ]
    }
   ],
   "source": [
    "name=input('enter your name')\n",
    "age=input('enter your age: ')\n",
    "print(\"my name is \" +name+ ' and i am ' + age + ' years old.')"
   ]
  },
  {
   "cell_type": "markdown",
   "metadata": {},
   "source": [
    "উপরের উদাহরনে age ভ্যারিয়েবল এর মান কিন্তু ষ্ট্রিং হিসেবে প্রিন্ট করবে । "
   ]
  },
  {
   "cell_type": "code",
   "execution_count": 13,
   "metadata": {},
   "outputs": [
    {
     "data": {
      "text/plain": [
       "str"
      ]
     },
     "execution_count": 13,
     "metadata": {},
     "output_type": "execute_result"
    }
   ],
   "source": [
    "type(age)"
   ]
  },
  {
   "cell_type": "markdown",
   "metadata": {},
   "source": [
    "যদি পুরো প্রোগ্রাম টা ঠিক রেখে শুধু age কে ইন্টিজার এ কনভার্ট করে ফেলি তাহলে প্রোগ্রামের কোন পরিবর্তন হবে বা প্রোগ্রাম কোন  Error দেখাবে??"
   ]
  },
  {
   "cell_type": "code",
   "execution_count": 15,
   "metadata": {},
   "outputs": [
    {
     "name": "stdout",
     "output_type": "stream",
     "text": [
      "enter your nameJabed omor bappi\n",
      "enter your age: 22\n"
     ]
    },
    {
     "ename": "TypeError",
     "evalue": "can only concatenate str (not \"int\") to str",
     "output_type": "error",
     "traceback": [
      "\u001b[1;31m---------------------------------------------------------------------------\u001b[0m",
      "\u001b[1;31mTypeError\u001b[0m                                 Traceback (most recent call last)",
      "\u001b[1;32m<ipython-input-15-78243c628ebb>\u001b[0m in \u001b[0;36m<module>\u001b[1;34m\u001b[0m\n\u001b[0;32m      1\u001b[0m \u001b[0mname\u001b[0m\u001b[1;33m=\u001b[0m\u001b[0minput\u001b[0m\u001b[1;33m(\u001b[0m\u001b[1;34m'enter your name'\u001b[0m\u001b[1;33m)\u001b[0m\u001b[1;33m\u001b[0m\u001b[1;33m\u001b[0m\u001b[0m\n\u001b[0;32m      2\u001b[0m \u001b[0mage\u001b[0m\u001b[1;33m=\u001b[0m\u001b[0mint\u001b[0m\u001b[1;33m(\u001b[0m\u001b[0minput\u001b[0m\u001b[1;33m(\u001b[0m\u001b[1;34m'enter your age: '\u001b[0m\u001b[1;33m)\u001b[0m\u001b[1;33m)\u001b[0m\u001b[1;33m\u001b[0m\u001b[1;33m\u001b[0m\u001b[0m\n\u001b[1;32m----> 3\u001b[1;33m \u001b[0mprint\u001b[0m\u001b[1;33m(\u001b[0m\u001b[1;34m\"my name is \"\u001b[0m \u001b[1;33m+\u001b[0m\u001b[0mname\u001b[0m\u001b[1;33m+\u001b[0m \u001b[1;34m' and i am '\u001b[0m \u001b[1;33m+\u001b[0m \u001b[0mage\u001b[0m \u001b[1;33m+\u001b[0m \u001b[1;34m' years old.'\u001b[0m\u001b[1;33m)\u001b[0m\u001b[1;33m\u001b[0m\u001b[1;33m\u001b[0m\u001b[0m\n\u001b[0m",
      "\u001b[1;31mTypeError\u001b[0m: can only concatenate str (not \"int\") to str"
     ]
    }
   ],
   "source": [
    "name=input('enter your name')\n",
    "age=int(input('enter your age: '))\n",
    "print(\"my name is \" +name+ ' and i am ' + age + ' years old.')"
   ]
  },
  {
   "cell_type": "markdown",
   "metadata": {},
   "source": [
    "পাইথন তো  TypeError  বলতেছে, তার মনে সে শুধু ষ্ট্রিং কে concatenate করতে পারে ।এখন কি করা যায়?? আমরা কিন্তু আর age=int(input('enter your age: ')) এটাকে পরিবরতন করতে চাই না। আচ্ছা ষ্ট্রিং কে যদি ইন্টিজার এ রুপান্তর করা যায় তাহলে ইন্টিজার কে আবার ষ্ট্রিং এ রুপান্তর করা যাবে?? "
   ]
  },
  {
   "cell_type": "code",
   "execution_count": 16,
   "metadata": {},
   "outputs": [
    {
     "name": "stdout",
     "output_type": "stream",
     "text": [
      "enter your nameJabed omr bappi\n",
      "enter your age: 22\n",
      "my name is Jabed omr bappi and i am 22 years old.\n"
     ]
    }
   ],
   "source": [
    "name=input('enter your name')\n",
    "age=int(input('enter your age: '))\n",
    "print(\"my name is \" +name+ ' and i am ' + str(age) + ' years old.')\n"
   ]
  },
  {
   "cell_type": "code",
   "execution_count": 17,
   "metadata": {},
   "outputs": [
    {
     "data": {
      "text/plain": [
       "int"
      ]
     },
     "execution_count": 17,
     "metadata": {},
     "output_type": "execute_result"
    }
   ],
   "source": [
    "type(age)"
   ]
  },
  {
   "cell_type": "markdown",
   "metadata": {},
   "source": [
    "str(age) এই ফাংশন দিয়ে age কে আবার ইন্টিজার থেকে ষ্ট্রিং এ রুপান্তর করছি তবে age ভ্যারিয়েবল এর কোন পরিবর্তন হবে না কারন এটা শুধু প্রিন্ট ফাংশনের মধ্যেই রূপান্তর ঘটছে  age ভ্যারিয়েবল না । যে কোন ইন্টিজার কে চাইলেই ষ্ট্রিং এ রুপান্তর করা যাবে কিন্তু যে কোন ষ্ট্রিং কে ইন্টিজার এ রূপান্তর করা যাবে না। কেন যাবে না সেটা নিজেই ভাবুন আর কয়েকবার চেষ্টা করেই দেখুন  "
   ]
  },
  {
   "cell_type": "markdown",
   "metadata": {},
   "source": [
    "কাজঃ\n",
    "\n",
    "\n",
    "\n",
    "\n"
   ]
  },
  {
   "cell_type": "markdown",
   "metadata": {},
   "source": [
    "# কাজঃ"
   ]
  },
  {
   "cell_type": "markdown",
   "metadata": {},
   "source": [
    "১। ইউসার থেকে ৩ টা ইন্টিজার সংখা নিয়ে  তাদের গড় প্রিন্ট করতে এবং গড় এর এর টাইপ type() ফাংশন দিয়ে প্রিন্ট করতে হবে।"
   ]
  },
  {
   "cell_type": "markdown",
   "metadata": {},
   "source": [
    "২ । একটা  ত্রিভূজের ভূমি ও উচ্চতা ইনপুট নিয়ে ত্রিভূজের ক্ষেত্রফল প্রিন্ট করতে হবে "
   ]
  },
  {
   "cell_type": "markdown",
   "metadata": {},
   "source": [
    "৩।একটা  চতুর্ভুজের ভূমি ও উচ্চতা ইনপুট নিয়ে চতুর্ভুজের ক্ষেত্রফল প্রিন্ট করতে হবে"
   ]
  },
  {
   "cell_type": "markdown",
   "metadata": {},
   "source": [
    "৪।সিলিন্ডারের উচ্চতা ও ব্যাসার্ধ্য ইনপুট নিয়ে সিলিন্ডারের উচ্চতা বের করতে হবে"
   ]
  },
  {
   "cell_type": "markdown",
   "metadata": {},
   "source": [
    "৫।একটি বস্তুর উপর প্রযুক্ত বল F,বস্তুটিকে  স্থির অবস্থান থেকে বল প্রয়োগ করে t সেকেন্ডে v মি/সে বেগ প্রাপ্ত হল .বস্তুর ভর m হলে প্রযুক্ত বল এর মান কত ? ইনপুট ফাংশন দিয়ে আদিবেগ,শেষবেগ,সময়,ও ভর নিতে হবে। "
   ]
  },
  {
   "cell_type": "markdown",
   "metadata": {},
   "source": [
    "এবার নিজে নিজে চেষ্টা করেন ... \n"
   ]
  },
  {
   "cell_type": "code",
   "execution_count": null,
   "metadata": {},
   "outputs": [],
   "source": []
  },
  {
   "cell_type": "markdown",
   "metadata": {},
   "source": [
    "### ষ্ট্রিং(String) "
   ]
  },
  {
   "cell_type": "markdown",
   "metadata": {},
   "source": [
    "ষ্ট্রিং হল মূলত ডাবল বা সিঙ্গেল কোটেশন এর মধ্যে যা থাকে তার সব কিছু।  ষ্ট্রিং হল ইমমিউটেবল অর্থাৎ একে সাধারনত কোন এডিট করা বা এর মধ্যে কোন যোগ করা যাবে না।তবআমরা চাইলে ষ্ট্রিং কে স্লাইসিং করতে পারব। অর্থাৎ পুরা ষ্ট্রিং এর কোন   নির্দিষ্ট অংশকে দেখতে পারব। ষ্ট্রিং অনেক ছোট বা অনেক বড় যে কোণ ধরনের হতে পারে।উদাহরন আরো ভাল বুঝা যাবে।\n"
   ]
  },
  {
   "cell_type": "code",
   "execution_count": 7,
   "metadata": {},
   "outputs": [
    {
     "name": "stdout",
     "output_type": "stream",
     "text": [
      "It is a string\n"
     ]
    }
   ],
   "source": [
    "s_1='It is a string'\n",
    "print(s_1)\n"
   ]
  },
  {
   "cell_type": "code",
   "execution_count": 22,
   "metadata": {},
   "outputs": [
    {
     "name": "stdout",
     "output_type": "stream",
     "text": [
      "<class 'str'>\n"
     ]
    }
   ],
   "source": [
    "print(type(s_1))"
   ]
  },
  {
   "cell_type": "markdown",
   "metadata": {},
   "source": [
    "আমরা বলছিলাম ষ্ট্রিং কে চাইলে slicing করতে পারব । তবে তার আগে আমাদের পাইথন এর ইনডেক্স সম্পর্কে জানা লাগবে।  পাইথন আমাদের মত গণনা ১ থেকে শুরু করে না। পাইথন গণনা বা  এর ইনডেক্স অর্ডার শূন্য থেকে শুরু হয়। slicing করতে হলে যে ভ্যারিয়েবলে ষ্ট্রিং ডেটা  ষ্টোর থাকবে প্রথমে সে ভ্যারিয়েবলকে ডিক্লেয়ার করতে হবে এর পর [] এর মধ্যে ষ্ট্রিং এর ইনডেক্স দিইে হবে। অর্থাৎ আমি যে অংশ চাচ্ছি বা ষ্ট্রিং এর যে ভ্যালু চাচ্ছি ওই ভ্যালুর ইনডেক্স নাম্বার দিতে হবে । যেমন ধরেন আমি চাচ্ছি t এই ওয়ার্ড টাআমাকে প্রথমে এর ইনডেক্স কত সেটা দেখতে হবে ,অবশ্যই শূন্য থেকে কাউন্ট করতে হবে। সে হিসেবে t এর অবস্থান ১। সুতরাং আমাদের  লিখতে হবে s_1[1]"
   ]
  },
  {
   "cell_type": "code",
   "execution_count": 23,
   "metadata": {},
   "outputs": [
    {
     "name": "stdout",
     "output_type": "stream",
     "text": [
      "t\n"
     ]
    }
   ],
   "source": [
    "print(s_1[1])"
   ]
  },
  {
   "cell_type": "markdown",
   "metadata": {},
   "source": [
    "তাহলে  s_1[0] এ  কি হবে??\n",
    "\n",
    " "
   ]
  },
  {
   "cell_type": "code",
   "execution_count": 24,
   "metadata": {},
   "outputs": [
    {
     "name": "stdout",
     "output_type": "stream",
     "text": [
      "I\n"
     ]
    }
   ],
   "source": [
    "print(s_1[0])\n"
   ]
  },
  {
   "cell_type": "markdown",
   "metadata": {},
   "source": [
    "আশা করি বুঝছেন। কিন্তু এখানে তো শুধু একটা ওয়ার্ড কে দেখাচ্ছেআমি যদি একের অধিক ওয়ার্ড চাই তাহলে কি করতে হবে?? ধরেন আমি একটা ষ্ট্রিং এর মাঝ থেকে কিছু অংশ  চাচ্ছি । তাহলে আমাকে আগের মত কোন ওয়ার্ড থেকে শুরু হবে এবং কোন ওয়ার্ড পর্যন্ত আমি চাচ্ছি এই দুইটা  ইনডেক্স জানা লাগবে আমার যদি ৩ ইনডেক্স থেকে ৮ ইনডেক্স পর্যন্ত স্লাইসিং করতে হয় তাহলআমাকে লিখতে হবে variable[3:9] । প্রশ্আসতেই পারআমার তো ৮ পর্যন্ত লাগবে , তাহলআমি ৯ কেন দিলাম ??আমি শেষ যে ইনডেক্স তা দিব তার আগ পর্যন্ত দেখাবে যার ফলে আমাকে ১ বাড়ায়ে দিতে হবে "
   ]
  },
  {
   "cell_type": "code",
   "execution_count": 25,
   "metadata": {},
   "outputs": [
    {
     "name": "stdout",
     "output_type": "stream",
     "text": [
      "i\n"
     ]
    }
   ],
   "source": [
    "print(s_1[3:4])"
   ]
  },
  {
   "cell_type": "markdown",
   "metadata": {},
   "source": [
    "উপরের প্রোগ্রামে আমরা ৩ঃ৪ ্দেয়ার পর আমাকে ৩ নাম্বার ইনডেক্স এর ভ্যালুটাই দেখাচ্ছে। কারন শেষ ইনডেক্স টার আগ পর্যন্ত স্লাইসিং করবে।আশা করি  বুঝছেন। আর ও কয়েকটা উদাহরন দেখলে  আরো ভাল বুঝা যাবে।"
   ]
  },
  {
   "cell_type": "code",
   "execution_count": 26,
   "metadata": {},
   "outputs": [
    {
     "name": "stdout",
     "output_type": "stream",
     "text": [
      "is\n"
     ]
    }
   ],
   "source": [
    "print(s_1[3:5])\n"
   ]
  },
  {
   "cell_type": "markdown",
   "metadata": {},
   "source": [
    " যদি শেষ ইনডেক্স নাম্বার টা না দি তাহলে প্রোগ্রাম প্রথম ইনডেক্স নাম্বার থেকে একদম শেষ পর্যন্ত প্রিন্ট করবে।"
   ]
  },
  {
   "cell_type": "code",
   "execution_count": 27,
   "metadata": {},
   "outputs": [
    {
     "name": "stdout",
     "output_type": "stream",
     "text": [
      "is a string\n"
     ]
    }
   ],
   "source": [
    "print(s_1[3:])"
   ]
  },
  {
   "cell_type": "markdown",
   "metadata": {},
   "source": [
    "চাইলে উল্টাটা ও করতে পারি। যদি শেষ ইনডেক্স দিয়ে দিই তাহলে প্রথম থেকে শেষ এনডেক্স এআগ পর্যন্ত দেখাবে।"
   ]
  },
  {
   "cell_type": "code",
   "execution_count": 28,
   "metadata": {},
   "outputs": [
    {
     "name": "stdout",
     "output_type": "stream",
     "text": [
      "It is\n"
     ]
    }
   ],
   "source": [
    "print(s_1[:5])"
   ]
  },
  {
   "cell_type": "markdown",
   "metadata": {},
   "source": [
    "এখানে যেহেতু শেষ ইনডেক্স টা ৫ সুতরা শূন্য থেকে ৪ পর্যন্ত স্লাইচ করবে।"
   ]
  },
  {
   "cell_type": "markdown",
   "metadata": {},
   "source": [
    "এখন আমরা নেগেটিভ ইনডেক্স ও দিতে পারি । এক্ষেত্রে একেবারে ষ্ট্রিং এর শেষ থেকে হিসেব  হবে। তবে এখানে কোন নেগেটিভ শূণ্য নাই যে নেগেটিভ শূন্য থেকে কাউইন্ট করবে।সুতরাআমি যদি -১ দিই তাহলে একেবারে শেষ ওয়ার্ডটাই দেখাবেআগের মত এখানেও একাধিক ওয়ার্ডকে স্লাইসিং করা যাবে। শুধু মাথায় রাখতে হবে ডান দিকে স্লাইসিং হবে বামদিকে নয়। "
   ]
  },
  {
   "cell_type": "code",
   "execution_count": 30,
   "metadata": {},
   "outputs": [
    {
     "name": "stdout",
     "output_type": "stream",
     "text": [
      "g\n"
     ]
    }
   ],
   "source": [
    "print(s_1[-1])"
   ]
  },
  {
   "cell_type": "code",
   "execution_count": 31,
   "metadata": {},
   "outputs": [
    {
     "name": "stdout",
     "output_type": "stream",
     "text": [
      "strin\n"
     ]
    }
   ],
   "source": [
    "print(s_1[-6:-1])"
   ]
  },
  {
   "cell_type": "code",
   "execution_count": 32,
   "metadata": {},
   "outputs": [
    {
     "name": "stdout",
     "output_type": "stream",
     "text": [
      "string\n"
     ]
    }
   ],
   "source": [
    "print(s_1[-6:])"
   ]
  },
  {
   "cell_type": "markdown",
   "metadata": {},
   "source": [
    "যদি কপ্রথম ও শেষ ইনডেক্স এর  জায়গায় কোন ইনডেক্স নাম্বার ই না দি তাহলে কি হবে????? \n",
    "\n",
    "\n",
    "\n",
    "\n",
    "\n",
    "পুরা ষ্ট্রিং টাই দেখাবে"
   ]
  },
  {
   "cell_type": "code",
   "execution_count": 33,
   "metadata": {},
   "outputs": [
    {
     "name": "stdout",
     "output_type": "stream",
     "text": [
      "It is a string\n"
     ]
    }
   ],
   "source": [
    "print(s_1[:])\n"
   ]
  },
  {
   "cell_type": "code",
   "execution_count": 34,
   "metadata": {},
   "outputs": [
    {
     "name": "stdout",
     "output_type": "stream",
     "text": [
      "jabed\n"
     ]
    }
   ],
   "source": [
    "Name='jabed omor bappi'\n",
    "print(Name[0:5])"
   ]
  },
  {
   "cell_type": "code",
   "execution_count": 35,
   "metadata": {},
   "outputs": [
    {
     "name": "stdout",
     "output_type": "stream",
     "text": [
      "omor\n"
     ]
    }
   ],
   "source": [
    "print(Name[6:10])"
   ]
  },
  {
   "cell_type": "code",
   "execution_count": 36,
   "metadata": {},
   "outputs": [
    {
     "name": "stdout",
     "output_type": "stream",
     "text": [
      "bappi\n"
     ]
    }
   ],
   "source": [
    "print(Name[-5:])"
   ]
  },
  {
   "cell_type": "markdown",
   "metadata": {},
   "source": [
    "আমরা  ষ্ট্রিং এর স্লাইসিং নিয়ে কাজ করছি । ষ্ট্রিং এর জন্য় আরো  অনেক গুলা method আছে।চাইলে আমরা  ষ্ট্রিং ডেটাকে  আপার,লোয়ার,ক্যাপিটেলাইজ , স্প্লিট করতে পারব,বিভিন্ন  method  ব্যাবহার করে"
   ]
  },
  {
   "cell_type": "code",
   "execution_count": null,
   "metadata": {},
   "outputs": [],
   "source": []
  },
  {
   "cell_type": "code",
   "execution_count": null,
   "metadata": {},
   "outputs": [],
   "source": []
  },
  {
   "cell_type": "code",
   "execution_count": 1,
   "metadata": {},
   "outputs": [
    {
     "name": "stdout",
     "output_type": "stream",
     "text": [
      "enter your name:jabed Omor bappi\n"
     ]
    }
   ],
   "source": [
    "name=input('enter your name:')"
   ]
  },
  {
   "cell_type": "code",
   "execution_count": 2,
   "metadata": {},
   "outputs": [
    {
     "data": {
      "text/plain": [
       "'JABED OMOR BAPPI'"
      ]
     },
     "execution_count": 2,
     "metadata": {},
     "output_type": "execute_result"
    }
   ],
   "source": [
    "name.upper()"
   ]
  },
  {
   "cell_type": "code",
   "execution_count": 4,
   "metadata": {},
   "outputs": [
    {
     "name": "stdout",
     "output_type": "stream",
     "text": [
      "JABED\n"
     ]
    }
   ],
   "source": [
    "print(name[0:5].upper())"
   ]
  },
  {
   "cell_type": "code",
   "execution_count": 8,
   "metadata": {},
   "outputs": [
    {
     "name": "stdout",
     "output_type": "stream",
     "text": [
      "IS\n"
     ]
    }
   ],
   "source": [
    "print(s_1[3:5].upper())"
   ]
  },
  {
   "cell_type": "code",
   "execution_count": 9,
   "metadata": {},
   "outputs": [
    {
     "data": {
      "text/plain": [
       "'IT IS A STRING'"
      ]
     },
     "execution_count": 9,
     "metadata": {},
     "output_type": "execute_result"
    }
   ],
   "source": [
    "s_1.upper()"
   ]
  },
  {
   "cell_type": "code",
   "execution_count": 10,
   "metadata": {},
   "outputs": [
    {
     "data": {
      "text/plain": [
       "'it is a string'"
      ]
     },
     "execution_count": 10,
     "metadata": {},
     "output_type": "execute_result"
    }
   ],
   "source": [
    "s_1.lower()"
   ]
  },
  {
   "cell_type": "code",
   "execution_count": 11,
   "metadata": {},
   "outputs": [
    {
     "name": "stdout",
     "output_type": "stream",
     "text": [
      "['Hello', ',', 'I', 'am', 'Jabed', 'omor', 'bappi,', 'i', 'am', 'interested', 'to', 'learnig', 'Machine', 'learning']\n"
     ]
    }
   ],
   "source": [
    "text_1='Hello , I am Jabed omor bappi, i am interested to learnig Machine learning'\n",
    "print(text_1.split(' '))"
   ]
  },
  {
   "cell_type": "code",
   "execution_count": 12,
   "metadata": {},
   "outputs": [
    {
     "name": "stdout",
     "output_type": "stream",
     "text": [
      "there has 14 words in this \"text_1\" text \n"
     ]
    }
   ],
   "source": [
    "new_text=len(text_1.split(' '))\n",
    "print('there has {} words in this \"text_1\" text '.format(new_text))"
   ]
  },
  {
   "cell_type": "code",
   "execution_count": null,
   "metadata": {},
   "outputs": [],
   "source": []
  },
  {
   "cell_type": "markdown",
   "metadata": {},
   "source": [
    "# ফাংশন"
   ]
  },
  {
   "cell_type": "code",
   "execution_count": 14,
   "metadata": {},
   "outputs": [
    {
     "data": {
      "text/plain": [
       "2"
      ]
     },
     "execution_count": 14,
     "metadata": {},
     "output_type": "execute_result"
    }
   ],
   "source": [
    "min(2,3,4,6)"
   ]
  },
  {
   "cell_type": "code",
   "execution_count": 15,
   "metadata": {},
   "outputs": [
    {
     "data": {
      "text/plain": [
       "int"
      ]
     },
     "execution_count": 15,
     "metadata": {},
     "output_type": "execute_result"
    }
   ],
   "source": [
    "type(100)"
   ]
  },
  {
   "cell_type": "code",
   "execution_count": 16,
   "metadata": {},
   "outputs": [
    {
     "data": {
      "text/plain": [
       "7"
      ]
     },
     "execution_count": 16,
     "metadata": {},
     "output_type": "execute_result"
    }
   ],
   "source": [
    "max(1,7,0,-4)"
   ]
  },
  {
   "cell_type": "markdown",
   "metadata": {},
   "source": [
    "উপরে উল্লেখিত ফাংশন, যেখানে এ্ক একটি ফাংশন এক এক প্রকার এর অপারেশন । min()  এই ফাংশনের  মধ্যে যদি কোন নাম্বার প্যারামিটার হিসেবে দেওয়া   হয় তাহলে ফাংশনটি সবচেয়ে ছোট সংখ্যাটি দেখাবে, max() এই ফাংশনটি সবচেয়ে বড় সংখ্যাটি দেখাবে,type() ফানশনটি ডাটার প্রকার কি সেটা ডিসপ্লে তে দেখাবে । পাইথনে এই ধরনের অনেক গুলা বিল্ড ইন ফাংশন রয়েছে। কিন্তুএই চ্যাপ্টারে আমরা নিজেরাই ফাংশনে বিল্ড-আপ করা  শিখব।\n"
   ]
  },
  {
   "cell_type": "markdown",
   "metadata": {},
   "source": [
    "ফাংশন নিজে  বিল্ড- আপ করতে হলে কয়েকটা ষ্টেপ অনুসরন করা লাগবে\n",
    "\n",
    "প্রথমত আমাদের ফাংশন কে ডিফাইন করতে হবে def নামক কি ওয়ার্ড(key word) দিয়ে \n",
    "\n",
    "দ্বিতীয়ত আমাদের ফাংশনের একটা নাম দেয়া লাগবে\n",
    "\n",
    "ৃতীয়ত আমাদের প্যারান্থেসিসের  মধ্যে এক বা একাধিক প্যারামিটার দেয়া লাগবে(প্যারামিটার অপশনাল)\n",
    "\n",
    "চতুর্থত আমাদের কোলন দিয়ে আমাদের  ফাংশনের বডি অর্থাৎ ফাংশন টা কি কাজ করবে।\n"
   ]
  },
  {
   "cell_type": "code",
   "execution_count": 17,
   "metadata": {},
   "outputs": [],
   "source": [
    "def function():\n",
    "    print('Hello world')\n",
    "    "
   ]
  },
  {
   "cell_type": "code",
   "execution_count": 18,
   "metadata": {},
   "outputs": [
    {
     "name": "stdout",
     "output_type": "stream",
     "text": [
      "Hello world\n"
     ]
    }
   ],
   "source": [
    "function()"
   ]
  },
  {
   "cell_type": "markdown",
   "metadata": {},
   "source": [
    "উপরের যে ফাংশন টি দেয়া আছে , ফাংশনটির নাম function এর মধ্যে কোন প্যারামিটার দেয়া হয় নাই  এবং  ফাংশন টিকে কল করা হলে এটি Hello world প্রিন্ট করবে। অর্থাৎ এই ফাংশনের বডিই হল Hello world প্রিন্ট করা  "
   ]
  },
  {
   "cell_type": "code",
   "execution_count": 19,
   "metadata": {},
   "outputs": [],
   "source": [
    "def function_2():\n",
    "    print('this book specially , Python for machine learning')\n",
    "    "
   ]
  },
  {
   "cell_type": "code",
   "execution_count": 20,
   "metadata": {},
   "outputs": [
    {
     "name": "stdout",
     "output_type": "stream",
     "text": [
      "this book specially , Python for machine learning\n"
     ]
    }
   ],
   "source": [
    "function_2()"
   ]
  },
  {
   "cell_type": "code",
   "execution_count": null,
   "metadata": {},
   "outputs": [],
   "source": []
  },
  {
   "cell_type": "markdown",
   "metadata": {},
   "source": [
    "উপরের প্রথম ফাংশন বুঝলে  তাহলে দ্বিতীয়টি বুঝতে সমস্যা  হওয়ার কথা না "
   ]
  },
  {
   "cell_type": "code",
   "execution_count": null,
   "metadata": {},
   "outputs": [],
   "source": []
  },
  {
   "cell_type": "code",
   "execution_count": 21,
   "metadata": {},
   "outputs": [],
   "source": [
    "def add(n1,n2):\n",
    "    add=n1+n2\n",
    "    print(add)"
   ]
  },
  {
   "cell_type": "code",
   "execution_count": 22,
   "metadata": {},
   "outputs": [
    {
     "name": "stdout",
     "output_type": "stream",
     "text": [
      "5\n"
     ]
    }
   ],
   "source": [
    "add(2,3)"
   ]
  },
  {
   "cell_type": "markdown",
   "metadata": {},
   "source": [
    "উপরের ফানশনটির নাম হল add  এবং এতে   প্যারামিটার হিসেবে n1,n2  আছে এবং ফাংশন টি দুইটি সংখ্যা যোগ করে যোগফল দেখাবে।\n",
    " add(2,3) এখানে n1=2 n2=3 "
   ]
  },
  {
   "cell_type": "code",
   "execution_count": 24,
   "metadata": {},
   "outputs": [],
   "source": [
    "def subtraction(n1,n2): # where n1>n2\n",
    "    sub=n1-n2\n",
    "    print(sub)"
   ]
  },
  {
   "cell_type": "code",
   "execution_count": 25,
   "metadata": {},
   "outputs": [
    {
     "name": "stdout",
     "output_type": "stream",
     "text": [
      "1\n"
     ]
    }
   ],
   "source": [
    "subtraction(3,2)"
   ]
  },
  {
   "cell_type": "markdown",
   "metadata": {},
   "source": [
    "add(2,3) এটা বুঝলে তাহলে subtraction(3,2) টি ও বুঝার কথা।"
   ]
  },
  {
   "cell_type": "code",
   "execution_count": 27,
   "metadata": {},
   "outputs": [],
   "source": [
    "def mul(n1,n2):\n",
    "    print (n1*n2)"
   ]
  },
  {
   "cell_type": "code",
   "execution_count": 28,
   "metadata": {},
   "outputs": [
    {
     "name": "stdout",
     "output_type": "stream",
     "text": [
      "20\n"
     ]
    }
   ],
   "source": [
    "mul(4,5)\n"
   ]
  },
  {
   "cell_type": "markdown",
   "metadata": {},
   "source": [
    "উপরের ফাংশন গুলার মধ্যে প্যারা্মিটার পরিবর্তন করে দেখতে পারেন আরো ভাল বুঝার জন্য ।"
   ]
  },
  {
   "cell_type": "markdown",
   "metadata": {},
   "source": [
    "একটি ফাংশনের বডি এক বা তার অধিক লাইনের হতে পারে। "
   ]
  },
  {
   "cell_type": "code",
   "execution_count": 30,
   "metadata": {},
   "outputs": [],
   "source": [
    "def intro(name,department,roll):\n",
    "    print('Welcome ,',name)\n",
    "    print('your department is ',department)\n",
    "    print('your roll no ',roll)"
   ]
  },
  {
   "cell_type": "code",
   "execution_count": 31,
   "metadata": {},
   "outputs": [
    {
     "name": "stdout",
     "output_type": "stream",
     "text": [
      "Welcome , Jabed\n",
      "your department is  Electrical and Electronics Engineering \n",
      "your roll no  EEE-01506441\n"
     ]
    }
   ],
   "source": [
    "intro('Jabed','Electrical and Electronics Engineering ','EEE-01506441')"
   ]
  },
  {
   "cell_type": "markdown",
   "metadata": {},
   "source": [
    "উপরের intro() এই ফাংশন এ ৩ টা প্যারামিটার খুজবে name,department এবং roll এবং ফাংশনের বডি হিসেবে ঐ ৩ টা ভ্যালুকে প্রিন্ট করতে বলছি ৩ লাইনে । আপনি চাইলে সেটা ১ লাইনে ও করতে পারতেন। যেহেতু ফাংশন আপনার , আপনি কি করবেন সেটা আপনার সিদ্বান্ত। মেইন পয়েন্ট টা ধরতে পারলেই হল"
   ]
  },
  {
   "cell_type": "markdown",
   "metadata": {},
   "source": [
    "এবার আপনি আপনার নিজের জন্য একটা ফাংশন তৈরি করে দেখতে পারেন। যে ফাংশনে নিজের পরিচয় দেয়া যাবে ।"
   ]
  },
  {
   "cell_type": "markdown",
   "metadata": {},
   "source": [
    "আমরা ফাংশনে ভ্যালু গুলাকে চাইলে প্রিন্ট না করে রিটার্ন করতে পারি return ব্যাবহার  করে। "
   ]
  },
  {
   "cell_type": "code",
   "execution_count": 32,
   "metadata": {},
   "outputs": [],
   "source": [
    "def meter_to_km(meter):\n",
    "    return meter/1000"
   ]
  },
  {
   "cell_type": "code",
   "execution_count": 33,
   "metadata": {},
   "outputs": [],
   "source": [
    "\n",
    "    "
   ]
  },
  {
   "cell_type": "code",
   "execution_count": null,
   "metadata": {},
   "outputs": [],
   "source": []
  },
  {
   "cell_type": "code",
   "execution_count": 36,
   "metadata": {},
   "outputs": [],
   "source": [
    "\n",
    "def farenhite_to_celcius():\n",
    "    temp=int(input('enter the farenhite value : '))\n",
    "    new_temp=5*(temp-32)/9\n",
    "    print(' the farenhite tem is',temp,'is equivalent to ',new_temp,'degree celcius')"
   ]
  },
  {
   "cell_type": "code",
   "execution_count": 37,
   "metadata": {},
   "outputs": [
    {
     "name": "stdout",
     "output_type": "stream",
     "text": [
      "enter the farenhite value : 45\n",
      " the farenhite tem is 45 is equivalent to  7.222222222222222 degree celcius\n"
     ]
    }
   ],
   "source": [
    "farenhite_to_celcius()"
   ]
  },
  {
   "cell_type": "code",
   "execution_count": null,
   "metadata": {},
   "outputs": [],
   "source": []
  },
  {
   "cell_type": "code",
   "execution_count": null,
   "metadata": {},
   "outputs": [],
   "source": []
  },
  {
   "cell_type": "code",
   "execution_count": null,
   "metadata": {},
   "outputs": [],
   "source": []
  },
  {
   "cell_type": "code",
   "execution_count": null,
   "metadata": {},
   "outputs": [],
   "source": []
  },
  {
   "cell_type": "code",
   "execution_count": null,
   "metadata": {},
   "outputs": [],
   "source": []
  },
  {
   "cell_type": "code",
   "execution_count": 38,
   "metadata": {},
   "outputs": [
    {
     "name": "stdout",
     "output_type": "stream",
     "text": [
      "the distance in km is = 55\n",
      "the round trip in km is = 110\n"
     ]
    }
   ],
   "source": [
    "def convert_distance(miles):\n",
    "    km = miles * 1.6  # approximately 1.6 km in 1 mile\\\n",
    "    return km\n",
    "\n",
    "trip_miles = 55\n",
    "trip_km=convert_distance(trip_miles)\n",
    "print('the distance in km is = '+str(trip_miles))\n",
    "print('the round trip in km is = ' +str(trip_miles*2))"
   ]
  },
  {
   "cell_type": "code",
   "execution_count": null,
   "metadata": {},
   "outputs": [],
   "source": []
  },
  {
   "cell_type": "code",
   "execution_count": null,
   "metadata": {},
   "outputs": [],
   "source": []
  },
  {
   "cell_type": "code",
   "execution_count": null,
   "metadata": {},
   "outputs": [],
   "source": []
  },
  {
   "cell_type": "code",
   "execution_count": null,
   "metadata": {},
   "outputs": [],
   "source": []
  },
  {
   "cell_type": "markdown",
   "metadata": {},
   "source": [
    "# কন্ডিশনাল (if-else)"
   ]
  },
  {
   "cell_type": "markdown",
   "metadata": {},
   "source": [
    "ধরেন , আপনি একজন খেলা পাগল ব্যাক্তি । আপনার ইচ্ছা হল একটা খেলায় অংশ গ্রহন করা । আমি আপনাকে বললাম যে আপনি যদি আগামী কাল সকাল ৬ টার আগে মাঠে আসতে পারেন তাহলে আপনাকে খেলার সুযোগ করে দিব। এর মানে ৬ টার আগে মাঠে আসা টা হল একটা শর্ত । প্রোগ্রাম করার সময় ও এরকম অনেক শর্তের সম্মুখিন হতে হয়  ।এই ধরনের সমস্যা গুলা সমাধান করার জন্য আমরা if ব্যাবহার করব।   "
   ]
  },
  {
   "cell_type": "code",
   "execution_count": 39,
   "metadata": {},
   "outputs": [
    {
     "name": "stdout",
     "output_type": "stream",
     "text": [
      "33\n"
     ]
    }
   ],
   "source": [
    "a=32\n",
    "if a ==32:\n",
    "    print(a+1)"
   ]
  },
  {
   "cell_type": "markdown",
   "metadata": {},
   "source": [
    "এখানে মূলত প্রোগ্রাম প্রথম লাইনে a=32 এটা নিবে। তারপর a=32 কিনা সেটা চেক করবে। যদি  a=32 হয় তাহলে সে কন্ডিশনের বডির কাজ  করবে। এখানে আমরা প্রিন্ট করতে বলছি a=32 হলে তার মান  যাতে  এক বেড়ে 33 হয়ে যায়।\n",
    "\n",
    "আমরা শুরুতে a=32 না নিয়ে অন্য কোন ভ্যালু নিয়ে ও চেক করতে পারি । যদি a এর ভ্যালু অন্য কিছু হয় তাহলে প্রোগ্রাম কন্ডিশনের বডির মধ্যে প্রবেশ করবে না। \n",
    "   "
   ]
  },
  {
   "cell_type": "code",
   "execution_count": null,
   "metadata": {},
   "outputs": [],
   "source": []
  },
  {
   "cell_type": "code",
   "execution_count": null,
   "metadata": {},
   "outputs": [],
   "source": []
  },
  {
   "cell_type": "markdown",
   "metadata": {},
   "source": [
    "আপনাকে একটা সমস্যা দেয়া হল যেখানে একটা সংখ্যা ধনাত্নক নাকি  ঋণাত্মক  সেটা খুজে বের করা । তাহলে কিভাবে সমাধান করব??? \n"
   ]
  },
  {
   "cell_type": "markdown",
   "metadata": {},
   "source": [
    "আমাদের প্রথম জানা দরকার একটা সংখ্যা কখন ধনাত্মক হয়  আর কখন ঋণাত্মক হয়। কোন সংখ্যা শূন্য থেকে বড় হলে  ধনাত্মক এবং শূন্য থেকে ছোট হলে সেটা  ঋণাত্মক। "
   ]
  },
  {
   "cell_type": "code",
   "execution_count": 40,
   "metadata": {},
   "outputs": [
    {
     "name": "stdout",
     "output_type": "stream",
     "text": [
      "number is positive\n"
     ]
    }
   ],
   "source": [
    "number=1\n",
    "if number>0:\n",
    "    print('number is positive')\n",
    "else:\n",
    "    print('number is negative' )\n",
    "        "
   ]
  },
  {
   "cell_type": "markdown",
   "metadata": {},
   "source": [
    "এখানে আমরা একটা ভ্যারিয়েবল number=1 নিলাম, শর্ত হল number এর ভ্যালু যদি বড় হয় শূন্য হয় তাহলে সে পজিটিভ প্রিন্ট করবে না হয় নেগেটিভ প্রিন্ট করবে।\n",
    "সমস্যা হল আমরা যদি number=0 নিই তাহলে কি প্রিন্ট করবে??? \n",
    "    "
   ]
  },
  {
   "cell_type": "code",
   "execution_count": 41,
   "metadata": {},
   "outputs": [
    {
     "name": "stdout",
     "output_type": "stream",
     "text": [
      "number is negative\n"
     ]
    }
   ],
   "source": [
    "number=0\n",
    "if number>0:\n",
    "    print('number is positive')\n",
    "else:\n",
    "    print('number is negative' )"
   ]
  },
  {
   "cell_type": "markdown",
   "metadata": {},
   "source": [
    "কি?? শূন্যকে এখানে নেগেটিভ প্রিন্ট দেখাল তো , তার মানে আমাদের প্রোগ্রামে আজো ঘাটতি আছে। এজন্য আমরা আরেকটা শর্ত লেখব যদি নাম্বারের ভ্যালু শূন্য থেকে ছোট হয় তাহলে নেগেটিভ প্রিন্ট করবে। প্রথ শর্ত ফিল আপ করলে পজিটিভ আর দ্বিতীয় শর্ত ফিলাপ হলে তাহলে নেগেটিভ।"
   ]
  },
  {
   "cell_type": "code",
   "execution_count": 45,
   "metadata": {},
   "outputs": [],
   "source": [
    "number=0\n",
    "if number>0:\n",
    "    print('number is positive')\n",
    "\n",
    "elif number<0:\n",
    "    print('number is negative')\n"
   ]
  },
  {
   "cell_type": "markdown",
   "metadata": {},
   "source": [
    "সব সমস্যা কি সমাধান হয়ে গেল???? যখন number=0 হবে তখন কোন কিছু প্রিন্ট করবে না। এখন আমরা কি করতে পারি?? নাম্বার শূন্য থেকে বড় হলে পজিটিভ শূন্য থেকে ছোট হলে তাহলে নেগেটিভ তাহলে আর থাকে কি>???? শুধু শূন্য । তাহলে বাকি যেটা থাকে সেটা শূ্ন্য।"
   ]
  },
  {
   "cell_type": "code",
   "execution_count": 46,
   "metadata": {},
   "outputs": [
    {
     "name": "stdout",
     "output_type": "stream",
     "text": [
      "number is null\n"
     ]
    }
   ],
   "source": [
    "number=0\n",
    "if number>0:\n",
    "    print('number is positive')\n",
    "\n",
    "elif number<0:\n",
    "    print('number is negative' )\n",
    "else:\n",
    "    print('number is null')"
   ]
  },
  {
   "cell_type": "markdown",
   "metadata": {},
   "source": [
    "এখন আমাদের প্রোগ্রাম কমপ্লিট। আশা করি ব্যাপারটা বুঝছেন। এবার আমরা একই প্রোগ্রাম কে একতা ফাংশন আকারে করব যে ফাংশন এর নাম হবে number_indigate এবং ফাংশন এ ইনপুট হিসেবে একটা নাম্বার কে নিবে বাকি কাজ পূর্বের গুলাই মতই হবে।"
   ]
  },
  {
   "cell_type": "code",
   "execution_count": 47,
   "metadata": {},
   "outputs": [],
   "source": [
    "def number_indigate(number):\n",
    "    if number>0:\n",
    "         print('number is positive')\n",
    "    elif number<0:\n",
    "         print('number is negative')\n",
    "    else :\n",
    "         print('number is null') "
   ]
  },
  {
   "cell_type": "code",
   "execution_count": 48,
   "metadata": {},
   "outputs": [
    {
     "name": "stdout",
     "output_type": "stream",
     "text": [
      "number is positive\n"
     ]
    }
   ],
   "source": [
    "number_indigate(5)"
   ]
  },
  {
   "cell_type": "markdown",
   "metadata": {},
   "source": [
    "আমরা আরও একটা প্রোগ্রাম দেখব, যেখানে কম্পিউটারে  আগে থেকে একটা magic নাম্বার সেট থাকবে এর পর ইউসার থেকে একটা ইনপুট হিসেবে নাম্বার নিব। যদি magic নাম্বার এর সাথে ইউসার এর দেয়া নাম্বার মিলে যায় তাহলে ইউসার জয়ী অন্যথা ফেইল। "
   ]
  },
  {
   "cell_type": "code",
   "execution_count": 50,
   "metadata": {},
   "outputs": [
    {
     "name": "stdout",
     "output_type": "stream",
     "text": [
      "please enter a  value: 14\n",
      "YOU ARE FAIL\n"
     ]
    }
   ],
   "source": [
    "magic=12\n",
    "a= int(input('please enter a  value: '))\n",
    "if a==magic:\n",
    "    print('YOU WIN THIS LOTTARY')\n",
    "else:\n",
    "    print('YOU ARE FAIL')"
   ]
  },
  {
   "cell_type": "markdown",
   "metadata": {},
   "source": [
    "এবার আমরা ১-১০০ এর ভিতর একটা রেনডম নাম্বার নিব এবং আগের মত ইউসার থেকে একটা নাম্বার নিব। যদি ইউসার এর নাম্বার এর সাথে রেনডম মিলে যায় তাহলে জয়ী অন্যথা আবার চেষ্টা করতে পারবে।"
   ]
  },
  {
   "cell_type": "code",
   "execution_count": 51,
   "metadata": {},
   "outputs": [
    {
     "name": "stdout",
     "output_type": "stream",
     "text": [
      "enter a random number (1-100) : 34\n",
      "sorry, you are fail\n",
      "\n",
      "please try again\n",
      "\n",
      "magic number is:  99\n"
     ]
    }
   ],
   "source": [
    "import numpy as np\n",
    "a=np.random.randint(100)\n",
    "b=int(input('enter a random number (1-100) : '))\n",
    "if a==b:\n",
    "    print(' Congras, you win this game')\n",
    "else:\n",
    "    print('sorry, you are fail\\n')\n",
    "    print('please try again')\n",
    "    \n",
    "print('\\nmagic number is: ',a)    "
   ]
  },
  {
   "cell_type": "code",
   "execution_count": null,
   "metadata": {},
   "outputs": [],
   "source": []
  },
  {
   "cell_type": "markdown",
   "metadata": {},
   "source": [
    "উপরের প্রোগ্রামটির মধ্যে প্রথম লাইনে আমরা নাম্পাই নামক একটা লাইব্রেরি কে ইম্পোর্ট করছি । দ্বিতীয় লাইনে আমরা ওই লাইব্রেরির থেকে একটা রেনডম নামক ফাংশন এবং ঐ ফাংশনটার randint(100)১-১০০ মধ্যে  ইন্টিজার  মান রেনডমলি নিবে। এই টুক এখন না বুঝলে ও চলবে। শুধু এইটুক মাথায় রাখলে হবে উপরের দুইলাইন ১-১০০ এর মধ্যে একটা ইন্টিজা্র সংখ্যা রেনডমলি নিবে। আমরা চাইলে randint(10)  ও দিতে পারি তাহলে ১-১০ এর মধ্যে যে কোন একটা সংখ্যা রেনডমলি নিবে। \n",
    "\n",
    "প্রোগ্রামের একেবারে শেষ লাইন মূলত রেনডম নাম্বার টা কত সেটা দেখাবে"
   ]
  },
  {
   "cell_type": "markdown",
   "metadata": {},
   "source": [
    "উপরের প্রোগ্রাম টার ভ্যালু চেইঞ্জ করে নিজে দেখতে পারেন।"
   ]
  },
  {
   "cell_type": "markdown",
   "metadata": {},
   "source": [
    "এখন আমরা আরো একটা প্রোগ্রাম লিখব যেটা একটা ফাংশন । যে ফাংশন এ ইনপুট হিসেবে একটা নাম্বার নিবে আউটপুট হিসেবে ওই নাম্বার এর মডুলাস মান দেখাবে। অর্থাৎ absoulate_value প্রিন্ট করবে "
   ]
  },
  {
   "cell_type": "code",
   "execution_count": 52,
   "metadata": {},
   "outputs": [],
   "source": [
    "def absoulate_value(num):\n",
    "    if num >=0:\n",
    "        abs_num=num\n",
    "    else:\n",
    "        abs_num=-num\n",
    "    print( ' the absoulate value of ',num,'is = ',abs_num)    \n",
    "    "
   ]
  },
  {
   "cell_type": "code",
   "execution_count": 53,
   "metadata": {},
   "outputs": [
    {
     "name": "stdout",
     "output_type": "stream",
     "text": [
      " the absoulate value of  -7 is =  7\n"
     ]
    }
   ],
   "source": [
    "absoulate_value(-7)"
   ]
  },
  {
   "cell_type": "markdown",
   "metadata": {},
   "source": [
    "# কাজঃ"
   ]
  },
  {
   "cell_type": "markdown",
   "metadata": {},
   "source": [
    "১। একটা ফাংশন বানাতে হবে যেটা ইনপুট হিসেবে তিনটা নাম্বার নিবে এবং রিটার্ন করবে অর্ডার অনুসারে, big,medium,small.অর্থাৎ, সবচেয়ে বড় সংখ্যা  তারপর তার ছোট সংখ্যা তারপর সবচেয়ে ছোট সংখ্যা।যেমনঃ২০,১৫,৭"
   ]
  },
  {
   "cell_type": "markdown",
   "metadata": {},
   "source": [
    "২।  প্রথম ফাংশন এর মত আরো একটা ফাংশন লিখতে হবে তবে এবার আউটপুট হবে পু্রা বিপরীত।যেমনঃ৭,১৫,২০"
   ]
  },
  {
   "cell_type": "markdown",
   "metadata": {},
   "source": [
    "৩।উপরের রেনডম প্রোগ্রাম টা একটা ফাংশন আকারে লিখেন ফাংশন এর নাম magic.\n",
    "\n",
    "hints: \n",
    "\n",
    "def magic():\n",
    "\n",
    "    .....\n",
    "    \n",
    "    .....\n",
    "    \n",
    "    \n",
    " আউইটপুট কিরকম হবে তা নিচে দেয়া হল"
   ]
  },
  {
   "cell_type": "markdown",
   "metadata": {},
   "source": [
    "magic()"
   ]
  },
  {
   "cell_type": "markdown",
   "metadata": {},
   "source": [
    "৪। একটা ফাংশন লিখতে হবে যেটার নাম হবে grade(number) ইনপুট হিসেবে একটা নাম্বার নিবে। গ্রেড হবে ৩ টা ৮০ বা  এর উপরে হলে এ+, ৭০ বা  এর উপরে হলে, এ ৭০ এর কম হলে ফেইল। গ্রেড কে রিটার্ন করতে হবে\n",
    " \n",
    " hints \n",
    " \n",
    " def grade(number):\n",
    " \n",
    "      if ...\n",
    "      \n",
    "      \n",
    "        grade='A+'\n",
    "      \n",
    "      if ...\n",
    "      \n",
    "        grade='A'\n",
    "      \n",
    "       ...\n",
    "     \n",
    "     return grade"
   ]
  },
  {
   "cell_type": "markdown",
   "metadata": {},
   "source": [
    "## loop"
   ]
  },
  {
   "cell_type": "code",
   "execution_count": 4,
   "metadata": {},
   "outputs": [
    {
     "name": "stdout",
     "output_type": "stream",
     "text": [
      "0\n",
      "1\n",
      "2\n",
      "3\n",
      "4\n",
      "5\n",
      "6\n",
      "7\n",
      "8\n",
      "9\n"
     ]
    }
   ],
   "source": [
    "a=0\n",
    "while a<10:\n",
    "    print(a)\n",
    "    a=a+1"
   ]
  },
  {
   "cell_type": "code",
   "execution_count": 14,
   "metadata": {},
   "outputs": [],
   "source": [
    "  def count_up():\n",
    "    a=int(input('enter a number '))\n",
    "    while a<10:\n",
    "        print(a,end=' ')\n",
    "        a=a+1\n",
    "    print('\\nfinish the loop')  "
   ]
  },
  {
   "cell_type": "code",
   "execution_count": 16,
   "metadata": {},
   "outputs": [
    {
     "name": "stdout",
     "output_type": "stream",
     "text": [
      "enter a number 0\n",
      "0 1 2 3 4 5 6 7 8 9 \n",
      "finish the loop\n"
     ]
    }
   ],
   "source": [
    "count_up()"
   ]
  },
  {
   "cell_type": "code",
   "execution_count": 21,
   "metadata": {},
   "outputs": [],
   "source": [
    "  def count_down():\n",
    "    a=int(input('enter a number '))\n",
    "    while a>0:\n",
    "        print(a,end=' ')\n",
    "        a=a-1\n",
    "    print('\\nfinish the loop')"
   ]
  },
  {
   "cell_type": "code",
   "execution_count": 22,
   "metadata": {},
   "outputs": [
    {
     "name": "stdout",
     "output_type": "stream",
     "text": [
      "enter a number 10\n",
      "10 9 8 7 6 5 4 3 2 1 \n",
      "finish the loop\n"
     ]
    }
   ],
   "source": [
    "count_down()"
   ]
  },
  {
   "cell_type": "code",
   "execution_count": 5,
   "metadata": {},
   "outputs": [],
   "source": [
    "  def count_up_even():\n",
    "    a=int(input('enter a  even number '))\n",
    "    while a<=100:\n",
    "        print(a,end=' ')\n",
    "        a=a+2\n",
    "    print('\\nfinish the loop')"
   ]
  },
  {
   "cell_type": "code",
   "execution_count": 6,
   "metadata": {},
   "outputs": [
    {
     "name": "stdout",
     "output_type": "stream",
     "text": [
      "enter a  even number 2\n",
      "2 4 6 8 10 12 14 16 18 20 22 24 26 28 30 32 34 36 38 40 42 44 46 48 50 52 54 56 58 60 62 64 66 68 70 72 74 76 78 80 82 84 86 88 90 92 94 96 98 100 \n",
      "finish the loop\n"
     ]
    }
   ],
   "source": [
    "count_up_even()"
   ]
  },
  {
   "cell_type": "code",
   "execution_count": 9,
   "metadata": {},
   "outputs": [],
   "source": [
    "def count_up_even():\n",
    "    a=int(input('enter a number below 100: '))\n",
    "    if a%2==1:\n",
    "        b=a-1\n",
    "        while b<=100:\n",
    "            print(b,end=' ')\n",
    "            b=b+2\n",
    "              \n",
    "    else:\n",
    "        while a<=100:\n",
    "            print(a,end=' ')\n",
    "            a=a+2\n",
    "        \n",
    "    print('\\n finish the code ')    "
   ]
  },
  {
   "cell_type": "code",
   "execution_count": 10,
   "metadata": {},
   "outputs": [
    {
     "name": "stdout",
     "output_type": "stream",
     "text": [
      "enter a number below 100: 1\n",
      "0 2 4 6 8 10 12 14 16 18 20 22 24 26 28 30 32 34 36 38 40 42 44 46 48 50 52 54 56 58 60 62 64 66 68 70 72 74 76 78 80 82 84 86 88 90 92 94 96 98 100 \n",
      " finish the code \n"
     ]
    }
   ],
   "source": [
    "count_up_even()"
   ]
  },
  {
   "cell_type": "code",
   "execution_count": 12,
   "metadata": {},
   "outputs": [
    {
     "name": "stdout",
     "output_type": "stream",
     "text": [
      "enter a number below 100: 2\n",
      "2 4 6 8 10 12 14 16 18 20 22 24 26 28 30 32 34 36 38 40 42 44 46 48 50 52 54 56 58 60 62 64 66 68 70 72 74 76 78 80 82 84 86 88 90 92 94 96 98 100 \n",
      " finish the code \n"
     ]
    }
   ],
   "source": [
    "count_up_even()"
   ]
  },
  {
   "cell_type": "code",
   "execution_count": 3,
   "metadata": {},
   "outputs": [
    {
     "name": "stdout",
     "output_type": "stream",
     "text": [
      "enter a pas:\n",
      "a\n",
      "enter a pas:\n",
      "d\n",
      "enter a pas:\n",
      "Hello\n",
      "DOne\n"
     ]
    }
   ],
   "source": [
    "while True:\n",
    "    pas=input('enter a pas:\\n')\n",
    "    if pas=='Hello':\n",
    "        \n",
    "        break\n",
    "        print(pas)\n",
    "print('DOne')   "
   ]
  },
  {
   "cell_type": "code",
   "execution_count": null,
   "metadata": {},
   "outputs": [],
   "source": [
    "while True:\n",
    "    PASS=input(' Enter your password: ')\n",
    "    if PASS =='12345':\n",
    "        break\n",
    "        print(PASS)\n",
    "    \n",
    "    print('please try again\\n')    \n",
    "print(' you succesfully enter your password')        "
   ]
  },
  {
   "cell_type": "code",
   "execution_count": 1,
   "metadata": {},
   "outputs": [
    {
     "name": "stdout",
     "output_type": "stream",
     "text": [
      " Enter your password: 123\n",
      "you entered wrong pass, please try again\n",
      "\n",
      " Enter your password: jabed12345\n",
      " you succesfully enter your password\n"
     ]
    }
   ],
   "source": [
    "while True:\n",
    "    PASS=input(' Enter your password: ')\n",
    "    if PASS =='jabed12345':\n",
    "        break\n",
    "        print(PASS)\n",
    "    \n",
    "    print('you entered wrong pass, please try again\\n')    \n",
    "print(' you successfully enter your password')        "
   ]
  },
  {
   "cell_type": "code",
   "execution_count": 5,
   "metadata": {},
   "outputs": [],
   "source": [
    "def password():\n",
    "    while True:\n",
    "        PASS=input(' Enter your password: ')\n",
    "        if PASS =='jabed12345':\n",
    "            break\n",
    "            print(PASS)\n",
    "    \n",
    "        print('you entered wrong pass, please try again\\n')    \n",
    "    print(' you successfully enter your password') "
   ]
  },
  {
   "cell_type": "code",
   "execution_count": 6,
   "metadata": {},
   "outputs": [
    {
     "name": "stdout",
     "output_type": "stream",
     "text": [
      " Enter your password: jabed\n",
      "you entered wrong pass, please try again\n",
      "\n",
      " Enter your password: jabed123\n",
      "you entered wrong pass, please try again\n",
      "\n",
      " Enter your password: jabed12345\n",
      " you successfully enter your password\n"
     ]
    }
   ],
   "source": [
    "password()"
   ]
  },
  {
   "cell_type": "code",
   "execution_count": 5,
   "metadata": {},
   "outputs": [
    {
     "name": "stdout",
     "output_type": "stream",
     "text": [
      "1 2 3 4 5 6 7 8 9 10 11 12 13 14 15 16 17 18 19 20 21 22 23 24 25 26 27 28 29 30 31 32 33 34 35 36 37 38 39 40 41 42 43 44 45 46 47 48 49 50 51 52 53 54 55 56 57 58 59 60 61 62 63 64 65 66 67 68 69 70 71 72 73 74 75 76 77 78 79 80 81 82 83 84 85 86 87 88 89 90 91 92 93 94 95 96 97 98 99 \n",
      "\n",
      "sum of 1-100 is = 4950\n"
     ]
    }
   ],
   "source": [
    "\n",
    "a=0\n",
    "for i in range(1,100):\n",
    "    print(i,end=' ')\n",
    "\n",
    "    a=a+i\n",
    "print('\\n')    \n",
    "print('sum of 1-100 is =',a)    "
   ]
  },
  {
   "cell_type": "code",
   "execution_count": null,
   "metadata": {},
   "outputs": [],
   "source": []
  },
  {
   "cell_type": "code",
   "execution_count": 13,
   "metadata": {},
   "outputs": [
    {
     "name": "stdout",
     "output_type": "stream",
     "text": [
      "enter a initial number: 1\n",
      "enter a end number +1 : 4\n",
      "1 2 3 4 \n",
      "\n",
      "sum of 1-100 is = 4\n"
     ]
    }
   ],
   "source": [
    "\n",
    "    \n",
    "   "
   ]
  },
  {
   "cell_type": "code",
   "execution_count": 12,
   "metadata": {},
   "outputs": [
    {
     "name": "stdout",
     "output_type": "stream",
     "text": [
      "enter a initial number: 1\n",
      "enter a end number +1 : 4\n",
      "1 2 3 4 \n",
      "\n",
      "sum of 1-100 is = 4\n"
     ]
    }
   ],
   "source": [
    "Summation()"
   ]
  },
  {
   "cell_type": "code",
   "execution_count": 1,
   "metadata": {},
   "outputs": [
    {
     "name": "stdout",
     "output_type": "stream",
     "text": [
      "['apple', 'banana', 'cherry']\n"
     ]
    }
   ],
   "source": [
    "thislist = [\"apple\", \"banana\", \"cherry\"]\n",
    "\n",
    "print(thislist)\n"
   ]
  },
  {
   "cell_type": "code",
   "execution_count": 3,
   "metadata": {},
   "outputs": [
    {
     "name": "stdout",
     "output_type": "stream",
     "text": [
      "<class 'list'>\n"
     ]
    }
   ],
   "source": [
    "print(type(thislist))"
   ]
  },
  {
   "cell_type": "code",
   "execution_count": 4,
   "metadata": {},
   "outputs": [
    {
     "name": "stdout",
     "output_type": "stream",
     "text": [
      "('apple', 'banana', 'cherry')\n"
     ]
    }
   ],
   "source": [
    "thislist = (\"apple\", \"banana\", \"cherry\")\n",
    "\n",
    "print(thislist)\n"
   ]
  },
  {
   "cell_type": "code",
   "execution_count": 5,
   "metadata": {},
   "outputs": [
    {
     "name": "stdout",
     "output_type": "stream",
     "text": [
      "<class 'tuple'>\n"
     ]
    }
   ],
   "source": [
    "print(type(thislist))"
   ]
  },
  {
   "cell_type": "code",
   "execution_count": 6,
   "metadata": {},
   "outputs": [
    {
     "name": "stdout",
     "output_type": "stream",
     "text": [
      "{'banana', 'cherry', 'apple'}\n"
     ]
    }
   ],
   "source": [
    "thislist = {\"apple\", \"banana\", \"cherry\"}\n",
    "\n",
    "print(thislist)"
   ]
  },
  {
   "cell_type": "code",
   "execution_count": 7,
   "metadata": {},
   "outputs": [
    {
     "name": "stdout",
     "output_type": "stream",
     "text": [
      "<class 'set'>\n"
     ]
    }
   ],
   "source": [
    "print(type(thislist))"
   ]
  },
  {
   "cell_type": "code",
   "execution_count": 2,
   "metadata": {},
   "outputs": [
    {
     "name": "stdout",
     "output_type": "stream",
     "text": [
      "['apple', 'banana', 'cherry']\n"
     ]
    }
   ],
   "source": [
    "thislist = [\"apple\", \"banana\", \"cherry\"]\n",
    "\n",
    "print(thislist)\n",
    "\n"
   ]
  },
  {
   "cell_type": "code",
   "execution_count": 3,
   "metadata": {},
   "outputs": [
    {
     "name": "stdout",
     "output_type": "stream",
     "text": [
      "[1, 3, 5, 7]\n"
     ]
    }
   ],
   "source": [
    "thislist_1 = [1,3,5,7]\n",
    "\n",
    "print(thislist_1)\n"
   ]
  },
  {
   "cell_type": "code",
   "execution_count": 4,
   "metadata": {},
   "outputs": [
    {
     "name": "stdout",
     "output_type": "stream",
     "text": [
      "['apple', 'banana', 'cherry', 1, 3, 5, 7]\n"
     ]
    }
   ],
   "source": [
    "thislist_2 = [\"apple\", \"banana\", \"cherry\",1,3,5,7]\n",
    "\n",
    "print(thislist_2)\n"
   ]
  },
  {
   "cell_type": "code",
   "execution_count": 6,
   "metadata": {},
   "outputs": [
    {
     "name": "stdout",
     "output_type": "stream",
     "text": [
      "apple\n"
     ]
    }
   ],
   "source": [
    "print(thislist_2[0])"
   ]
  },
  {
   "cell_type": "code",
   "execution_count": 7,
   "metadata": {},
   "outputs": [
    {
     "name": "stdout",
     "output_type": "stream",
     "text": [
      "cherry\n"
     ]
    }
   ],
   "source": [
    "print(thislist_2[2])"
   ]
  },
  {
   "cell_type": "code",
   "execution_count": 8,
   "metadata": {},
   "outputs": [
    {
     "name": "stdout",
     "output_type": "stream",
     "text": [
      "7\n"
     ]
    }
   ],
   "source": [
    "print(thislist_2[-1])"
   ]
  },
  {
   "cell_type": "code",
   "execution_count": 9,
   "metadata": {},
   "outputs": [
    {
     "name": "stdout",
     "output_type": "stream",
     "text": [
      "['banana', 'cherry']\n"
     ]
    }
   ],
   "source": [
    "print(thislist_2[1:3])"
   ]
  },
  {
   "cell_type": "code",
   "execution_count": 11,
   "metadata": {},
   "outputs": [
    {
     "name": "stdout",
     "output_type": "stream",
     "text": [
      "['orange', 'banana', 'cherry', 1, 3, 5, 7]\n"
     ]
    }
   ],
   "source": [
    "thislist_2[0]=\"orange\"\n",
    "print(thislist_2)"
   ]
  },
  {
   "cell_type": "code",
   "execution_count": 3,
   "metadata": {},
   "outputs": [
    {
     "name": "stdout",
     "output_type": "stream",
     "text": [
      "[8, 4, 6]\n"
     ]
    }
   ],
   "source": [
    "my_list = [\"mouse\", [8, 4, 6], ['a']]\n",
    "\n",
    "print(my_list[1])"
   ]
  },
  {
   "cell_type": "code",
   "execution_count": 5,
   "metadata": {},
   "outputs": [],
   "source": [
    "my_list = [\"mouse\", [8, 4, 6], ['a']]\n",
    "my_list.append('one')\n",
    "print(my_list)"
   ]
  },
  {
   "cell_type": "code",
   "execution_count": 6,
   "metadata": {},
   "outputs": [
    {
     "data": {
      "text/plain": [
       "['mouse', [8, 4, 6], ['a'], 'one']"
      ]
     },
     "execution_count": 6,
     "metadata": {},
     "output_type": "execute_result"
    }
   ],
   "source": []
  },
  {
   "cell_type": "code",
   "execution_count": 10,
   "metadata": {},
   "outputs": [],
   "source": [
    "my_list.extend([\"two\",'three'])"
   ]
  },
  {
   "cell_type": "code",
   "execution_count": 11,
   "metadata": {},
   "outputs": [
    {
     "name": "stdout",
     "output_type": "stream",
     "text": [
      "['mouse', [8, 4, 6], ['a'], 'one', 'two', 'three', 'two', 'three']\n"
     ]
    }
   ],
   "source": [
    "print(my_list)"
   ]
  },
  {
   "cell_type": "code",
   "execution_count": 15,
   "metadata": {},
   "outputs": [
    {
     "name": "stdout",
     "output_type": "stream",
     "text": [
      "[1, 2, 3, 4, 5, 6]\n"
     ]
    }
   ],
   "source": [
    "list_1=[1,2,3]\n",
    "list_2=[4,5,6]\n",
    "new_list=list_1+list_2\n",
    "\n",
    "print(new_list)"
   ]
  },
  {
   "cell_type": "code",
   "execution_count": 18,
   "metadata": {},
   "outputs": [
    {
     "name": "stdout",
     "output_type": "stream",
     "text": [
      "[1, 2, 3, 1, 2, 3]\n"
     ]
    }
   ],
   "source": [
    "new_list_2=list_1*2\n",
    "print(new_list_2)"
   ]
  },
  {
   "cell_type": "code",
   "execution_count": 22,
   "metadata": {},
   "outputs": [
    {
     "name": "stdout",
     "output_type": "stream",
     "text": [
      "['apple', 'cherry', 'banana', 'orange', 'mango']\n"
     ]
    }
   ],
   "source": [
    "list_3=['apple','banana','orange','mango']\n",
    "list_3.insert(1,'cherry')\n",
    "print(list_3)"
   ]
  },
  {
   "cell_type": "code",
   "execution_count": 35,
   "metadata": {},
   "outputs": [
    {
     "name": "stdout",
     "output_type": "stream",
     "text": [
      "['p', 'r', 'b', 'l', 'e', 'm']\n"
     ]
    }
   ],
   "source": [
    "# Deleting list items\n",
    "my_list = ['p', 'r', 'o', 'b', 'l', 'e', 'm']\n",
    "\n",
    "del my_list[2]\n",
    "\n",
    "print(my_list)\n",
    "\n",
    "\n"
   ]
  },
  {
   "cell_type": "code",
   "execution_count": 36,
   "metadata": {},
   "outputs": [
    {
     "name": "stdout",
     "output_type": "stream",
     "text": [
      "['p', 'l', 'e', 'm']\n"
     ]
    }
   ],
   "source": [
    "del my_list[1:3]\n",
    "print(my_list)"
   ]
  },
  {
   "cell_type": "code",
   "execution_count": 37,
   "metadata": {},
   "outputs": [
    {
     "ename": "AttributeError",
     "evalue": "type object 'list' has no attribute 'method'",
     "output_type": "error",
     "traceback": [
      "\u001b[1;31m---------------------------------------------------------------------------\u001b[0m",
      "\u001b[1;31mAttributeError\u001b[0m                            Traceback (most recent call last)",
      "\u001b[1;32m<ipython-input-37-8d5d0a420a9a>\u001b[0m in \u001b[0;36m<module>\u001b[1;34m\u001b[0m\n\u001b[1;32m----> 1\u001b[1;33m \u001b[0mlist\u001b[0m\u001b[1;33m.\u001b[0m\u001b[0mmethod\u001b[0m\u001b[1;33m(\u001b[0m\u001b[1;33m)\u001b[0m\u001b[1;33m\u001b[0m\u001b[1;33m\u001b[0m\u001b[0m\n\u001b[0m",
      "\u001b[1;31mAttributeError\u001b[0m: type object 'list' has no attribute 'method'"
     ]
    }
   ],
   "source": [
    "list.method()"
   ]
  },
  {
   "cell_type": "code",
   "execution_count": 39,
   "metadata": {},
   "outputs": [
    {
     "name": "stdout",
     "output_type": "stream",
     "text": [
      "['p', 'r', 'o', 'l', 'e', 'm']\n"
     ]
    }
   ],
   "source": [
    "my_list = ['p', 'r', 'o', 'b', 'l', 'e', 'm']\n",
    "my_list.remove('b')\n",
    "print(my_list)"
   ]
  },
  {
   "cell_type": "code",
   "execution_count": 41,
   "metadata": {},
   "outputs": [
    {
     "name": "stdout",
     "output_type": "stream",
     "text": [
      "['p', 'o', 'b', 'l', 'e', 'm']\n"
     ]
    }
   ],
   "source": [
    "my_list = ['p', 'r', 'o', 'b', 'l', 'e', 'm']\n",
    "my_list.pop(1) # 1 is an index number and in this list its means 'r'\n",
    "print(my_list)"
   ]
  },
  {
   "cell_type": "code",
   "execution_count": 42,
   "metadata": {},
   "outputs": [
    {
     "name": "stdout",
     "output_type": "stream",
     "text": [
      "[]\n"
     ]
    }
   ],
   "source": [
    "my_list = ['p', 'r', 'o', 'b', 'l', 'e', 'm']\n",
    "my_list.clear()\n",
    "print(my_list)"
   ]
  },
  {
   "cell_type": "code",
   "execution_count": 46,
   "metadata": {},
   "outputs": [
    {
     "data": {
      "text/plain": [
       "1"
      ]
     },
     "execution_count": 46,
     "metadata": {},
     "output_type": "execute_result"
    }
   ],
   "source": [
    "my_list = ['p', 'r', 'o', 'b', 'l', 'e', 'm']\n",
    "my_list.index('r')"
   ]
  },
  {
   "cell_type": "code",
   "execution_count": 48,
   "metadata": {},
   "outputs": [
    {
     "name": "stdout",
     "output_type": "stream",
     "text": [
      "3\n"
     ]
    }
   ],
   "source": [
    "my_list=[1,2,3,1,4,1,5,3]\n",
    "print(my_list.count(1))"
   ]
  },
  {
   "cell_type": "code",
   "execution_count": 50,
   "metadata": {},
   "outputs": [
    {
     "name": "stdout",
     "output_type": "stream",
     "text": [
      "[1, 1, 1, 2, 3, 3, 4, 5]\n"
     ]
    }
   ],
   "source": [
    "my_list=[1,2,3,1,4,1,5,3]\n",
    "my_list.sort()\n",
    "print(my_list)"
   ]
  },
  {
   "cell_type": "code",
   "execution_count": 51,
   "metadata": {},
   "outputs": [
    {
     "name": "stdout",
     "output_type": "stream",
     "text": [
      "[3, 5, 1, 4, 1, 3, 2, 1]\n"
     ]
    }
   ],
   "source": [
    "my_list=[1,2,3,1,4,1,5,3]\n",
    "my_list.reverse()\n",
    "print(my_list)"
   ]
  },
  {
   "cell_type": "code",
   "execution_count": 52,
   "metadata": {},
   "outputs": [
    {
     "name": "stdout",
     "output_type": "stream",
     "text": [
      "[5, 4, 3, 3, 2, 1, 1, 1]\n"
     ]
    }
   ],
   "source": [
    "my_list=[1,2,3,1,4,1,5,3]\n",
    "my_list.sort()\n",
    "my_list.reverse()\n",
    "print(my_list)"
   ]
  },
  {
   "cell_type": "code",
   "execution_count": 55,
   "metadata": {},
   "outputs": [
    {
     "name": "stdout",
     "output_type": "stream",
     "text": [
      "[0, 1, 2, 3, 4, 5, 6, 7, 8, 9]\n",
      "type of a is = <class 'list'>\n"
     ]
    }
   ],
   "source": [
    "a=[x for x in range(10)]\n",
    "print(a)\n",
    "print('type of a is =',type(a))"
   ]
  },
  {
   "cell_type": "code",
   "execution_count": 3,
   "metadata": {},
   "outputs": [
    {
     "name": "stdout",
     "output_type": "stream",
     "text": [
      "('apple', 'banana', 'mango')\n",
      "length of a is = 3\n"
     ]
    }
   ],
   "source": [
    "\n",
    "a=('apple','banana','mango')\n",
    "print(a)\n",
    "print('length of a is =',len(a))"
   ]
  },
  {
   "cell_type": "code",
   "execution_count": 4,
   "metadata": {},
   "outputs": [
    {
     "ename": "TypeError",
     "evalue": "'tuple' object does not support item assignment",
     "output_type": "error",
     "traceback": [
      "\u001b[1;31m---------------------------------------------------------------------------\u001b[0m",
      "\u001b[1;31mTypeError\u001b[0m                                 Traceback (most recent call last)",
      "\u001b[1;32m<ipython-input-4-fe88f2910dbf>\u001b[0m in \u001b[0;36m<module>\u001b[1;34m\u001b[0m\n\u001b[0;32m      1\u001b[0m \u001b[0mthistuple\u001b[0m \u001b[1;33m=\u001b[0m \u001b[1;33m(\u001b[0m\u001b[1;34m\"apple\"\u001b[0m\u001b[1;33m,\u001b[0m \u001b[1;34m\"banana\"\u001b[0m\u001b[1;33m,\u001b[0m \u001b[1;34m\"cherry\"\u001b[0m\u001b[1;33m)\u001b[0m\u001b[1;33m\u001b[0m\u001b[1;33m\u001b[0m\u001b[0m\n\u001b[1;32m----> 2\u001b[1;33m \u001b[0mthistuple\u001b[0m\u001b[1;33m[\u001b[0m\u001b[1;36m3\u001b[0m\u001b[1;33m]\u001b[0m \u001b[1;33m=\u001b[0m \u001b[1;34m\"orange\"\u001b[0m \u001b[1;31m# This will raise an error\u001b[0m\u001b[1;33m\u001b[0m\u001b[1;33m\u001b[0m\u001b[0m\n\u001b[0m\u001b[0;32m      3\u001b[0m \u001b[0mprint\u001b[0m\u001b[1;33m(\u001b[0m\u001b[0mthistuple\u001b[0m\u001b[1;33m)\u001b[0m\u001b[1;33m\u001b[0m\u001b[1;33m\u001b[0m\u001b[0m\n",
      "\u001b[1;31mTypeError\u001b[0m: 'tuple' object does not support item assignment"
     ]
    }
   ],
   "source": [
    "thistuple = (\"apple\", \"banana\", \"cherry\")\n",
    "thistuple[3] = \"orange\" \n",
    "print(thistuple)"
   ]
  },
  {
   "cell_type": "code",
   "execution_count": 6,
   "metadata": {},
   "outputs": [
    {
     "name": "stdout",
     "output_type": "stream",
     "text": [
      "<class 'tuple'>\n"
     ]
    }
   ],
   "source": [
    "thistuple = (\"apple\",)\n",
    "print(type(thistuple)) "
   ]
  },
  {
   "cell_type": "code",
   "execution_count": 7,
   "metadata": {},
   "outputs": [
    {
     "name": "stdout",
     "output_type": "stream",
     "text": [
      "('a', 'b', 'c', 1, 2, 3)\n"
     ]
    }
   ],
   "source": [
    "tuple1 = (\"a\", \"b\" , \"c\")\n",
    "tuple2 = (1, 2, 3)\n",
    "\n",
    "tuple3 = tuple1 + tuple2\n",
    "print(tuple3) "
   ]
  },
  {
   "cell_type": "code",
   "execution_count": 13,
   "metadata": {},
   "outputs": [
    {
     "data": {
      "text/plain": [
       "True"
      ]
     },
     "execution_count": 13,
     "metadata": {},
     "output_type": "execute_result"
    }
   ],
   "source": [
    "thistuple = (\"apple\", \"banana\", \"cherry\",'banana')\n",
    "'apple'in thistuple"
   ]
  },
  {
   "cell_type": "code",
   "execution_count": 12,
   "metadata": {},
   "outputs": [
    {
     "data": {
      "text/plain": [
       "True"
      ]
     },
     "execution_count": 12,
     "metadata": {},
     "output_type": "execute_result"
    }
   ],
   "source": []
  },
  {
   "cell_type": "code",
   "execution_count": 17,
   "metadata": {},
   "outputs": [
    {
     "name": "stdout",
     "output_type": "stream",
     "text": [
      "{'cherry', 'apple', 'banana'}\n",
      "<class 'set'>\n"
     ]
    }
   ],
   "source": [
    "thisset = {\"apple\", \"banana\", \"cherry\"}\n",
    "print(thisset) \n",
    "print(type(thisset))"
   ]
  },
  {
   "cell_type": "code",
   "execution_count": 21,
   "metadata": {},
   "outputs": [
    {
     "name": "stdout",
     "output_type": "stream",
     "text": [
      "cherry\n",
      "apple\n",
      "banana\n"
     ]
    }
   ],
   "source": [
    "thisset = {\"apple\", \"banana\", \"cherry\"}\n",
    "\n",
    "for x in thisset:\n",
    "  print(x) "
   ]
  },
  {
   "cell_type": "code",
   "execution_count": 22,
   "metadata": {},
   "outputs": [
    {
     "name": "stdout",
     "output_type": "stream",
     "text": [
      "True\n"
     ]
    }
   ],
   "source": [
    "thisset = {\"apple\", \"banana\", \"cherry\"}\n",
    "\n",
    "print(\"banana\" in thisset) "
   ]
  },
  {
   "cell_type": "code",
   "execution_count": 23,
   "metadata": {},
   "outputs": [
    {
     "name": "stdout",
     "output_type": "stream",
     "text": [
      "{'cherry', 'orange', 'apple', 'banana'}\n"
     ]
    }
   ],
   "source": [
    "thisset = {\"apple\", \"banana\", \"cherry\"}\n",
    "\n",
    "thisset.add(\"orange\")\n",
    "\n",
    "print(thisset) "
   ]
  },
  {
   "cell_type": "code",
   "execution_count": 33,
   "metadata": {},
   "outputs": [
    {
     "name": "stdout",
     "output_type": "stream",
     "text": [
      "{'cherry', 'mango', 'grapes', 'apple', 'banana', 'orange'}\n"
     ]
    }
   ],
   "source": [
    "thisset = {\"apple\", \"banana\", \"cherry\"}\n",
    "\n",
    "thisset.update([\"orange\", \"mango\", \"grapes\",'apple'])\n",
    "\n",
    "print(thisset) "
   ]
  },
  {
   "cell_type": "code",
   "execution_count": 25,
   "metadata": {},
   "outputs": [
    {
     "name": "stdout",
     "output_type": "stream",
     "text": [
      "3\n"
     ]
    }
   ],
   "source": [
    "thisset = {\"apple\", \"banana\", \"cherry\"}\n",
    "\n",
    "print(len(thisset)) "
   ]
  },
  {
   "cell_type": "code",
   "execution_count": 26,
   "metadata": {},
   "outputs": [
    {
     "name": "stdout",
     "output_type": "stream",
     "text": [
      "{'cherry', 'apple'}\n"
     ]
    }
   ],
   "source": [
    "thisset = {\"apple\", \"banana\", \"cherry\"}\n",
    "\n",
    "thisset.remove(\"banana\")\n",
    "\n",
    "print(thisset)\n"
   ]
  },
  {
   "cell_type": "code",
   "execution_count": 32,
   "metadata": {},
   "outputs": [
    {
     "name": "stdout",
     "output_type": "stream",
     "text": [
      "{1, 2, 'a', 3, 'c', 'b'}\n"
     ]
    }
   ],
   "source": [
    "set1 = {\"a\", \"b\" , \"c\"}\n",
    "set2 = {1, 2, 3,'a'}\n",
    "\n",
    "set3 = set1.union(set2)\n",
    "print(set3) "
   ]
  },
  {
   "cell_type": "code",
   "execution_count": 36,
   "metadata": {},
   "outputs": [
    {
     "name": "stdout",
     "output_type": "stream",
     "text": [
      "{1, 2, 'a', 3, 'c', 'b'}\n"
     ]
    }
   ],
   "source": [
    "set1 = {\"a\", \"b\" , \"c\"}\n",
    "set2 = {1, 2, 3,'a'}\n",
    "\n",
    "set1.update(set2)\n",
    "print(set1) "
   ]
  },
  {
   "cell_type": "code",
   "execution_count": 31,
   "metadata": {},
   "outputs": [
    {
     "data": {
      "text/plain": [
       "{'a'}"
      ]
     },
     "execution_count": 31,
     "metadata": {},
     "output_type": "execute_result"
    }
   ],
   "source": [
    "set1 = {\"a\", \"b\" , \"c\"}\n",
    "set2 = {1, 2, 3,'a'}\n",
    "set1.intersection(set2)\n"
   ]
  },
  {
   "cell_type": "code",
   "execution_count": 34,
   "metadata": {},
   "outputs": [
    {
     "name": "stdout",
     "output_type": "stream",
     "text": [
      "{'cherry', 'mango', 'grapes', 'apple', 'banana', 'orange'}\n"
     ]
    }
   ],
   "source": [
    "thisset = {\"apple\", \"banana\", \"cherry\"}\n",
    "\n",
    "thisset.update([\"orange\", \"mango\", \"grapes\",'apple'])\n",
    "\n",
    "print(thisset) "
   ]
  },
  {
   "cell_type": "code",
   "execution_count": 41,
   "metadata": {},
   "outputs": [
    {
     "name": "stdout",
     "output_type": "stream",
     "text": [
      "False\n"
     ]
    }
   ],
   "source": [
    "set1 = {\"a\", \"b\" , \"c\"}\n",
    "set2 = {1, 2, 3,'a'}\n",
    "\n",
    "set3 = set1.issuperset(set2)\n",
    "print(set3) "
   ]
  },
  {
   "cell_type": "code",
   "execution_count": 7,
   "metadata": {},
   "outputs": [
    {
     "name": "stdout",
     "output_type": "stream",
     "text": [
      "{'Name': 'Rahim', 'roll': 420, 'Class': 11}\n",
      "type of dict1=  <class 'dict'>\n"
     ]
    }
   ],
   "source": [
    "dict1={\"Name\":'Rahim',\n",
    "      \"roll\":420,\n",
    "      'Class':11}\n",
    "print(dict1)\n",
    "print('type of dict1= ',type(dict1))"
   ]
  },
  {
   "cell_type": "code",
   "execution_count": 8,
   "metadata": {},
   "outputs": [
    {
     "name": "stdout",
     "output_type": "stream",
     "text": [
      "{'Name': 'Rahim', 'Roll': 421, 'Class': 11}\n"
     ]
    }
   ],
   "source": [
    "rahim={\n",
    "    'Name':'Rahim',\n",
    "    'Roll':421,\n",
    "    'Class':11\n",
    "}\n",
    "\n",
    "print(rahim)"
   ]
  },
  {
   "cell_type": "code",
   "execution_count": 15,
   "metadata": {},
   "outputs": [
    {
     "name": "stdout",
     "output_type": "stream",
     "text": [
      "Rahim\n"
     ]
    }
   ],
   "source": [
    "print(dict1.get('Name'))"
   ]
  },
  {
   "cell_type": "code",
   "execution_count": 17,
   "metadata": {},
   "outputs": [
    {
     "name": "stdout",
     "output_type": "stream",
     "text": [
      "{'Name': 'Rahim', 'roll': 420, 'Class': 11}\n",
      "new value of dict1 is =  {'Name': 'Rahim', 'roll': 420, 'Class': 12}\n"
     ]
    }
   ],
   "source": [
    "dict1={\"Name\":'Rahim',\n",
    "      \"roll\":420,\n",
    "      'Class':11}\n",
    "print(dict1)\n",
    "\n",
    "dict1['Class']=12\n",
    "\n",
    "print('new value of dict1 is = ',dict1)"
   ]
  },
  {
   "cell_type": "code",
   "execution_count": 25,
   "metadata": {},
   "outputs": [
    {
     "name": "stdout",
     "output_type": "stream",
     "text": [
      " key value of this dict1:\n",
      "\n",
      "Name\n",
      "roll\n",
      "Class\n",
      " \n",
      " value of this dict1:\n",
      "\n",
      "Rahim\n",
      "420\n",
      "12\n"
     ]
    }
   ],
   "source": [
    "print(' key value of this dict1:\\n')\n",
    "for x in dict1:\n",
    "    print(x)\n",
    "print(' \\n value of this dict1:\\n')    \n",
    "for x in dict1:\n",
    "    print(dict1[x])"
   ]
  },
  {
   "cell_type": "code",
   "execution_count": 30,
   "metadata": {},
   "outputs": [],
   "source": [
    "def dictionary(name):\n",
    "    \n",
    "    print(' key value of this dict1:\\n')\n",
    "    for x in name:\n",
    "        print(x)\n",
    "    print(' \\n value of this dict1:\\n')     \n",
    "    for y in name:\n",
    "        print(name[y])"
   ]
  },
  {
   "cell_type": "code",
   "execution_count": 31,
   "metadata": {},
   "outputs": [
    {
     "name": "stdout",
     "output_type": "stream",
     "text": [
      " key value of this dict1:\n",
      "\n",
      "Name\n",
      "roll\n",
      "Class\n",
      " \n",
      " value of this dict1:\n",
      "\n",
      "Rahim\n",
      "420\n",
      "12\n"
     ]
    }
   ],
   "source": [
    "dictionary(dict1)"
   ]
  },
  {
   "cell_type": "code",
   "execution_count": 32,
   "metadata": {},
   "outputs": [
    {
     "name": "stdout",
     "output_type": "stream",
     "text": [
      "{'Name': 'Rahim', 'roll': 420, 'Class': 11}\n",
      "Name Rahim\n",
      "roll 420\n",
      "Class 11\n"
     ]
    }
   ],
   "source": [
    "dict1={\"Name\":'Rahim',\n",
    "      \"roll\":420,\n",
    "      'Class':11}\n",
    "print(dict1)\n",
    "for x,y in dict1.items():\n",
    "    print(x, y)"
   ]
  },
  {
   "cell_type": "code",
   "execution_count": 33,
   "metadata": {},
   "outputs": [
    {
     "name": "stdout",
     "output_type": "stream",
     "text": [
      "{'Name': 'Rahim', 'roll': 420, 'Class': 11}\n",
      "{'Name': 'Rahim', 'roll': 420, 'Class': 11, 'section': 'A'}\n"
     ]
    }
   ],
   "source": [
    "dict1={\"Name\":'Rahim',\n",
    "      \"roll\":420,\n",
    "      'Class':11}\n",
    "print(dict1)\n",
    "dict1['section']='A'\n",
    "print(dict1)"
   ]
  },
  {
   "cell_type": "code",
   "execution_count": 43,
   "metadata": {},
   "outputs": [
    {
     "name": "stdout",
     "output_type": "stream",
     "text": [
      "{'Name': 'Rahim', 'roll': 420, 'Class': 11}\n",
      "\n",
      "\n",
      "after removing  \n",
      "\n",
      "{}\n"
     ]
    }
   ],
   "source": [
    "dict1={\"Name\":'Rahim',\n",
    "      \"roll\":420,\n",
    "      'Class':11}\n",
    "\n",
    "print(dict1)\n",
    "\n",
    "print('\\n')\n",
    "\n",
    "print('after removing  \\n')\n",
    "dict1.clear()\n",
    "print(dict1)"
   ]
  },
  {
   "cell_type": "code",
   "execution_count": 52,
   "metadata": {},
   "outputs": [],
   "source": [
    "dict1={\"Name\":'Rahim',\n",
    "      \"roll\":420,\n",
    "      'Class':11}\n",
    "\n",
    "dict2=dict1.copy()"
   ]
  },
  {
   "cell_type": "code",
   "execution_count": 53,
   "metadata": {},
   "outputs": [
    {
     "name": "stdout",
     "output_type": "stream",
     "text": [
      "{'Name': 'Rahim', 'roll': 420, 'Class': 11}\n"
     ]
    }
   ],
   "source": [
    "print(dict2)"
   ]
  },
  {
   "cell_type": "code",
   "execution_count": 3,
   "metadata": {},
   "outputs": [],
   "source": [
    "wangfai = {\n",
    "  \"member1\" : {\n",
    "    \"name\" : \"jabed\",\n",
    "    \"roll\" : 441\n",
    "  },\n",
    "  \"member2\" : {\n",
    "    \"name\" : \"sagor\",\n",
    "    \"roll\" : 385\n",
    "  },\n",
    "  \"member3\" : {\n",
    "    \"name\" : \"raj\",\n",
    "    \"roll\" : 392\n",
    "  },\n",
    "  \"member4\" : {\n",
    "    \"name\" : \"Fahim\",\n",
    "    \"roll\" : 426\n",
    "  },\n",
    "  \"member5\" : {\n",
    "    \"name\" : \"adnan\",\n",
    "    \"roll\" : 421\n",
    "  \n",
    "  },\n",
    "  \"member6\" : {\n",
    "    \"name\" : \"shafiul\",\n",
    "    \"roll\" : 438\n",
    "    },\n",
    "  \"member7\" : {\n",
    "    \"name\" : \"tanjib\",\n",
    "    \"roll\" : 414\n",
    "  }\n",
    "\n",
    "}\n"
   ]
  },
  {
   "cell_type": "code",
   "execution_count": 4,
   "metadata": {},
   "outputs": [
    {
     "data": {
      "text/plain": [
       "{'member1': {'name': 'jabed', 'roll': 441},\n",
       " 'member2': {'name': 'sagor', 'roll': 385},\n",
       " 'member3': {'name': 'raj', 'roll': 392},\n",
       " 'member4': {'name': 'Fahim', 'roll': 426},\n",
       " 'member5': {'name': 'adnan', 'roll': 421},\n",
       " 'member6': {'name': 'shafiul', 'roll': 438},\n",
       " 'member7': {'name': 'tanjib', 'roll': 414}}"
      ]
     },
     "execution_count": 4,
     "metadata": {},
     "output_type": "execute_result"
    }
   ],
   "source": [
    "wangfai"
   ]
  },
  {
   "cell_type": "code",
   "execution_count": 5,
   "metadata": {},
   "outputs": [
    {
     "data": {
      "text/plain": [
       "{'name': 'jabed', 'roll': 441}"
      ]
     },
     "execution_count": 5,
     "metadata": {},
     "output_type": "execute_result"
    }
   ],
   "source": [
    "wangfai['member1']"
   ]
  },
  {
   "cell_type": "code",
   "execution_count": 6,
   "metadata": {},
   "outputs": [
    {
     "name": "stdout",
     "output_type": "stream",
     "text": [
      "{'child1': {'name': 'Emil', 'year': 2004}, 'child2': {'name': 'Tobias', 'year': 2007}, 'child3': {'name': 'Linus', 'year': 2011}}\n"
     ]
    }
   ],
   "source": [
    "child1 = {\n",
    "  \"name\" : \"Emil\",\n",
    "  \"year\" : 2004\n",
    "}\n",
    "child2 = {\n",
    "  \"name\" : \"Tobias\",\n",
    "  \"year\" : 2007\n",
    "}\n",
    "child3 = {\n",
    "  \"name\" : \"Linus\",\n",
    "  \"year\" : 2011\n",
    "}\n",
    "\n",
    "myfamily = {\n",
    "  \"child1\" : child1,\n",
    "  \"child2\" : child2,\n",
    "  \"child3\" : child3\n",
    "}\n",
    "\n",
    "print(myfamily)\n"
   ]
  },
  {
   "cell_type": "code",
   "execution_count": 7,
   "metadata": {},
   "outputs": [
    {
     "name": "stdout",
     "output_type": "stream",
     "text": [
      "12 miles equals 19.200000000000003 km\n",
      "5.5 miles equals 8.8 km\n",
      "11 miles equals 17.6 km\n"
     ]
    }
   ],
   "source": [
    "def convert_distance(miles):\n",
    "\tkm = miles * 1.6 \n",
    "\tresult = \"{} miles equals {} km\".format(miles,km)\n",
    "\treturn result\n",
    "\n",
    "print(convert_distance(12)) # Should be: 12 miles equals 19.2 km\n",
    "print(convert_distance(5.5)) # Should be: 5.5 miles equals 8.8 km\n",
    "print(convert_distance(11)) # Should be: 11 miles equals 17.6 km"
   ]
  },
  {
   "cell_type": "code",
   "execution_count": 10,
   "metadata": {},
   "outputs": [
    {
     "name": "stdout",
     "output_type": "stream",
     "text": [
      "JaneS\n",
      "FrancescoR\n",
      "Jean-LucG\n"
     ]
    }
   ],
   "source": [
    "def nametag(first_name, last_name):\n",
    "\treturn(\"{} {}\".format(first_name,last_name[0]))\n",
    "\n",
    "print(nametag(\"Jane\", \"Smith\")) \n",
    "# Should display \"Jane S.\" \n",
    "print(nametag(\"Francesco\", \"Rinaldi\")) \n",
    "# Should display \"Francesco R.\" \n",
    "print(nametag(\"Jean-Luc\", \"Grand-Pierre\")) \n",
    "# Should display \"Jean-Luc G.\""
   ]
  },
  {
   "cell_type": "code",
   "execution_count": 1,
   "metadata": {},
   "outputs": [],
   "source": [
    "class Apple:\n",
    "    color=''\n",
    "    flavor=''\n",
    "    height=''\n",
    "    weight=''\n",
    "    "
   ]
  },
  {
   "cell_type": "code",
   "execution_count": 2,
   "metadata": {},
   "outputs": [],
   "source": [
    "class Person:\n",
    "    name=''\n",
    "    age=''\n",
    "   \n",
    "    \n",
    "    "
   ]
  },
  {
   "cell_type": "code",
   "execution_count": 3,
   "metadata": {},
   "outputs": [],
   "source": [
    "class computer:\n",
    "    color=''\n",
    "    width=''\n",
    "    \n",
    "    "
   ]
  },
  {
   "cell_type": "code",
   "execution_count": 4,
   "metadata": {},
   "outputs": [],
   "source": [
    "apple_1=Apple()\n",
    "apple_2=Apple()\n",
    "apple_3=Apple()"
   ]
  },
  {
   "cell_type": "code",
   "execution_count": 5,
   "metadata": {},
   "outputs": [],
   "source": [
    "apple_1.color='red'\n",
    "apple_1.flavor='sweet'\n",
    "apple_1.weight='100 g'\n",
    "apple_1.height='3 cm'"
   ]
  },
  {
   "cell_type": "code",
   "execution_count": 7,
   "metadata": {},
   "outputs": [
    {
     "name": "stdout",
     "output_type": "stream",
     "text": [
      "red\n"
     ]
    }
   ],
   "source": [
    "print(apple_1.color)"
   ]
  },
  {
   "cell_type": "code",
   "execution_count": 8,
   "metadata": {},
   "outputs": [
    {
     "name": "stdout",
     "output_type": "stream",
     "text": [
      "sweet\n"
     ]
    }
   ],
   "source": [
    "print(apple_1.flavor)"
   ]
  },
  {
   "cell_type": "code",
   "execution_count": 10,
   "metadata": {},
   "outputs": [
    {
     "name": "stdout",
     "output_type": "stream",
     "text": [
      "attributes of apple_1 class color =red,flavor=sweet,weight=100 g,height=3 cm\n"
     ]
    }
   ],
   "source": [
    "print('attributes of apple_1 class, color ={},flavor={},weight={},height={}'.format(apple_1.color,apple_1.flavor,apple_1.weight,apple_1.height))"
   ]
  },
  {
   "cell_type": "code",
   "execution_count": 11,
   "metadata": {},
   "outputs": [],
   "source": [
    "person_1=Person()"
   ]
  },
  {
   "cell_type": "code",
   "execution_count": 13,
   "metadata": {},
   "outputs": [
    {
     "name": "stdout",
     "output_type": "stream",
     "text": [
      "Name of person_1 is = jabed omor bappi  and the age of person_1 =22 years \n"
     ]
    }
   ],
   "source": [
    "person_1.name='jabed omor bappi'\n",
    "person_1.age=22\n",
    "print('Name of person_1 is = {}  and the age of person_1 ={} years '.format(person_1.name,person_1.age))"
   ]
  },
  {
   "cell_type": "code",
   "execution_count": 14,
   "metadata": {},
   "outputs": [],
   "source": [
    "com1=computer()\n",
    "\n",
    "com1.color='black'\n",
    "com1.width='32 inch'"
   ]
  },
  {
   "cell_type": "code",
   "execution_count": null,
   "metadata": {},
   "outputs": [],
   "source": []
  },
  {
   "cell_type": "code",
   "execution_count": 15,
   "metadata": {},
   "outputs": [],
   "source": [
    "com2=computer()\n",
    "com2.color='red'\n",
    "com2.width='42 inch'"
   ]
  },
  {
   "cell_type": "code",
   "execution_count": 18,
   "metadata": {},
   "outputs": [
    {
     "name": "stdout",
     "output_type": "stream",
     "text": [
      "com1 color =black and width =32 inch\n"
     ]
    }
   ],
   "source": [
    "print('com1 color ={} and width ={}'.format(com1.color,com1.width))"
   ]
  },
  {
   "cell_type": "code",
   "execution_count": 19,
   "metadata": {},
   "outputs": [
    {
     "name": "stdout",
     "output_type": "stream",
     "text": [
      "com2 color =red and width =42 inch\n"
     ]
    }
   ],
   "source": [
    "print('com2 color ={} and width ={}'.format(com2.color,com2.width))"
   ]
  },
  {
   "cell_type": "code",
   "execution_count": 1,
   "metadata": {},
   "outputs": [],
   "source": [
    "class person:\n",
    "    def walk(self):\n",
    "        print('walking ')"
   ]
  },
  {
   "cell_type": "code",
   "execution_count": 2,
   "metadata": {},
   "outputs": [
    {
     "name": "stdout",
     "output_type": "stream",
     "text": [
      "walking \n"
     ]
    }
   ],
   "source": [
    "person_1=person()\n",
    "person_1.walk()"
   ]
  },
  {
   "cell_type": "code",
   "execution_count": 3,
   "metadata": {},
   "outputs": [],
   "source": [
    "def hello():\n",
    "    print(' hello , this is a function ')"
   ]
  },
  {
   "cell_type": "code",
   "execution_count": 4,
   "metadata": {},
   "outputs": [
    {
     "name": "stdout",
     "output_type": "stream",
     "text": [
      " hello , this is a function \n"
     ]
    }
   ],
   "source": [
    "hello()"
   ]
  },
  {
   "cell_type": "code",
   "execution_count": 8,
   "metadata": {},
   "outputs": [],
   "source": [
    "def person(name):\n",
    "    print('hi '+ name )"
   ]
  },
  {
   "cell_type": "code",
   "execution_count": 9,
   "metadata": {},
   "outputs": [
    {
     "name": "stdout",
     "output_type": "stream",
     "text": [
      "hi jabed\n"
     ]
    }
   ],
   "source": [
    "person('jabed')"
   ]
  },
  {
   "cell_type": "code",
   "execution_count": 17,
   "metadata": {},
   "outputs": [],
   "source": [
    "class person:\n",
    "    name='jabed '\n",
    "    age=22\n",
    "   \n",
    "    def intro(self):\n",
    "        print('my name is {} and i am {} years old'.format(self.name,self.age))\n",
    " "
   ]
  },
  {
   "cell_type": "code",
   "execution_count": 19,
   "metadata": {},
   "outputs": [
    {
     "name": "stdout",
     "output_type": "stream",
     "text": [
      "my name is jabed  and i am 22 years old\n"
     ]
    }
   ],
   "source": [
    "p1=person()\n",
    "p1.intro()"
   ]
  },
  {
   "cell_type": "code",
   "execution_count": 20,
   "metadata": {},
   "outputs": [
    {
     "name": "stdout",
     "output_type": "stream",
     "text": [
      "my name is x and i am 21 years old\n"
     ]
    }
   ],
   "source": [
    "p2=person()\n",
    "p2.name='x'\n",
    "p2.age=21\n",
    "p2.intro()"
   ]
  },
  {
   "cell_type": "code",
   "execution_count": 21,
   "metadata": {},
   "outputs": [],
   "source": [
    " class person:\n",
    "    def walk(self):\n",
    "        print('walking ')\n",
    "    def song(self):\n",
    "        print('singing')\n",
    "    def dance(self):\n",
    "        print('dancing')\n"
   ]
  },
  {
   "cell_type": "code",
   "execution_count": 22,
   "metadata": {},
   "outputs": [
    {
     "name": "stdout",
     "output_type": "stream",
     "text": [
      "walking \n",
      "dancing\n",
      "singing\n"
     ]
    }
   ],
   "source": [
    "person_1=person()\n",
    "person_1.walk()\n",
    "person_1.dance()\n",
    "person_1.song()\n"
   ]
  },
  {
   "cell_type": "code",
   "execution_count": 16,
   "metadata": {},
   "outputs": [],
   "source": [
    "class person:\n",
    "  \n",
    "    def walk(self):\n",
    "        print('walkig')"
   ]
  },
  {
   "cell_type": "code",
   "execution_count": 17,
   "metadata": {},
   "outputs": [
    {
     "data": {
      "text/plain": [
       "<__main__.person at 0x22e2a246fc8>"
      ]
     },
     "execution_count": 17,
     "metadata": {},
     "output_type": "execute_result"
    }
   ],
   "source": [
    "p1=person()\n",
    "p1"
   ]
  },
  {
   "cell_type": "code",
   "execution_count": 18,
   "metadata": {},
   "outputs": [
    {
     "name": "stdout",
     "output_type": "stream",
     "text": [
      "walkig\n"
     ]
    }
   ],
   "source": [
    "p1.walk()"
   ]
  },
  {
   "cell_type": "code",
   "execution_count": 22,
   "metadata": {},
   "outputs": [],
   "source": [
    "class person:\n",
    "    def __init__(self):\n",
    "        print('hello')"
   ]
  },
  {
   "cell_type": "code",
   "execution_count": 24,
   "metadata": {},
   "outputs": [
    {
     "name": "stdout",
     "output_type": "stream",
     "text": [
      "hello\n",
      "hello\n"
     ]
    }
   ],
   "source": [
    "p1=person()\n",
    "p2=person()\n"
   ]
  },
  {
   "cell_type": "code",
   "execution_count": 17,
   "metadata": {},
   "outputs": [],
   "source": [
    "class person:\n",
    "    def __init__(self,name,age):\n",
    "        self.name=name\n",
    "        self.age=age\n",
    "    def __str__(self):\n",
    "        return 'your name is {} and you are {} years old.'.format(self.name,self.age)\n",
    " \n"
   ]
  },
  {
   "cell_type": "code",
   "execution_count": 18,
   "metadata": {},
   "outputs": [
    {
     "name": "stdout",
     "output_type": "stream",
     "text": [
      "your name is jabed and you are 22 years old.\n"
     ]
    }
   ],
   "source": [
    "p1=person('jabed',22)\n",
    "p2=person('rahim',25)\n",
    "print(p1)"
   ]
  },
  {
   "cell_type": "code",
   "execution_count": 23,
   "metadata": {},
   "outputs": [
    {
     "name": "stdout",
     "output_type": "stream",
     "text": [
      "Area of Rectangle: 19200 sq units\n"
     ]
    }
   ],
   "source": [
    "class Rectangle:\n",
    "    \n",
    "    def __init__(self, length, breadth):\n",
    "        self.length = length\n",
    "        self.breadth = breadth\n",
    "        \n",
    "    def get_area(self):\n",
    "        return self.length * self.breadth\n",
    "    \n",
    "r = Rectangle(160, 120)\n",
    "print(\"Area of Rectangle: %s sq units\" % (r.get_area()))"
   ]
  },
  {
   "cell_type": "code",
   "execution_count": 19,
   "metadata": {},
   "outputs": [],
   "source": [
    "class Apple:\n",
    "    def __init__(a,color,flavor):\n",
    "        a.color=color\n",
    "        a.flavor=flavor\n",
    "    def __str__(b):\n",
    "        return \"this apple {} and its flavor {}\".format(b.color,b.flavor)"
   ]
  },
  {
   "cell_type": "code",
   "execution_count": 21,
   "metadata": {},
   "outputs": [
    {
     "name": "stdout",
     "output_type": "stream",
     "text": [
      "this apple red and its flavor sweet\n"
     ]
    }
   ],
   "source": [
    "apple_1=Apple('red','sweet')\n",
    "print(apple_1)"
   ]
  },
  {
   "cell_type": "code",
   "execution_count": 32,
   "metadata": {},
   "outputs": [],
   "source": [
    "class Car:\n",
    "    def __init__(self, color, mileage):\n",
    "        self.color = color\n",
    "        self.mileage = mileage\n",
    "\n",
    "    def __str__(self):\n",
    "        return 'this car is {} color and its {} mileage per hour'.format(self.color,self.mileage)\n"
   ]
  },
  {
   "cell_type": "code",
   "execution_count": 33,
   "metadata": {},
   "outputs": [
    {
     "name": "stdout",
     "output_type": "stream",
     "text": [
      "this car is blue color and its 3341 mileage per hour\n"
     ]
    }
   ],
   "source": [
    "my_car=Car('blue',3341)\n",
    "print(my_car)\n"
   ]
  },
  {
   "cell_type": "code",
   "execution_count": 20,
   "metadata": {},
   "outputs": [
    {
     "name": "stdout",
     "output_type": "stream",
     "text": [
      "your name is jabed omor  Bappi  and you are  22 years old .\n"
     ]
    }
   ],
   "source": [
    "class Person:\n",
    "    \n",
    "    def __init__(self, fname, lname,age):\n",
    "        self.firstname = fname\n",
    "        self.lastname = lname\n",
    "        self.age=age\n",
    "        \n",
    "\n",
    "    def printname(self):\n",
    "        print('your name is {} {}  and you are  {} years old .'.format(self.firstname, self.lastname,self.age)) \n",
    "#Use the Person class to create an object, and then execute the printname method:\n",
    "\n",
    "person_1 = Person(\"jabed omor \", \"Bappi\",22)\n",
    "person_1.printname() "
   ]
  },
  {
   "cell_type": "code",
   "execution_count": 21,
   "metadata": {},
   "outputs": [],
   "source": [
    "class student(Person):\n",
    "    pass \n",
    "class teacher(Person):\n",
    "    pass\n",
    "class staff(Person):\n",
    "    pass\n"
   ]
  },
  {
   "cell_type": "code",
   "execution_count": 22,
   "metadata": {},
   "outputs": [],
   "source": [
    "student_1=student('mr','x',20)\n",
    "teacher_1=teacher('Mr','Ahmed',41)\n",
    "staff_1=staff('Mr','y',25)"
   ]
  },
  {
   "cell_type": "code",
   "execution_count": 29,
   "metadata": {},
   "outputs": [
    {
     "name": "stdout",
     "output_type": "stream",
     "text": [
      "your name is mr x  and you are  20 years old .\n"
     ]
    }
   ],
   "source": [
    "student_1.printname()"
   ]
  },
  {
   "cell_type": "code",
   "execution_count": 30,
   "metadata": {},
   "outputs": [
    {
     "name": "stdout",
     "output_type": "stream",
     "text": [
      "your name is Mr Ahmed  and you are  41 years old .\n"
     ]
    }
   ],
   "source": [
    "teacher_1.printname()"
   ]
  },
  {
   "cell_type": "code",
   "execution_count": 32,
   "metadata": {},
   "outputs": [
    {
     "name": "stdout",
     "output_type": "stream",
     "text": [
      "your name is Mr y  and you are  25 years old .\n"
     ]
    }
   ],
   "source": [
    "staff_1.printname()"
   ]
  },
  {
   "cell_type": "code",
   "execution_count": 33,
   "metadata": {},
   "outputs": [],
   "source": [
    "class fruit:\n",
    "    def __init__(self,color,flavor,size):\n",
    "        self.color=color\n",
    "        self.flavor=flavor\n",
    "        self.size=size\n",
    "        "
   ]
  },
  {
   "cell_type": "code",
   "execution_count": 34,
   "metadata": {},
   "outputs": [],
   "source": [
    "class Apple(fruit):\n",
    "    pass\n",
    "class Orange(fruit):\n",
    "    pass\n",
    "class Grape(fruit):\n",
    "    pass\n"
   ]
  },
  {
   "cell_type": "code",
   "execution_count": 35,
   "metadata": {},
   "outputs": [
    {
     "name": "stdout",
     "output_type": "stream",
     "text": [
      "green\n"
     ]
    }
   ],
   "source": [
    "apple_1=Apple('green','tart','15 cm')\n",
    "print(apple_1.color)"
   ]
  },
  {
   "cell_type": "code",
   "execution_count": 5,
   "metadata": {},
   "outputs": [
    {
     "name": "stdout",
     "output_type": "stream",
     "text": [
      "[2, 3, 4, 5, 6, 7, 23, 24, 34, 65]\n"
     ]
    }
   ],
   "source": [
    "number=[4,6,7,2,34,65,24,23,3,5]\n",
    "number.sort()\n",
    "print(number)"
   ]
  },
  {
   "cell_type": "code",
   "execution_count": 7,
   "metadata": {},
   "outputs": [
    {
     "name": "stdout",
     "output_type": "stream",
     "text": [
      "['Mr X', 'Mr Y', 'Rahim', 'abdul', 'karim']\n"
     ]
    }
   ],
   "source": [
    "name=['abdul','karim','Mr X','Mr Y','Rahim']\n",
    "print(sorted(name))"
   ]
  },
  {
   "cell_type": "code",
   "execution_count": 8,
   "metadata": {},
   "outputs": [
    {
     "data": {
      "text/plain": [
       "['Mr X', 'Mr Y', 'abdul', 'karim', 'Rahim']"
      ]
     },
     "execution_count": 8,
     "metadata": {},
     "output_type": "execute_result"
    }
   ],
   "source": [
    "sorted(name,key=len)"
   ]
  },
  {
   "cell_type": "code",
   "execution_count": null,
   "metadata": {},
   "outputs": [],
   "source": []
  }
 ],
 "metadata": {
  "kernelspec": {
   "display_name": "Python 3",
   "language": "python",
   "name": "python3"
  },
  "language_info": {
   "codemirror_mode": {
    "name": "ipython",
    "version": 3
   },
   "file_extension": ".py",
   "mimetype": "text/x-python",
   "name": "python",
   "nbconvert_exporter": "python",
   "pygments_lexer": "ipython3",
   "version": "3.7.6"
  }
 },
 "nbformat": 4,
 "nbformat_minor": 4
}
