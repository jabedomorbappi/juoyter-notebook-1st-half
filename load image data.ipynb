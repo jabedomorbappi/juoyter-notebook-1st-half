{
 "cells": [
  {
   "cell_type": "code",
   "execution_count": 1,
   "metadata": {},
   "outputs": [
    {
     "name": "stdout",
     "output_type": "stream",
     "text": [
      "Collecting split_folders\n",
      "  Downloading split_folders-0.4.3-py3-none-any.whl (7.4 kB)\n",
      "Installing collected packages: split-folders\n",
      "Successfully installed split-folders-0.4.3\n"
     ]
    }
   ],
   "source": [
    "!pip install split_folders"
   ]
  },
  {
   "cell_type": "code",
   "execution_count": null,
   "metadata": {},
   "outputs": [],
   "source": []
  },
  {
   "cell_type": "code",
   "execution_count": 1,
   "metadata": {},
   "outputs": [],
   "source": [
    "import splitfolders"
   ]
  },
  {
   "cell_type": "code",
   "execution_count": 2,
   "metadata": {},
   "outputs": [
    {
     "name": "stderr",
     "output_type": "stream",
     "text": [
      "Using TensorFlow backend.\n"
     ]
    }
   ],
   "source": [
    "from tensorflow.keras.layers import Conv2D,Flatten,Dense,MaxPool2D,BatchNormalization,GlobalAveragePooling2D\n",
    "from tensorflow.keras.applications.resnet50 import preprocess_input,decode_predictions\n",
    "from tensorflow.keras.preprocessing.image import ImageDataGenerator,load_img\n",
    "from tensorflow.keras.applications.resnet50 import ResNet50\n",
    "from tensorflow.keras.preprocessing import image \n",
    "from tensorflow.keras.models import Sequential \n",
    "from tensorflow.keras.models import Model\n",
    "import matplotlib.pyplot as plt\n",
    "import numpy as np \n",
    "\n",
    "\n",
    "\n",
    "import os\n",
    "import torch\n",
    "import glob\n",
    "import torch.nn as nn\n",
    "from torchvision.transforms import transforms\n",
    "from torch.utils.data import DataLoader\n",
    "from torch.optim import Adam\n",
    "from torch.autograd import Variable\n",
    "import torchvision\n",
    "import pathlib\n",
    "\n",
    "\n",
    "\n",
    "import seaborn as sns\n",
    "sns.set(style='whitegrid')\n",
    "import os\n",
    "import glob as gb #디렉토리내에 있는 파일들을 리스트로 리턴\n",
    "import cv2        #이미지처리\n",
    "\n",
    "import keras\n",
    "%matplotlib inline\n",
    "\n",
    "\n",
    "\n",
    "\n",
    "import h5py\n",
    "import math\n",
    "import pandas as pd\n",
    "\n",
    "import keras.backend as K\n",
    "K.set_image_data_format('channels_last')\n",
    "K.set_learning_phase(1)\n",
    "\n",
    "\n",
    "import keras.backend as K\n",
    "K.set_image_data_format('channels_last')\n",
    "import matplotlib.pyplot as plt\n",
    "from matplotlib.pyplot import imshow\n",
    "\n",
    "%matplotlib inline\n"
   ]
  },
  {
   "cell_type": "code",
   "execution_count": 3,
   "metadata": {},
   "outputs": [
    {
     "name": "stdout",
     "output_type": "stream",
     "text": [
      "cpu\n"
     ]
    }
   ],
   "source": [
    "device = torch.device('cuda' if torch.cuda.is_available() else 'cpu')\n",
    "print(device)"
   ]
  },
  {
   "cell_type": "code",
   "execution_count": 4,
   "metadata": {},
   "outputs": [],
   "source": [
    "image_height,image_width=(224,224)\n",
    "batch_size=32\n",
    "train_path=r'D:\\Compressed\\archive_4\\New Plant Diseases Dataset(Augmented)\\New Plant Diseases Dataset(Augmented)\\train'\n",
    "\n",
    "valid_path=r'D:\\Compressed\\archive_4\\New Plant Diseases Dataset(Augmented)\\New Plant Diseases Dataset(Augmented)\\valid'\n",
    "test_path=r'D:\\Compressed\\archive_4\\New Plant Diseases Dataset(Augmented)\\valid'\n"
   ]
  },
  {
   "cell_type": "code",
   "execution_count": null,
   "metadata": {},
   "outputs": [],
   "source": []
  },
  {
   "cell_type": "code",
   "execution_count": null,
   "metadata": {},
   "outputs": [],
   "source": []
  },
  {
   "cell_type": "code",
   "execution_count": null,
   "metadata": {},
   "outputs": [],
   "source": []
  },
  {
   "cell_type": "code",
   "execution_count": null,
   "metadata": {},
   "outputs": [],
   "source": []
  },
  {
   "cell_type": "code",
   "execution_count": null,
   "metadata": {},
   "outputs": [],
   "source": [
    "\n"
   ]
  },
  {
   "cell_type": "code",
   "execution_count": 5,
   "metadata": {},
   "outputs": [],
   "source": [
    "def train_generator():\n",
    "   \n",
    "    train_datagen=ImageDataGenerator(preprocessing_function=preprocess_input,\n",
    "                                shear_range=0.2,\n",
    "                                zoom_range=0.2,\n",
    "                                horizontal_flip=True,\n",
    "                                validation_split=0.4)\n",
    "    #train generator \n",
    "    train_generator=train_datagen.flow_from_directory(train_path,\n",
    "                                                target_size=(224,224),\n",
    "                                                batch_size=32,\n",
    "                                                class_mode='categorical',\n",
    "                                                subset='validation')\n",
    "    #vaid_generator \n",
    "    valid_generator=train_datagen.flow_from_directory(valid_path,\n",
    "                                                 target_size=(224,224),\n",
    "                                                 batch_size=32,\n",
    "                                                 class_mode='categorical',\n",
    "                                                 subset='validation')\n",
    "    test_generator=train_datagen.flow_from_directory(test_path,\n",
    "                                                target_size=(224,224),\n",
    "                                                batch_size=1,\n",
    "                                                class_mode='categorical',\n",
    "                                                subset='validation')\n",
    "    return train_generator,valid_generator,test_generator\n"
   ]
  },
  {
   "cell_type": "code",
   "execution_count": 6,
   "metadata": {},
   "outputs": [
    {
     "name": "stdout",
     "output_type": "stream",
     "text": [
      "Found 7334 images belonging to 10 classes.\n",
      "Found 1832 images belonging to 10 classes.\n",
      "Found 1832 images belonging to 10 classes.\n"
     ]
    }
   ],
   "source": [
    " train_generator,valid_generator,test_generator=train_generator()"
   ]
  },
  {
   "cell_type": "code",
   "execution_count": 7,
   "metadata": {},
   "outputs": [
    {
     "data": {
      "text/plain": [
       "numpy.ndarray"
      ]
     },
     "execution_count": 7,
     "metadata": {},
     "output_type": "execute_result"
    }
   ],
   "source": [
    "type(train_generator[0][0][0])"
   ]
  },
  {
   "cell_type": "code",
   "execution_count": 8,
   "metadata": {},
   "outputs": [
    {
     "name": "stderr",
     "output_type": "stream",
     "text": [
      "Clipping input data to the valid range for imshow with RGB data ([0..1] for floats or [0..255] for integers).\n"
     ]
    },
    {
     "data": {
      "text/plain": [
       "<matplotlib.image.AxesImage at 0x17f25b4a948>"
      ]
     },
     "execution_count": 8,
     "metadata": {},
     "output_type": "execute_result"
    },
    {
     "data": {
      "image/png": "[encoded data removed]",
      "text/plain": [
       "<Figure size 432x288 with 1 Axes>"
      ]
     },
     "metadata": {
      "needs_background": "light"
     },
     "output_type": "display_data"
    }
   ],
   "source": [
    "\n",
    "    \n",
    "plt.imshow(train_generator[0][0][10])"
   ]
  },
  {
   "cell_type": "markdown",
   "metadata": {},
   "source": [
    "#### "
   ]
  },
  {
   "cell_type": "code",
   "execution_count": 9,
   "metadata": {},
   "outputs": [],
   "source": [
    "#importing the libraries\n",
    "import os \n",
    "import cv2\n",
    "import numpy as np\n",
    "import matplotlib.pyplot as plt\n",
    "%matplotlib inline"
   ]
  },
  {
   "cell_type": "code",
   "execution_count": 10,
   "metadata": {},
   "outputs": [],
   "source": [
    "\n",
    "def classes_and_code():\n",
    "    root=pathlib.Path(train_path)\n",
    "    classes=[ i for i in os.listdir(train_path) if '.' not in i]\n",
    "    Code=[]\n",
    "    for i in range(len(classes)):\n",
    "        Code+={classes[i]}\n",
    "        Code+=[i]\n",
    "    code={Code[i]:Code[i+1] for i in range(0,len(Code),2)}\n",
    "    \n",
    "    return classes,code"
   ]
  },
  {
   "cell_type": "code",
   "execution_count": 11,
   "metadata": {},
   "outputs": [],
   "source": [
    "def getcode(n):\n",
    "    classes,code=classes_and_code()\n",
    "    for x,y in code.items():\n",
    "        if n==y:\n",
    "            return x"
   ]
  },
  {
   "cell_type": "code",
   "execution_count": 12,
   "metadata": {},
   "outputs": [],
   "source": [
    "def train_image_number(print_n=False):\n",
    "    summation=[]\n",
    "    for folder in os.listdir(train_path):\n",
    "        files=gb.glob(str(train_path+'/'+folder+'/*.jpg'))\n",
    "        if print_n==True:\n",
    "            \n",
    "            print(f' for training data , found {len(files)} in folder { folder} \\n')\n",
    "        summation.append(len(files))\n",
    "    return summation    "
   ]
  },
  {
   "cell_type": "code",
   "execution_count": 13,
   "metadata": {},
   "outputs": [],
   "source": [
    "def validation_image_number(print_n=False):\n",
    "    summation=[]\n",
    "    for folder in os.listdir(valid_path):\n",
    "        files=gb.glob(str(valid_path+'/'+folder+'/*.jpg'))\n",
    "        if print_n==True:\n",
    "            \n",
    "            print(f' for validation data , found {len(files)} in folder { folder} \\n')\n",
    "        summation.append(len(files))\n",
    "    return summation   "
   ]
  },
  {
   "cell_type": "code",
   "execution_count": 14,
   "metadata": {},
   "outputs": [
    {
     "data": {
      "text/plain": [
       "18345"
      ]
     },
     "execution_count": 14,
     "metadata": {},
     "output_type": "execute_result"
    }
   ],
   "source": [
    "train_image_no=train_image_number()\n",
    "sum(train_image_no)"
   ]
  },
  {
   "cell_type": "code",
   "execution_count": 15,
   "metadata": {},
   "outputs": [
    {
     "data": {
      "text/plain": [
       "4585"
      ]
     },
     "execution_count": 15,
     "metadata": {},
     "output_type": "execute_result"
    }
   ],
   "source": [
    "val_im_no=validation_image_number()\n",
    "sum(val_im_no)"
   ]
  },
  {
   "cell_type": "code",
   "execution_count": null,
   "metadata": {},
   "outputs": [],
   "source": []
  },
  {
   "cell_type": "code",
   "execution_count": null,
   "metadata": {},
   "outputs": [],
   "source": []
  },
  {
   "cell_type": "code",
   "execution_count": null,
   "metadata": {},
   "outputs": [],
   "source": []
  },
  {
   "cell_type": "code",
   "execution_count": null,
   "metadata": {},
   "outputs": [],
   "source": []
  },
  {
   "cell_type": "code",
   "execution_count": null,
   "metadata": {},
   "outputs": [],
   "source": []
  },
  {
   "cell_type": "code",
   "execution_count": null,
   "metadata": {},
   "outputs": [],
   "source": []
  },
  {
   "cell_type": "code",
   "execution_count": 16,
   "metadata": {},
   "outputs": [],
   "source": [
    "def X_and_Y(size):\n",
    "    classes,code=classes_and_code()\n",
    "    \n",
    "    X=[]\n",
    "    Y=[]\n",
    "    for folder in os.listdir(train_path):\n",
    "        files=gb.glob(str(train_path+'/'+folder+'/*.jpg'))\n",
    "        for file in files:\n",
    "            image=cv2.imread(file)\n",
    "            image_array=cv2.resize(image,(size,size))\n",
    "            X.append(list(image_array))\n",
    "            Y.append(code[folder])\n",
    "    X=np.array(X)\n",
    "    Y=np.array(Y)\n",
    "    return X,Y"
   ]
  },
  {
   "cell_type": "code",
   "execution_count": null,
   "metadata": {},
   "outputs": [],
   "source": [
    "X,Y=X_and_Y(size=224)"
   ]
  },
  {
   "cell_type": "code",
   "execution_count": null,
   "metadata": {},
   "outputs": [],
   "source": []
  },
  {
   "cell_type": "code",
   "execution_count": null,
   "metadata": {},
   "outputs": [],
   "source": [
    "def plot_image(n_h,n_w):\n",
    "    plt.figure(figsize=100,100)\n",
    "    for n,i in enumerate(list(np.random.randint(0,len(x_test),n_h*n_w))):\n",
    "    plt.subplot(n_h,n_w,n+1)\n",
    "    plt.imsow(X[i])\n",
    "    plt.axis('off')\n",
    "    plt.title(getcode(Y[i]))"
   ]
  },
  {
   "cell_type": "code",
   "execution_count": null,
   "metadata": {},
   "outputs": [],
   "source": [
    "plot_imge()"
   ]
  },
  {
   "cell_type": "code",
   "execution_count": null,
   "metadata": {},
   "outputs": [],
   "source": []
  },
  {
   "cell_type": "code",
   "execution_count": null,
   "metadata": {},
   "outputs": [],
   "source": []
  },
  {
   "cell_type": "code",
   "execution_count": null,
   "metadata": {},
   "outputs": [],
   "source": []
  },
  {
   "cell_type": "code",
   "execution_count": null,
   "metadata": {},
   "outputs": [],
   "source": []
  },
  {
   "cell_type": "code",
   "execution_count": null,
   "metadata": {},
   "outputs": [],
   "source": []
  },
  {
   "cell_type": "code",
   "execution_count": null,
   "metadata": {},
   "outputs": [],
   "source": []
  },
  {
   "cell_type": "code",
   "execution_count": null,
   "metadata": {},
   "outputs": [],
   "source": []
  },
  {
   "cell_type": "code",
   "execution_count": 16,
   "metadata": {},
   "outputs": [],
   "source": [
    "#Transform\n",
    "transformer = transforms.Compose([\n",
    "    transforms.Resize((224,224)),\n",
    "    transforms.RandomHorizontalFlip(),\n",
    "    transforms.ToTensor(),\n",
    "    transforms.Normalize([0.5,0.5,0.5] ,\n",
    "                        [0.5 , 0.5 , 0.5])\n",
    "])\n"
   ]
  },
  {
   "cell_type": "code",
   "execution_count": 14,
   "metadata": {},
   "outputs": [],
   "source": [
    "train_loader=DataLoader(\n",
    "                        torchvision.datasets.ImageFolder(train,\n",
    "                        transform=transformer),\n",
    "                        batch_size=32,\n",
    "                        shuffle=True)"
   ]
  },
  {
   "cell_type": "code",
   "execution_count": 15,
   "metadata": {},
   "outputs": [],
   "source": [
    "valid_loader=DataLoader(torchvision.datasets.ImageFolder(valid,\n",
    "                         transform=transformer),\n",
    "                       batch_size=32,\n",
    "                       shuffle=True)"
   ]
  },
  {
   "cell_type": "code",
   "execution_count": 16,
   "metadata": {},
   "outputs": [],
   "source": [
    "test_loader=DataLoader(torchvision.datasets.ImageFolder(test,\n",
    "                                                       transform=transformer),\n",
    "                      batch_size=32,\n",
    "                      shuffle=True)"
   ]
  },
  {
   "cell_type": "code",
   "execution_count": 17,
   "metadata": {},
   "outputs": [],
   "source": [
    "root=pathlib.Path(train)\n",
    "classes=sorted([ j.name.split('/')[-1] for j in root.iterdir()])"
   ]
  },
  {
   "cell_type": "code",
   "execution_count": 18,
   "metadata": {},
   "outputs": [
    {
     "data": {
      "text/plain": [
       "['Tomato___Bacterial_spot',\n",
       " 'Tomato___Early_blight',\n",
       " 'Tomato___Late_blight',\n",
       " 'Tomato___Leaf_Mold',\n",
       " 'Tomato___Septoria_leaf_spot',\n",
       " 'Tomato___Spider_mites Two-spotted_spider_mite',\n",
       " 'Tomato___Target_Spot',\n",
       " 'Tomato___Tomato_Yellow_Leaf_Curl_Virus',\n",
       " 'Tomato___Tomato_mosaic_virus',\n",
       " 'Tomato___healthy']"
      ]
     },
     "execution_count": 18,
     "metadata": {},
     "output_type": "execute_result"
    }
   ],
   "source": [
    "classes"
   ]
  },
  {
   "cell_type": "code",
   "execution_count": 19,
   "metadata": {},
   "outputs": [
    {
     "name": "stdout",
     "output_type": "stream",
     "text": [
      "For traing data, found 1702 in folder Tomato___Bacterial_spot\n",
      "For traing data, found 1920 in folder Tomato___Early_blight\n",
      "For traing data, found 1926 in folder Tomato___healthy\n",
      "For traing data, found 1851 in folder Tomato___Late_blight\n",
      "For traing data, found 1882 in folder Tomato___Leaf_Mold\n",
      "For traing data, found 1745 in folder Tomato___Septoria_leaf_spot\n",
      "For traing data, found 1741 in folder Tomato___Spider_mites Two-spotted_spider_mite\n",
      "For traing data, found 1827 in folder Tomato___Target_Spot\n",
      "For traing data, found 1790 in folder Tomato___Tomato_mosaic_virus\n",
      "For traing data, found 1961 in folder Tomato___Tomato_Yellow_Leaf_Curl_Virus\n"
     ]
    }
   ],
   "source": [
    "for folder in os.listdir(train):\n",
    "    files=gb.glob(str(train+'/'+folder+'/*.jpg'))\n",
    "    print(f\"For traing data, found {len(files)} in folder {folder}\")\n",
    "    "
   ]
  },
  {
   "cell_type": "code",
   "execution_count": 20,
   "metadata": {},
   "outputs": [
    {
     "data": {
      "text/plain": [
       "<bound method IndexOpsMixin.value_counts of 0        (256, 256, 3)\n",
       "1        (256, 256, 3)\n",
       "2        (256, 256, 3)\n",
       "3        (256, 256, 3)\n",
       "4        (256, 256, 3)\n",
       "             ...      \n",
       "18340    (256, 256, 3)\n",
       "18341    (256, 256, 3)\n",
       "18342    (256, 256, 3)\n",
       "18343    (256, 256, 3)\n",
       "18344    (256, 256, 3)\n",
       "Length: 18345, dtype: object>"
      ]
     },
     "execution_count": 20,
     "metadata": {},
     "output_type": "execute_result"
    }
   ],
   "source": [
    "size=[]\n",
    "for folder in os.listdir(train):\n",
    "    files=gb.glob(str(train+'/'+folder+'/*.jpg'))\n",
    "    for file in files:\n",
    "        image=plt.imread(file)\n",
    "        size.append(image.shape)\n",
    "pd.Series(size).value_counts        "
   ]
  },
  {
   "cell_type": "code",
   "execution_count": null,
   "metadata": {},
   "outputs": [],
   "source": []
  },
  {
   "cell_type": "code",
   "execution_count": 21,
   "metadata": {},
   "outputs": [],
   "source": [
    "code={'Tomato___Bacterial_spot':0,\n",
    " 'Tomato___Early_blight':1,\n",
    " 'Tomato___Late_blight':2,\n",
    " 'Tomato___Leaf_Mold':3,\n",
    " 'Tomato___Septoria_leaf_spot':4,\n",
    " 'Tomato___Spider_mites Two-spotted_spider_mite':5,\n",
    " 'Tomato___Target_Spot':6,\n",
    " 'Tomato___Tomato_Yellow_Leaf_Curl_Virus':7,\n",
    " 'Tomato___Tomato_mosaic_virus':8,\n",
    " 'Tomato___healthy':9}"
   ]
  },
  {
   "cell_type": "code",
   "execution_count": 22,
   "metadata": {},
   "outputs": [],
   "source": [
    "def getcode(n):\n",
    "    for X,y in code.items():\n",
    "        if n==y:\n",
    "            return X\n",
    "        "
   ]
  },
  {
   "cell_type": "code",
   "execution_count": 22,
   "metadata": {},
   "outputs": [],
   "source": [
    "size=224\n",
    "X_train=[]\n",
    "y_train=[]\n",
    "for folder in os.listdir(train):\n",
    "    files=gb.glob(str(train+'/'+folder+'/*.jpg'))\n",
    "    for file in files:\n",
    "        image=cv2.imread(file)\n",
    "        image_array=cv2.resize(image,(size,size))\n",
    "        X_train.append(list(image_array))\n",
    "        y_train.append(code[folder])"
   ]
  },
  {
   "cell_type": "code",
   "execution_count": 23,
   "metadata": {},
   "outputs": [
    {
     "name": "stdout",
     "output_type": "stream",
     "text": [
      "18345\n",
      "18345\n"
     ]
    }
   ],
   "source": [
    "print(len(X_train))\n",
    "print(len(y_train))\n"
   ]
  },
  {
   "cell_type": "code",
   "execution_count": null,
   "metadata": {},
   "outputs": [],
   "source": [
    "plt.figure(figsize=(50,50))\n",
    "for n,i in enumerate(list(np.random.randint(0,len(X_train),25))):\n",
    "    plt.subplot(5,5,n+1)\n",
    "    plt.imshow(X_train[i])\n",
    "    plt.axis('off')\n",
    "    plt.title(getcode(y_train[i]))"
   ]
  },
  {
   "cell_type": "markdown",
   "metadata": {},
   "source": [
    "## Image no"
   ]
  },
  {
   "cell_type": "markdown",
   "metadata": {},
   "source": [
    "## now works on validation set "
   ]
  },
  {
   "cell_type": "code",
   "execution_count": null,
   "metadata": {},
   "outputs": [],
   "source": [
    "s=224\n",
    "X_val=[]\n",
    "y_val=[]\n",
    "for folder in os.listdir(valid):\n",
    "    files=gb.glob(str(valid+'/'+folder+'/*.jpg'))\n",
    "    for file in files:\n",
    "        image=cv2.imread(file)\n",
    "        image_array=cv2.resize(image,(s,s))\n",
    "        X_val.append(list(image_array))\n",
    "        y_val.append(code[folder])"
   ]
  },
  {
   "cell_type": "code",
   "execution_count": null,
   "metadata": {},
   "outputs": [],
   "source": [
    "len(y_val)"
   ]
  },
  {
   "cell_type": "code",
   "execution_count": null,
   "metadata": {},
   "outputs": [],
   "source": [
    "plt.figure(figsize=(20,20))\n",
    "for n,i in enumerate(list(np.random.randint(0,len(X_val),25))):\n",
    "    plt.subplot(5,5,n+1)\n",
    "    plt.imshow(X_val[i])\n",
    "    plt.axis('off')\n",
    "    plt.title(getcode(y_val[i]))\n"
   ]
  },
  {
   "cell_type": "code",
   "execution_count": null,
   "metadata": {},
   "outputs": [],
   "source": [
    "x_test=[]\n",
    "y_test=[]\n",
    "for folder in os.listdir(test):\n",
    "    files=gb.glob(str(test+'/'+folder+'/*jpg'))\n",
    "    for file in files:\n",
    "        image=cv2.imread(file)\n",
    "        image_array=cv2.resize(image,(s,s))\n",
    "        x_test.append(list(image_array))\n",
    "        y_test.append(code[folder])"
   ]
  },
  {
   "cell_type": "code",
   "execution_count": null,
   "metadata": {},
   "outputs": [],
   "source": [
    "plt.figure(figsize=(20,20))\n",
    "for n,i in enumerate(list(np.random.randint(0,len(x_test),16))):\n",
    "    plt.subplot(4,4,n+1)\n",
    "    plt.imsow(x_test[i])\n",
    "    plt.axis('off')\n",
    "    plt.title(getcode(y_test[i]))"
   ]
  },
  {
   "cell_type": "code",
   "execution_count": null,
   "metadata": {},
   "outputs": [],
   "source": []
  },
  {
   "cell_type": "code",
   "execution_count": null,
   "metadata": {},
   "outputs": [],
   "source": []
  }
 ],
 "metadata": {
  "kernelspec": {
   "display_name": "Python 3",
   "language": "python",
   "name": "python3"
  },
  "language_info": {
   "codemirror_mode": {
    "name": "ipython",
    "version": 3
   },
   "file_extension": ".py",
   "mimetype": "text/x-python",
   "name": "python",
   "nbconvert_exporter": "python",
   "pygments_lexer": "ipython3",
   "version": "3.7.6"
  }
 },
 "nbformat": 4,
 "nbformat_minor": 4
}
