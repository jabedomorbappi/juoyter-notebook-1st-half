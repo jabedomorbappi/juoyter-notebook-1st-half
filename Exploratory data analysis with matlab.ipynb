{
 "cells": [
  {
   "cell_type": "markdown",
   "metadata": {},
   "source": [
    "# 1.6  How to ask question of your data"
   ]
  },
  {
   "cell_type": "markdown",
   "metadata": {},
   "source": [
    " suppose something are broken in your data \n",
    "1. What happened ?\n",
    "2. why did this happen ?\n",
    "3. what will happen next?\n",
    "4. what should be done about it??    "
   ]
  },
  {
   "cell_type": "markdown",
   "metadata": {},
   "source": [
    "# 1.7 Interactive data explore 2013 tornedo events"
   ]
  },
  {
   "cell_type": "code",
   "execution_count": null,
   "metadata": {},
   "outputs": [],
   "source": []
  },
  {
   "cell_type": "code",
   "execution_count": null,
   "metadata": {},
   "outputs": [],
   "source": []
  },
  {
   "cell_type": "markdown",
   "metadata": {},
   "source": [
    "Data Analysis:\n",
    "\n",
    "\n",
    "set goals> collect os obtain data > acces or import data> explore & visualize data> result"
   ]
  },
  {
   "cell_type": "markdown",
   "metadata": {},
   "source": [
    "Machine Learning:\n",
    "    \n",
    "    \n",
    "    select> preprocessing > train> validate> result"
   ]
  },
  {
   "cell_type": "code",
   "execution_count": null,
   "metadata": {},
   "outputs": [],
   "source": []
  }
 ],
 "metadata": {
  "kernelspec": {
   "display_name": "Python 3",
   "language": "python",
   "name": "python3"
  },
  "language_info": {
   "codemirror_mode": {
    "name": "ipython",
    "version": 3
   },
   "file_extension": ".py",
   "mimetype": "text/x-python",
   "name": "python",
   "nbconvert_exporter": "python",
   "pygments_lexer": "ipython3",
   "version": "3.7.6"
  }
 },
 "nbformat": 4,
 "nbformat_minor": 4
}
