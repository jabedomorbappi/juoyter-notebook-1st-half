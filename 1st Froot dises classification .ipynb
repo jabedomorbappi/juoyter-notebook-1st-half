{
 "cells": [
  {
   "cell_type": "markdown",
   "metadata": {},
   "source": [
    "## data path "
   ]
  },
  {
   "cell_type": "code",
   "execution_count": 1,
   "metadata": {},
   "outputs": [],
   "source": [
    "train_path=r'D:\\Compressed\\tomato disease big data\\New Plant Diseases Dataset(Augmented)\\New Plant Diseases Dataset(Augmented)\\train'\n",
    "\n",
    "valid_path=r'D:\\Compressed\\tomato disease big data\\New Plant Diseases Dataset(Augmented)\\New Plant Diseases Dataset(Augmented)\\valid'\n",
    "\n",
    "test_path=r'D:\\Compressed\\tomato disease big data\\test'\n"
   ]
  },
  {
   "cell_type": "code",
   "execution_count": null,
   "metadata": {},
   "outputs": [],
   "source": [
    "\n"
   ]
  },
  {
   "cell_type": "code",
   "execution_count": null,
   "metadata": {},
   "outputs": [],
   "source": []
  },
  {
   "cell_type": "code",
   "execution_count": null,
   "metadata": {},
   "outputs": [],
   "source": []
  },
  {
   "cell_type": "code",
   "execution_count": null,
   "metadata": {},
   "outputs": [],
   "source": []
  },
  {
   "cell_type": "code",
   "execution_count": null,
   "metadata": {},
   "outputs": [],
   "source": []
  },
  {
   "cell_type": "code",
   "execution_count": null,
   "metadata": {},
   "outputs": [],
   "source": []
  },
  {
   "cell_type": "markdown",
   "metadata": {},
   "source": [
    "## import all the library \n",
    "\n"
   ]
  },
  {
   "cell_type": "code",
   "execution_count": 2,
   "metadata": {},
   "outputs": [
    {
     "name": "stderr",
     "output_type": "stream",
     "text": [
      "Using TensorFlow backend.\n"
     ]
    }
   ],
   "source": [
    "import numpy as np \n",
    "import pandas as pd \n",
    "import matplotlib.pyplot as plt \n",
    "import tensorflow as tf \n",
    "import os\n",
    "import torch \n",
    "import glob as gb\n",
    "import torch.nn as nn\n",
    "from torchvision.transforms import transforms \n",
    "from torch.utils.data import DataLoader\n",
    "from torch.optim import Adam \n",
    "from torch.autograd import variable\n",
    "import torchvision \n",
    "import pathlib \n",
    "import seaborn as sns \n",
    "sns.set(style='whitegrid')\n",
    "import cv2\n",
    "import h5py \n",
    "import math \n",
    "import keras.backend as K \n",
    "K.set_image_data_format('channels_last')\n",
    "K.set_learning_phase(1)\n",
    "from matplotlib.pyplot import imshow\n",
    "\n",
    "\n",
    "\n",
    "%matplotlib inline\n",
    "\n",
    "\n",
    "\n",
    "\n",
    "from tensorflow.keras.layers import Conv2D,Flatten,Dense,MaxPool2D,BatchNormalization,GlobalAveragePooling2D\n",
    "from tensorflow.keras.applications.resnet50 import preprocess_input,decode_predictions\n",
    "from tensorflow.keras.preprocessing.image import ImageDataGenerator,load_img\n",
    "from tensorflow.keras.applications.resnet50 import ResNet50\n",
    "from tensorflow.keras.preprocessing import image\n",
    "from tensorflow.keras.models import Sequential \n",
    "from tensorflow.keras.models import Model\n",
    "import keras \n",
    "from keras.layers import Input, Dense, Activation, ZeroPadding2D, BatchNormalization, Flatten, Conv2D\n"
   ]
  },
  {
   "cell_type": "code",
   "execution_count": 3,
   "metadata": {},
   "outputs": [
    {
     "name": "stdout",
     "output_type": "stream",
     "text": [
      "cpu\n"
     ]
    }
   ],
   "source": [
    "device = torch.device('cuda' if torch.cuda.is_available() else 'cpu')\n",
    "print(device)"
   ]
  },
  {
   "cell_type": "markdown",
   "metadata": {},
   "source": [
    "## directory"
   ]
  },
  {
   "cell_type": "markdown",
   "metadata": {},
   "source": [
    "## train_datagen=ImageDataGenerator(rescale=1./255)\n",
    "train_generator=train_datagen.flow_from_directory(train_path,\n",
    "                                                 target_size=(224,224),\n",
    "                                                 batch_size=32,\n",
    "                                                 class_mode='categorical')\n"
   ]
  },
  {
   "cell_type": "markdown",
   "metadata": {},
   "source": [
    "## create a train_data generator"
   ]
  },
  {
   "cell_type": "code",
   "execution_count": 4,
   "metadata": {},
   "outputs": [],
   "source": [
    "def train_generator():\n",
    "   \n",
    "    train_datagen=ImageDataGenerator(preprocessing_function=preprocess_input,\n",
    "                                shear_range=0.2,\n",
    "                                zoom_range=0.2,\n",
    "                                horizontal_flip=True,\n",
    "                                validation_split=0.4)\n",
    "    #train generator \n",
    "    train_generator=train_datagen.flow_from_directory(train_path,\n",
    "                                                target_size=(224,224),\n",
    "                                                batch_size=32,\n",
    "                                                class_mode='categorical',\n",
    "                                                subset='validation')\n",
    "    #vaid_generator \n",
    "    valid_generator=train_datagen.flow_from_directory(valid_path,\n",
    "                                                 target_size=(224,224),\n",
    "                                                 batch_size=32,\n",
    "                                                 class_mode='categorical',\n",
    "                                                 subset='validation')\n",
    "    test_generator=train_datagen.flow_from_directory(test_path,\n",
    "                                                target_size=(224,224),\n",
    "                                                batch_size=1,\n",
    "                                                class_mode='categorical',\n",
    "                                                subset='validation')\n",
    "    return train_generator,valid_generator,test_generator"
   ]
  },
  {
   "cell_type": "code",
   "execution_count": 5,
   "metadata": {},
   "outputs": [
    {
     "name": "stdout",
     "output_type": "stream",
     "text": [
      "Found 28102 images belonging to 38 classes.\n",
      "Found 7016 images belonging to 38 classes.\n",
      "Found 13 images belonging to 1 classes.\n"
     ]
    }
   ],
   "source": [
    "train_generator,valid_generator,test_generator=train_generator()"
   ]
  },
  {
   "cell_type": "code",
   "execution_count": null,
   "metadata": {},
   "outputs": [],
   "source": []
  },
  {
   "cell_type": "code",
   "execution_count": null,
   "metadata": {},
   "outputs": [],
   "source": []
  },
  {
   "cell_type": "code",
   "execution_count": null,
   "metadata": {},
   "outputs": [],
   "source": []
  },
  {
   "cell_type": "code",
   "execution_count": null,
   "metadata": {},
   "outputs": [],
   "source": []
  },
  {
   "cell_type": "code",
   "execution_count": null,
   "metadata": {},
   "outputs": [],
   "source": [
    "\n",
    "\n"
   ]
  },
  {
   "cell_type": "code",
   "execution_count": null,
   "metadata": {},
   "outputs": [],
   "source": []
  },
  {
   "cell_type": "code",
   "execution_count": 6,
   "metadata": {},
   "outputs": [
    {
     "name": "stderr",
     "output_type": "stream",
     "text": [
      "Clipping input data to the valid range for imshow with RGB data ([0..1] for floats or [0..255] for integers).\n"
     ]
    },
    {
     "data": {
      "image/png": "[encoded data removed]",
      "text/plain": [
       "<Figure size 432x288 with 1 Axes>"
      ]
     },
     "metadata": {
      "needs_background": "light"
     },
     "output_type": "display_data"
    }
   ],
   "source": [
    "plt.imshow(train_generator[0][0][31])\n",
    "plt.grid('off')"
   ]
  },
  {
   "cell_type": "markdown",
   "metadata": {},
   "source": [
    "## find classes"
   ]
  },
  {
   "cell_type": "code",
   "execution_count": 7,
   "metadata": {},
   "outputs": [],
   "source": [
    "\n",
    "def classes_and_code():\n",
    "    root=pathlib.Path(train_path)\n",
    "    classes=[ i for i in os.listdir(train_path) if '.' not in i]\n",
    "    Code=[]\n",
    "    for i in range(len(classes)):\n",
    "        Code+={classes[i]}\n",
    "        Code+=[i]\n",
    "    code={Code[i]:Code[i+1] for i in range(0,len(Code),2)}\n",
    "    \n",
    "    return classes,code\n",
    "    "
   ]
  },
  {
   "cell_type": "code",
   "execution_count": 8,
   "metadata": {},
   "outputs": [],
   "source": [
    "\n",
    "classes,code=classes_and_code()\n",
    "\n"
   ]
  },
  {
   "cell_type": "code",
   "execution_count": 9,
   "metadata": {},
   "outputs": [],
   "source": [
    "def getcode(n):\n",
    "    classes,code=classes_and_code()\n",
    "    for x,y in code.items():\n",
    "        if n==y:\n",
    "            return x\n"
   ]
  },
  {
   "cell_type": "code",
   "execution_count": null,
   "metadata": {},
   "outputs": [],
   "source": []
  },
  {
   "cell_type": "markdown",
   "metadata": {},
   "source": [
    "## number of images"
   ]
  },
  {
   "cell_type": "code",
   "execution_count": 10,
   "metadata": {},
   "outputs": [],
   "source": [
    "def train_image_number(print_n=False):\n",
    "    summation=[]\n",
    "    for folder in os.listdir(train_path):\n",
    "        files=gb.glob(str(train_path+'/'+folder+'/*.jpg'))\n",
    "        if print_n==True:\n",
    "            \n",
    "            print(f' for training data , found {len(files)} in folder { folder} \\n')\n",
    "        summation.append(len(files))\n",
    "    return summation    "
   ]
  },
  {
   "cell_type": "code",
   "execution_count": 11,
   "metadata": {},
   "outputs": [
    {
     "data": {
      "text/plain": [
       "70295"
      ]
     },
     "execution_count": 11,
     "metadata": {},
     "output_type": "execute_result"
    }
   ],
   "source": [
    "train_image_no=train_image_number()\n",
    "sum(train_image_no)"
   ]
  },
  {
   "cell_type": "code",
   "execution_count": 12,
   "metadata": {},
   "outputs": [],
   "source": [
    "def validation_image_number(print_n=False):\n",
    "    summation=[]\n",
    "    for folder in os.listdir(valid_path):\n",
    "        files=gb.glob(str(valid_path+'/'+folder+'/*.jpg'))\n",
    "        if print_n==True:\n",
    "            \n",
    "            print(f' for validation data , found {len(files)} in folder { folder} \\n')\n",
    "        summation.append(len(files))\n",
    "    return summation    \n",
    "\n",
    "    "
   ]
  },
  {
   "cell_type": "code",
   "execution_count": 13,
   "metadata": {},
   "outputs": [
    {
     "data": {
      "text/plain": [
       "17572"
      ]
     },
     "execution_count": 13,
     "metadata": {},
     "output_type": "execute_result"
    }
   ],
   "source": [
    "val_im_no=validation_image_number()\n",
    "sum(val_im_no)"
   ]
  },
  {
   "cell_type": "code",
   "execution_count": null,
   "metadata": {},
   "outputs": [],
   "source": []
  },
  {
   "cell_type": "code",
   "execution_count": null,
   "metadata": {},
   "outputs": [],
   "source": []
  },
  {
   "cell_type": "code",
   "execution_count": 14,
   "metadata": {},
   "outputs": [],
   "source": [
    "def X_and_Y(size):\n",
    "    classes,code=classes_and_code()\n",
    "    \n",
    "    X=[]\n",
    "    Y=[]\n",
    "    for folder in os.listdir(train_path):\n",
    "        files=gb.glob(str(train_path+'/'+folder+'/*.jpg'))\n",
    "        for file in files:\n",
    "            image=cv2.imread(file)\n",
    "            image_array=cv2.resize(image,(size,size))\n",
    "            X.append(list(image_array))\n",
    "            Y.append(code[folder])\n",
    "    X=np.array(X)\n",
    "    Y=np.array(Y)\n",
    "    return X,Y"
   ]
  },
  {
   "cell_type": "code",
   "execution_count": null,
   "metadata": {},
   "outputs": [],
   "source": [
    "X,Y=X_and_Y(size=227)"
   ]
  },
  {
   "cell_type": "code",
   "execution_count": null,
   "metadata": {},
   "outputs": [],
   "source": [
    "X.shape"
   ]
  },
  {
   "cell_type": "code",
   "execution_count": null,
   "metadata": {},
   "outputs": [],
   "source": [
    "X=X/255\n"
   ]
  },
  {
   "cell_type": "code",
   "execution_count": null,
   "metadata": {},
   "outputs": [],
   "source": []
  },
  {
   "cell_type": "code",
   "execution_count": null,
   "metadata": {},
   "outputs": [],
   "source": []
  },
  {
   "cell_type": "markdown",
   "metadata": {},
   "source": [
    "## Happy_model"
   ]
  },
  {
   "cell_type": "code",
   "execution_count": null,
   "metadata": {},
   "outputs": [],
   "source": [
    "def Happy_model(input_shape):\n",
    "    # input ,input_shpae\n",
    "    X_input=Input(input_shape)\n",
    "    \n",
    "    # zero padding \n",
    "    X=ZeroPadding2D((3,3))(X_input)\n",
    "    \n",
    "    # convolutional \n",
    "    X=Conv2D(32,kernel_size=(7,7),strides=(1,1),name='conv0')(X)\n",
    "    \n",
    "    #batchnormalization \n",
    "    X=BatchNormalization(axis=3,name='bn0')(X)\n",
    "    # activation \n",
    "    \n",
    "    X=Activation('relu')(X)\n",
    "    \n",
    "    #maxpooling\n",
    "    \n",
    "    X=MaxPool2D((2,2),name='max_pool')(X)\n",
    "    \n",
    "    \n",
    "    \n",
    "    \n",
    "    #2nd layer \n",
    "    \n",
    "    \n",
    "    #flatten\n",
    "    X=Flatten()(X)\n",
    "    X=Dense(37,activation='softmax',name='fc')(X)\n",
    "    model=Model(inputs=X_input,outputs=X,name='HappyModel')\n",
    "    return model\n",
    "    "
   ]
  },
  {
   "cell_type": "code",
   "execution_count": null,
   "metadata": {},
   "outputs": [],
   "source": []
  },
  {
   "cell_type": "code",
   "execution_count": null,
   "metadata": {},
   "outputs": [],
   "source": []
  },
  {
   "cell_type": "code",
   "execution_count": null,
   "metadata": {},
   "outputs": [],
   "source": [
    "def AlexNet(input_shape):\n",
    "    X_input=Input(input_shape)\n",
    "    \n",
    "    # zero padding \n",
    "    X=ZeroPadding2D((3,3))(X_input)\n",
    "    \n",
    "    # 1st convolutional \n",
    "    X=Conv2D(96,kernel_size=(11,11),strides=(4,4),name='conv0')(X)\n",
    "    \n",
    "    #batchnormalization \n",
    "    X=BatchNormalization(axis=3,name='bn0')(X)\n",
    "    # activation \n",
    "    \n",
    "    X=Activation('relu')(X)\n",
    "    \n",
    "    #maxpooling\n",
    "    \n",
    "    X=MaxPool2D((3,3),name='max_pool0',strides=(2,2))(X)\n",
    "    \n",
    "    \n",
    "    #2nd convolutional \n",
    "    X=Conv2D(96,kernel_size=(5,5),strides='same',name='conv1')(X)\n",
    "    \n",
    "    #BatchNormalization\n",
    "    X=BatchNormalization(axis=3,name='bn1')(X)\n",
    "    \n",
    "    #activation 2\n",
    "    X=Activation('relu')(X)\n",
    "    \n",
    "    #maxpooling 2D\n",
    "    X=MaxPool2D((3,3),name='max_pool0',strides= d))(X)\n",
    "    "
   ]
  },
  {
   "cell_type": "code",
   "execution_count": null,
   "metadata": {},
   "outputs": [],
   "source": []
  },
  {
   "cell_type": "code",
   "execution_count": null,
   "metadata": {},
   "outputs": [],
   "source": []
  },
  {
   "cell_type": "code",
   "execution_count": null,
   "metadata": {},
   "outputs": [],
   "source": []
  },
  {
   "cell_type": "code",
   "execution_count": null,
   "metadata": {},
   "outputs": [],
   "source": []
  },
  {
   "cell_type": "code",
   "execution_count": null,
   "metadata": {},
   "outputs": [],
   "source": []
  },
  {
   "cell_type": "code",
   "execution_count": null,
   "metadata": {},
   "outputs": [],
   "source": []
  },
  {
   "cell_type": "code",
   "execution_count": null,
   "metadata": {},
   "outputs": [],
   "source": []
  },
  {
   "cell_type": "code",
   "execution_count": null,
   "metadata": {},
   "outputs": [],
   "source": []
  },
  {
   "cell_type": "code",
   "execution_count": null,
   "metadata": {},
   "outputs": [],
   "source": []
  },
  {
   "cell_type": "code",
   "execution_count": null,
   "metadata": {},
   "outputs": [],
   "source": []
  },
  {
   "cell_type": "code",
   "execution_count": 10,
   "metadata": {},
   "outputs": [],
   "source": [
    "transformer=transforms.Compose([\n",
    "    transforms.Resize((224,224)),\n",
    "    transforms.RandomHorizontalFlip(),\n",
    "    transforms.ToTensor(),\n",
    "    transforms.Normalize([0.5,0.5,0.5],\n",
    "                        [0.5,0.5,0.5])\n",
    "])"
   ]
  },
  {
   "cell_type": "code",
   "execution_count": 11,
   "metadata": {},
   "outputs": [],
   "source": [
    "train_loader=DataLoader(torchvision.datasets.ImageFolder(\n",
    "    train_path,transform=transformer),\n",
    "                       batch_size=32,\n",
    "                       shuffle=True)"
   ]
  },
  {
   "cell_type": "code",
   "execution_count": 12,
   "metadata": {},
   "outputs": [],
   "source": [
    "valid_loader=DataLoader(torchvision.datasets.ImageFolder(\n",
    "valid_path,transform=transformer),\n",
    "                       batch_size=32,\n",
    "                       shuffle=True)\n"
   ]
  },
  {
   "cell_type": "code",
   "execution_count": 13,
   "metadata": {},
   "outputs": [],
   "source": [
    "test_loader=DataLoader(torchvision.datasets.ImageFolder(\n",
    "test_path,transform=transformer),\n",
    "                      batch_size=1,\n",
    "                      shuffle=True)"
   ]
  },
  {
   "cell_type": "code",
   "execution_count": 14,
   "metadata": {},
   "outputs": [],
   "source": [
    "root=pathlib.Path(train_path)\n",
    "classes=sorted([j.name.split('/')[-1] for j in root.iterdir()])"
   ]
  },
  {
   "cell_type": "code",
   "execution_count": 15,
   "metadata": {},
   "outputs": [
    {
     "data": {
      "text/plain": [
       "['Apple___Apple_scab',\n",
       " 'Apple___Black_rot',\n",
       " 'Apple___Cedar_apple_rust',\n",
       " 'Apple___healthy',\n",
       " 'Blueberry___healthy',\n",
       " 'Cherry_(including_sour)___Powdery_mildew',\n",
       " 'Cherry_(including_sour)___healthy',\n",
       " 'Corn_(maize)___Cercospora_leaf_spot Gray_leaf_spot',\n",
       " 'Corn_(maize)___Common_rust_',\n",
       " 'Corn_(maize)___Northern_Leaf_Blight',\n",
       " 'Corn_(maize)___healthy',\n",
       " 'Grape___Black_rot',\n",
       " 'Grape___Esca_(Black_Measles)',\n",
       " 'Grape___Leaf_blight_(Isariopsis_Leaf_Spot)',\n",
       " 'Grape___healthy',\n",
       " 'Orange___Haunglongbing_(Citrus_greening)',\n",
       " 'Peach___Bacterial_spot',\n",
       " 'Peach___healthy',\n",
       " 'Pepper,_bell___Bacterial_spot',\n",
       " 'Pepper,_bell___healthy',\n",
       " 'Potato___Early_blight',\n",
       " 'Potato___Late_blight',\n",
       " 'Potato___healthy',\n",
       " 'Raspberry___healthy',\n",
       " 'Soybean___healthy',\n",
       " 'Squash___Powdery_mildew',\n",
       " 'Strawberry___Leaf_scorch',\n",
       " 'Strawberry___healthy',\n",
       " 'Tomato___Bacterial_spot',\n",
       " 'Tomato___Early_blight',\n",
       " 'Tomato___Late_blight',\n",
       " 'Tomato___Leaf_Mold',\n",
       " 'Tomato___Septoria_leaf_spot',\n",
       " 'Tomato___Spider_mites Two-spotted_spider_mite',\n",
       " 'Tomato___Target_Spot',\n",
       " 'Tomato___Tomato_Yellow_Leaf_Curl_Virus',\n",
       " 'Tomato___Tomato_mosaic_virus',\n",
       " 'Tomato___healthy']"
      ]
     },
     "execution_count": 15,
     "metadata": {},
     "output_type": "execute_result"
    }
   ],
   "source": [
    "classes"
   ]
  },
  {
   "cell_type": "code",
   "execution_count": 16,
   "metadata": {},
   "outputs": [
    {
     "name": "stdout",
     "output_type": "stream",
     "text": [
      "For training data , found 2016 in folder Apple___Apple_scab \n",
      "\n",
      "For training data , found 1987 in folder Apple___Black_rot \n",
      "\n",
      "For training data , found 1760 in folder Apple___Cedar_apple_rust \n",
      "\n",
      "For training data , found 2008 in folder Apple___healthy \n",
      "\n",
      "For training data , found 1816 in folder Blueberry___healthy \n",
      "\n",
      "For training data , found 1826 in folder Cherry_(including_sour)___healthy \n",
      "\n",
      "For training data , found 1683 in folder Cherry_(including_sour)___Powdery_mildew \n",
      "\n",
      "For training data , found 1642 in folder Corn_(maize)___Cercospora_leaf_spot Gray_leaf_spot \n",
      "\n",
      "For training data , found 1907 in folder Corn_(maize)___Common_rust_ \n",
      "\n",
      "For training data , found 1859 in folder Corn_(maize)___healthy \n",
      "\n",
      "For training data , found 1908 in folder Corn_(maize)___Northern_Leaf_Blight \n",
      "\n",
      "For training data , found 1888 in folder Grape___Black_rot \n",
      "\n",
      "For training data , found 1920 in folder Grape___Esca_(Black_Measles) \n",
      "\n",
      "For training data , found 1692 in folder Grape___healthy \n",
      "\n",
      "For training data , found 1722 in folder Grape___Leaf_blight_(Isariopsis_Leaf_Spot) \n",
      "\n",
      "For training data , found 2010 in folder Orange___Haunglongbing_(Citrus_greening) \n",
      "\n",
      "For training data , found 1838 in folder Peach___Bacterial_spot \n",
      "\n",
      "For training data , found 1728 in folder Peach___healthy \n",
      "\n",
      "For training data , found 1913 in folder Pepper,_bell___Bacterial_spot \n",
      "\n",
      "For training data , found 1988 in folder Pepper,_bell___healthy \n",
      "\n",
      "For training data , found 1939 in folder Potato___Early_blight \n",
      "\n",
      "For training data , found 1824 in folder Potato___healthy \n",
      "\n",
      "For training data , found 1939 in folder Potato___Late_blight \n",
      "\n",
      "For training data , found 1781 in folder Raspberry___healthy \n",
      "\n",
      "For training data , found 2022 in folder Soybean___healthy \n",
      "\n",
      "For training data , found 1736 in folder Squash___Powdery_mildew \n",
      "\n",
      "For training data , found 1824 in folder Strawberry___healthy \n",
      "\n",
      "For training data , found 1774 in folder Strawberry___Leaf_scorch \n",
      "\n",
      "For training data , found 1702 in folder Tomato___Bacterial_spot \n",
      "\n",
      "For training data , found 1920 in folder Tomato___Early_blight \n",
      "\n",
      "For training data , found 1926 in folder Tomato___healthy \n",
      "\n",
      "For training data , found 1851 in folder Tomato___Late_blight \n",
      "\n",
      "For training data , found 1882 in folder Tomato___Leaf_Mold \n",
      "\n",
      "For training data , found 1745 in folder Tomato___Septoria_leaf_spot \n",
      "\n",
      "For training data , found 1741 in folder Tomato___Spider_mites Two-spotted_spider_mite \n",
      "\n",
      "For training data , found 1827 in folder Tomato___Target_Spot \n",
      "\n",
      "For training data , found 1790 in folder Tomato___Tomato_mosaic_virus \n",
      "\n",
      "For training data , found 1961 in folder Tomato___Tomato_Yellow_Leaf_Curl_Virus \n",
      "\n"
     ]
    }
   ],
   "source": [
    "for folder in os.listdir(train_path):\n",
    "    files=gb.glob(str(train_path+'/'+folder+'/*.jpg'))\n",
    "    print( f'For training data , found {len(files)} in folder {folder} \\n')"
   ]
  },
  {
   "cell_type": "code",
   "execution_count": 17,
   "metadata": {},
   "outputs": [
    {
     "name": "stdout",
     "output_type": "stream",
     "text": [
      " For valid data , found 504 in folder Apple___Apple_scab \n",
      "\n",
      " For valid data , found 497 in folder Apple___Black_rot \n",
      "\n",
      " For valid data , found 440 in folder Apple___Cedar_apple_rust \n",
      "\n",
      " For valid data , found 502 in folder Apple___healthy \n",
      "\n",
      " For valid data , found 454 in folder Blueberry___healthy \n",
      "\n",
      " For valid data , found 456 in folder Cherry_(including_sour)___healthy \n",
      "\n",
      " For valid data , found 421 in folder Cherry_(including_sour)___Powdery_mildew \n",
      "\n",
      " For valid data , found 410 in folder Corn_(maize)___Cercospora_leaf_spot Gray_leaf_spot \n",
      "\n",
      " For valid data , found 477 in folder Corn_(maize)___Common_rust_ \n",
      "\n",
      " For valid data , found 465 in folder Corn_(maize)___healthy \n",
      "\n",
      " For valid data , found 477 in folder Corn_(maize)___Northern_Leaf_Blight \n",
      "\n",
      " For valid data , found 472 in folder Grape___Black_rot \n",
      "\n",
      " For valid data , found 480 in folder Grape___Esca_(Black_Measles) \n",
      "\n",
      " For valid data , found 423 in folder Grape___healthy \n",
      "\n",
      " For valid data , found 430 in folder Grape___Leaf_blight_(Isariopsis_Leaf_Spot) \n",
      "\n",
      " For valid data , found 503 in folder Orange___Haunglongbing_(Citrus_greening) \n",
      "\n",
      " For valid data , found 459 in folder Peach___Bacterial_spot \n",
      "\n",
      " For valid data , found 432 in folder Peach___healthy \n",
      "\n",
      " For valid data , found 478 in folder Pepper,_bell___Bacterial_spot \n",
      "\n",
      " For valid data , found 497 in folder Pepper,_bell___healthy \n",
      "\n",
      " For valid data , found 485 in folder Potato___Early_blight \n",
      "\n",
      " For valid data , found 456 in folder Potato___healthy \n",
      "\n",
      " For valid data , found 485 in folder Potato___Late_blight \n",
      "\n",
      " For valid data , found 445 in folder Raspberry___healthy \n",
      "\n",
      " For valid data , found 505 in folder Soybean___healthy \n",
      "\n",
      " For valid data , found 434 in folder Squash___Powdery_mildew \n",
      "\n",
      " For valid data , found 456 in folder Strawberry___healthy \n",
      "\n",
      " For valid data , found 444 in folder Strawberry___Leaf_scorch \n",
      "\n",
      " For valid data , found 425 in folder Tomato___Bacterial_spot \n",
      "\n",
      " For valid data , found 480 in folder Tomato___Early_blight \n",
      "\n",
      " For valid data , found 481 in folder Tomato___healthy \n",
      "\n",
      " For valid data , found 463 in folder Tomato___Late_blight \n",
      "\n",
      " For valid data , found 470 in folder Tomato___Leaf_Mold \n",
      "\n",
      " For valid data , found 436 in folder Tomato___Septoria_leaf_spot \n",
      "\n",
      " For valid data , found 435 in folder Tomato___Spider_mites Two-spotted_spider_mite \n",
      "\n",
      " For valid data , found 457 in folder Tomato___Target_Spot \n",
      "\n",
      " For valid data , found 448 in folder Tomato___Tomato_mosaic_virus \n",
      "\n",
      " For valid data , found 490 in folder Tomato___Tomato_Yellow_Leaf_Curl_Virus \n",
      "\n"
     ]
    }
   ],
   "source": [
    "for folder in os.listdir(valid_path):\n",
    "    files=gb.glob(str(valid_path +'/'+folder+'/*.jpg'))\n",
    "    print(f' For valid data , found {len(files)} in folder {folder} \\n')"
   ]
  },
  {
   "cell_type": "code",
   "execution_count": 18,
   "metadata": {},
   "outputs": [
    {
     "name": "stdout",
     "output_type": "stream",
     "text": [
      "for test data find 33 in Folder test \n",
      "\n"
     ]
    }
   ],
   "source": [
    "for folder in os.listdir(test_path):\n",
    "    files=gb.glob(str(test_path +'/'+folder +'/*.jpg'))\n",
    "    print(f'for test data find {len(files)} in Folder {folder} \\n')"
   ]
  },
  {
   "cell_type": "code",
   "execution_count": 34,
   "metadata": {},
   "outputs": [
    {
     "data": {
      "text/plain": [
       "'Apple___Apple_scab'"
      ]
     },
     "execution_count": 34,
     "metadata": {},
     "output_type": "execute_result"
    }
   ],
   "source": [
    "classes[0]"
   ]
  },
  {
   "cell_type": "code",
   "execution_count": 35,
   "metadata": {},
   "outputs": [],
   "source": [
    "code=[]\n",
    "for i in range(len(classes)):\n",
    "    code+={classes[i]}\n",
    "    code+=[i]"
   ]
  },
  {
   "cell_type": "code",
   "execution_count": 36,
   "metadata": {},
   "outputs": [],
   "source": [
    "\n",
    "Code={code[i] :code[i+1] for i in range(0,len(code),2)}\n"
   ]
  },
  {
   "cell_type": "code",
   "execution_count": 37,
   "metadata": {},
   "outputs": [
    {
     "data": {
      "text/plain": [
       "{'Apple___Apple_scab': 0,\n",
       " 'Apple___Black_rot': 1,\n",
       " 'Apple___Cedar_apple_rust': 2,\n",
       " 'Apple___healthy': 3,\n",
       " 'Blueberry___healthy': 4,\n",
       " 'Cherry_(including_sour)___Powdery_mildew': 5,\n",
       " 'Cherry_(including_sour)___healthy': 6,\n",
       " 'Corn_(maize)___Cercospora_leaf_spot Gray_leaf_spot': 7,\n",
       " 'Corn_(maize)___Common_rust_': 8,\n",
       " 'Corn_(maize)___Northern_Leaf_Blight': 9,\n",
       " 'Corn_(maize)___healthy': 10,\n",
       " 'Grape___Black_rot': 11,\n",
       " 'Grape___Esca_(Black_Measles)': 12,\n",
       " 'Grape___Leaf_blight_(Isariopsis_Leaf_Spot)': 13,\n",
       " 'Grape___healthy': 14,\n",
       " 'Orange___Haunglongbing_(Citrus_greening)': 15,\n",
       " 'Peach___Bacterial_spot': 16,\n",
       " 'Peach___healthy': 17,\n",
       " 'Pepper,_bell___Bacterial_spot': 18,\n",
       " 'Pepper,_bell___healthy': 19,\n",
       " 'Potato___Early_blight': 20,\n",
       " 'Potato___Late_blight': 21,\n",
       " 'Potato___healthy': 22,\n",
       " 'Raspberry___healthy': 23,\n",
       " 'Soybean___healthy': 24,\n",
       " 'Squash___Powdery_mildew': 25,\n",
       " 'Strawberry___Leaf_scorch': 26,\n",
       " 'Strawberry___healthy': 27,\n",
       " 'Tomato___Bacterial_spot': 28,\n",
       " 'Tomato___Early_blight': 29,\n",
       " 'Tomato___Late_blight': 30,\n",
       " 'Tomato___Leaf_Mold': 31,\n",
       " 'Tomato___Septoria_leaf_spot': 32,\n",
       " 'Tomato___Spider_mites Two-spotted_spider_mite': 33,\n",
       " 'Tomato___Target_Spot': 34,\n",
       " 'Tomato___Tomato_Yellow_Leaf_Curl_Virus': 35,\n",
       " 'Tomato___Tomato_mosaic_virus': 36,\n",
       " 'Tomato___healthy': 37}"
      ]
     },
     "execution_count": 37,
     "metadata": {},
     "output_type": "execute_result"
    }
   ],
   "source": [
    "Code"
   ]
  },
  {
   "cell_type": "code",
   "execution_count": null,
   "metadata": {},
   "outputs": [],
   "source": []
  },
  {
   "cell_type": "code",
   "execution_count": null,
   "metadata": {},
   "outputs": [],
   "source": [
    "Code=convert(code)\n",
    "\n",
    "size=224\n",
    "X_train=[]\n",
    "y_train=[]\n",
    "for folder in os.listdir(train_path):\n",
    "    files=gb.glob(str(train_path+'/'+folder+'/*.jpg'))\n",
    "    for file in files:\n",
    "        image=cv2.imread(file)\n",
    "        image_array=cv2.resize(image,(size,size))\n",
    "        X_train.append(list(image_array))\n",
    "        y_train.append(Code[folder])"
   ]
  },
  {
   "cell_type": "code",
   "execution_count": null,
   "metadata": {},
   "outputs": [],
   "source": []
  },
  {
   "cell_type": "markdown",
   "metadata": {},
   "source": [
    "size=[]\n",
    "for folder in os.listdir(train_path):\n",
    "    files=gb.glob(str(train_path+'/'+folder+'/*.jpg'))\n",
    "    for file in files:\n",
    "        image=plt.imread(file)\n",
    "        size.append(image.shape)\n",
    "pd.Series(size).value_counts        "
   ]
  },
  {
   "cell_type": "code",
   "execution_count": 43,
   "metadata": {},
   "outputs": [],
   "source": [
    "def getcode(n):\n",
    "    for x,y in Code.items():\n",
    "        if n==y:\n",
    "            return x\n",
    "        "
   ]
  },
  {
   "cell_type": "code",
   "execution_count": 49,
   "metadata": {},
   "outputs": [
    {
     "data": {
      "text/plain": [
       "(224, 224, 3)"
      ]
     },
     "execution_count": 49,
     "metadata": {},
     "output_type": "execute_result"
    }
   ],
   "source": [
    "train_generator[0][0][31].shape"
   ]
  },
  {
   "cell_type": "code",
   "execution_count": 61,
   "metadata": {},
   "outputs": [],
   "source": [
    "\n",
    "def model(input_shape):\n",
    "    X_input=Input(input_shape)\n",
    "    \n",
    "    # zero padding \n",
    "    X=ZeroPadding2D((3,3))(X_input)\n",
    "    \n",
    "    # convolutional \n",
    "    X=Conv2D(32,kernel_size=(7,7),strides=(1,1),name='conv0')(X)\n",
    "    \n",
    "    #batchnormalization \n",
    "    X=BatchNormalization(axis=3,name='bn0')(X)\n",
    "    # activation \n",
    "    \n",
    "    X=Activation('relu')(X)\n",
    "    \n",
    "    #maxpooling\n",
    "    \n",
    "    X=MaxPool2D((2,2),name='max_pool')(X)\n",
    "    \n",
    "    #flatten\n",
    "    X=Flatten()(X)\n",
    "    X=Dense(37,activation='softmax',name='fc')(X)\n",
    "    model=Model(inputs=X_input,outputs=X,name='HappyModel')\n",
    "    \n",
    "    \n",
    "    \n",
    "    return model\n",
    "    \n",
    "    \n",
    "    \n",
    "    \n",
    "    \n",
    "    \n",
    "    \n",
    "    "
   ]
  },
  {
   "cell_type": "code",
   "execution_count": 65,
   "metadata": {},
   "outputs": [],
   "source": [
    "happy_model=model((224,224,3))"
   ]
  },
  {
   "cell_type": "code",
   "execution_count": 66,
   "metadata": {},
   "outputs": [],
   "source": [
    "happy_model.compile(optimizer='adam',loss='categorical_crossentropy')"
   ]
  },
  {
   "cell_type": "code",
   "execution_count": 67,
   "metadata": {},
   "outputs": [
    {
     "ename": "ValueError",
     "evalue": "`y` argument is not supported when using `keras.utils.Sequence` as input.",
     "output_type": "error",
     "traceback": [
      "\u001b[1;31m---------------------------------------------------------------------------\u001b[0m",
      "\u001b[1;31mValueError\u001b[0m                                Traceback (most recent call last)",
      "\u001b[1;32m<ipython-input-67-50ed69e699f2>\u001b[0m in \u001b[0;36m<module>\u001b[1;34m\u001b[0m\n\u001b[1;32m----> 1\u001b[1;33m \u001b[0mhappy_model\u001b[0m\u001b[1;33m.\u001b[0m\u001b[0mfit\u001b[0m\u001b[1;33m(\u001b[0m\u001b[0mx\u001b[0m\u001b[1;33m=\u001b[0m\u001b[0mtrain_generator\u001b[0m\u001b[1;33m,\u001b[0m\u001b[0my\u001b[0m\u001b[1;33m=\u001b[0m\u001b[0mtest_generator\u001b[0m\u001b[1;33m,\u001b[0m\u001b[0mepochs\u001b[0m\u001b[1;33m=\u001b[0m\u001b[1;36m5\u001b[0m\u001b[1;33m,\u001b[0m\u001b[0mbatch_size\u001b[0m\u001b[1;33m=\u001b[0m\u001b[1;36m32\u001b[0m\u001b[1;33m)\u001b[0m\u001b[1;33m\u001b[0m\u001b[1;33m\u001b[0m\u001b[0m\n\u001b[0m",
      "\u001b[1;32mC:\\ProgramData\\Anaconda3\\lib\\site-packages\\tensorflow\\python\\keras\\engine\\training.py\u001b[0m in \u001b[0;36m_method_wrapper\u001b[1;34m(self, *args, **kwargs)\u001b[0m\n\u001b[0;32m     64\u001b[0m   \u001b[1;32mdef\u001b[0m \u001b[0m_method_wrapper\u001b[0m\u001b[1;33m(\u001b[0m\u001b[0mself\u001b[0m\u001b[1;33m,\u001b[0m \u001b[1;33m*\u001b[0m\u001b[0margs\u001b[0m\u001b[1;33m,\u001b[0m \u001b[1;33m**\u001b[0m\u001b[0mkwargs\u001b[0m\u001b[1;33m)\u001b[0m\u001b[1;33m:\u001b[0m\u001b[1;33m\u001b[0m\u001b[1;33m\u001b[0m\u001b[0m\n\u001b[0;32m     65\u001b[0m     \u001b[1;32mif\u001b[0m \u001b[1;32mnot\u001b[0m \u001b[0mself\u001b[0m\u001b[1;33m.\u001b[0m\u001b[0m_in_multi_worker_mode\u001b[0m\u001b[1;33m(\u001b[0m\u001b[1;33m)\u001b[0m\u001b[1;33m:\u001b[0m  \u001b[1;31m# pylint: disable=protected-access\u001b[0m\u001b[1;33m\u001b[0m\u001b[1;33m\u001b[0m\u001b[0m\n\u001b[1;32m---> 66\u001b[1;33m       \u001b[1;32mreturn\u001b[0m \u001b[0mmethod\u001b[0m\u001b[1;33m(\u001b[0m\u001b[0mself\u001b[0m\u001b[1;33m,\u001b[0m \u001b[1;33m*\u001b[0m\u001b[0margs\u001b[0m\u001b[1;33m,\u001b[0m \u001b[1;33m**\u001b[0m\u001b[0mkwargs\u001b[0m\u001b[1;33m)\u001b[0m\u001b[1;33m\u001b[0m\u001b[1;33m\u001b[0m\u001b[0m\n\u001b[0m\u001b[0;32m     67\u001b[0m \u001b[1;33m\u001b[0m\u001b[0m\n\u001b[0;32m     68\u001b[0m     \u001b[1;31m# Running inside `run_distribute_coordinator` already.\u001b[0m\u001b[1;33m\u001b[0m\u001b[1;33m\u001b[0m\u001b[1;33m\u001b[0m\u001b[0m\n",
      "\u001b[1;32mC:\\ProgramData\\Anaconda3\\lib\\site-packages\\tensorflow\\python\\keras\\engine\\training.py\u001b[0m in \u001b[0;36mfit\u001b[1;34m(self, x, y, batch_size, epochs, verbose, callbacks, validation_split, validation_data, shuffle, class_weight, sample_weight, initial_epoch, steps_per_epoch, validation_steps, validation_batch_size, validation_freq, max_queue_size, workers, use_multiprocessing)\u001b[0m\n\u001b[0;32m    813\u001b[0m           \u001b[0mworkers\u001b[0m\u001b[1;33m=\u001b[0m\u001b[0mworkers\u001b[0m\u001b[1;33m,\u001b[0m\u001b[1;33m\u001b[0m\u001b[1;33m\u001b[0m\u001b[0m\n\u001b[0;32m    814\u001b[0m           \u001b[0muse_multiprocessing\u001b[0m\u001b[1;33m=\u001b[0m\u001b[0muse_multiprocessing\u001b[0m\u001b[1;33m,\u001b[0m\u001b[1;33m\u001b[0m\u001b[1;33m\u001b[0m\u001b[0m\n\u001b[1;32m--> 815\u001b[1;33m           model=self)\n\u001b[0m\u001b[0;32m    816\u001b[0m \u001b[1;33m\u001b[0m\u001b[0m\n\u001b[0;32m    817\u001b[0m       \u001b[1;31m# Container that configures and calls `tf.keras.Callback`s.\u001b[0m\u001b[1;33m\u001b[0m\u001b[1;33m\u001b[0m\u001b[1;33m\u001b[0m\u001b[0m\n",
      "\u001b[1;32mC:\\ProgramData\\Anaconda3\\lib\\site-packages\\tensorflow\\python\\keras\\engine\\data_adapter.py\u001b[0m in \u001b[0;36m__init__\u001b[1;34m(self, x, y, sample_weight, batch_size, steps_per_epoch, initial_epoch, epochs, shuffle, class_weight, max_queue_size, workers, use_multiprocessing, model)\u001b[0m\n\u001b[0;32m   1110\u001b[0m         \u001b[0muse_multiprocessing\u001b[0m\u001b[1;33m=\u001b[0m\u001b[0muse_multiprocessing\u001b[0m\u001b[1;33m,\u001b[0m\u001b[1;33m\u001b[0m\u001b[1;33m\u001b[0m\u001b[0m\n\u001b[0;32m   1111\u001b[0m         \u001b[0mdistribution_strategy\u001b[0m\u001b[1;33m=\u001b[0m\u001b[0mds_context\u001b[0m\u001b[1;33m.\u001b[0m\u001b[0mget_strategy\u001b[0m\u001b[1;33m(\u001b[0m\u001b[1;33m)\u001b[0m\u001b[1;33m,\u001b[0m\u001b[1;33m\u001b[0m\u001b[1;33m\u001b[0m\u001b[0m\n\u001b[1;32m-> 1112\u001b[1;33m         model=model)\n\u001b[0m\u001b[0;32m   1113\u001b[0m \u001b[1;33m\u001b[0m\u001b[0m\n\u001b[0;32m   1114\u001b[0m     \u001b[0mstrategy\u001b[0m \u001b[1;33m=\u001b[0m \u001b[0mds_context\u001b[0m\u001b[1;33m.\u001b[0m\u001b[0mget_strategy\u001b[0m\u001b[1;33m(\u001b[0m\u001b[1;33m)\u001b[0m\u001b[1;33m\u001b[0m\u001b[1;33m\u001b[0m\u001b[0m\n",
      "\u001b[1;32mC:\\ProgramData\\Anaconda3\\lib\\site-packages\\tensorflow\\python\\keras\\engine\\data_adapter.py\u001b[0m in \u001b[0;36m__init__\u001b[1;34m(self, x, y, sample_weights, shuffle, workers, use_multiprocessing, max_queue_size, model, **kwargs)\u001b[0m\n\u001b[0;32m    889\u001b[0m                **kwargs):\n\u001b[0;32m    890\u001b[0m     \u001b[1;32mif\u001b[0m \u001b[1;32mnot\u001b[0m \u001b[0mis_none_or_empty\u001b[0m\u001b[1;33m(\u001b[0m\u001b[0my\u001b[0m\u001b[1;33m)\u001b[0m\u001b[1;33m:\u001b[0m\u001b[1;33m\u001b[0m\u001b[1;33m\u001b[0m\u001b[0m\n\u001b[1;32m--> 891\u001b[1;33m       raise ValueError(\"`y` argument is not supported when using \"\n\u001b[0m\u001b[0;32m    892\u001b[0m                        \"`keras.utils.Sequence` as input.\")\n\u001b[0;32m    893\u001b[0m     \u001b[1;32mif\u001b[0m \u001b[1;32mnot\u001b[0m \u001b[0mis_none_or_empty\u001b[0m\u001b[1;33m(\u001b[0m\u001b[0msample_weights\u001b[0m\u001b[1;33m)\u001b[0m\u001b[1;33m:\u001b[0m\u001b[1;33m\u001b[0m\u001b[1;33m\u001b[0m\u001b[0m\n",
      "\u001b[1;31mValueError\u001b[0m: `y` argument is not supported when using `keras.utils.Sequence` as input."
     ]
    }
   ],
   "source": [
    "happy_model.fit(x=train_generator,y=test_generator,epochs=5,batch_size=32)"
   ]
  },
  {
   "cell_type": "code",
   "execution_count": null,
   "metadata": {},
   "outputs": [],
   "source": []
  }
 ],
 "metadata": {
  "kernelspec": {
   "display_name": "Python 3",
   "language": "python",
   "name": "python3"
  },
  "language_info": {
   "codemirror_mode": {
    "name": "ipython",
    "version": 3
   },
   "file_extension": ".py",
   "mimetype": "text/x-python",
   "name": "python",
   "nbconvert_exporter": "python",
   "pygments_lexer": "ipython3",
   "version": "3.7.6"
  }
 },
 "nbformat": 4,
 "nbformat_minor": 4
}
